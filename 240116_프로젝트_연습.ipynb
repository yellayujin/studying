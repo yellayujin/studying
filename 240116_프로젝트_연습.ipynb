{
  "metadata": {
    "kernelspec": {
      "language": "python",
      "display_name": "Python 3",
      "name": "python3"
    },
    "language_info": {
      "name": "python",
      "version": "3.10.12",
      "mimetype": "text/x-python",
      "codemirror_mode": {
        "name": "ipython",
        "version": 3
      },
      "pygments_lexer": "ipython3",
      "nbconvert_exporter": "python",
      "file_extension": ".py"
    },
    "kaggle": {
      "accelerator": "none",
      "dataSources": [
        {
          "sourceId": 3322096,
          "sourceType": "datasetVersion",
          "datasetId": 2008274
        },
        {
          "sourceId": 7410447,
          "sourceType": "datasetVersion",
          "datasetId": 4310161
        }
      ],
      "dockerImageVersionId": 30635,
      "isInternetEnabled": true,
      "language": "python",
      "sourceType": "notebook",
      "isGpuEnabled": false
    },
    "colab": {
      "provenance": [],
      "include_colab_link": true
    }
  },
  "nbformat_minor": 0,
  "nbformat": 4,
  "cells": [
    {
      "cell_type": "markdown",
      "metadata": {
        "id": "view-in-github",
        "colab_type": "text"
      },
      "source": [
        "<a href=\"https://colab.research.google.com/github/yellayujin/mulcamp34/blob/main/240116_%ED%94%84%EB%A1%9C%EC%A0%9D%ED%8A%B8_%EC%97%B0%EC%8A%B5.ipynb\" target=\"_parent\"><img src=\"https://colab.research.google.com/assets/colab-badge.svg\" alt=\"Open In Colab\"/></a>"
      ]
    },
    {
      "cell_type": "code",
      "source": [
        "# This Python 3 environment comes with many helpful analytics libraries installed\n",
        "# It is defined by the kaggle/python Docker image: https://github.com/kaggle/docker-python\n",
        "# For example, here's several helpful packages to load\n",
        "\n",
        "import numpy as np # linear algebra\n",
        "import pandas as pd # data processing, CSV file I/O (e.g. pd.read_csv)\n",
        "\n",
        "# Input data files are available in the read-only \"../input/\" directory\n",
        "# For example, running this (by clicking run or pressing Shift+Enter) will list all files under the input directory\n",
        "\n",
        "import os\n",
        "for dirname, _, filenames in os.walk('/kaggle/input'):\n",
        "    for filename in filenames:\n",
        "        print(os.path.join(dirname, filename))\n",
        "\n",
        "# You can write up to 20GB to the current directory (/kaggle/working/) that gets preserved as output when you create a version using \"Save & Run All\"\n",
        "# You can also write temporary files to /kaggle/temp/, but they won't be saved outside of the current session"
      ],
      "metadata": {
        "_uuid": "8f2839f25d086af736a60e9eeb907d3b93b6e0e5",
        "_cell_guid": "b1076dfc-b9ad-4769-8c92-a6c4dae69d19",
        "execution": {
          "iopub.status.busy": "2024-01-16T15:34:38.471623Z",
          "iopub.execute_input": "2024-01-16T15:34:38.472080Z",
          "iopub.status.idle": "2024-01-16T15:34:38.534392Z",
          "shell.execute_reply.started": "2024-01-16T15:34:38.472043Z",
          "shell.execute_reply": "2024-01-16T15:34:38.533145Z"
        },
        "trusted": true,
        "id": "gXUJcyej1j7e"
      },
      "execution_count": null,
      "outputs": []
    },
    {
      "cell_type": "markdown",
      "source": [
        "## Table of Contents\n",
        "- 0.[Outline](#ch0)\n",
        "- 1.[Data Exploration](#ch1)\n",
        "    - 1.1[Exploratory Data Analysis](#ch1.1)\n",
        "    - 1.2[Churn Age Analysis](#1.2)\n",
        "- 2.[Detailed Plan Establishment](#ch2)\n",
        "    - 2.1[Deeper EDA](#ch2.1)\n",
        "- 3.[Statistical Test](#ch3)\n",
        "    - 3.1[Sampled T-test](#ch3.1)\n",
        "    - 3.2[chi-square test](#ch3.2)\n",
        "- 4.[Regression](#ch4)\n",
        "- 5.[Conclusion](#ch5)\n",
        "- 6.[Project Evaluation](#ch6)"
      ],
      "metadata": {
        "id": "eE7xE5jf1j7l"
      }
    },
    {
      "cell_type": "markdown",
      "source": [
        "### All the used libraries:\n",
        "- pandas: 2.14\n",
        "- numpy: 1.26.2\n",
        "- matplotlib:3.8.0\n",
        "- seaborn: 0.12.2\n",
        "- scipy: 1.11.4\n",
        "- sklearn: 1.3.2\n",
        "- statsmodels: 0.14.0"
      ],
      "metadata": {
        "id": "e8oPI7By1j7n"
      }
    },
    {
      "cell_type": "markdown",
      "source": [
        "# 0. Outline<a class='anchor' id='ch0'></a>\n",
        "- This dataset was generated from a deep learning model trained on the Bank Customer Churn Prediction dataset. Feature distributions are close to, but not exactly the same, as the original.\n",
        "- The analysis is part of practicing skills learned in the 'Data Analysis & Engineering Camp (Python)'.; therefore, essential steps may have been omitted, given the focus on Exploratory Data Analysis (EDA) in 3 days.\n",
        "- As we are going to focus on EDA(Exploritory Plan Analysis), we'll look through the trian.csv which includes the target variable, 'Exited'.\n"
      ],
      "metadata": {
        "id": "Dnlfobw71j7o"
      }
    },
    {
      "cell_type": "markdown",
      "source": [
        "### BackGround\n",
        "- The recent increase in bank customer churn has created a number of problems.\n",
        "- In order to minimize customer churn and increase customer retention, we are going to identify and solve various problems and even attract new customers.\n",
        "- In order to identify the cause of the customer churn, we will analyze various columns and identify the problem, identify which part is the problem, and solve and supplement the problem.\n"
      ],
      "metadata": {
        "id": "hur31zJn1j7o"
      }
    },
    {
      "cell_type": "markdown",
      "source": [
        "# 1. Data Exploration <a class='anchor' id='ch1'></a>\n",
        "\n",
        "### Data Description\n",
        "- **Customer ID**: A unique identifier for each customer\n",
        "- **Surname**: The customer's surname or last name\n",
        "- **Credit Score**: A numerical value representing the customer's credit score\n",
        "- **Geography**: The country where the customer resides\n",
        "- **Gender**: The customer's gender\n",
        "- **Age**: The customer's age.\n",
        "- **Tenure**: The number of years the customer has been with the bank\n",
        "- **Balance**: The customer's account balance\n",
        "- **NumOfProducts**: The number of bank products the customer uses (e.g., savings account, credit card)\n",
        "- **HasCrCard**: Whether the customer has a credit card\n",
        "- **IsActiveMember**: Whether the customer is an active member\n",
        "- **EstimatedSalary**: The estimated salary of the customer\n",
        "- **Exited**: Whether the customer has churned (Target Variable)"
      ],
      "metadata": {
        "id": "hQZZfef71j7p"
      }
    },
    {
      "cell_type": "code",
      "source": [
        "import pandas as pd\n",
        "train = pd.read_csv('/kaggle/input/train-csv/train.csv')\n",
        "train.info()"
      ],
      "metadata": {
        "execution": {
          "iopub.status.busy": "2024-01-16T15:34:38.536154Z",
          "iopub.execute_input": "2024-01-16T15:34:38.536724Z",
          "iopub.status.idle": "2024-01-16T15:34:38.835667Z",
          "shell.execute_reply.started": "2024-01-16T15:34:38.536687Z",
          "shell.execute_reply": "2024-01-16T15:34:38.834735Z"
        },
        "trusted": true,
        "id": "OXzAAOds1j7p"
      },
      "execution_count": null,
      "outputs": []
    },
    {
      "cell_type": "markdown",
      "source": [
        "- No null data."
      ],
      "metadata": {
        "id": "RAy8MULT1j7q"
      }
    },
    {
      "cell_type": "code",
      "source": [
        "# Descriptive statistics for all data\n",
        "continuous_var = ['CreditScore', 'Age', 'Tenure', 'Balance', 'NumOfProducts', 'EstimatedSalary']\n",
        "train[continuous_var].describe().T"
      ],
      "metadata": {
        "execution": {
          "iopub.status.busy": "2024-01-16T15:34:38.837199Z",
          "iopub.execute_input": "2024-01-16T15:34:38.837863Z",
          "iopub.status.idle": "2024-01-16T15:34:38.906184Z",
          "shell.execute_reply.started": "2024-01-16T15:34:38.837820Z",
          "shell.execute_reply": "2024-01-16T15:34:38.905366Z"
        },
        "trusted": true,
        "id": "w8WBx-fp1j7r"
      },
      "execution_count": null,
      "outputs": []
    },
    {
      "cell_type": "code",
      "source": [
        "# Descriptive statistics of churn\n",
        "train.loc[train['Exited']==1,continuous_var].describe().T"
      ],
      "metadata": {
        "execution": {
          "iopub.status.busy": "2024-01-16T15:34:38.908044Z",
          "iopub.execute_input": "2024-01-16T15:34:38.908535Z",
          "iopub.status.idle": "2024-01-16T15:34:38.949791Z",
          "shell.execute_reply.started": "2024-01-16T15:34:38.908503Z",
          "shell.execute_reply": "2024-01-16T15:34:38.948569Z"
        },
        "trusted": true,
        "id": "43OeLSnI1j7s"
      },
      "execution_count": null,
      "outputs": []
    },
    {
      "cell_type": "markdown",
      "source": [
        "### 1.1 Exploratory Data Analysis<a class='anchor' id='ch1.1'></a>\n",
        "- Before selecting our target audience, we conducted an EDA of our data."
      ],
      "metadata": {
        "id": "a9R_wduP1j7t"
      }
    },
    {
      "cell_type": "code",
      "source": [
        "# Number of customers per country\n",
        "import matplotlib.pyplot as plt\n",
        "import seaborn as sns\n",
        "plt.figure(figsize=(5, 3))\n",
        "ax = sns.countplot(x='Geography', data=train, palette='viridis')"
      ],
      "metadata": {
        "execution": {
          "iopub.status.busy": "2024-01-16T15:34:38.951400Z",
          "iopub.execute_input": "2024-01-16T15:34:38.951784Z",
          "iopub.status.idle": "2024-01-16T15:34:39.275636Z",
          "shell.execute_reply.started": "2024-01-16T15:34:38.951744Z",
          "shell.execute_reply": "2024-01-16T15:34:39.274643Z"
        },
        "trusted": true,
        "id": "GaroMKmD1j7t"
      },
      "execution_count": null,
      "outputs": []
    },
    {
      "cell_type": "code",
      "source": [
        "# Customer distribution by gender\n",
        "plt.figure(figsize=(5, 3))\n",
        "sns.countplot(x='Gender', data=train, palette='Set1')\n",
        "plt.title('Users by Gender')\n",
        "plt.xlabel('Gender')\n",
        "plt.show()"
      ],
      "metadata": {
        "execution": {
          "iopub.status.busy": "2024-01-16T15:34:39.277244Z",
          "iopub.execute_input": "2024-01-16T15:34:39.277605Z",
          "iopub.status.idle": "2024-01-16T15:34:39.548144Z",
          "shell.execute_reply.started": "2024-01-16T15:34:39.277574Z",
          "shell.execute_reply": "2024-01-16T15:34:39.547093Z"
        },
        "trusted": true,
        "id": "YKEVZCQ_1j7u"
      },
      "execution_count": null,
      "outputs": []
    },
    {
      "cell_type": "code",
      "source": [
        "# Customer distribution by age\n",
        "plt.figure(figsize=(5, 3))\n",
        "sns.histplot(train['Age'], bins=30, color='skyblue')\n",
        "plt.title('Age Distribution')\n",
        "plt.xlabel('Age')\n",
        "plt.show()"
      ],
      "metadata": {
        "execution": {
          "iopub.status.busy": "2024-01-16T15:34:39.549634Z",
          "iopub.execute_input": "2024-01-16T15:34:39.550079Z",
          "iopub.status.idle": "2024-01-16T15:34:40.023688Z",
          "shell.execute_reply.started": "2024-01-16T15:34:39.550036Z",
          "shell.execute_reply": "2024-01-16T15:34:40.022400Z"
        },
        "trusted": true,
        "id": "1fgKD1g11j7u"
      },
      "execution_count": null,
      "outputs": []
    },
    {
      "cell_type": "code",
      "source": [
        "# Distribution of churn by age\n",
        "exited = train.loc[train['Exited']==1,:]\n",
        "\n",
        "plt.figure(figsize=(8, 6))\n",
        "sns.histplot(x='Age', data=exited, bins=30)\n",
        "plt.title('Exited Distribution')\n",
        "plt.xlabel('Exited')\n",
        "plt.show()"
      ],
      "metadata": {
        "execution": {
          "iopub.status.busy": "2024-01-16T15:34:40.025612Z",
          "iopub.execute_input": "2024-01-16T15:34:40.026482Z",
          "iopub.status.idle": "2024-01-16T15:34:40.413050Z",
          "shell.execute_reply.started": "2024-01-16T15:34:40.026439Z",
          "shell.execute_reply": "2024-01-16T15:34:40.412109Z"
        },
        "trusted": true,
        "id": "bHP_wlDa1j7v"
      },
      "execution_count": null,
      "outputs": []
    },
    {
      "cell_type": "code",
      "source": [
        "# Credit score distribution\n",
        "plt.figure(figsize=(5, 3))\n",
        "sns.histplot(train['CreditScore'], bins=30)\n",
        "plt.title('CreditScore')\n",
        "plt.xlabel('CreditScore')\n",
        "plt.ylabel('Frequency')\n",
        "plt.show()"
      ],
      "metadata": {
        "execution": {
          "iopub.status.busy": "2024-01-16T15:34:40.417231Z",
          "iopub.execute_input": "2024-01-16T15:34:40.417830Z",
          "iopub.status.idle": "2024-01-16T15:34:40.910455Z",
          "shell.execute_reply.started": "2024-01-16T15:34:40.417794Z",
          "shell.execute_reply": "2024-01-16T15:34:40.909284Z"
        },
        "trusted": true,
        "id": "1bx6r3xs1j7v"
      },
      "execution_count": null,
      "outputs": []
    },
    {
      "cell_type": "code",
      "source": [
        "# Tenure distribution\n",
        "plt.figure(figsize=(5, 3))\n",
        "sns.countplot(x='Tenure', data=train)\n",
        "plt.xlabel('Tenure (years)')\n",
        "plt.ylabel('Count')\n",
        "plt.show()"
      ],
      "metadata": {
        "execution": {
          "iopub.status.busy": "2024-01-16T15:34:40.912469Z",
          "iopub.execute_input": "2024-01-16T15:34:40.912914Z",
          "iopub.status.idle": "2024-01-16T15:34:41.244036Z",
          "shell.execute_reply.started": "2024-01-16T15:34:40.912872Z",
          "shell.execute_reply": "2024-01-16T15:34:41.243039Z"
        },
        "trusted": true,
        "id": "HjXhIGAY1j7v"
      },
      "execution_count": null,
      "outputs": []
    },
    {
      "cell_type": "code",
      "source": [
        "# Balance distribution\n",
        "plt.figure(figsize=(5, 3))\n",
        "sns.histplot(train['Balance'], bins=30, kde=True)\n",
        "plt.xlabel('Balance')\n",
        "plt.ylabel('Frequency')\n",
        "plt.show()"
      ],
      "metadata": {
        "execution": {
          "iopub.status.busy": "2024-01-16T15:34:41.245256Z",
          "iopub.execute_input": "2024-01-16T15:34:41.245632Z",
          "iopub.status.idle": "2024-01-16T15:34:42.388725Z",
          "shell.execute_reply.started": "2024-01-16T15:34:41.245598Z",
          "shell.execute_reply": "2024-01-16T15:34:42.387432Z"
        },
        "trusted": true,
        "id": "PivWA4T31j7w"
      },
      "execution_count": null,
      "outputs": []
    },
    {
      "cell_type": "markdown",
      "source": [
        "- There are a significant number of customers with a Balance of 0 (45.67% of the total), which may affect the analysis, so we exclude them."
      ],
      "metadata": {
        "id": "LtyIYrw-1j7w"
      }
    },
    {
      "cell_type": "code",
      "source": [
        "# Data excluding zero balances\n",
        "data = train.drop(['id', 'CustomerId', 'Surname', 'Geography'], axis=1)\n",
        "\n",
        "data_ybal = data.loc[data['Balance'] != 0, :]\n",
        "data.shape[0]\n",
        "data_ybal.shape[0]\n",
        "\n",
        "plt.figure(figsize=(5, 3))\n",
        "sns.histplot(data_ybal['Balance'], bins=30)\n",
        "plt.title('non-zero Balance')\n",
        "plt.xlabel('Balance')\n",
        "plt.ylabel('Frequency')\n",
        "plt.show()"
      ],
      "metadata": {
        "execution": {
          "iopub.status.busy": "2024-01-16T15:34:42.390435Z",
          "iopub.execute_input": "2024-01-16T15:34:42.390957Z",
          "iopub.status.idle": "2024-01-16T15:34:42.825217Z",
          "shell.execute_reply.started": "2024-01-16T15:34:42.390924Z",
          "shell.execute_reply": "2024-01-16T15:34:42.823983Z"
        },
        "trusted": true,
        "id": "9hShNxkF1j7w"
      },
      "execution_count": null,
      "outputs": []
    },
    {
      "cell_type": "code",
      "source": [
        "# Distribution of the number of products used\n",
        "plt.figure(figsize=(5, 3))\n",
        "sns.countplot(x='NumOfProducts', data=train)\n",
        "plt.xlabel('NumOfProducts')\n",
        "plt.ylabel('Count')\n",
        "plt.show()\n"
      ],
      "metadata": {
        "execution": {
          "iopub.status.busy": "2024-01-16T15:34:42.826879Z",
          "iopub.execute_input": "2024-01-16T15:34:42.827252Z",
          "iopub.status.idle": "2024-01-16T15:34:43.052467Z",
          "shell.execute_reply.started": "2024-01-16T15:34:42.827220Z",
          "shell.execute_reply": "2024-01-16T15:34:43.051583Z"
        },
        "trusted": true,
        "id": "FVwJ5hxL1j7x"
      },
      "execution_count": null,
      "outputs": []
    },
    {
      "cell_type": "code",
      "source": [
        "# Distribution of customers with credit cards\n",
        "sns.countplot(x='HasCrCard', data=train, palette='cool')\n",
        "\n",
        "plt.grid(axis='y')\n",
        "plt.xlabel('HasCrCard', fontsize=13)\n",
        "plt.xticks([0, 1], ['N', 'Y'])\n",
        "plt.show()"
      ],
      "metadata": {
        "execution": {
          "iopub.status.busy": "2024-01-16T15:34:43.053516Z",
          "iopub.execute_input": "2024-01-16T15:34:43.054116Z",
          "iopub.status.idle": "2024-01-16T15:34:43.636200Z",
          "shell.execute_reply.started": "2024-01-16T15:34:43.054083Z",
          "shell.execute_reply": "2024-01-16T15:34:43.634796Z"
        },
        "trusted": true,
        "id": "_tmxrPbo1j7x"
      },
      "execution_count": null,
      "outputs": []
    },
    {
      "cell_type": "code",
      "source": [
        "# Active member distribution\n",
        "sns.countplot(x='IsActiveMember', data=train, palette='cool')\n",
        "\n",
        "plt.grid(axis='y')\n",
        "plt.xlabel('IsActiveMember', fontsize=13)\n",
        "plt.xticks([0, 1], ['N', 'Y'])\n",
        "plt.show()"
      ],
      "metadata": {
        "execution": {
          "iopub.status.busy": "2024-01-16T15:34:43.637959Z",
          "iopub.execute_input": "2024-01-16T15:34:43.638353Z",
          "iopub.status.idle": "2024-01-16T15:34:43.866918Z",
          "shell.execute_reply.started": "2024-01-16T15:34:43.638319Z",
          "shell.execute_reply": "2024-01-16T15:34:43.865916Z"
        },
        "trusted": true,
        "id": "7kKkBd051j7y"
      },
      "execution_count": null,
      "outputs": []
    },
    {
      "cell_type": "markdown",
      "source": [
        "- We can analyze the relationship with other variables to understand which factors influence customer activation.\n",
        "- We also can use this information to create reward programs for loyal customers or run reactivation campaigns for inactive members."
      ],
      "metadata": {
        "id": "57eQegfL1j7y"
      }
    },
    {
      "cell_type": "code",
      "source": [
        "# Number of churned members\n",
        "plt.figure(figsize=(5, 3))\n",
        "sns.countplot(x='Exited', data=data)\n",
        "plt.xlabel('Exited', fontsize=13)\n",
        "plt.xticks([0, 1], ['N', 'Y'])\n",
        "plt.ylabel('Count')\n",
        "plt.show()"
      ],
      "metadata": {
        "execution": {
          "iopub.status.busy": "2024-01-16T15:34:43.868385Z",
          "iopub.execute_input": "2024-01-16T15:34:43.869253Z",
          "iopub.status.idle": "2024-01-16T15:34:44.084961Z",
          "shell.execute_reply.started": "2024-01-16T15:34:43.869207Z",
          "shell.execute_reply": "2024-01-16T15:34:44.083811Z"
        },
        "trusted": true,
        "id": "4MjR8F8R1j7y"
      },
      "execution_count": null,
      "outputs": []
    },
    {
      "cell_type": "markdown",
      "source": [
        "- Leavers are 1/4 the size of existing members"
      ],
      "metadata": {
        "id": "wTuaNjzF1j7y"
      }
    },
    {
      "cell_type": "code",
      "source": [
        "# Estimated salary distribution\n",
        "# Show in thousands\n",
        "train.loc[:, 'EstimatedSalary_thousands'] = train['EstimatedSalary'] / 1000\n",
        "\n",
        "salary_bins = pd.cut(train['EstimatedSalary_thousands'], bins=[0,20,40,60,80,100,120,140,160,180,200])\n",
        "salary_bin_counts = salary_bins.value_counts().sort_index()\n",
        "\n",
        "plt.figure(figsize=(7, 4))\n",
        "ax = sns.barplot(x=salary_bin_counts.index.astype(str), y=salary_bin_counts.values, palette='cool')\n",
        "\n",
        "plt.xticks(rotation=45)\n",
        "plt.xlabel('EstimatedSalary(k)', fontsize=13)\n",
        "plt.grid(axis='y')\n",
        "plt.show()"
      ],
      "metadata": {
        "execution": {
          "iopub.status.busy": "2024-01-16T15:34:44.086236Z",
          "iopub.execute_input": "2024-01-16T15:34:44.086538Z",
          "iopub.status.idle": "2024-01-16T15:34:44.417294Z",
          "shell.execute_reply.started": "2024-01-16T15:34:44.086510Z",
          "shell.execute_reply": "2024-01-16T15:34:44.416274Z"
        },
        "trusted": true,
        "id": "F2KNGjDN1j7y"
      },
      "execution_count": null,
      "outputs": []
    },
    {
      "cell_type": "markdown",
      "source": [
        "### 1.2 Churn Age Analysis <a class='anchor' id='ch1.2'></a>\n",
        "- We decided that if we detected significant churn in a particular age group, we would target that age group."
      ],
      "metadata": {
        "id": "3A-pOvZl1j7z"
      }
    },
    {
      "cell_type": "code",
      "source": [
        "# Calculate churn rate by age group\n",
        "def create_age_group(age):\n",
        "    if age < 20:\n",
        "        return '10s'\n",
        "    elif age < 30:\n",
        "        return '20s'\n",
        "    elif age < 40:\n",
        "        return '30s'\n",
        "    elif age < 50:\n",
        "        return '40s'\n",
        "    elif age < 60:\n",
        "        return '50s'\n",
        "    elif age < 70:\n",
        "        return '60s'\n",
        "    else:\n",
        "        return '70s up'\n",
        "\n",
        "train['AgeGroup'] = train['Age'].apply(create_age_group)\n",
        "\n",
        "AgeGroup = ['10s', '20s', '30s', '40s', '50s', '60s', '70s up']\n",
        "for i in AgeGroup:\n",
        "    AgeExited = train.loc[(train['AgeGroup'] == i) & (train['Exited'] == 1) , :].shape[0]\n",
        "    AgeData = train.loc[train['AgeGroup'] == i].shape[0]\n",
        "    print(i, round(AgeExited / AgeData, 3))"
      ],
      "metadata": {
        "execution": {
          "iopub.status.busy": "2024-01-16T15:34:44.418785Z",
          "iopub.execute_input": "2024-01-16T15:34:44.419143Z",
          "iopub.status.idle": "2024-01-16T15:34:44.723240Z",
          "shell.execute_reply.started": "2024-01-16T15:34:44.419111Z",
          "shell.execute_reply": "2024-01-16T15:34:44.722060Z"
        },
        "trusted": true,
        "id": "LICP_KfZ1j70"
      },
      "execution_count": null,
      "outputs": []
    },
    {
      "cell_type": "code",
      "source": [
        "# Visualize churn rate by age group\n",
        "AgeGroup = ['10s', '20s', '30s', '40s', '50s', '60s', '70s up']\n",
        "AgeExitRates = []\n",
        "\n",
        "for i in AgeGroup:\n",
        "    AgeExited = train.loc[(train['AgeGroup'] == i) & (train['Exited'] == 1) , :].shape[0]\n",
        "    AgeData = train.loc[train['AgeGroup'] == i].shape[0]\n",
        "    exit_rate = round(AgeExited / AgeData, 3) if AgeData > 0 else 0\n",
        "    AgeExitRates.append(exit_rate)\n",
        "\n",
        "\n",
        "plt.figure(figsize=(7, 4))\n",
        "plt.bar(AgeGroup, AgeExitRates, color='skyblue')\n",
        "plt.title('Exit Rate by Age Group', fontsize=15, fontweight='bold')\n",
        "plt.xlabel('Age Group', fontsize=13)\n",
        "plt.ylabel('Exit Count', fontsize=13)\n",
        "plt.show()\n",
        "\n"
      ],
      "metadata": {
        "execution": {
          "iopub.status.busy": "2024-01-16T15:34:44.724632Z",
          "iopub.execute_input": "2024-01-16T15:34:44.725828Z",
          "iopub.status.idle": "2024-01-16T15:34:45.259102Z",
          "shell.execute_reply.started": "2024-01-16T15:34:44.725784Z",
          "shell.execute_reply": "2024-01-16T15:34:45.257912Z"
        },
        "trusted": true,
        "id": "0rZKP9QH1j71"
      },
      "execution_count": null,
      "outputs": []
    },
    {
      "cell_type": "markdown",
      "source": [
        "-  People in their 50s have the highest churn rate of all customers, so we set them as our target audience.\n",
        "- Conduct a deeper analysis of your target audience.\n",
        "- When we looked at the data earlier, we saw a high percentage of data with a balance of 0, which we thought might affect our analysis, so we removed the data with a balance of 0 from our deeper analysis."
      ],
      "metadata": {
        "id": "8QAfavu11j71"
      }
    },
    {
      "cell_type": "markdown",
      "source": [
        "# 2. Detailed Plan Establishment <a class='anchor' id='ch2'></a>\n",
        "- **Target group**: 50s & non-zero balance customers"
      ],
      "metadata": {
        "id": "Wr1xrN981j72"
      }
    },
    {
      "cell_type": "code",
      "source": [
        "# Non-zero balance customers\n",
        "data_ybal = data.loc[data['Balance'] != 0, :]\n",
        "data.shape[0]\n",
        "data_ybal.shape[0]"
      ],
      "metadata": {
        "execution": {
          "iopub.status.busy": "2024-01-16T15:34:45.260508Z",
          "iopub.execute_input": "2024-01-16T15:34:45.260869Z",
          "iopub.status.idle": "2024-01-16T15:34:45.275910Z",
          "shell.execute_reply.started": "2024-01-16T15:34:45.260828Z",
          "shell.execute_reply": "2024-01-16T15:34:45.274379Z"
        },
        "trusted": true,
        "id": "rhK6J6-01j72"
      },
      "execution_count": null,
      "outputs": []
    },
    {
      "cell_type": "code",
      "source": [
        "# Generating a derived variable by Age\n",
        "data_ybal['AgeGroup'] = pd.cut(data_ybal['Age'], bins = [10, 20, 30, 40, 50, 60, 70, 100],\n",
        "                        labels=['10s', '20s', '30s', '40s', '50s', '60s', '70s up'],\n",
        "                        include_lowest=True, right = False)\n",
        "data_ybal.info()"
      ],
      "metadata": {
        "execution": {
          "iopub.status.busy": "2024-01-16T15:34:45.277353Z",
          "iopub.execute_input": "2024-01-16T15:34:45.277695Z",
          "iopub.status.idle": "2024-01-16T15:34:45.302870Z",
          "shell.execute_reply.started": "2024-01-16T15:34:45.277657Z",
          "shell.execute_reply": "2024-01-16T15:34:45.301723Z"
        },
        "trusted": true,
        "id": "1PDC9tiP1j72"
      },
      "execution_count": null,
      "outputs": []
    },
    {
      "cell_type": "code",
      "source": [
        "# Customers in their 50s\n",
        "data_ybal_50 = data_ybal.loc[data_ybal['AgeGroup'] == '50s', :]"
      ],
      "metadata": {
        "execution": {
          "iopub.status.busy": "2024-01-16T15:34:45.304149Z",
          "iopub.execute_input": "2024-01-16T15:34:45.304927Z",
          "iopub.status.idle": "2024-01-16T15:34:45.312572Z",
          "shell.execute_reply.started": "2024-01-16T15:34:45.304891Z",
          "shell.execute_reply": "2024-01-16T15:34:45.311221Z"
        },
        "trusted": true,
        "id": "j6Nea1Kt1j72"
      },
      "execution_count": null,
      "outputs": []
    },
    {
      "cell_type": "code",
      "source": [
        "# Drop 'AgeGroup' as all customers of data_ybal_50 are in their 50s\n",
        "data_ybal_50.drop('AgeGroup', axis=1, inplace=True)\n",
        "\n",
        "dy5 = data_ybal_50\n",
        "dy5.info()"
      ],
      "metadata": {
        "execution": {
          "iopub.status.busy": "2024-01-16T15:34:45.314219Z",
          "iopub.execute_input": "2024-01-16T15:34:45.314645Z",
          "iopub.status.idle": "2024-01-16T15:34:45.335190Z",
          "shell.execute_reply.started": "2024-01-16T15:34:45.314603Z",
          "shell.execute_reply": "2024-01-16T15:34:45.333788Z"
        },
        "trusted": true,
        "id": "3mKrredr1j73"
      },
      "execution_count": null,
      "outputs": []
    },
    {
      "cell_type": "code",
      "source": [
        "!pip install pingouin"
      ],
      "metadata": {
        "execution": {
          "iopub.status.busy": "2024-01-16T15:34:45.342878Z",
          "iopub.execute_input": "2024-01-16T15:34:45.343296Z",
          "iopub.status.idle": "2024-01-16T15:34:57.157155Z",
          "shell.execute_reply.started": "2024-01-16T15:34:45.343264Z",
          "shell.execute_reply": "2024-01-16T15:34:57.155674Z"
        },
        "trusted": true,
        "id": "nrE5vyai1j73"
      },
      "execution_count": null,
      "outputs": []
    },
    {
      "cell_type": "code",
      "source": [
        "# Correlation coefficient and p-value\n",
        "import pingouin as pg\n",
        "table = pg.rcorr(dy5, stars=False)\n",
        "print(table)"
      ],
      "metadata": {
        "execution": {
          "iopub.status.busy": "2024-01-16T15:34:57.162216Z",
          "iopub.execute_input": "2024-01-16T15:34:57.162654Z",
          "iopub.status.idle": "2024-01-16T15:34:57.226821Z",
          "shell.execute_reply.started": "2024-01-16T15:34:57.162614Z",
          "shell.execute_reply": "2024-01-16T15:34:57.226084Z"
        },
        "trusted": true,
        "id": "m4GD64461j73"
      },
      "execution_count": null,
      "outputs": []
    },
    {
      "cell_type": "code",
      "source": [
        "# Correlation visualization\n",
        "corr = dy5[['CreditScore', 'Age', 'Tenure', 'Balance', 'NumOfProducts', 'EstimatedSalary']].corr()\n",
        "\n",
        "import seaborn as sns\n",
        "sns.heatmap(corr, vmin=-1, vmax=1, cmap='vlag', annot=True)"
      ],
      "metadata": {
        "execution": {
          "iopub.status.busy": "2024-01-16T15:34:57.228628Z",
          "iopub.execute_input": "2024-01-16T15:34:57.228941Z",
          "iopub.status.idle": "2024-01-16T15:34:57.823990Z",
          "shell.execute_reply.started": "2024-01-16T15:34:57.228911Z",
          "shell.execute_reply": "2024-01-16T15:34:57.822821Z"
        },
        "trusted": true,
        "id": "cCT9IM1g1j73"
      },
      "execution_count": null,
      "outputs": []
    },
    {
      "cell_type": "markdown",
      "source": [
        "## 2.1 Deeper EDA<a class='anchor' id='ch2.1'></a>\n",
        "- Conduct the deeper EDA focused on the target group we set"
      ],
      "metadata": {
        "id": "4d8kIH7X1j78"
      }
    },
    {
      "cell_type": "code",
      "source": [
        "dy5[['CreditScore', 'Age', 'Tenure', 'Balance','NumOfProducts', 'EstimatedSalary']].describe().T"
      ],
      "metadata": {
        "execution": {
          "iopub.status.busy": "2024-01-16T15:34:57.825584Z",
          "iopub.execute_input": "2024-01-16T15:34:57.825945Z",
          "iopub.status.idle": "2024-01-16T15:34:57.859818Z",
          "shell.execute_reply.started": "2024-01-16T15:34:57.825912Z",
          "shell.execute_reply": "2024-01-16T15:34:57.859053Z"
        },
        "trusted": true,
        "id": "J1DZvzfP1j78"
      },
      "execution_count": null,
      "outputs": []
    },
    {
      "cell_type": "code",
      "source": [
        "train['AgeGroup'].value_counts()"
      ],
      "metadata": {
        "execution": {
          "iopub.status.busy": "2024-01-16T15:34:57.860996Z",
          "iopub.execute_input": "2024-01-16T15:34:57.861517Z",
          "iopub.status.idle": "2024-01-16T15:34:57.879162Z",
          "shell.execute_reply.started": "2024-01-16T15:34:57.861487Z",
          "shell.execute_reply": "2024-01-16T15:34:57.877807Z"
        },
        "trusted": true,
        "id": "Mbid9W0D1j79"
      },
      "execution_count": null,
      "outputs": []
    },
    {
      "cell_type": "code",
      "source": [
        "dy5_0 = train.loc[(train['AgeGroup']=='50s') & (train['Balance']!=0)]\n",
        "\n",
        "# Geographic distribution of 50 customers\n",
        "plt.figure(figsize=(7, 4))\n",
        "new_x_labels = ['Germany', 'France', 'Spain']\n",
        "ax = sns.countplot(x='Geography', data=dy5_0, palette='cool')\n",
        "\n",
        "plt.xlabel('Country', fontsize=13)\n",
        "plt.xticks(range(len(new_x_labels)), new_x_labels)\n",
        "\n",
        "plt.show()"
      ],
      "metadata": {
        "execution": {
          "iopub.status.busy": "2024-01-16T15:34:57.880951Z",
          "iopub.execute_input": "2024-01-16T15:34:57.882096Z",
          "iopub.status.idle": "2024-01-16T15:34:58.149927Z",
          "shell.execute_reply.started": "2024-01-16T15:34:57.882046Z",
          "shell.execute_reply": "2024-01-16T15:34:58.148741Z"
        },
        "trusted": true,
        "id": "ichGRinI1j79"
      },
      "execution_count": null,
      "outputs": []
    },
    {
      "cell_type": "markdown",
      "source": [
        "- France is the most common overall customer, but Germany is the most common in their 50s.\n",
        "- Germany also has the most customers in their 40s.\n",
        "- However, the churn rate is also highest in Germany.\n",
        "- France: Churn rate is about 48.6%, retention rate is about 51.4\n",
        "- Germany: Churn rate is around 75.9%, retention rate is around 24.1\n",
        "- Spain: bounce rate is around 51.5%, retention rate is around 48.5\n"
      ],
      "metadata": {
        "id": "61nYP-gv1j79"
      }
    },
    {
      "cell_type": "code",
      "source": [
        "labels = ['Exited', 'Stayed']\n",
        "france_sizes = [48.6, 51.4]\n",
        "germany_sizes = [75.9, 24.1]\n",
        "spain_sizes = [51.5, 48.5]\n",
        "colors = ['#ff9999','#66b3ff']\n",
        "\n",
        "# Generating pie chart\n",
        "fig, axs = plt.subplots(1, 3, figsize=(15, 5))\n",
        "\n",
        "# Pie chart of France\n",
        "axs[0].pie(france_sizes, labels=['Exited', 'NonExited'], colors=colors, autopct='%1.1f%%', startangle=140)\n",
        "axs[0].set_title('France')\n",
        "\n",
        "# Pie chart of Germany\n",
        "axs[1].pie(germany_sizes, labels=['Exited', 'NonExited'], colors=colors, autopct='%1.1f%%', startangle=140)\n",
        "axs[1].set_title('Germany')\n",
        "\n",
        "# Pie chart of Spain\n",
        "axs[2].pie(spain_sizes, labels=['Exited', 'NonExited'], colors=colors, autopct='%1.1f%%', startangle=140)\n",
        "axs[2].set_title('Spain')\n",
        "\n",
        "plt.tight_layout()\n",
        "plt.show()"
      ],
      "metadata": {
        "execution": {
          "iopub.status.busy": "2024-01-16T15:34:58.151551Z",
          "iopub.execute_input": "2024-01-16T15:34:58.151964Z",
          "iopub.status.idle": "2024-01-16T15:34:58.621813Z",
          "shell.execute_reply.started": "2024-01-16T15:34:58.151922Z",
          "shell.execute_reply": "2024-01-16T15:34:58.620957Z"
        },
        "trusted": true,
        "id": "eHa9Ss6E1j79"
      },
      "execution_count": null,
      "outputs": []
    },
    {
      "cell_type": "code",
      "source": [
        "# 50s Gender Distribution\n",
        "plt.figure(figsize=(7, 4))\n",
        "new_x_labels = ['Male', 'Female']\n",
        "ax = sns.countplot(x='Gender', data=dy5_0, palette=['#6EACE6', '#FD78BB'])\n",
        "\n",
        "plt.xlabel('Gender', fontsize=13)\n",
        "plt.xticks(range(len(new_x_labels)), new_x_labels)\n",
        "sns.set_style(\"whitegrid\")\n",
        "plt.show()"
      ],
      "metadata": {
        "execution": {
          "iopub.status.busy": "2024-01-16T15:34:58.623198Z",
          "iopub.execute_input": "2024-01-16T15:34:58.624040Z",
          "iopub.status.idle": "2024-01-16T15:34:58.839339Z",
          "shell.execute_reply.started": "2024-01-16T15:34:58.623990Z",
          "shell.execute_reply": "2024-01-16T15:34:58.838393Z"
        },
        "trusted": true,
        "id": "xmvDn_vv1j79"
      },
      "execution_count": null,
      "outputs": []
    },
    {
      "cell_type": "code",
      "source": [
        "# Credit score distribution in the 50s\n",
        "plt.figure(figsize=(7, 4))\n",
        "sns.histplot(dy5_0['CreditScore'], bins=30, color='#C8A4E2', edgecolor='#B477DD')\n",
        "\n",
        "# Average line\n",
        "plt.axvline(dy5_0['CreditScore'].mean(), color='#2989DF', linestyle='dashed', linewidth=2)\n",
        "\n",
        "# Details\n",
        "plt.xlabel('CreditScore', fontsize=13)\n",
        "plt.grid(True)\n",
        "\n",
        "plt.show()"
      ],
      "metadata": {
        "execution": {
          "iopub.status.busy": "2024-01-16T15:34:58.840844Z",
          "iopub.execute_input": "2024-01-16T15:34:58.841483Z",
          "iopub.status.idle": "2024-01-16T15:34:59.247200Z",
          "shell.execute_reply.started": "2024-01-16T15:34:58.841447Z",
          "shell.execute_reply": "2024-01-16T15:34:59.245645Z"
        },
        "trusted": true,
        "id": "Jl4G95hu1j7-"
      },
      "execution_count": null,
      "outputs": []
    },
    {
      "cell_type": "markdown",
      "source": [
        "- Not significantly different from the overall customer distribution"
      ],
      "metadata": {
        "id": "xCqhXEYw1j7-"
      }
    },
    {
      "cell_type": "code",
      "source": [
        "# Tenure Distribution\n",
        "plt.figure(figsize=(7, 4))\n",
        "ax = sns.countplot(x='Tenure', data=dy5_0, palette='cool')\n",
        "plt.xlabel('Tenure(year)', fontsize=13)\n",
        "plt.grid(axis='y')\n",
        "plt.show()"
      ],
      "metadata": {
        "execution": {
          "iopub.status.busy": "2024-01-16T15:34:59.248678Z",
          "iopub.execute_input": "2024-01-16T15:34:59.249067Z",
          "iopub.status.idle": "2024-01-16T15:34:59.607533Z",
          "shell.execute_reply.started": "2024-01-16T15:34:59.249025Z",
          "shell.execute_reply": "2024-01-16T15:34:59.606647Z"
        },
        "trusted": true,
        "id": "zFFDIyYM1j7_"
      },
      "execution_count": null,
      "outputs": []
    },
    {
      "cell_type": "markdown",
      "source": [
        "- Similarly, the overall customer distribution is similar."
      ],
      "metadata": {
        "id": "YWaoMcZf1j7_"
      }
    },
    {
      "cell_type": "code",
      "source": [
        "# Balance distribution for customers with balances\n",
        "plt.figure(figsize=(7, 4))\n",
        "sns.histplot(dy5_0['Balance'], bins=30, color='#735CE0', edgecolor='#735CE0')\n",
        "\n",
        "plt.axvline(dy5_0['Balance'].mean(), color='#B6E7FD', linestyle='dashed', linewidth=2)\n",
        "plt.xlabel('Balance', fontsize=13)\n",
        "plt.grid(axis='y')\n",
        "plt.show()"
      ],
      "metadata": {
        "execution": {
          "iopub.status.busy": "2024-01-16T15:34:59.609112Z",
          "iopub.execute_input": "2024-01-16T15:34:59.609713Z",
          "iopub.status.idle": "2024-01-16T15:34:59.980635Z",
          "shell.execute_reply.started": "2024-01-16T15:34:59.609679Z",
          "shell.execute_reply": "2024-01-16T15:34:59.979377Z"
        },
        "trusted": true,
        "id": "w4c2tECw1j7_"
      },
      "execution_count": null,
      "outputs": []
    },
    {
      "cell_type": "markdown",
      "source": [
        "- The average balance is approximately $122,206.94"
      ],
      "metadata": {
        "id": "QwaPku0_1j7_"
      }
    },
    {
      "cell_type": "code",
      "source": [
        "# Number of products used\n",
        "sns.countplot(x='NumOfProducts', data=dy5_0, palette='cool')\n",
        "\n",
        "plt.grid(axis='y')\n",
        "plt.xlabel('NumOfProducts', fontsize=13)\n",
        "plt.show()"
      ],
      "metadata": {
        "execution": {
          "iopub.status.busy": "2024-01-16T15:34:59.982207Z",
          "iopub.execute_input": "2024-01-16T15:34:59.982667Z",
          "iopub.status.idle": "2024-01-16T15:35:00.217808Z",
          "shell.execute_reply.started": "2024-01-16T15:34:59.982622Z",
          "shell.execute_reply": "2024-01-16T15:35:00.216606Z"
        },
        "trusted": true,
        "id": "CG5zgsVK1j7_"
      },
      "execution_count": null,
      "outputs": []
    },
    {
      "cell_type": "markdown",
      "source": [
        "- Have an average of 1.3\n",
        "- Compared to other customer segments, there are a lot of customers who only use one.\n",
        "- Those in their 50s have 1.31, and those outside of their 50s have 1.57 (analyzed only among churners)"
      ],
      "metadata": {
        "id": "4-L53BQN1j7_"
      }
    },
    {
      "cell_type": "code",
      "source": [
        "# Whether customers have a credit card\n",
        "card_counts = dy5_0['HasCrCard'].value_counts()\n",
        "\n",
        "# Pie chart\n",
        "plt.figure(figsize=(5, 5))\n",
        "plt.pie(card_counts, labels=['Y', 'N'], autopct='%1.1f%%', colors=['skyblue', 'lightcoral'], startangle=140)\n",
        "plt.title('HasCrCard', fontsize=15, fontweight='bold')\n",
        "plt.show()"
      ],
      "metadata": {
        "execution": {
          "iopub.status.busy": "2024-01-16T15:35:00.219161Z",
          "iopub.execute_input": "2024-01-16T15:35:00.219506Z",
          "iopub.status.idle": "2024-01-16T15:35:00.358445Z",
          "shell.execute_reply.started": "2024-01-16T15:35:00.219473Z",
          "shell.execute_reply": "2024-01-16T15:35:00.357037Z"
        },
        "trusted": true,
        "id": "bul4lZGa1j8A"
      },
      "execution_count": null,
      "outputs": []
    },
    {
      "cell_type": "code",
      "source": [
        "data_nonzero_balance = dy5_0[dy5_0['Balance'] != 0]\n",
        "\n",
        "\n",
        "plt.figure(figsize=(12, 8))\n",
        "plt.subplot(2, 2, 1)\n",
        "sns.histplot(data_nonzero_balance, x='CreditScore', hue='Exited', kde=True, multiple='stack', bins=30)\n",
        "plt.title('CreditScore')\n",
        "plt.subplot(2, 2, 2)\n",
        "sns.histplot(data_nonzero_balance, x='Age', hue='Exited', kde=True, multiple='stack', bins=30)\n",
        "plt.title('Age')\n",
        "plt.subplot(2, 2, 3)\n",
        "sns.histplot(data_nonzero_balance, x='Balance', hue='Exited', kde=True, multiple='stack', bins=30)\n",
        "plt.title('Balance')\n",
        "plt.subplot(2, 2, 4)\n",
        "sns.histplot(data_nonzero_balance, x='Tenure', hue='Exited', kde=False, multiple='stack', bins=20)\n",
        "plt.title('Tenure')\n",
        "\n",
        "\n",
        "plt.tight_layout()\n",
        "plt.show()"
      ],
      "metadata": {
        "execution": {
          "iopub.status.busy": "2024-01-16T15:35:00.360470Z",
          "iopub.execute_input": "2024-01-16T15:35:00.360946Z",
          "iopub.status.idle": "2024-01-16T15:35:02.716969Z",
          "shell.execute_reply.started": "2024-01-16T15:35:00.360905Z",
          "shell.execute_reply": "2024-01-16T15:35:02.715612Z"
        },
        "trusted": true,
        "id": "mzGUa7sf1j8A"
      },
      "execution_count": null,
      "outputs": []
    },
    {
      "cell_type": "code",
      "source": [
        "# Visualize churn rate by account balance (Violin Plot)\n",
        "plt.figure(figsize=(7, 4))\n",
        "sns.violinplot(x='Exited', y='Balance', data=dy5_0, palette=\"muted\", split=True)\n",
        "plt.axhline(y=dy5_0['Balance'].median(), color='black', linestyle='--', label='Median Balance')\n",
        "plt.title('Balance vs. Exited for Customers in their 50s', fontsize=15)\n",
        "plt.xlabel('Exited', fontsize=12)\n",
        "plt.ylabel('Balance', fontsize=12)\n",
        "plt.xticks([0, 1], ['Not Exited', 'Exited'])\n",
        "plt.legend()\n",
        "plt.show()"
      ],
      "metadata": {
        "execution": {
          "iopub.status.busy": "2024-01-16T15:35:02.718260Z",
          "iopub.execute_input": "2024-01-16T15:35:02.718585Z",
          "iopub.status.idle": "2024-01-16T15:35:03.063433Z",
          "shell.execute_reply.started": "2024-01-16T15:35:02.718554Z",
          "shell.execute_reply": "2024-01-16T15:35:03.062308Z"
        },
        "trusted": true,
        "id": "I0PFkTzG1j8A"
      },
      "execution_count": null,
      "outputs": []
    },
    {
      "cell_type": "code",
      "source": [
        "# Create a derivative variable\n",
        " # Derivative variable based on balance\n",
        "import numpy as np\n",
        "count1, bin_dividers1 = np.histogram(dy5['Balance'], bins=3)\n",
        "a1 = np.linspace(dy5['Balance'].min(), dy5['Balance'].max(), 4)\n",
        "\n",
        "dy5['BalLevel'] = pd.cut(dy5['Balance'], bins = bin_dividers1, include_lowest=True, labels=['BalLevel_Low','BalLevel_Mid', 'BalLevel_High'])\n",
        "dy5.info()"
      ],
      "metadata": {
        "execution": {
          "iopub.status.busy": "2024-01-16T15:35:03.064819Z",
          "iopub.execute_input": "2024-01-16T15:35:03.065189Z",
          "iopub.status.idle": "2024-01-16T15:35:03.084767Z",
          "shell.execute_reply.started": "2024-01-16T15:35:03.065157Z",
          "shell.execute_reply": "2024-01-16T15:35:03.083601Z"
        },
        "trusted": true,
        "id": "_yjfqE1-1j8A"
      },
      "execution_count": null,
      "outputs": []
    },
    {
      "cell_type": "markdown",
      "source": [
        "# 3. Statistical Analysis <a class='anchor' id='ch3'></a>\n",
        "- Performed a t-test for continuous independent variables and a chi-square test for categorical independent variables."
      ],
      "metadata": {
        "id": "G2DFuodR1j8A"
      }
    },
    {
      "cell_type": "markdown",
      "source": [
        "# 3.1 Sampled T-test<a class='anchor' id='ch3.1'></a>\n",
        "- Frequency analysis of the dependent variable for each group shows a large difference in degrees, which affects the t-test.\n",
        "- Proceed by sampling\n"
      ],
      "metadata": {
        "id": "io9t1ide1j8B"
      }
    },
    {
      "cell_type": "markdown",
      "source": [
        "- Test for differences in CreditScore to Balance in two populations with values of 0,1 in the Exited column.\n",
        "- Remove 0 values in Balance\n",
        "- 2Sample t-test is used for testing, ɑ=0.05\n",
        "- Hypothesis\n",
        "    - H0: The mean of the dependent variable between the Exited groups is the same.\n",
        "    - H1: The mean of the dependent variable between the Exited groups is different."
      ],
      "metadata": {
        "id": "RmIeuHUl1j8B"
      }
    },
    {
      "cell_type": "code",
      "source": [
        "train_data = train[:]\n",
        "nonzero=train_data[train_data['Balance']!=0].reset_index(drop=True)\n",
        "df_0=nonzero.loc[nonzero['Exited']==0,['CreditScore','Age','Tenure','Balance']].reset_index()\n",
        "df_1=nonzero.loc[nonzero['Exited']==1,['CreditScore','Age','Tenure','Balance']].reset_index()"
      ],
      "metadata": {
        "execution": {
          "iopub.status.busy": "2024-01-16T15:35:03.086566Z",
          "iopub.execute_input": "2024-01-16T15:35:03.087398Z",
          "iopub.status.idle": "2024-01-16T15:35:03.141717Z",
          "shell.execute_reply.started": "2024-01-16T15:35:03.087352Z",
          "shell.execute_reply": "2024-01-16T15:35:03.140414Z"
        },
        "trusted": true,
        "id": "Ixdh4LGa1j8B"
      },
      "execution_count": null,
      "outputs": []
    },
    {
      "cell_type": "code",
      "source": [
        "# CreditScore\n",
        "import scipy.stats as stats\n",
        "t, p=stats.ttest_ind(df_0.CreditScore,df_1.CreditScore)\n",
        "t, p\n",
        "if p < 0.05:\n",
        "    print(\"Reject H0: There is a statistically significant difference between the two samples.\")\n",
        "else:\n",
        "    print(\"Adopt H0: There is no statistically significant difference between the two samples.\")\n",
        "\n",
        "print(round(p,5))"
      ],
      "metadata": {
        "execution": {
          "iopub.status.busy": "2024-01-16T15:35:03.143340Z",
          "iopub.execute_input": "2024-01-16T15:35:03.143768Z",
          "iopub.status.idle": "2024-01-16T15:35:03.154520Z",
          "shell.execute_reply.started": "2024-01-16T15:35:03.143734Z",
          "shell.execute_reply": "2024-01-16T15:35:03.153334Z"
        },
        "trusted": true,
        "id": "o43tbG6Z1j8C"
      },
      "execution_count": null,
      "outputs": []
    },
    {
      "cell_type": "code",
      "source": [
        "# Age\n",
        "t, p=stats.ttest_ind(df_0.Age,df_1.Age)\n",
        "t, p\n",
        "\n",
        "if p < 0.05:\n",
        "    print(\"Reject H0: There is a statistically significant difference between the two samples.\")\n",
        "else:\n",
        "    print(\"Adopt H0: There is no statistically significant difference between the two samples.\")\n",
        "\n",
        "print(round(p,5))"
      ],
      "metadata": {
        "execution": {
          "iopub.status.busy": "2024-01-16T15:35:03.155789Z",
          "iopub.execute_input": "2024-01-16T15:35:03.156723Z",
          "iopub.status.idle": "2024-01-16T15:35:03.167495Z",
          "shell.execute_reply.started": "2024-01-16T15:35:03.156686Z",
          "shell.execute_reply": "2024-01-16T15:35:03.166465Z"
        },
        "trusted": true,
        "id": "2rcP9oeZ1j8C"
      },
      "execution_count": null,
      "outputs": []
    },
    {
      "cell_type": "code",
      "source": [
        "# Tenure\n",
        "t, p=stats.ttest_ind(df_0.Tenure,df_1.Tenure)\n",
        "t, p\n",
        "\n",
        "if p < 0.05:\n",
        "    print(\"Reject H0: There is a statistically significant difference between the two samples.\")\n",
        "else:\n",
        "    print(\"Adopt H0: There is no statistically significant difference between the two samples.\")\n",
        "\n",
        "print(round(p,5))"
      ],
      "metadata": {
        "execution": {
          "iopub.status.busy": "2024-01-16T15:35:03.168757Z",
          "iopub.execute_input": "2024-01-16T15:35:03.169639Z",
          "iopub.status.idle": "2024-01-16T15:35:03.180412Z",
          "shell.execute_reply.started": "2024-01-16T15:35:03.169604Z",
          "shell.execute_reply": "2024-01-16T15:35:03.179107Z"
        },
        "trusted": true,
        "id": "lB_sewye1j8E"
      },
      "execution_count": null,
      "outputs": []
    },
    {
      "cell_type": "code",
      "source": [
        "# Balance\n",
        "t, p=stats.ttest_ind(df_0.Balance,df_1.Balance)\n",
        "t, p\n",
        "\n",
        "if p < 0.05:\n",
        "    print(\"Reject H0: There is a statistically significant difference between the two samples.\")\n",
        "else:\n",
        "    print(\"Adopt H0: There is no statistically significant difference between the two samples.\")\n",
        "print(round(p,5))"
      ],
      "metadata": {
        "execution": {
          "iopub.status.busy": "2024-01-16T15:35:03.182066Z",
          "iopub.execute_input": "2024-01-16T15:35:03.183057Z",
          "iopub.status.idle": "2024-01-16T15:35:03.193852Z",
          "shell.execute_reply.started": "2024-01-16T15:35:03.182953Z",
          "shell.execute_reply": "2024-01-16T15:35:03.192739Z"
        },
        "trusted": true,
        "id": "GHOW002b1j8E"
      },
      "execution_count": null,
      "outputs": []
    },
    {
      "cell_type": "markdown",
      "source": [
        "### 50s 2Sample T-test\n",
        "- Deeper analysis by Exited group for those in their 50s with the highest churn rate\n",
        "- Excludes values with a balance of 0\n",
        "- No additional sampling because the number of samples is less than the previous experiment.\n",
        "- Since the experiment is conducted on 50s, information on Age is included, so Age is not conducted.\n",
        "- H0: The mean of the dependent variable is the same between the Exited groups.\n",
        "- H1:Exited groups have different means for the dependent variable.\n"
      ],
      "metadata": {
        "id": "tJKHPy5H1j8E"
      }
    },
    {
      "cell_type": "code",
      "source": [
        "def categorize_age(age):\n",
        "    if age<20:\n",
        "        return '10s'\n",
        "    elif age<30:\n",
        "        return '20s'\n",
        "    elif age<40:\n",
        "        return '30s'\n",
        "    elif age<50:\n",
        "        return '40s'\n",
        "    elif age<60:\n",
        "        return '50s'\n",
        "    elif age<70:\n",
        "        return '60s'\n",
        "    else:\n",
        "        return '70+'\n",
        "\n",
        "train_data['Age_range']=train_data['Age'].apply(categorize_age)\n",
        "nonzero=train_data[train_data['Balance']!=0].reset_index(drop=True)\n",
        "df_0_50s=nonzero.loc[(nonzero['Exited']==0)&(nonzero['Age_range']=='50s'),['CreditScore','Tenure','Balance']].reset_index(drop=True)\n",
        "df_1_50s=nonzero.loc[(nonzero['Exited']==1)&(nonzero['Age_range']=='50s'),['CreditScore','Tenure','Balance']].reset_index(drop=True)\n",
        "\n"
      ],
      "metadata": {
        "execution": {
          "iopub.status.busy": "2024-01-16T15:35:03.195801Z",
          "iopub.execute_input": "2024-01-16T15:35:03.196874Z",
          "iopub.status.idle": "2024-01-16T15:35:03.318042Z",
          "shell.execute_reply.started": "2024-01-16T15:35:03.196826Z",
          "shell.execute_reply": "2024-01-16T15:35:03.316805Z"
        },
        "trusted": true,
        "id": "AQxqDxe-1j8F"
      },
      "execution_count": null,
      "outputs": []
    },
    {
      "cell_type": "code",
      "source": [
        "# CreditScore\n",
        "t, p=stats.ttest_ind(df_0_50s.CreditScore,df_1_50s.CreditScore)\n",
        "t, p\n",
        "\n",
        "if p < 0.05:\n",
        "    print(\"Reject H0: There is a statistically significant difference between the two samples.\")\n",
        "else:\n",
        "    print(\"Adopt H0: There is no statistically significant difference between the two samples.\")\n",
        "\n",
        "print(round(p,5))"
      ],
      "metadata": {
        "execution": {
          "iopub.status.busy": "2024-01-16T15:35:03.321410Z",
          "iopub.execute_input": "2024-01-16T15:35:03.322290Z",
          "iopub.status.idle": "2024-01-16T15:35:03.332781Z",
          "shell.execute_reply.started": "2024-01-16T15:35:03.322124Z",
          "shell.execute_reply": "2024-01-16T15:35:03.331352Z"
        },
        "trusted": true,
        "id": "Pkuk1u6q1j8F"
      },
      "execution_count": null,
      "outputs": []
    },
    {
      "cell_type": "code",
      "source": [
        "# Tenure\n",
        "t, p=stats.ttest_ind(df_0_50s.Tenure,df_1_50s.Tenure)\n",
        "t, p\n",
        "\n",
        "if p < 0.05:\n",
        "    print(\"Reject H0: There is a statistically significant difference between the two samples.\")\n",
        "else:\n",
        "    print(\"Adopt H0: There is no statistically significant difference between the two samples.\")\n",
        "\n",
        "print(round(p,5))"
      ],
      "metadata": {
        "execution": {
          "iopub.status.busy": "2024-01-16T15:35:03.334345Z",
          "iopub.execute_input": "2024-01-16T15:35:03.335532Z",
          "iopub.status.idle": "2024-01-16T15:35:03.345273Z",
          "shell.execute_reply.started": "2024-01-16T15:35:03.335492Z",
          "shell.execute_reply": "2024-01-16T15:35:03.344029Z"
        },
        "trusted": true,
        "id": "L5cUF4wc1j8F"
      },
      "execution_count": null,
      "outputs": []
    },
    {
      "cell_type": "code",
      "source": [
        "# Balance\n",
        "t, p=stats.ttest_ind(df_0_50s.Balance,df_1_50s.Balance)\n",
        "t, p\n",
        "\n",
        "if p < 0.05:\n",
        "    print(\"Reject H0: There is a statistically significant difference between the two samples.\")\n",
        "else:\n",
        "    print(\"Adopt H0: There is no statistically significant difference between the two samples.\")\n",
        "\n",
        "print(round(p,5))"
      ],
      "metadata": {
        "execution": {
          "iopub.status.busy": "2024-01-16T15:35:03.346577Z",
          "iopub.execute_input": "2024-01-16T15:35:03.346890Z",
          "iopub.status.idle": "2024-01-16T15:35:03.358370Z",
          "shell.execute_reply.started": "2024-01-16T15:35:03.346862Z",
          "shell.execute_reply": "2024-01-16T15:35:03.356940Z"
        },
        "trusted": true,
        "id": "iUbW7FZA1j8F"
      },
      "execution_count": null,
      "outputs": []
    },
    {
      "cell_type": "markdown",
      "source": [
        "### Conclusion\n",
        "- Overall, we found statistically significant differences in CreditScore, Age, and Tenure, with the exception of Balance. However, a deeper analysis of the 50s, the age group with the highest churn rate, shows that there is no significant difference between CreditScore, Tenure, and Balance for the 50s alone, so it is likely that there are other variables or external factors that determine whether or not a 50-year-old churns.\n"
      ],
      "metadata": {
        "id": "tdijPP941j8F"
      }
    },
    {
      "cell_type": "markdown",
      "source": [
        "# 3.2 Chi-Square Test<a class='anchor' id='ch3.2'></a>\n",
        "- This is done to ascertain whether there exists a relationship between two categorical variables.\n",
        "- **We also binned the Balance variable into BalLevel to see if creating a derivative variable from a continuous variable that the t-test found to be unrelated changed the results.**\n",
        "- The list of categorical variables in this data:\n",
        "    **HasCrCard, IsActiveMember, Gender, BalLevel, Exited**\n",
        "\n",
        "- H0(Null Hypothesis): The two categorical variables are independent.\n",
        "- H1(Alternative Hypothesis): The two categorical variables are not independent.\n"
      ],
      "metadata": {
        "id": "QA2Q7_8M1j8G"
      }
    },
    {
      "cell_type": "code",
      "source": [
        "# Preprocessing\n",
        "# One-hot Encoding\n",
        "dy5_dm = pd.get_dummies(dy5, columns = ['Gender','BalLevel'], drop_first=True)"
      ],
      "metadata": {
        "execution": {
          "iopub.status.busy": "2024-01-16T15:35:03.359616Z",
          "iopub.execute_input": "2024-01-16T15:35:03.359925Z",
          "iopub.status.idle": "2024-01-16T15:35:03.370738Z",
          "shell.execute_reply.started": "2024-01-16T15:35:03.359897Z",
          "shell.execute_reply": "2024-01-16T15:35:03.369668Z"
        },
        "trusted": true,
        "id": "Bd7a0Ogy1j8G"
      },
      "execution_count": null,
      "outputs": []
    },
    {
      "cell_type": "markdown",
      "source": [
        "- Credit card and active member are already dichotomous categorical variables, so we don't perform one-hot encoding."
      ],
      "metadata": {
        "id": "LFVo4ahs1j8G"
      }
    },
    {
      "cell_type": "code",
      "source": [
        "# Scaling\n",
        "from sklearn.preprocessing import MinMaxScaler\n",
        "scaler = MinMaxScaler()\n",
        "\n",
        "scaler.fit(dy5_dm)\n",
        "dy5_dm_sc = scaler.transform(dy5_dm)\n",
        "\n",
        "dy5_dm_sc = pd.DataFrame(dy5_dm_sc)\n",
        "dy5_dm_sc\n",
        "\n",
        "dy5_dm_sc.columns = dy5_dm.columns"
      ],
      "metadata": {
        "execution": {
          "iopub.status.busy": "2024-01-16T15:35:03.372969Z",
          "iopub.execute_input": "2024-01-16T15:35:03.373473Z",
          "iopub.status.idle": "2024-01-16T15:35:03.389733Z",
          "shell.execute_reply.started": "2024-01-16T15:35:03.373427Z",
          "shell.execute_reply": "2024-01-16T15:35:03.388869Z"
        },
        "trusted": true,
        "id": "iHlHqriv1j8G"
      },
      "execution_count": null,
      "outputs": []
    },
    {
      "cell_type": "code",
      "source": [
        "col = ['HasCrCard', 'IsActiveMember', 'Gender_Male','BalLevel_Mid', 'BalLevel_High']\n",
        "for i in col:\n",
        "    cross_data = pd.crosstab(index = dy5_dm_sc['Exited'], columns = dy5_dm_sc[i],\n",
        "                             margins=False)\n",
        "\n",
        "    from scipy.stats import chi2_contingency\n",
        "    chi2, p, dof, expected = chi2_contingency(cross_data)\n",
        "    msg = 'Test Statistic: {}\\np-value: {}\\nDegree of Freedom: {}'\n",
        "    print(f'<Exited and {i}>')\n",
        "    print(msg.format(chi2, p, dof))\n",
        "    if p < 0.05:\n",
        "        print('dependent')\n",
        "    else:\n",
        "        print('independent')\n",
        "    # print(expected)\n",
        "    print('---------------------------')"
      ],
      "metadata": {
        "execution": {
          "iopub.status.busy": "2024-01-16T15:35:03.391770Z",
          "iopub.execute_input": "2024-01-16T15:35:03.392808Z",
          "iopub.status.idle": "2024-01-16T15:35:03.526685Z",
          "shell.execute_reply.started": "2024-01-16T15:35:03.392763Z",
          "shell.execute_reply": "2024-01-16T15:35:03.525092Z"
        },
        "trusted": true,
        "id": "7I1-7zGD1j8G"
      },
      "execution_count": null,
      "outputs": []
    },
    {
      "cell_type": "markdown",
      "source": [
        "- The following categorical variables were determined to be associated with the Exited variable based on the chi-square analysis.\n",
        "    - IsActiveMember, Gender_Male, BalLevel\n",
        "- Notably, the results of the t-test with Balance as a continuous variable were different from the results of the crosstabulation analysis with Balance as a categorical variable with bins."
      ],
      "metadata": {
        "id": "Sn96mBFo1j8H"
      }
    },
    {
      "cell_type": "markdown",
      "source": [
        "# 4. Regression <a class='anchor' id='ch4'></a>\n",
        "- In the preceding hypothesis testing step, it was verified that each variable did not exert a significant impact on the exit of customers in their 50s.\n",
        "- In order to conduct regression analysis to apply what we've learned, we established a new continuous dependent variable called 'NumOfProducts'.\n",
        "- Since 'Exited,' the primary subject of interest, is a categorical variable, it is emphasized that other testing methods such as the chi-square test should be employed."
      ],
      "metadata": {
        "id": "S3R6ar-d1j8H"
      }
    },
    {
      "cell_type": "code",
      "source": [
        "# Regression on NumOfProducts\n",
        "\n",
        "\n",
        "X1 = dy5_dm_sc[['Age', 'BalLevel_Mid','BalLevel_High',\n",
        "               'Tenure', 'CreditScore']]\n",
        "y = dy5_dm_sc['NumOfProducts']"
      ],
      "metadata": {
        "execution": {
          "iopub.status.busy": "2024-01-16T15:35:03.528246Z",
          "iopub.status.idle": "2024-01-16T15:35:03.529080Z",
          "shell.execute_reply.started": "2024-01-16T15:35:03.528740Z",
          "shell.execute_reply": "2024-01-16T15:35:03.528770Z"
        },
        "trusted": true,
        "id": "XV6qqTm71j8H"
      },
      "execution_count": null,
      "outputs": []
    },
    {
      "cell_type": "code",
      "source": [
        "# Check for multicollinearity\n",
        "from statsmodels.stats.outliers_influence import variance_inflation_factor\n",
        "vif = pd.DataFrame()\n",
        "vif['VIF Factor'] = [variance_inflation_factor(X1.values, i) for i in range(X1.shape[1])]\n",
        "vif['variable'] = X1.columns\n",
        "print(vif)"
      ],
      "metadata": {
        "execution": {
          "iopub.status.busy": "2024-01-16T15:35:03.530758Z",
          "iopub.status.idle": "2024-01-16T15:35:03.531318Z",
          "shell.execute_reply.started": "2024-01-16T15:35:03.531049Z",
          "shell.execute_reply": "2024-01-16T15:35:03.531076Z"
        },
        "trusted": true,
        "id": "L-ajOfuO1j8H"
      },
      "execution_count": null,
      "outputs": []
    },
    {
      "cell_type": "code",
      "source": [
        "import statsmodels.api as sm\n",
        "\n",
        "X1_ad = sm.add_constant(X1)\n",
        "model = sm.OLS(y, X1_ad).fit()\n",
        "print(model.summary())"
      ],
      "metadata": {
        "execution": {
          "iopub.status.busy": "2024-01-16T15:35:03.532728Z",
          "iopub.status.idle": "2024-01-16T15:35:03.533813Z",
          "shell.execute_reply.started": "2024-01-16T15:35:03.533526Z",
          "shell.execute_reply": "2024-01-16T15:35:03.533555Z"
        },
        "trusted": true,
        "id": "KU6c7gs81j8H"
      },
      "execution_count": null,
      "outputs": []
    },
    {
      "cell_type": "markdown",
      "source": [
        "# 5. Conclusion<a class='anchor' id='ch5'></a>\n",
        "- During the correlation visualization, the correlation coefficients between each variable were very low.\n",
        "- The t-test showed that certain continuous variables did not have a significant impact on 50-something disengagement.\n",
        "- The crosstabulation analysis showed that some categorical variables were influential.\n",
        "- A new continuous dependent variable, NumOfProducts, was created to run the regression, but the model was not statistically significant, making it difficult to explain the relationship between each variable."
      ],
      "metadata": {
        "id": "hwRv1anQ1j8I"
      }
    },
    {
      "cell_type": "markdown",
      "source": [
        "Banks are currently suffering from a large number of customer churn, resulting in a loss of trust and reduced revenues. In addition, the reduced likelihood of new product and event success due to a lack of active customers can have a significant impact on a bank's long-term growth strategy.\n",
        "In particular, the loss of customers in the 50s and older, who tend to have higher balances and average annual salaries than other customers, can lead to a decrease in funding for the bank and a decrease in competitiveness.\n",
        "\n",
        "Solutions include:\n",
        "\n",
        "- Country-specific marketing\n",
        "    - For example, offering cash back on beer for German customers.\n",
        "    - Expected effect: Drive customer engagement, increase brand loyalty, and gain favorable perception against competitors.\n",
        "\n",
        "- Leverage local flavor\n",
        "    - You can organize a festival in collaboration with the local community.\n",
        "    - Expected outcomes: Engage customers, strengthen brand image, build customer loyalty and long-term relationships\n",
        "\n",
        "- Make banking affordable and easy for low-balance customers\n",
        "    - Minimize the financial burden of low-balance customers due to their high churn rate.\n",
        "    - Expected impact: Reduced financial burden, increased access to banking services, and attracted new customers\n",
        "\n",
        "- Launch a product with higher interest on deposits\n",
        "    - Reduce customer churn, increase retention, and attract new members by launching a product that offers higher interest on deposits, regardless of balance.\n",
        "    - Expected impact: Reduced churn, increased retention, and an edge over competing banks.\n",
        "\n",
        "- Offer retirement and pension management consulting\n",
        "    - Tailor services for customers in their 50s and beyond to reduce churn among customers in their 50s, a group with a high churn rate, and attract new members.\n",
        "    - Expected impact: Reducing customers' financial anxiety, building trust, increasing customer loyalty and bank credibility."
      ],
      "metadata": {
        "id": "GPWS5iqy1j8I"
      }
    },
    {
      "cell_type": "markdown",
      "source": [
        "# 6. Project Evaluation <a class='anchor' id='ch6'></a>\n",
        "\n",
        "- Disappointments\n",
        "    - We did not establish a direction and plan for data analysis at the beginning, so it took a lot of time to analyze and verify various variables.\n",
        "\n",
        "    - We selected 50 customers with high churn rate to analyze, but there is a regret that we did not find very close variables and focused too much on churn rate.\n",
        "\n",
        "- Lessons learned\n",
        "    - We liked the process of solving the project through collaboration and communication with our teammates, and it was a good growth process to review and understand what we learned.\n",
        "\n",
        "    - Even though it was a small project, it was good to have this experience and it will help us in future projects."
      ],
      "metadata": {
        "id": "QltTF-tc1j8I"
      }
    }
  ]
}