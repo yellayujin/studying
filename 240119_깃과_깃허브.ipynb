{
  "nbformat": 4,
  "nbformat_minor": 0,
  "metadata": {
    "colab": {
      "provenance": [],
      "authorship_tag": "ABX9TyPXg+hk8YHpYXHc4xTg9+BQ",
      "include_colab_link": true
    },
    "kernelspec": {
      "name": "python3",
      "display_name": "Python 3"
    },
    "language_info": {
      "name": "python"
    }
  },
  "cells": [
    {
      "cell_type": "markdown",
      "metadata": {
        "id": "view-in-github",
        "colab_type": "text"
      },
      "source": [
        "<a href=\"https://colab.research.google.com/github/yellayujin/studying/blob/main/240119_%EA%B9%83%EA%B3%BC_%EA%B9%83%ED%97%88%EB%B8%8C.ipynb\" target=\"_parent\"><img src=\"https://colab.research.google.com/assets/colab-badge.svg\" alt=\"Open In Colab\"/></a>"
      ]
    },
    {
      "cell_type": "markdown",
      "source": [
        "회사에서 새 프로젝트를 시작할 때, 깃과 깃허브 모두 세팅하고 진행한다고 가정하자.\n",
        "- -- 새 PC를 배정받은 후,--\n",
        "- 1. 개발 환경 세팅: Anaconda or Python 개발 환경\n",
        "- 2. 깃 설치, 소스트리 설치 & 깃허브 가입(회사에서 할 땐 새 아이디로 추천)\n",
        "- 3. 깃허브와 소스트리의 연동(HTTPS)\n",
        "\n",
        "- -- 프로젝트마다 --\n",
        "- 1. 깃허브에 저장소(깃허브의 리포지토리와 동일하게) 생성+ 더미파일 생성(아무 의미 없는 파일로 확인용, 깃허브에서 생성해보길)\n",
        "- 2. 깃과 소스트리를 클론(C:/gitStudy/리포지토리명)\n",
        "- 3. 확인하기\n",
        "\n",
        "- -- 매일 작업 --\n",
        "- 1. PC에서 코딩하기(=작업 디렉토리에 변경사항 생성)\n",
        "- 2. 스테이지-> 저장소로 커밋하기(커밋시 제목 쓰고 본문에 커밋 내용 쓰기)\n",
        "- 3. PC의 커밋을 깃허브에 푸쉬(Push)  - 이거 안 하면 컴퓨터 죽으면 자료 다 죽음\n",
        "\n"
      ],
      "metadata": {
        "id": "xXcQO0_eVdIW"
      }
    },
    {
      "cell_type": "markdown",
      "source": [
        "깃으로만(PC에서만) 진행하던 프로젝트가 있다. 이제부터 깃허브로도 설정해서 백업하자.\n",
        "- -- 깃허브 백업을 결청하고 1회 --\n",
        "- 1.깃허브 가입(새 계정)\n",
        "- 2. 깃허브와 소스트리의 연동(HTTPS)\n",
        "- -- 프로젝트마다 1회 --\n",
        "- 1. (깃허브) 완전 빈 저장소를 생성 + 더미파일 X\n",
        "  - 깃허브 저장소 주소를 복사\n",
        "- 2. PC에서 기존 깃 프로젝트에서 깃허브의 경로를 추가\n",
        "  - 설정->origin(=깃허브) 추가(클론 절대 아님!! 기존 것 날아갈 수 있음)\n",
        "- 3. (PC) 푸쉬하기\n"
      ],
      "metadata": {
        "id": "1jLR3PmTbk2r"
      }
    }
  ]
}