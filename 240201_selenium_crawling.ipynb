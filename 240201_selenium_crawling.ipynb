{
  "cells": [
    {
      "cell_type": "markdown",
      "metadata": {
        "id": "view-in-github",
        "colab_type": "text"
      },
      "source": [
        "<a href=\"https://colab.research.google.com/github/yellayujin/studying/blob/main/240201_selenium_crawling.ipynb\" target=\"_parent\"><img src=\"https://colab.research.google.com/assets/colab-badge.svg\" alt=\"Open In Colab\"/></a>"
      ]
    },
    {
      "cell_type": "code",
      "execution_count": null,
      "id": "9e43d590-fe60-4de8-ba69-de82a05b7220",
      "metadata": {
        "id": "9e43d590-fe60-4de8-ba69-de82a05b7220"
      },
      "outputs": [],
      "source": [
        "# 셀레니움: 드라이버 필요(강사 블로그 참고)\n",
        "# https://dschloe.github.io/settings/2023/8/chrome_driver_settings_windows/\n",
        "# 버전 맞춰줘야하는 게 좀 번거로움\n",
        "# 크롬 드라이버의 장점: 동적으로 변화는 데이터(실시간 검색어 등)에 대해서도 다루기 쉬움\n",
        "\n",
        "# 실제로 크롤링이 되는지 테스트\n",
        "import selenium\n",
        "# print(selenium.__version__)\n",
        "\n",
        "URL = 'https://signal.bz/news'"
      ]
    },
    {
      "cell_type": "code",
      "execution_count": null,
      "id": "35a9a770-3eef-4b89-9fda-2720a963824a",
      "metadata": {
        "id": "35a9a770-3eef-4b89-9fda-2720a963824a"
      },
      "outputs": [],
      "source": [
        "# 크롬 드라이버 세팅\n",
        "# 아까 만든 drivers 폴더에 드라이버 설치했었음\n",
        "from selenium import webdriver\n",
        "from selenium.webdriver.chrome.service import Service\n",
        "from selenium.webdriver.common.by import By\n",
        "\n",
        "CHROME_DRIVER_PATH = './drivers/chromedriver.exe'\n",
        "service = Service(executable_path=CHROME_DRIVER_PATH)\n",
        "options = webdriver.ChromeOptions()\n",
        "driver = webdriver.Chrome(service=service, options=options)\n",
        "\n",
        "URL='https://signal.bz/news'\n",
        "driver.get(url=URL)     # 이제 창이 하나 열립니당\n"
      ]
    },
    {
      "cell_type": "code",
      "execution_count": null,
      "id": "308cdc10-d95b-4976-8883-4e47b83ef629",
      "metadata": {
        "id": "308cdc10-d95b-4976-8883-4e47b83ef629"
      },
      "outputs": [],
      "source": [
        "# driver.quit()  # 실행되어있는 창 종료됨(맨 마지막에 사용하면 됨)"
      ]
    },
    {
      "cell_type": "code",
      "execution_count": null,
      "id": "801b5db3-d3fe-4307-842e-9c4b1df0e85d",
      "metadata": {
        "id": "801b5db3-d3fe-4307-842e-9c4b1df0e85d"
      },
      "outputs": [],
      "source": [
        "# 실시간 검색어 부분을 가져오자!\n",
        "# 검사 -> 원하는 부분 -> 태그 우클릭 -> copy selector\n",
        "# 원하는 부분이 rank-text로 묶여있음\n",
        "driver.find_elements(By.CSS_SELECTOR, CSS_PATH)\n",
        "CSS_PATH = '#app > div > main > div > section > div > section > section:nth-child(2) > div:nth-child(2) > div > div:nth-child(1) > div:nth-child(3) > a > span.rank-text'\n",
        "CSS_PATH1 = '#app > div > main > div > section > div > section > section:nth-child(2) > div:nth-child(2) > div > div:nth-child(2) > div:nth-child(2) > a > span.rank-text'"
      ]
    },
    {
      "cell_type": "code",
      "execution_count": null,
      "id": "7443240f-51db-46f3-8c57-5237ec6e0abd",
      "metadata": {
        "id": "7443240f-51db-46f3-8c57-5237ec6e0abd"
      },
      "outputs": [],
      "source": [
        "# 아래 주소에서 rank-column부분이 nth-child, (1)이 첫 번째, (2)가 두 번째.\n",
        " # 그 하위에서 또 nth-child 있음 (가지쳐지는 형식): 구조 파악해야\n",
        "CSS_PATH = '#app > div > main > div > section > div > section > section:nth-child(2) > div:nth-child(2) > div > div:nth-child(1) > div:nth-child(3) > a > span.rank-text'"
      ]
    },
    {
      "cell_type": "code",
      "execution_count": null,
      "id": "8c8a7f47-b08b-4663-8c7e-5f631a4c799d",
      "metadata": {
        "id": "8c8a7f47-b08b-4663-8c7e-5f631a4c799d",
        "outputId": "a254f5d6-7aa8-442e-c6b2-774c4012f7cd"
      },
      "outputs": [
        {
          "name": "stdout",
          "output_type": "stream",
          "text": [
            "\n",
            "[]\n"
          ]
        }
      ],
      "source": [
        "# 내가 원하는 부분 뽑는 방법: 1. 이중 for문  2. 아래 코드\n",
        " # 원리는 find_all()과 동일함\n",
        "CSS_PATH = '#app > div > main > div > section > div > section > section:nth-child(2) > div:nth-child(2) > div > div > div > a > span.rank-text'\n",
        "\n",
        "result = driver.find_elements(By.CSS_SELECTOR, CSS_PATH)\n",
        "sln_list = []\n",
        "for result in result:\n",
        "    print(result.text)\n",
        "    sln_list.append(result.text)\n",
        "print(\"\")\n",
        "print(sln_list)"
      ]
    },
    {
      "cell_type": "code",
      "execution_count": null,
      "id": "1349e08f-3fc9-4ab9-af22-17ee58bbaa52",
      "metadata": {
        "id": "1349e08f-3fc9-4ab9-af22-17ee58bbaa52"
      },
      "outputs": [],
      "source": [
        "CHROME_DRIVER_PATH = './drivers/chromedriver.exe'\n",
        "service = Service(executable_path=CHROME_DRIVER_PATH)\n",
        "options = webdriver.ChromeOptions()\n",
        "driver = webdriver.Chrome(service=service, options=options)\n",
        "\n",
        "URL='https://nate.com'\n",
        "driver.get(url=URL)"
      ]
    },
    {
      "cell_type": "code",
      "execution_count": null,
      "id": "8ee1d782-c8fb-4dba-b6e8-e51b979c601b",
      "metadata": {
        "id": "8ee1d782-c8fb-4dba-b6e8-e51b979c601b",
        "outputId": "bceb16ac-2ec7-4c22-d040-7bb37820eb85"
      },
      "outputs": [
        {
          "name": "stdout",
          "output_type": "stream",
          "text": [
            "제22대 모의개표\n",
            "카카오엔터 파워 선정\n",
            "주호민 특수교사 유죄\n",
            "이태원참사 특별법 거부\n",
            "전청조 남현희 사랑해\n",
            "\n",
            "['제22대 모의개표', '카카오엔터 파워 선정', '주호민 특수교사 유죄', '이태원참사 특별법 거부', '전청조 남현희 사랑해']\n"
          ]
        }
      ],
      "source": [
        "# 5개 출력해보기\n",
        "driver.find_elements(By.CSS_SELECTOR, CSS_PATH)\n",
        "CSS_PATH = 'li > a > span.txt_rank'\n",
        "\n",
        "result = driver.find_elements(By.CSS_SELECTOR, CSS_PATH)\n",
        "sln_list = []\n",
        "\n",
        "for result in result:\n",
        "    print(result.text.strip('\\n'))\n",
        "    sln_list.append(result.text)\n",
        "\n",
        "print(\"\")\n",
        "print(sln_list)"
      ]
    },
    {
      "cell_type": "code",
      "execution_count": null,
      "id": "0aae1ded-e1e8-4f53-bd96-9f522fb1e4a8",
      "metadata": {
        "id": "0aae1ded-e1e8-4f53-bd96-9f522fb1e4a8",
        "outputId": "672a37a5-0fc6-4bbf-8cb8-3a0e14eff2bb"
      },
      "outputs": [
        {
          "name": "stdout",
          "output_type": "stream",
          "text": [
            "\n"
          ]
        },
        {
          "data": {
            "text/html": [
              "<div>\n",
              "<style scoped>\n",
              "    .dataframe tbody tr th:only-of-type {\n",
              "        vertical-align: middle;\n",
              "    }\n",
              "\n",
              "    .dataframe tbody tr th {\n",
              "        vertical-align: top;\n",
              "    }\n",
              "\n",
              "    .dataframe thead th {\n",
              "        text-align: right;\n",
              "    }\n",
              "</style>\n",
              "<table border=\"1\" class=\"dataframe\">\n",
              "  <thead>\n",
              "    <tr style=\"text-align: right;\">\n",
              "      <th></th>\n",
              "      <th>0</th>\n",
              "    </tr>\n",
              "  </thead>\n",
              "  <tbody>\n",
              "    <tr>\n",
              "      <th>0</th>\n",
              "      <td>화재 한동훈 비대위원장</td>\n",
              "    </tr>\n",
              "    <tr>\n",
              "      <th>1</th>\n",
              "      <td>흉기난동 최원종 무기징역</td>\n",
              "    </tr>\n",
              "    <tr>\n",
              "      <th>2</th>\n",
              "      <td>마동석 프로필 아이디어</td>\n",
              "    </tr>\n",
              "    <tr>\n",
              "      <th>3</th>\n",
              "      <td>중대재해처벌법 유예 반대</td>\n",
              "    </tr>\n",
              "    <tr>\n",
              "      <th>4</th>\n",
              "      <td>제22대 모의개표</td>\n",
              "    </tr>\n",
              "    <tr>\n",
              "      <th>5</th>\n",
              "      <td>이태원참사 특별법 거부</td>\n",
              "    </tr>\n",
              "    <tr>\n",
              "      <th>6</th>\n",
              "      <td>김성수 카카오엔터 대표</td>\n",
              "    </tr>\n",
              "    <tr>\n",
              "      <th>7</th>\n",
              "      <td>주호민 특수교사 유죄</td>\n",
              "    </tr>\n",
              "    <tr>\n",
              "      <th>8</th>\n",
              "      <td>2심서 파기 환송</td>\n",
              "    </tr>\n",
              "    <tr>\n",
              "      <th>9</th>\n",
              "      <td>김용 위증교사 이재명</td>\n",
              "    </tr>\n",
              "  </tbody>\n",
              "</table>\n",
              "</div>"
            ],
            "text/plain": [
              "               0\n",
              "0   화재 한동훈 비대위원장\n",
              "1  흉기난동 최원종 무기징역\n",
              "2   마동석 프로필 아이디어\n",
              "3  중대재해처벌법 유예 반대\n",
              "4      제22대 모의개표\n",
              "5   이태원참사 특별법 거부\n",
              "6   김성수 카카오엔터 대표\n",
              "7    주호민 특수교사 유죄\n",
              "8      2심서 파기 환송\n",
              "9    김용 위증교사 이재명"
            ]
          },
          "execution_count": 71,
          "metadata": {},
          "output_type": "execute_result"
        }
      ],
      "source": [
        "# 10개 출력 도전!\n",
        "import pandas as pd\n",
        "import time\n",
        "driver.find_elements(By.CSS_SELECTOR, CSS_PATH)\n",
        "CSS_PATH = 'li > a > span.txt_rank'\n",
        "\n",
        "result = driver.find_elements(By.CSS_SELECTOR, CSS_PATH)\n",
        "sln_list = []\n",
        "\n",
        "for result in result:\n",
        "    sln_list.append(result.text)\n",
        "    if len(sln_list) == 5:\n",
        "        time.sleep(12)   # 적절한 숫자로 조정\n",
        "        driver.refresh()\n",
        "        result = driver.find_elements(By.CSS_SELECTOR, CSS_PATH)\n",
        "        for result in result:\n",
        "            sln_list.append(result.text.strip('\\n'))\n",
        "\n",
        "print(\"\")\n",
        "pd.DataFrame(sln_list)"
      ]
    },
    {
      "cell_type": "code",
      "execution_count": null,
      "id": "ebd4393a-82a0-4866-a714-ff0469a66654",
      "metadata": {
        "id": "ebd4393a-82a0-4866-a714-ff0469a66654"
      },
      "outputs": [],
      "source": [
        "CHROME_DRIVER_PATH = './drivers/chromedriver.exe'\n",
        "service = Service(executable_path=CHROME_DRIVER_PATH)\n",
        "options = webdriver.ChromeOptions()\n",
        "driver = webdriver.Chrome(service=service, options=options)\n",
        "\n",
        "URL='https://www.ppomppu.co.kr/zboard/zboard.php?id=ppomppu&page=1&divpage=85'\n",
        "driver.get(url=URL)"
      ]
    },
    {
      "cell_type": "code",
      "execution_count": null,
      "id": "9798db39-fe46-46b8-bfca-c791a1da8a90",
      "metadata": {
        "id": "9798db39-fe46-46b8-bfca-c791a1da8a90",
        "outputId": "84388076-87bd-4916-c994-fdea9d6f3d1d"
      },
      "outputs": [
        {
          "name": "stdout",
          "output_type": "stream",
          "text": [
            "\n"
          ]
        },
        {
          "data": {
            "text/html": [
              "<div>\n",
              "<style scoped>\n",
              "    .dataframe tbody tr th:only-of-type {\n",
              "        vertical-align: middle;\n",
              "    }\n",
              "\n",
              "    .dataframe tbody tr th {\n",
              "        vertical-align: top;\n",
              "    }\n",
              "\n",
              "    .dataframe thead th {\n",
              "        text-align: right;\n",
              "    }\n",
              "</style>\n",
              "<table border=\"1\" class=\"dataframe\">\n",
              "  <thead>\n",
              "    <tr style=\"text-align: right;\">\n",
              "      <th></th>\n",
              "      <th>0</th>\n",
              "    </tr>\n",
              "  </thead>\n",
              "  <tbody>\n",
              "    <tr>\n",
              "      <th>0</th>\n",
              "      <td>[지마켓] HP 프로북 455G109F1G9PT (429,420/무료)</td>\n",
              "    </tr>\n",
              "    <tr>\n",
              "      <th>1</th>\n",
              "      <td>[G마켓]버버리 CANNON 나일론 남여공용 벨트백 블랙 그레이 80528871 명...</td>\n",
              "    </tr>\n",
              "    <tr>\n",
              "      <th>2</th>\n",
              "      <td>[지마켓]모바타 프로페셔널 대용량 약산성 미용실 샴푸 1000ml(17,340원/무배)</td>\n",
              "    </tr>\n",
              "    <tr>\n",
              "      <th>3</th>\n",
              "      <td>[티몬] 교보문고 구독서비스 sam 4개월, 6개월 구독권 (17,820원 / 무료배송)</td>\n",
              "    </tr>\n",
              "    <tr>\n",
              "      <th>4</th>\n",
              "      <td>[위메프] 남자 기모타이즈 3개 (9,270원/무료)</td>\n",
              "    </tr>\n",
              "  </tbody>\n",
              "</table>\n",
              "</div>"
            ],
            "text/plain": [
              "                                                   0\n",
              "0            [지마켓] HP 프로북 455G109F1G9PT (429,420/무료)\n",
              "1  [G마켓]버버리 CANNON 나일론 남여공용 벨트백 블랙 그레이 80528871 명...\n",
              "2   [지마켓]모바타 프로페셔널 대용량 약산성 미용실 샴푸 1000ml(17,340원/무배)\n",
              "3  [티몬] 교보문고 구독서비스 sam 4개월, 6개월 구독권 (17,820원 / 무료배송)\n",
              "4                      [위메프] 남자 기모타이즈 3개 (9,270원/무료)"
            ]
          },
          "execution_count": 129,
          "metadata": {},
          "output_type": "execute_result"
        }
      ],
      "source": [
        "# 핫딜 csv\n",
        "# idea: 상품명 리스트 만들고, 주소 리스트 만들고 후에 둘 붙여넣기\n",
        " # 주의: 첫 페이지의 사이트 구조와 두 번째부터의 사이트 구조가 약간 상이함\n",
        "CSS_PATH = '#revolution_main_table > tbody > tr > td:nth-child(3) > table > tbody > tr > td:nth-child(2) > div > a > font'\n",
        "\n",
        "result = driver.find_elements(By.CSS_SELECTOR, CSS_PATH)\n",
        "\n",
        "sln_list = []\n",
        "for result in result:\n",
        "    # print(result.text)\n",
        "    sln_list.append(result.text)\n",
        "    if len(sln_list) == 20:   # 밑에는 쿠폰, 포럼영역이라 뺐음\n",
        "        break\n",
        "\n",
        "print(\"\")\n",
        "data1 = pd.DataFrame(sln_list)\n",
        "data1.head()"
      ]
    },
    {
      "cell_type": "code",
      "execution_count": null,
      "id": "1384b950-2452-4d6a-8c81-f0e250ac431c",
      "metadata": {
        "id": "1384b950-2452-4d6a-8c81-f0e250ac431c",
        "outputId": "e21ee839-9051-4134-e0ab-6931b00e1fc9"
      },
      "outputs": [
        {
          "name": "stdout",
          "output_type": "stream",
          "text": [
            "[<selenium.webdriver.remote.webelement.WebElement (session=\"accb63cf1d4f6e961e2d94df29cf5ff9\", element=\"36FE4C3FA7BA60D4262EB4260AAED314_element_6053\")>]\n",
            "\n"
          ]
        },
        {
          "data": {
            "text/html": [
              "<div>\n",
              "<style scoped>\n",
              "    .dataframe tbody tr th:only-of-type {\n",
              "        vertical-align: middle;\n",
              "    }\n",
              "\n",
              "    .dataframe tbody tr th {\n",
              "        vertical-align: top;\n",
              "    }\n",
              "\n",
              "    .dataframe thead th {\n",
              "        text-align: right;\n",
              "    }\n",
              "</style>\n",
              "<table border=\"1\" class=\"dataframe\">\n",
              "  <thead>\n",
              "    <tr style=\"text-align: right;\">\n",
              "      <th></th>\n",
              "      <th>0</th>\n",
              "    </tr>\n",
              "  </thead>\n",
              "  <tbody>\n",
              "    <tr>\n",
              "      <th>0</th>\n",
              "      <td>[G마켓/역대가] LG 32GP750 (36.9만), 32GQ950 (109.9만)...</td>\n",
              "    </tr>\n",
              "  </tbody>\n",
              "</table>\n",
              "</div>"
            ],
            "text/plain": [
              "                                                   0\n",
              "0  [G마켓/역대가] LG 32GP750 (36.9만), 32GQ950 (109.9만)..."
            ]
          },
          "execution_count": 124,
          "metadata": {},
          "output_type": "execute_result"
        }
      ],
      "source": [
        "CSS_PATH = '#revolution_main_table > tbody > tr:nth-child(52) > td:nth-child(3) > table > tbody > tr > td:nth-child(2) > div '\n",
        "\n",
        "result = driver.find_elements(By.CSS_SELECTOR, CSS_PATH)\n",
        "print(result)\n",
        "\n",
        "sln_list = []\n",
        "for result in result:\n",
        "    # print(result.text)\n",
        "    sln_list.append(result.text)\n",
        "    if len(sln_list) == 25:\n",
        "        break\n",
        "\n",
        "print(\"\")\n",
        "pd.DataFrame(sln_list)"
      ]
    },
    {
      "cell_type": "code",
      "execution_count": null,
      "id": "850389e3-d25c-4b7d-9f60-1257e9d5db9c",
      "metadata": {
        "id": "850389e3-d25c-4b7d-9f60-1257e9d5db9c",
        "outputId": "02e33089-3660-4c8e-d528-e6d636528e90"
      },
      "outputs": [
        {
          "name": "stdout",
          "output_type": "stream",
          "text": [
            "https://www.ppomppu.co.kr/zboard/zboard.php?id=ppomppu&page=2&divpage=85\n",
            "https://www.ppomppu.co.kr/zboard/zboard.php?id=ppomppu&page=3&divpage=85\n",
            "https://www.ppomppu.co.kr/zboard/zboard.php?id=ppomppu&page=4&divpage=85\n",
            "https://www.ppomppu.co.kr/zboard/zboard.php?id=ppomppu&page=5&divpage=85\n",
            "https://www.ppomppu.co.kr/zboard/zboard.php?id=ppomppu&page=6&divpage=85\n",
            "https://www.ppomppu.co.kr/zboard/zboard.php?id=ppomppu&page=7&divpage=85\n",
            "https://www.ppomppu.co.kr/zboard/zboard.php?id=ppomppu&page=8&divpage=85\n",
            "https://www.ppomppu.co.kr/zboard/zboard.php?id=ppomppu&page=9&divpage=85\n"
          ]
        }
      ],
      "source": [
        "# 강사\n",
        "from selenium import webdriver\n",
        "from selenium.webdriver.chrome.service import Service\n",
        "from selenium.webdriver.common.by import By\n",
        "import pandas as pd\n",
        "import time\n",
        "import random\n",
        "\n",
        "def page1_crawling(driver):\n",
        "    titles = []\n",
        "    urls = []\n",
        "    start_num = 9\n",
        "    end_num = 47\n",
        "    for i in range(start_num, end_num + 1, 2):\n",
        "        title_css_path = '#revolution_main_table > tbody > tr:nth-child(' + str(i) + ') > td:nth-child(3) > table > tbody > tr > td:nth-child(2) > div > a > font'\n",
        "        titles.append(driver.find_element(By.CSS_SELECTOR, title_css_path).text)\n",
        "\n",
        "        url_css_path = '#revolution_main_table > tbody > tr:nth-child(' + str(i) + ') > td:nth-child(3) > table > tbody > tr > td:nth-child(2) > div > a'\n",
        "        urls.append(driver.find_element(By.CSS_SELECTOR, url_css_path).get_attribute('href'))\n",
        "\n",
        "    return pd.DataFrame({\"title\": titles, \"urls\": urls})\n",
        "\n",
        "def other_crawling(driver):\n",
        "    titles = []\n",
        "    urls = []\n",
        "    start_num = 6\n",
        "    end_num = 44\n",
        "    #revolution_main_table > tbody > tr:nth-child(6) > td:nth-child(3) > table > tbody > tr > td:nth-child(2) > div > a > font\n",
        "    #revolution_main_table > tbody > tr:nth-child(8) > td:nth-child(3) > table > tbody > tr > td:nth-child(2) > div > a > font\n",
        "    #revolution_main_table > tbody > tr:nth-child(44) > td:nth-child(3) > table > tbody > tr > td:nth-child(2) > div > a > font\n",
        "    for i in range(start_num, end_num + 1, 2):\n",
        "        title_css_path = '#revolution_main_table > tbody > tr:nth-child(' + str(i) + ') > td:nth-child(3) > table > tbody > tr > td:nth-child(2) > div > a > font'\n",
        "        titles.append(driver.find_element(By.CSS_SELECTOR, title_css_path).text)\n",
        "\n",
        "        url_css_path = '#revolution_main_table > tbody > tr:nth-child(' + str(i) + ') > td:nth-child(3) > table > tbody > tr > td:nth-child(2) > div > a'\n",
        "        urls.append(driver.find_element(By.CSS_SELECTOR, url_css_path).get_attribute('href'))\n",
        "\n",
        "    return pd.DataFrame({\"title\": titles, \"urls\": urls})\n",
        "\n",
        "def main():\n",
        "    CHROME_DRIVER_PATH = './drivers/chromedriver.exe'\n",
        "    service = Service(executable_path=CHROME_DRIVER_PATH)\n",
        "    options = webdriver.ChromeOptions()\n",
        "    driver = webdriver.Chrome(service=service, options=options)\n",
        "\n",
        "    URL = 'https://www.ppomppu.co.kr/zboard/zboard.php?id=ppomppu&page=1&divpage=85'\n",
        "    driver.get(url=URL)\n",
        "    df = page1_crawling(driver)\n",
        "    for i in range(2, 10):\n",
        "        URL = 'https://www.ppomppu.co.kr/zboard/zboard.php?id=ppomppu&page='+ str(i) + '&divpage=85'\n",
        "        print(URL)\n",
        "        driver.get(url=URL)\n",
        "        df = pd.concat([df, other_crawling(driver)], ignore_index=True)\n",
        "        time.sleep(random.uniform(2, 5))   # 2 ~ 5초 무작위로 설정\n",
        "\n",
        "    df.to_csv(\"핫딜.csv\", index=False)\n",
        "    driver.quit()\n",
        "\n",
        "if __name__ == \"__main__\":\n",
        "    main()"
      ]
    },
    {
      "cell_type": "code",
      "execution_count": null,
      "id": "a12a429c-4178-4a32-8fbb-067f5264ecb9",
      "metadata": {
        "id": "a12a429c-4178-4a32-8fbb-067f5264ecb9"
      },
      "outputs": [],
      "source": []
    }
  ],
  "metadata": {
    "kernelspec": {
      "display_name": "Python 3 (ipykernel)",
      "language": "python",
      "name": "python3"
    },
    "language_info": {
      "codemirror_mode": {
        "name": "ipython",
        "version": 3
      },
      "file_extension": ".py",
      "mimetype": "text/x-python",
      "name": "python",
      "nbconvert_exporter": "python",
      "pygments_lexer": "ipython3",
      "version": "3.11.4"
    },
    "colab": {
      "provenance": [],
      "include_colab_link": true
    }
  },
  "nbformat": 4,
  "nbformat_minor": 5
}