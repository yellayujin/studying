{
  "cells": [
    {
      "cell_type": "markdown",
      "metadata": {
        "id": "view-in-github",
        "colab_type": "text"
      },
      "source": [
        "<a href=\"https://colab.research.google.com/github/yellayujin/studying/blob/main/240221_ML4(%EB%B9%85%EB%B6%84%EA%B8%B0_%EC%97%B0%EC%8A%B5).ipynb\" target=\"_parent\"><img src=\"https://colab.research.google.com/assets/colab-badge.svg\" alt=\"Open In Colab\"/></a>"
      ]
    },
    {
      "cell_type": "markdown",
      "id": "7ae9de36-f027-4951-af3e-45eaabe14f74",
      "metadata": {
        "id": "7ae9de36-f027-4951-af3e-45eaabe14f74"
      },
      "source": [
        "## 문제 1.\n",
        "- 다음은 E-Commerce Shipping 데이터 세트이다. 주어진 훈련 데이터 세트를 활용하여 고객이 주문한 물품의 정시 도착 여부를 예측하고 해당 예측 결과를 csv 파일로 제출하시오.\n",
        "- 결과 예측 양식 : 제출한 예측값의 ROC_AUC 점수 결과를 통해 영역별 배점에 따라 최종 점수가 반영될 예정"
      ]
    },
    {
      "cell_type": "code",
      "execution_count": null,
      "id": "6cc5e026-b580-4eb6-b736-dba7466efc76",
      "metadata": {
        "id": "6cc5e026-b580-4eb6-b736-dba7466efc76",
        "outputId": "7351d2cd-c9c6-4220-f1b0-612a5debf598"
      },
      "outputs": [
        {
          "data": {
            "text/html": [
              "<div>\n",
              "<style scoped>\n",
              "    .dataframe tbody tr th:only-of-type {\n",
              "        vertical-align: middle;\n",
              "    }\n",
              "\n",
              "    .dataframe tbody tr th {\n",
              "        vertical-align: top;\n",
              "    }\n",
              "\n",
              "    .dataframe thead th {\n",
              "        text-align: right;\n",
              "    }\n",
              "</style>\n",
              "<table border=\"1\" class=\"dataframe\">\n",
              "  <thead>\n",
              "    <tr style=\"text-align: right;\">\n",
              "      <th></th>\n",
              "      <th>ID</th>\n",
              "      <th>y_pred</th>\n",
              "    </tr>\n",
              "  </thead>\n",
              "  <tbody>\n",
              "    <tr>\n",
              "      <th>0</th>\n",
              "      <td>0</td>\n",
              "      <td>0.2543</td>\n",
              "    </tr>\n",
              "    <tr>\n",
              "      <th>1</th>\n",
              "      <td>1</td>\n",
              "      <td>0.1324</td>\n",
              "    </tr>\n",
              "    <tr>\n",
              "      <th>2</th>\n",
              "      <td>2</td>\n",
              "      <td>0.5892</td>\n",
              "    </tr>\n",
              "  </tbody>\n",
              "</table>\n",
              "</div>"
            ],
            "text/plain": [
              "   ID  y_pred\n",
              "0   0  0.2543\n",
              "1   1  0.1324\n",
              "2   2  0.5892"
            ]
          },
          "execution_count": 2,
          "metadata": {},
          "output_type": "execute_result"
        }
      ],
      "source": [
        "import pandas as pd\n",
        "pd.DataFrame({\n",
        "    \"ID\"  : [0, 1, 2],\n",
        "    \"y_pred\" : [0.2543, 0.1324, 0.5892]\n",
        "})"
      ]
    },
    {
      "cell_type": "markdown",
      "id": "08823c72-8617-418a-ba54-263082740f80",
      "metadata": {
        "id": "08823c72-8617-418a-ba54-263082740f80"
      },
      "source": [
        "## 데이터 불러오기"
      ]
    },
    {
      "cell_type": "code",
      "execution_count": null,
      "id": "890a4b01-c211-4a9a-9792-6b578f1f3d01",
      "metadata": {
        "id": "890a4b01-c211-4a9a-9792-6b578f1f3d01"
      },
      "outputs": [],
      "source": [
        "import pandas as pd\n",
        "X_test = pd.read_csv(\"data/data/2회/204_x_test.csv\")\n",
        "X_train = pd.read_csv(\"data/data/2회/204_x_train.csv\")\n",
        "y_train = pd.read_csv(\"data/data/2회/204_y_train.csv\")"
      ]
    },
    {
      "cell_type": "code",
      "execution_count": null,
      "id": "33af170b-54f3-4ce6-b757-826fac6924b7",
      "metadata": {
        "id": "33af170b-54f3-4ce6-b757-826fac6924b7",
        "outputId": "e5eba614-bbf1-4fa4-9900-b2b9cb7b4bb1"
      },
      "outputs": [
        {
          "name": "stdout",
          "output_type": "stream",
          "text": [
            "<class 'pandas.core.frame.DataFrame'>\n",
            "RangeIndex: 6599 entries, 0 to 6598\n",
            "Data columns (total 2 columns):\n",
            " #   Column               Non-Null Count  Dtype\n",
            "---  ------               --------------  -----\n",
            " 0   ID                   6599 non-null   int64\n",
            " 1   Reached.on.Time_Y.N  6599 non-null   int64\n",
            "dtypes: int64(2)\n",
            "memory usage: 103.2 KB\n"
          ]
        }
      ],
      "source": [
        "y_train.info()"
      ]
    },
    {
      "cell_type": "markdown",
      "id": "4fe34222-4ae2-41d9-8304-1aa45f084bdc",
      "metadata": {
        "id": "4fe34222-4ae2-41d9-8304-1aa45f084bdc"
      },
      "source": [
        "## 데이터 정보"
      ]
    },
    {
      "cell_type": "code",
      "execution_count": null,
      "id": "6a5c38f4-e8fa-4bc5-a0ab-47a17822249a",
      "metadata": {
        "id": "6a5c38f4-e8fa-4bc5-a0ab-47a17822249a",
        "outputId": "5b2b4d13-2423-4589-ae3d-cc42c5d573a2"
      },
      "outputs": [
        {
          "data": {
            "text/html": [
              "<div>\n",
              "<style scoped>\n",
              "    .dataframe tbody tr th:only-of-type {\n",
              "        vertical-align: middle;\n",
              "    }\n",
              "\n",
              "    .dataframe tbody tr th {\n",
              "        vertical-align: top;\n",
              "    }\n",
              "\n",
              "    .dataframe thead th {\n",
              "        text-align: right;\n",
              "    }\n",
              "</style>\n",
              "<table border=\"1\" class=\"dataframe\">\n",
              "  <thead>\n",
              "    <tr style=\"text-align: right;\">\n",
              "      <th></th>\n",
              "      <th>변수</th>\n",
              "      <th>설명</th>\n",
              "    </tr>\n",
              "  </thead>\n",
              "  <tbody>\n",
              "    <tr>\n",
              "      <th>0</th>\n",
              "      <td>ID</td>\n",
              "      <td>고객 ID 번호</td>\n",
              "    </tr>\n",
              "    <tr>\n",
              "      <th>1</th>\n",
              "      <td>Warehouse_block</td>\n",
              "      <td>창고의 블록 단위 구역(A, B, C, D, F)</td>\n",
              "    </tr>\n",
              "    <tr>\n",
              "      <th>2</th>\n",
              "      <td>Mode_of_Shipment</td>\n",
              "      <td>제품 배송 방법</td>\n",
              "    </tr>\n",
              "    <tr>\n",
              "      <th>3</th>\n",
              "      <td>Customer_care_calls</td>\n",
              "      <td>문의 전화 수</td>\n",
              "    </tr>\n",
              "    <tr>\n",
              "      <th>4</th>\n",
              "      <td>Customer_rating</td>\n",
              "      <td>고객의 등급(1: 가장 낮음, 5: 가장 높음)</td>\n",
              "    </tr>\n",
              "    <tr>\n",
              "      <th>5</th>\n",
              "      <td>Cost_of_the_Product</td>\n",
              "      <td>제품의 비용(달러 기준)</td>\n",
              "    </tr>\n",
              "    <tr>\n",
              "      <th>6</th>\n",
              "      <td>Prior_purchases</td>\n",
              "      <td>사전 구매 수량</td>\n",
              "    </tr>\n",
              "    <tr>\n",
              "      <th>7</th>\n",
              "      <td>Product_importance</td>\n",
              "      <td>제품의 중요도</td>\n",
              "    </tr>\n",
              "    <tr>\n",
              "      <th>8</th>\n",
              "      <td>Gender</td>\n",
              "      <td>성별(F: 여성, M: 남성)</td>\n",
              "    </tr>\n",
              "    <tr>\n",
              "      <th>9</th>\n",
              "      <td>Discount_offered</td>\n",
              "      <td>할인혜택</td>\n",
              "    </tr>\n",
              "    <tr>\n",
              "      <th>10</th>\n",
              "      <td>Weight_in_gms</td>\n",
              "      <td>그램 단위 무게</td>\n",
              "    </tr>\n",
              "    <tr>\n",
              "      <th>11</th>\n",
              "      <td>Reached.on.Time_Y.N</td>\n",
              "      <td>정시 도착 여부(1: 도착하지 않음, 0: 정시 도착)</td>\n",
              "    </tr>\n",
              "  </tbody>\n",
              "</table>\n",
              "</div>"
            ],
            "text/plain": [
              "                     변수                              설명\n",
              "0                    ID                        고객 ID 번호\n",
              "1       Warehouse_block     창고의 블록 단위 구역(A, B, C, D, F)\n",
              "2      Mode_of_Shipment                        제품 배송 방법\n",
              "3   Customer_care_calls                         문의 전화 수\n",
              "4       Customer_rating      고객의 등급(1: 가장 낮음, 5: 가장 높음)\n",
              "5   Cost_of_the_Product                   제품의 비용(달러 기준)\n",
              "6       Prior_purchases                        사전 구매 수량\n",
              "7    Product_importance                         제품의 중요도\n",
              "8                Gender                성별(F: 여성, M: 남성)\n",
              "9      Discount_offered                            할인혜택\n",
              "10        Weight_in_gms                        그램 단위 무게\n",
              "11  Reached.on.Time_Y.N  정시 도착 여부(1: 도착하지 않음, 0: 정시 도착)"
            ]
          },
          "execution_count": 5,
          "metadata": {},
          "output_type": "execute_result"
        }
      ],
      "source": [
        "import pandas as pd\n",
        "pd.DataFrame({\n",
        "    \"변수\" : list(X_train.columns) + [\"Reached.on.Time_Y.N\"],\n",
        "    \"설명\" : [\n",
        "        \"고객 ID 번호\",\n",
        "        \"창고의 블록 단위 구역(A, B, C, D, F)\",\n",
        "        \"제품 배송 방법\",\n",
        "        \"문의 전화 수\",\n",
        "        \"고객의 등급(1: 가장 낮음, 5: 가장 높음)\",\n",
        "        \"제품의 비용(달러 기준)\",\n",
        "        \"사전 구매 수량\",\n",
        "        \"제품의 중요도\",\n",
        "        \"성별(F: 여성, M: 남성)\",\n",
        "        \"할인혜택\",\n",
        "        \"그램 단위 무게\",\n",
        "        \"정시 도착 여부(1: 도착하지 않음, 0: 정시 도착)\"\n",
        "    ]\n",
        "})"
      ]
    },
    {
      "cell_type": "markdown",
      "id": "660e30f7-6cb6-41a9-ba0b-f3c90b1ea1cd",
      "metadata": {
        "id": "660e30f7-6cb6-41a9-ba0b-f3c90b1ea1cd"
      },
      "source": [
        "# 답안 작성란"
      ]
    },
    {
      "cell_type": "code",
      "execution_count": null,
      "id": "bad8915d-5a54-4b65-9d6d-07c5309cdc76",
      "metadata": {
        "id": "bad8915d-5a54-4b65-9d6d-07c5309cdc76",
        "outputId": "a5fb6f02-2b51-4896-aa4d-467f7e0b63e8"
      },
      "outputs": [
        {
          "name": "stdout",
          "output_type": "stream",
          "text": [
            "Fitting 3 folds for each of 3 candidates, totalling 9 fits\n"
          ]
        }
      ],
      "source": [
        "# 셀 하나에 쓰고 본 셀 돌리는 연습\n",
        "# 데이터 확인\n",
        "# print(X_train.head())\n",
        " # 범주형, 수치형 섞여있는데 Pipeline배우기 전에는 하나하나 따로 원핫인코딩 or 라벨인코딩 등 수행했어야\n",
        "\n",
        "# print(y_train.head())\n",
        "\n",
        "# 결측치 확인\n",
        "# print(X_train.isnull().sum())\n",
        "# print(X_test.isnull().sum())\n",
        "# print(y_train.isnull().sum())\n",
        "\n",
        "# 불필요한 컬럼 삭제\n",
        "X_train1 = X_train.drop('ID', axis=1)\n",
        "# X_train1 = X_train.pop('ID')로 해도 됨, 단, pop은 자체적으로 inplace 들어있다고 생각하기\n",
        "X_test1 = X_test.drop('ID', axis=1)\n",
        "y_train1 = y_train.drop('ID', axis=1)\n",
        "\n",
        "# print(X_train1.columns)\n",
        "# print(X_test1.columns)\n",
        "\n",
        "# 종속변수 구성 확인\n",
        "# print(y_train1.value_counts())  # 비율 차이가 39:26. stratify옵션\n",
        "\n",
        "# 자료 분포 확인\n",
        "# print(X_train1.describe())   # 표준편차를 확인->너무 큰 컬럼 있으면\n",
        " # 피처 엔지니어링 때 StandardScaler보다 RobustScaler\n",
        "\n",
        "\n",
        "# Pipeline ----------------------------------------------------\n",
        "# pipeline 사용시, 사용하고자 하는 컬럼명을 추출하는 것이 중요\n",
        "# 숫자형 컬럼 추출\n",
        " # 근데 Customer_rating은 문자(서열)로 바꿔서 아래 문자형으로\n",
        "X_train1['Customer_rating'] = X_train1['Customer_rating'].astype('category')\n",
        "\n",
        "import numpy as np # 라이브러리는 무조건 위에 쓰는 게 좋음\n",
        "numbers_df = X_train1.select_dtypes(include=np.number)  # 이 코드 익숙해지자\n",
        "# print(numbers_df.head(1))\n",
        "\n",
        "# 문자형 컬럼 추출\n",
        "object_df = X_train1.select_dtypes(exclude=np.number)\n",
        "# print(object_df.head(1))\n",
        " # OrdinalEncoder과 One-Hot Encoder 쓸 것 분리\n",
        " # Product_importance: 서열척도(OrdinalEncoder) , Warehouse_block: 서열주긴 좀 그럼(명목)(One-Hot Encoder)\n",
        "\n",
        "\n",
        "# train, test데이터 분리---------------------------------------------------\n",
        " # (위 수치, 문자로 나눈 건 각기 다르게 전처리하기 위함)\n",
        "# train으로 또 나누넹\n",
        "from sklearn.model_selection import train_test_split\n",
        "\n",
        "X_tr, X_te, y_tr, y_te = train_test_split(X_train1, y_train1, random_state=0, stratify=y_train1, test_size=0.3)\n",
        "# print(X_tr.shape, X_te.shape, y_tr.shape, y_te.shape)\n",
        "\n",
        "\n",
        "# 모델링----------------------------------------------------\n",
        "# 시험에서는 이 부분이 가장 중요(외우세용)\n",
        "# 각 부분 구조 꼭 알고있기\n",
        "from sklearn.preprocessing import OrdinalEncoder, OneHotEncoder, RobustScaler, MinMaxScaler, StandardScaler\n",
        "from sklearn.compose import ColumnTransformer\n",
        "from sklearn.pipeline import Pipeline\n",
        "from sklearn.ensemble import RandomForestClassifier\n",
        "from sklearn.model_selection import RandomizedSearchCV\n",
        "from sklearn.metrics import roc_auc_score\n",
        "from lightgbm import LGBMClassifier\n",
        "\n",
        "# RandomizedSearchCV에 대입될 예정. 맨 위 2가지는 필수.\n",
        "param_grid = {\n",
        "    'classifier__n_estimators': np.arange(30, 1000, 100),  # 언더바 2개임, 이 단어는 아래 Pipeline의 단어와 일치해야\n",
        "    # n_estimators: 매개변수 이름\n",
        "    'classifier__max_depth': [None] + list(np.arange(5, 30, 5)), # none도 포함시킴\n",
        "    'classifier__min_samples_split': [2, 5, 10], # np.arange()로 쓰는 게 무작위 수 넣는 것보다 원래는 더 좋음\n",
        "    'classifier__min_samples_leaf': [1, 2, 4],\n",
        "    'classifier__max_features': ['auto', 'sqrt', 'log2']\n",
        "}\n",
        "\n",
        "# ColumnTransformer\n",
        "column_transformer = ColumnTransformer([\n",
        "    ('scaler', RobustScaler(), numbers_df.columns), # scaler\n",
        "    ('ord_encoder', OrdinalEncoder(), ['Customer_rating', 'Product_importance']), # 서열척도 처리, categories=[['low', 'medium','high']]에 중첩리스트 형태로!\n",
        "    ('ohc_encoder', OneHotEncoder(), ['Warehouse_block','Mode_of_Shipment', 'Gender']), # 명목척도 처리\n",
        "], remainder = 'passthrough')   # remainder='passthrough': 학습하지 않은 데이터를 테스트데이터 활용(필수, 안 하면 에러날수도)\n",
        "\n",
        "pipeline = Pipeline([('preprocessor', column_transformer), ('classifier', RandomForestClassifier(random_state=0))])\n",
        "\n",
        "# GridSearchCV와 코드 스타일 비슷함. Randomized가 Grid보다 나으니 이거 쓰자\n",
        "random_search = RandomizedSearchCV(\n",
        "    estimator = pipeline,\n",
        "    random_state=0,\n",
        "    param_distributions = param_grid,\n",
        "    n_iter=3,\n",
        "    scoring='roc_auc',\n",
        "    cv = 3,\n",
        "    verbose=3,\n",
        "    n_jobs = -1 # CPU cores를 모두 사용하겠다는 뜻\n",
        ")\n",
        "\n",
        "# 모형학습\n",
        "random_search.fit(X_tr, y_tr)\n",
        "\n",
        "# 예측값 산출\n",
        "predictions = random_search.predict_proba(X_te)\n",
        "\n",
        "# 모형평가\n",
        "roc_auc_score(y_te, predictions[:, 1])"
      ]
    },
    {
      "cell_type": "code",
      "execution_count": null,
      "id": "3feeed0a-ec9e-43d5-acc7-405343869b7a",
      "metadata": {
        "id": "3feeed0a-ec9e-43d5-acc7-405343869b7a"
      },
      "outputs": [],
      "source": [
        "# 답안 제출 코드\n",
        "final_preds = random_search.predict_proba(X_test)\n",
        "result = pd.DataFrame({\"ID\" : X_test['ID'], \"pred\": final_preds[:, 1]})\n",
        "result.head(1)\n",
        "result.to_csv(\"00000.csv\", index=False)"
      ]
    },
    {
      "cell_type": "markdown",
      "id": "d53f2c05-6e84-4dfb-a328-f269adb561ed",
      "metadata": {
        "id": "d53f2c05-6e84-4dfb-a328-f269adb561ed"
      },
      "source": [
        "## 데이터 확인"
      ]
    },
    {
      "cell_type": "code",
      "execution_count": null,
      "id": "23bd78d6-e315-4521-9e83-55d842d68dfb",
      "metadata": {
        "id": "23bd78d6-e315-4521-9e83-55d842d68dfb",
        "outputId": "7d9b15a3-28be-4f2d-925a-efd43ce4e575"
      },
      "outputs": [
        {
          "data": {
            "text/html": [
              "<div>\n",
              "<style scoped>\n",
              "    .dataframe tbody tr th:only-of-type {\n",
              "        vertical-align: middle;\n",
              "    }\n",
              "\n",
              "    .dataframe tbody tr th {\n",
              "        vertical-align: top;\n",
              "    }\n",
              "\n",
              "    .dataframe thead th {\n",
              "        text-align: right;\n",
              "    }\n",
              "</style>\n",
              "<table border=\"1\" class=\"dataframe\">\n",
              "  <thead>\n",
              "    <tr style=\"text-align: right;\">\n",
              "      <th></th>\n",
              "      <th>ID</th>\n",
              "      <th>Warehouse_block</th>\n",
              "      <th>Mode_of_Shipment</th>\n",
              "      <th>Customer_care_calls</th>\n",
              "      <th>Customer_rating</th>\n",
              "      <th>Cost_of_the_Product</th>\n",
              "      <th>Prior_purchases</th>\n",
              "      <th>Product_importance</th>\n",
              "      <th>Gender</th>\n",
              "      <th>Discount_offered</th>\n",
              "      <th>Weight_in_gms</th>\n",
              "    </tr>\n",
              "  </thead>\n",
              "  <tbody>\n",
              "    <tr>\n",
              "      <th>0</th>\n",
              "      <td>9902</td>\n",
              "      <td>F</td>\n",
              "      <td>Ship</td>\n",
              "      <td>3</td>\n",
              "      <td>5</td>\n",
              "      <td>214</td>\n",
              "      <td>2</td>\n",
              "      <td>medium</td>\n",
              "      <td>F</td>\n",
              "      <td>6</td>\n",
              "      <td>4578</td>\n",
              "    </tr>\n",
              "  </tbody>\n",
              "</table>\n",
              "</div>"
            ],
            "text/plain": [
              "     ID Warehouse_block Mode_of_Shipment  Customer_care_calls  \\\n",
              "0  9902               F             Ship                    3   \n",
              "\n",
              "   Customer_rating  Cost_of_the_Product  Prior_purchases Product_importance  \\\n",
              "0                5                  214                2             medium   \n",
              "\n",
              "  Gender  Discount_offered  Weight_in_gms  \n",
              "0      F                 6           4578  "
            ]
          },
          "execution_count": 4,
          "metadata": {},
          "output_type": "execute_result"
        }
      ],
      "source": [
        "X_train.head(1)"
      ]
    },
    {
      "cell_type": "code",
      "execution_count": null,
      "id": "3a3b729f-2968-4044-aa4f-34d27cd00759",
      "metadata": {
        "id": "3a3b729f-2968-4044-aa4f-34d27cd00759",
        "outputId": "263a6272-3e88-4f00-fd2b-96a60509e4fd"
      },
      "outputs": [
        {
          "data": {
            "text/html": [
              "<div>\n",
              "<style scoped>\n",
              "    .dataframe tbody tr th:only-of-type {\n",
              "        vertical-align: middle;\n",
              "    }\n",
              "\n",
              "    .dataframe tbody tr th {\n",
              "        vertical-align: top;\n",
              "    }\n",
              "\n",
              "    .dataframe thead th {\n",
              "        text-align: right;\n",
              "    }\n",
              "</style>\n",
              "<table border=\"1\" class=\"dataframe\">\n",
              "  <thead>\n",
              "    <tr style=\"text-align: right;\">\n",
              "      <th></th>\n",
              "      <th>ID</th>\n",
              "      <th>Warehouse_block</th>\n",
              "      <th>Mode_of_Shipment</th>\n",
              "      <th>Customer_care_calls</th>\n",
              "      <th>Customer_rating</th>\n",
              "      <th>Cost_of_the_Product</th>\n",
              "      <th>Prior_purchases</th>\n",
              "      <th>Product_importance</th>\n",
              "      <th>Gender</th>\n",
              "      <th>Discount_offered</th>\n",
              "      <th>Weight_in_gms</th>\n",
              "    </tr>\n",
              "  </thead>\n",
              "  <tbody>\n",
              "    <tr>\n",
              "      <th>0</th>\n",
              "      <td>7007</td>\n",
              "      <td>C</td>\n",
              "      <td>Ship</td>\n",
              "      <td>4</td>\n",
              "      <td>1</td>\n",
              "      <td>238</td>\n",
              "      <td>3</td>\n",
              "      <td>high</td>\n",
              "      <td>F</td>\n",
              "      <td>4</td>\n",
              "      <td>4910</td>\n",
              "    </tr>\n",
              "  </tbody>\n",
              "</table>\n",
              "</div>"
            ],
            "text/plain": [
              "     ID Warehouse_block Mode_of_Shipment  Customer_care_calls  \\\n",
              "0  7007               C             Ship                    4   \n",
              "\n",
              "   Customer_rating  Cost_of_the_Product  Prior_purchases Product_importance  \\\n",
              "0                1                  238                3               high   \n",
              "\n",
              "  Gender  Discount_offered  Weight_in_gms  \n",
              "0      F                 4           4910  "
            ]
          },
          "execution_count": 7,
          "metadata": {},
          "output_type": "execute_result"
        }
      ],
      "source": [
        "X_test.head(1)"
      ]
    },
    {
      "cell_type": "code",
      "execution_count": null,
      "id": "97ae365b-f2aa-4f4c-b7e9-755631824eee",
      "metadata": {
        "id": "97ae365b-f2aa-4f4c-b7e9-755631824eee",
        "outputId": "bc092ec9-f47f-4c40-b14c-576d10e06ac4"
      },
      "outputs": [
        {
          "data": {
            "text/html": [
              "<div>\n",
              "<style scoped>\n",
              "    .dataframe tbody tr th:only-of-type {\n",
              "        vertical-align: middle;\n",
              "    }\n",
              "\n",
              "    .dataframe tbody tr th {\n",
              "        vertical-align: top;\n",
              "    }\n",
              "\n",
              "    .dataframe thead th {\n",
              "        text-align: right;\n",
              "    }\n",
              "</style>\n",
              "<table border=\"1\" class=\"dataframe\">\n",
              "  <thead>\n",
              "    <tr style=\"text-align: right;\">\n",
              "      <th></th>\n",
              "      <th>ID</th>\n",
              "      <th>Reached.on.Time_Y.N</th>\n",
              "    </tr>\n",
              "  </thead>\n",
              "  <tbody>\n",
              "    <tr>\n",
              "      <th>0</th>\n",
              "      <td>9902</td>\n",
              "      <td>0</td>\n",
              "    </tr>\n",
              "  </tbody>\n",
              "</table>\n",
              "</div>"
            ],
            "text/plain": [
              "     ID  Reached.on.Time_Y.N\n",
              "0  9902                    0"
            ]
          },
          "execution_count": 8,
          "metadata": {},
          "output_type": "execute_result"
        }
      ],
      "source": [
        "y_train.head(1)"
      ]
    },
    {
      "cell_type": "markdown",
      "id": "be1357a6-7772-483a-bf8c-907af16a0f21",
      "metadata": {
        "id": "be1357a6-7772-483a-bf8c-907af16a0f21"
      },
      "source": [
        "## 데이터 확인"
      ]
    },
    {
      "cell_type": "markdown",
      "id": "60617960-48d2-4f12-a224-3ffdfa2f9918",
      "metadata": {
        "id": "60617960-48d2-4f12-a224-3ffdfa2f9918"
      },
      "source": [
        "### 각 컬럼의 정보 확인"
      ]
    },
    {
      "cell_type": "code",
      "execution_count": null,
      "id": "04695c91-5a21-4b44-b659-4ba55599907a",
      "metadata": {
        "id": "04695c91-5a21-4b44-b659-4ba55599907a",
        "outputId": "10e45767-956d-4164-9619-ebd0d5421f2c"
      },
      "outputs": [
        {
          "name": "stdout",
          "output_type": "stream",
          "text": [
            "<class 'pandas.core.frame.DataFrame'>\n",
            "RangeIndex: 6599 entries, 0 to 6598\n",
            "Data columns (total 11 columns):\n",
            " #   Column               Non-Null Count  Dtype \n",
            "---  ------               --------------  ----- \n",
            " 0   ID                   6599 non-null   int64 \n",
            " 1   Warehouse_block      6599 non-null   object\n",
            " 2   Mode_of_Shipment     6599 non-null   object\n",
            " 3   Customer_care_calls  6599 non-null   int64 \n",
            " 4   Customer_rating      6599 non-null   int64 \n",
            " 5   Cost_of_the_Product  6599 non-null   int64 \n",
            " 6   Prior_purchases      6599 non-null   int64 \n",
            " 7   Product_importance   6599 non-null   object\n",
            " 8   Gender               6599 non-null   object\n",
            " 9   Discount_offered     6599 non-null   int64 \n",
            " 10  Weight_in_gms        6599 non-null   int64 \n",
            "dtypes: int64(7), object(4)\n",
            "memory usage: 567.2+ KB\n"
          ]
        }
      ],
      "source": [
        "X_train.info()"
      ]
    },
    {
      "cell_type": "code",
      "execution_count": null,
      "id": "ef097f58-e524-4c00-8e5f-408463b247d8",
      "metadata": {
        "id": "ef097f58-e524-4c00-8e5f-408463b247d8",
        "outputId": "3cee0ad6-47a0-4693-bd94-46e1f47f3b26"
      },
      "outputs": [
        {
          "name": "stdout",
          "output_type": "stream",
          "text": [
            "<class 'pandas.core.frame.DataFrame'>\n",
            "RangeIndex: 4400 entries, 0 to 4399\n",
            "Data columns (total 11 columns):\n",
            " #   Column               Non-Null Count  Dtype \n",
            "---  ------               --------------  ----- \n",
            " 0   ID                   4400 non-null   int64 \n",
            " 1   Warehouse_block      4400 non-null   object\n",
            " 2   Mode_of_Shipment     4400 non-null   object\n",
            " 3   Customer_care_calls  4400 non-null   int64 \n",
            " 4   Customer_rating      4400 non-null   int64 \n",
            " 5   Cost_of_the_Product  4400 non-null   int64 \n",
            " 6   Prior_purchases      4400 non-null   int64 \n",
            " 7   Product_importance   4400 non-null   object\n",
            " 8   Gender               4400 non-null   object\n",
            " 9   Discount_offered     4400 non-null   int64 \n",
            " 10  Weight_in_gms        4400 non-null   int64 \n",
            "dtypes: int64(7), object(4)\n",
            "memory usage: 378.3+ KB\n"
          ]
        }
      ],
      "source": [
        "X_test.info()"
      ]
    },
    {
      "cell_type": "markdown",
      "id": "166881e9-7fc5-4545-8ba9-d1ebcd0869e2",
      "metadata": {
        "id": "166881e9-7fc5-4545-8ba9-d1ebcd0869e2"
      },
      "source": [
        "### 결측치 확인\n",
        "- 결측치는 존재하지 않는 것 확인"
      ]
    },
    {
      "cell_type": "code",
      "execution_count": null,
      "id": "1b775c78-3fdf-4660-8ce3-0f82ff148364",
      "metadata": {
        "id": "1b775c78-3fdf-4660-8ce3-0f82ff148364",
        "outputId": "fb91c273-b098-4fa5-8a8b-ac859d07fd63"
      },
      "outputs": [
        {
          "data": {
            "text/plain": [
              "ID                     0\n",
              "Warehouse_block        0\n",
              "Mode_of_Shipment       0\n",
              "Customer_care_calls    0\n",
              "Customer_rating        0\n",
              "Cost_of_the_Product    0\n",
              "Prior_purchases        0\n",
              "Product_importance     0\n",
              "Gender                 0\n",
              "Discount_offered       0\n",
              "Weight_in_gms          0\n",
              "dtype: int64"
            ]
          },
          "execution_count": 11,
          "metadata": {},
          "output_type": "execute_result"
        }
      ],
      "source": [
        "X_train.isnull().sum()"
      ]
    },
    {
      "cell_type": "code",
      "execution_count": null,
      "id": "12f9a1d5-a65f-4596-b5a8-1ea2b2189243",
      "metadata": {
        "id": "12f9a1d5-a65f-4596-b5a8-1ea2b2189243",
        "outputId": "0f6955dd-9e3e-40f6-c6d1-c7e62c42447f"
      },
      "outputs": [
        {
          "data": {
            "text/plain": [
              "ID                     0\n",
              "Warehouse_block        0\n",
              "Mode_of_Shipment       0\n",
              "Customer_care_calls    0\n",
              "Customer_rating        0\n",
              "Cost_of_the_Product    0\n",
              "Prior_purchases        0\n",
              "Product_importance     0\n",
              "Gender                 0\n",
              "Discount_offered       0\n",
              "Weight_in_gms          0\n",
              "dtype: int64"
            ]
          },
          "execution_count": 12,
          "metadata": {},
          "output_type": "execute_result"
        }
      ],
      "source": [
        "X_test.isnull().sum()"
      ]
    },
    {
      "cell_type": "markdown",
      "id": "368664ba-7332-4680-9e8f-3a6fa71ffe14",
      "metadata": {
        "id": "368664ba-7332-4680-9e8f-3a6fa71ffe14"
      },
      "source": [
        "### 컬럼 삭제"
      ]
    },
    {
      "cell_type": "code",
      "execution_count": null,
      "id": "13a85c0d-8d9f-4933-8cfe-c899fe0b3b7c",
      "metadata": {
        "id": "13a85c0d-8d9f-4933-8cfe-c899fe0b3b7c",
        "outputId": "1a6c6c00-1497-44b8-ebee-4d48a9505e33"
      },
      "outputs": [
        {
          "data": {
            "text/plain": [
              "((6599, 10), (4400, 10))"
            ]
          },
          "execution_count": 13,
          "metadata": {},
          "output_type": "execute_result"
        }
      ],
      "source": [
        "X_train_id = X_train.pop('ID')\n",
        "X_test_id = X_test.pop('ID')\n",
        "\n",
        "X_train.shape, X_test.shape"
      ]
    },
    {
      "cell_type": "code",
      "execution_count": null,
      "id": "1230530a-8b68-430e-bde6-898b681d0f78",
      "metadata": {
        "id": "1230530a-8b68-430e-bde6-898b681d0f78",
        "outputId": "e4fc1e04-c33e-4be9-e475-1815bc0e99c9"
      },
      "outputs": [
        {
          "data": {
            "text/plain": [
              "((6599, 10), (4400, 10))"
            ]
          },
          "execution_count": 14,
          "metadata": {},
          "output_type": "execute_result"
        }
      ],
      "source": [
        "X_train.shape, X_test.shape"
      ]
    },
    {
      "cell_type": "markdown",
      "id": "c8ffb4e8-2d87-4c2b-bf71-a6be737fb389",
      "metadata": {
        "id": "c8ffb4e8-2d87-4c2b-bf71-a6be737fb389"
      },
      "source": [
        "## 종속변수 데이터셋 확인"
      ]
    },
    {
      "cell_type": "code",
      "execution_count": null,
      "id": "29660e69-654f-443f-8dbd-a4b77a5bc6ed",
      "metadata": {
        "id": "29660e69-654f-443f-8dbd-a4b77a5bc6ed",
        "outputId": "29133713-1b31-46ee-c75e-a703aa6d4f36"
      },
      "outputs": [
        {
          "name": "stdout",
          "output_type": "stream",
          "text": [
            "<class 'pandas.core.frame.DataFrame'>\n",
            "RangeIndex: 6599 entries, 0 to 6598\n",
            "Data columns (total 2 columns):\n",
            " #   Column               Non-Null Count  Dtype\n",
            "---  ------               --------------  -----\n",
            " 0   ID                   6599 non-null   int64\n",
            " 1   Reached.on.Time_Y.N  6599 non-null   int64\n",
            "dtypes: int64(2)\n",
            "memory usage: 103.2 KB\n"
          ]
        }
      ],
      "source": [
        "y_train.info()"
      ]
    },
    {
      "cell_type": "code",
      "execution_count": null,
      "id": "32665556-cb75-4c6d-b8e6-d2946ed86d28",
      "metadata": {
        "id": "32665556-cb75-4c6d-b8e6-d2946ed86d28",
        "outputId": "85bc5df5-ff3d-4423-a507-9face47e0c6d"
      },
      "outputs": [
        {
          "data": {
            "text/plain": [
              "Reached.on.Time_Y.N\n",
              "1    3938\n",
              "0    2661\n",
              "Name: count, dtype: int64"
            ]
          },
          "execution_count": 16,
          "metadata": {},
          "output_type": "execute_result"
        }
      ],
      "source": [
        "y_train['Reached.on.Time_Y.N'].value_counts()"
      ]
    },
    {
      "cell_type": "markdown",
      "id": "785e5f2b-c478-4b30-b527-17f03d92034c",
      "metadata": {
        "id": "785e5f2b-c478-4b30-b527-17f03d92034c"
      },
      "source": [
        "- 비율 차이는 크지 않지만, stratify 옵션을 넣어준다."
      ]
    },
    {
      "cell_type": "markdown",
      "id": "2ef7f956-fe58-4b49-b129-4f4f691871ea",
      "metadata": {
        "id": "2ef7f956-fe58-4b49-b129-4f4f691871ea"
      },
      "source": [
        "### 데이터 확인"
      ]
    },
    {
      "cell_type": "code",
      "execution_count": null,
      "id": "454c444d-31a0-485f-85cb-48bfe0356974",
      "metadata": {
        "id": "454c444d-31a0-485f-85cb-48bfe0356974",
        "outputId": "27c04ed3-3c63-4419-8594-ad847bd93784"
      },
      "outputs": [
        {
          "data": {
            "text/html": [
              "<div>\n",
              "<style scoped>\n",
              "    .dataframe tbody tr th:only-of-type {\n",
              "        vertical-align: middle;\n",
              "    }\n",
              "\n",
              "    .dataframe tbody tr th {\n",
              "        vertical-align: top;\n",
              "    }\n",
              "\n",
              "    .dataframe thead th {\n",
              "        text-align: right;\n",
              "    }\n",
              "</style>\n",
              "<table border=\"1\" class=\"dataframe\">\n",
              "  <thead>\n",
              "    <tr style=\"text-align: right;\">\n",
              "      <th></th>\n",
              "      <th>Customer_care_calls</th>\n",
              "      <th>Customer_rating</th>\n",
              "      <th>Cost_of_the_Product</th>\n",
              "      <th>Prior_purchases</th>\n",
              "      <th>Discount_offered</th>\n",
              "      <th>Weight_in_gms</th>\n",
              "    </tr>\n",
              "  </thead>\n",
              "  <tbody>\n",
              "    <tr>\n",
              "      <th>count</th>\n",
              "      <td>6599.000000</td>\n",
              "      <td>6599.000000</td>\n",
              "      <td>6599.000000</td>\n",
              "      <td>6599.000000</td>\n",
              "      <td>6599.000000</td>\n",
              "      <td>6599.000000</td>\n",
              "    </tr>\n",
              "    <tr>\n",
              "      <th>mean</th>\n",
              "      <td>4.058494</td>\n",
              "      <td>2.993181</td>\n",
              "      <td>209.587968</td>\n",
              "      <td>3.565086</td>\n",
              "      <td>13.236703</td>\n",
              "      <td>3638.925746</td>\n",
              "    </tr>\n",
              "    <tr>\n",
              "      <th>std</th>\n",
              "      <td>1.134313</td>\n",
              "      <td>1.415857</td>\n",
              "      <td>48.423993</td>\n",
              "      <td>1.533984</td>\n",
              "      <td>16.066606</td>\n",
              "      <td>1632.253471</td>\n",
              "    </tr>\n",
              "    <tr>\n",
              "      <th>min</th>\n",
              "      <td>2.000000</td>\n",
              "      <td>1.000000</td>\n",
              "      <td>96.000000</td>\n",
              "      <td>2.000000</td>\n",
              "      <td>1.000000</td>\n",
              "      <td>1001.000000</td>\n",
              "    </tr>\n",
              "    <tr>\n",
              "      <th>25%</th>\n",
              "      <td>3.000000</td>\n",
              "      <td>2.000000</td>\n",
              "      <td>169.000000</td>\n",
              "      <td>3.000000</td>\n",
              "      <td>4.000000</td>\n",
              "      <td>1844.000000</td>\n",
              "    </tr>\n",
              "    <tr>\n",
              "      <th>50%</th>\n",
              "      <td>4.000000</td>\n",
              "      <td>3.000000</td>\n",
              "      <td>213.000000</td>\n",
              "      <td>3.000000</td>\n",
              "      <td>7.000000</td>\n",
              "      <td>4152.000000</td>\n",
              "    </tr>\n",
              "    <tr>\n",
              "      <th>75%</th>\n",
              "      <td>5.000000</td>\n",
              "      <td>4.000000</td>\n",
              "      <td>251.000000</td>\n",
              "      <td>4.000000</td>\n",
              "      <td>10.000000</td>\n",
              "      <td>5049.500000</td>\n",
              "    </tr>\n",
              "    <tr>\n",
              "      <th>max</th>\n",
              "      <td>7.000000</td>\n",
              "      <td>5.000000</td>\n",
              "      <td>310.000000</td>\n",
              "      <td>10.000000</td>\n",
              "      <td>65.000000</td>\n",
              "      <td>7401.000000</td>\n",
              "    </tr>\n",
              "  </tbody>\n",
              "</table>\n",
              "</div>"
            ],
            "text/plain": [
              "       Customer_care_calls  Customer_rating  Cost_of_the_Product  \\\n",
              "count          6599.000000      6599.000000          6599.000000   \n",
              "mean              4.058494         2.993181           209.587968   \n",
              "std               1.134313         1.415857            48.423993   \n",
              "min               2.000000         1.000000            96.000000   \n",
              "25%               3.000000         2.000000           169.000000   \n",
              "50%               4.000000         3.000000           213.000000   \n",
              "75%               5.000000         4.000000           251.000000   \n",
              "max               7.000000         5.000000           310.000000   \n",
              "\n",
              "       Prior_purchases  Discount_offered  Weight_in_gms  \n",
              "count      6599.000000       6599.000000    6599.000000  \n",
              "mean          3.565086         13.236703    3638.925746  \n",
              "std           1.533984         16.066606    1632.253471  \n",
              "min           2.000000          1.000000    1001.000000  \n",
              "25%           3.000000          4.000000    1844.000000  \n",
              "50%           3.000000          7.000000    4152.000000  \n",
              "75%           4.000000         10.000000    5049.500000  \n",
              "max          10.000000         65.000000    7401.000000  "
            ]
          },
          "execution_count": 17,
          "metadata": {},
          "output_type": "execute_result"
        }
      ],
      "source": [
        "X_train.describe()"
      ]
    },
    {
      "cell_type": "markdown",
      "id": "ca0c5658-6a43-45b8-86a6-72b47055d3ab",
      "metadata": {
        "id": "ca0c5658-6a43-45b8-86a6-72b47055d3ab"
      },
      "source": [
        "- RobustScaler 사용할 것"
      ]
    },
    {
      "cell_type": "code",
      "execution_count": null,
      "id": "dd793d1b-37d0-427c-99e6-feacc15b6991",
      "metadata": {
        "id": "dd793d1b-37d0-427c-99e6-feacc15b6991",
        "outputId": "b987856a-e895-420d-d1b4-5f5b3cfc4a8c"
      },
      "outputs": [
        {
          "data": {
            "text/html": [
              "<div>\n",
              "<style scoped>\n",
              "    .dataframe tbody tr th:only-of-type {\n",
              "        vertical-align: middle;\n",
              "    }\n",
              "\n",
              "    .dataframe tbody tr th {\n",
              "        vertical-align: top;\n",
              "    }\n",
              "\n",
              "    .dataframe thead th {\n",
              "        text-align: right;\n",
              "    }\n",
              "</style>\n",
              "<table border=\"1\" class=\"dataframe\">\n",
              "  <thead>\n",
              "    <tr style=\"text-align: right;\">\n",
              "      <th></th>\n",
              "      <th>Warehouse_block</th>\n",
              "      <th>Mode_of_Shipment</th>\n",
              "      <th>Product_importance</th>\n",
              "      <th>Gender</th>\n",
              "    </tr>\n",
              "  </thead>\n",
              "  <tbody>\n",
              "    <tr>\n",
              "      <th>0</th>\n",
              "      <td>F</td>\n",
              "      <td>Ship</td>\n",
              "      <td>medium</td>\n",
              "      <td>F</td>\n",
              "    </tr>\n",
              "    <tr>\n",
              "      <th>1</th>\n",
              "      <td>A</td>\n",
              "      <td>Ship</td>\n",
              "      <td>medium</td>\n",
              "      <td>F</td>\n",
              "    </tr>\n",
              "    <tr>\n",
              "      <th>2</th>\n",
              "      <td>A</td>\n",
              "      <td>Ship</td>\n",
              "      <td>low</td>\n",
              "      <td>M</td>\n",
              "    </tr>\n",
              "  </tbody>\n",
              "</table>\n",
              "</div>"
            ],
            "text/plain": [
              "  Warehouse_block Mode_of_Shipment Product_importance Gender\n",
              "0               F             Ship             medium      F\n",
              "1               A             Ship             medium      F\n",
              "2               A             Ship                low      M"
            ]
          },
          "execution_count": 18,
          "metadata": {},
          "output_type": "execute_result"
        }
      ],
      "source": [
        "import numpy as np\n",
        "object_df = X_train.select_dtypes(exclude=np.number)\n",
        "object_df.head(3)"
      ]
    },
    {
      "cell_type": "code",
      "execution_count": null,
      "id": "8732c5c5-c8ab-478a-a152-0b8981f7cb91",
      "metadata": {
        "id": "8732c5c5-c8ab-478a-a152-0b8981f7cb91",
        "outputId": "432d606d-7d3f-4ddb-fa62-40124e51a423"
      },
      "outputs": [
        {
          "data": {
            "text/plain": [
              "Index(['Customer_care_calls', 'Customer_rating', 'Cost_of_the_Product',\n",
              "       'Prior_purchases', 'Discount_offered', 'Weight_in_gms'],\n",
              "      dtype='object')"
            ]
          },
          "execution_count": 19,
          "metadata": {},
          "output_type": "execute_result"
        }
      ],
      "source": [
        "numbers_df = X_train.select_dtypes(include=np.number)\n",
        "numbers_df.columns"
      ]
    },
    {
      "cell_type": "code",
      "execution_count": null,
      "id": "59026166-1254-4d73-87d5-4d0b885b7132",
      "metadata": {
        "id": "59026166-1254-4d73-87d5-4d0b885b7132",
        "outputId": "1640295b-912d-4ae2-bb15-753a167d417c"
      },
      "outputs": [
        {
          "data": {
            "text/plain": [
              "Product_importance\n",
              "low       3170\n",
              "medium    2854\n",
              "high       575\n",
              "Name: count, dtype: int64"
            ]
          },
          "execution_count": 20,
          "metadata": {},
          "output_type": "execute_result"
        }
      ],
      "source": [
        "object_df['Product_importance'].value_counts()"
      ]
    },
    {
      "cell_type": "markdown",
      "id": "9734799f-d841-485c-8962-4ee670e81073",
      "metadata": {
        "id": "9734799f-d841-485c-8962-4ee670e81073"
      },
      "source": [
        "- Product_importance must be ordinal encoding\n",
        "    + low, medium, high"
      ]
    },
    {
      "cell_type": "markdown",
      "id": "9d7d107b-fbc1-46c1-ac75-b8661754cb59",
      "metadata": {
        "id": "9d7d107b-fbc1-46c1-ac75-b8661754cb59"
      },
      "source": [
        "## 데이터셋 분리"
      ]
    },
    {
      "cell_type": "code",
      "execution_count": null,
      "id": "efe17518-b933-4426-850e-710935783419",
      "metadata": {
        "id": "efe17518-b933-4426-850e-710935783419",
        "outputId": "9d1f9243-0f3f-4e89-eaca-7fd05e08675d"
      },
      "outputs": [
        {
          "data": {
            "text/plain": [
              "((4949, 10), (1650, 10), (4949,), (1650,))"
            ]
          },
          "execution_count": 21,
          "metadata": {},
          "output_type": "execute_result"
        }
      ],
      "source": [
        "from sklearn.model_selection import train_test_split\n",
        "X_tr, X_te, y_tr, y_te = train_test_split(\n",
        "    X_train, y_train['Reached.on.Time_Y.N'],\n",
        "    stratify=y_train['Reached.on.Time_Y.N'],\n",
        "    random_state=42,\n",
        "    test_size=0.25\n",
        ")\n",
        "\n",
        "X_tr.shape, X_te.shape, y_tr.shape, y_te.shape"
      ]
    },
    {
      "cell_type": "code",
      "execution_count": null,
      "id": "1ef5e080-1091-4eb9-a8ca-17a26d939c3e",
      "metadata": {
        "id": "1ef5e080-1091-4eb9-a8ca-17a26d939c3e",
        "outputId": "b79c3218-ce56-40b4-e627-cad65894e3cf"
      },
      "outputs": [
        {
          "data": {
            "text/html": [
              "<div>\n",
              "<style scoped>\n",
              "    .dataframe tbody tr th:only-of-type {\n",
              "        vertical-align: middle;\n",
              "    }\n",
              "\n",
              "    .dataframe tbody tr th {\n",
              "        vertical-align: top;\n",
              "    }\n",
              "\n",
              "    .dataframe thead th {\n",
              "        text-align: right;\n",
              "    }\n",
              "</style>\n",
              "<table border=\"1\" class=\"dataframe\">\n",
              "  <thead>\n",
              "    <tr style=\"text-align: right;\">\n",
              "      <th></th>\n",
              "      <th>Warehouse_block</th>\n",
              "      <th>Mode_of_Shipment</th>\n",
              "      <th>Customer_care_calls</th>\n",
              "      <th>Customer_rating</th>\n",
              "      <th>Cost_of_the_Product</th>\n",
              "      <th>Prior_purchases</th>\n",
              "      <th>Product_importance</th>\n",
              "      <th>Gender</th>\n",
              "      <th>Discount_offered</th>\n",
              "      <th>Weight_in_gms</th>\n",
              "    </tr>\n",
              "  </thead>\n",
              "  <tbody>\n",
              "    <tr>\n",
              "      <th>2220</th>\n",
              "      <td>B</td>\n",
              "      <td>Road</td>\n",
              "      <td>6</td>\n",
              "      <td>5</td>\n",
              "      <td>275</td>\n",
              "      <td>4</td>\n",
              "      <td>low</td>\n",
              "      <td>F</td>\n",
              "      <td>6</td>\n",
              "      <td>1872</td>\n",
              "    </tr>\n",
              "    <tr>\n",
              "      <th>641</th>\n",
              "      <td>B</td>\n",
              "      <td>Road</td>\n",
              "      <td>5</td>\n",
              "      <td>3</td>\n",
              "      <td>267</td>\n",
              "      <td>6</td>\n",
              "      <td>low</td>\n",
              "      <td>M</td>\n",
              "      <td>10</td>\n",
              "      <td>1027</td>\n",
              "    </tr>\n",
              "    <tr>\n",
              "      <th>5738</th>\n",
              "      <td>F</td>\n",
              "      <td>Road</td>\n",
              "      <td>4</td>\n",
              "      <td>5</td>\n",
              "      <td>246</td>\n",
              "      <td>2</td>\n",
              "      <td>medium</td>\n",
              "      <td>M</td>\n",
              "      <td>31</td>\n",
              "      <td>2415</td>\n",
              "    </tr>\n",
              "    <tr>\n",
              "      <th>1072</th>\n",
              "      <td>B</td>\n",
              "      <td>Road</td>\n",
              "      <td>4</td>\n",
              "      <td>5</td>\n",
              "      <td>176</td>\n",
              "      <td>3</td>\n",
              "      <td>high</td>\n",
              "      <td>F</td>\n",
              "      <td>1</td>\n",
              "      <td>5096</td>\n",
              "    </tr>\n",
              "    <tr>\n",
              "      <th>4973</th>\n",
              "      <td>A</td>\n",
              "      <td>Ship</td>\n",
              "      <td>3</td>\n",
              "      <td>1</td>\n",
              "      <td>144</td>\n",
              "      <td>2</td>\n",
              "      <td>medium</td>\n",
              "      <td>M</td>\n",
              "      <td>8</td>\n",
              "      <td>5378</td>\n",
              "    </tr>\n",
              "    <tr>\n",
              "      <th>...</th>\n",
              "      <td>...</td>\n",
              "      <td>...</td>\n",
              "      <td>...</td>\n",
              "      <td>...</td>\n",
              "      <td>...</td>\n",
              "      <td>...</td>\n",
              "      <td>...</td>\n",
              "      <td>...</td>\n",
              "      <td>...</td>\n",
              "      <td>...</td>\n",
              "    </tr>\n",
              "    <tr>\n",
              "      <th>669</th>\n",
              "      <td>F</td>\n",
              "      <td>Road</td>\n",
              "      <td>5</td>\n",
              "      <td>2</td>\n",
              "      <td>164</td>\n",
              "      <td>2</td>\n",
              "      <td>medium</td>\n",
              "      <td>M</td>\n",
              "      <td>8</td>\n",
              "      <td>5717</td>\n",
              "    </tr>\n",
              "    <tr>\n",
              "      <th>3166</th>\n",
              "      <td>F</td>\n",
              "      <td>Ship</td>\n",
              "      <td>4</td>\n",
              "      <td>2</td>\n",
              "      <td>266</td>\n",
              "      <td>2</td>\n",
              "      <td>low</td>\n",
              "      <td>F</td>\n",
              "      <td>8</td>\n",
              "      <td>5516</td>\n",
              "    </tr>\n",
              "    <tr>\n",
              "      <th>213</th>\n",
              "      <td>A</td>\n",
              "      <td>Ship</td>\n",
              "      <td>6</td>\n",
              "      <td>3</td>\n",
              "      <td>273</td>\n",
              "      <td>5</td>\n",
              "      <td>low</td>\n",
              "      <td>M</td>\n",
              "      <td>8</td>\n",
              "      <td>1746</td>\n",
              "    </tr>\n",
              "    <tr>\n",
              "      <th>3375</th>\n",
              "      <td>C</td>\n",
              "      <td>Road</td>\n",
              "      <td>3</td>\n",
              "      <td>5</td>\n",
              "      <td>109</td>\n",
              "      <td>5</td>\n",
              "      <td>low</td>\n",
              "      <td>M</td>\n",
              "      <td>27</td>\n",
              "      <td>1581</td>\n",
              "    </tr>\n",
              "    <tr>\n",
              "      <th>238</th>\n",
              "      <td>F</td>\n",
              "      <td>Ship</td>\n",
              "      <td>3</td>\n",
              "      <td>4</td>\n",
              "      <td>133</td>\n",
              "      <td>8</td>\n",
              "      <td>medium</td>\n",
              "      <td>F</td>\n",
              "      <td>10</td>\n",
              "      <td>5439</td>\n",
              "    </tr>\n",
              "  </tbody>\n",
              "</table>\n",
              "<p>4949 rows × 10 columns</p>\n",
              "</div>"
            ],
            "text/plain": [
              "     Warehouse_block Mode_of_Shipment  Customer_care_calls  Customer_rating  \\\n",
              "2220               B             Road                    6                5   \n",
              "641                B             Road                    5                3   \n",
              "5738               F             Road                    4                5   \n",
              "1072               B             Road                    4                5   \n",
              "4973               A             Ship                    3                1   \n",
              "...              ...              ...                  ...              ...   \n",
              "669                F             Road                    5                2   \n",
              "3166               F             Ship                    4                2   \n",
              "213                A             Ship                    6                3   \n",
              "3375               C             Road                    3                5   \n",
              "238                F             Ship                    3                4   \n",
              "\n",
              "      Cost_of_the_Product  Prior_purchases Product_importance Gender  \\\n",
              "2220                  275                4                low      F   \n",
              "641                   267                6                low      M   \n",
              "5738                  246                2             medium      M   \n",
              "1072                  176                3               high      F   \n",
              "4973                  144                2             medium      M   \n",
              "...                   ...              ...                ...    ...   \n",
              "669                   164                2             medium      M   \n",
              "3166                  266                2                low      F   \n",
              "213                   273                5                low      M   \n",
              "3375                  109                5                low      M   \n",
              "238                   133                8             medium      F   \n",
              "\n",
              "      Discount_offered  Weight_in_gms  \n",
              "2220                 6           1872  \n",
              "641                 10           1027  \n",
              "5738                31           2415  \n",
              "1072                 1           5096  \n",
              "4973                 8           5378  \n",
              "...                ...            ...  \n",
              "669                  8           5717  \n",
              "3166                 8           5516  \n",
              "213                  8           1746  \n",
              "3375                27           1581  \n",
              "238                 10           5439  \n",
              "\n",
              "[4949 rows x 10 columns]"
            ]
          },
          "execution_count": 22,
          "metadata": {},
          "output_type": "execute_result"
        }
      ],
      "source": [
        "X_tr"
      ]
    },
    {
      "cell_type": "markdown",
      "id": "8ba84664-3369-4282-9ce4-7fea522cc772",
      "metadata": {
        "id": "8ba84664-3369-4282-9ce4-7fea522cc772"
      },
      "source": [
        "## 모형 학습 및 예측값"
      ]
    },
    {
      "cell_type": "code",
      "execution_count": null,
      "id": "6953c301-d2eb-4cba-b1eb-11b6fe26a391",
      "metadata": {
        "id": "6953c301-d2eb-4cba-b1eb-11b6fe26a391",
        "outputId": "7d1accf7-0e71-48b6-af93-8e1ea6b14c71"
      },
      "outputs": [
        {
          "name": "stdout",
          "output_type": "stream",
          "text": [
            "Fitting 5 folds for each of 10 candidates, totalling 50 fits\n",
            "[LightGBM] [Warning] Unknown parameter: min_samples_split\n",
            "[LightGBM] [Warning] min_data_in_leaf is set with min_child_samples=20, will be overridden by min_samples_leaf=1. Current value: min_data_in_leaf=1\n",
            "[LightGBM] [Warning] Unknown parameter: max_features\n",
            "[LightGBM] [Warning] Accuracy may be bad since you didn't explicitly set num_leaves OR 2^max_depth > num_leaves. (num_leaves=31).\n",
            "[LightGBM] [Warning] Unknown parameter: min_samples_split\n",
            "[LightGBM] [Warning] min_data_in_leaf is set with min_child_samples=20, will be overridden by min_samples_leaf=1. Current value: min_data_in_leaf=1\n",
            "[LightGBM] [Warning] Unknown parameter: max_features\n",
            "[LightGBM] [Warning] Accuracy may be bad since you didn't explicitly set num_leaves OR 2^max_depth > num_leaves. (num_leaves=31).\n",
            "[LightGBM] [Info] Number of positive: 2953, number of negative: 1996\n",
            "[LightGBM] [Info] Auto-choosing row-wise multi-threading, the overhead of testing was 0.000330 seconds.\n",
            "You can set `force_row_wise=true` to remove the overhead.\n",
            "And if memory is not enough, you can set `force_col_wise=true`.\n",
            "[LightGBM] [Info] Total Bins 571\n",
            "[LightGBM] [Info] Number of data points in the train set: 4949, number of used features: 17\n",
            "[LightGBM] [Info] [binary:BoostFromScore]: pavg=0.596686 -> initscore=0.391676\n",
            "[LightGBM] [Info] Start training from score 0.391676\n",
            "[LightGBM] [Warning] Unknown parameter: min_samples_split\n",
            "[LightGBM] [Warning] min_data_in_leaf is set with min_child_samples=20, will be overridden by min_samples_leaf=1. Current value: min_data_in_leaf=1\n",
            "[LightGBM] [Warning] Unknown parameter: max_features\n",
            "[LightGBM] [Warning] Accuracy may be bad since you didn't explicitly set num_leaves OR 2^max_depth > num_leaves. (num_leaves=31).\n"
          ]
        },
        {
          "data": {
            "text/plain": [
              "0.73232319377123"
            ]
          },
          "execution_count": 23,
          "metadata": {},
          "output_type": "execute_result"
        }
      ],
      "source": [
        "from sklearn.preprocessing import OrdinalEncoder, OneHotEncoder, RobustScaler, MinMaxScaler, StandardScaler\n",
        "from sklearn.compose import ColumnTransformer\n",
        "from sklearn.pipeline import Pipeline\n",
        "from sklearn.ensemble import RandomForestClassifier\n",
        "from sklearn.model_selection import RandomizedSearchCV\n",
        "from sklearn.metrics import roc_auc_score\n",
        "from lightgbm import LGBMClassifier\n",
        "\n",
        "param_grid = {\n",
        "    'classifier__n_estimators': np.arange(30, 1000, 100),\n",
        "    'classifier__max_depth': [None] + list(np.arange(5, 30, 5)),\n",
        "    'classifier__min_samples_split': [2, 5, 10],\n",
        "    'classifier__min_samples_leaf': [1, 2, 4],\n",
        "    'classifier__max_features': ['auto', 'sqrt', 'log2'],\n",
        "    # Add more parameters to tune as per your requirement\n",
        "}\n",
        "\n",
        "column_transformer = ColumnTransformer([\n",
        "    (\"scaler\", MinMaxScaler(), numbers_df.columns),\n",
        "    (\"ohc_encoder\", OneHotEncoder(), ['Warehouse_block', 'Mode_of_Shipment', 'Gender']),\n",
        "    (\"pd_imp_encoder\", OrdinalEncoder(categories=[['low', 'medium', 'high']]), ['Product_importance'])\n",
        "], remainder=\"passthrough\")\n",
        "\n",
        "pipeline = Pipeline([\n",
        "    (\"preprocessor\", column_transformer),\n",
        "    (\"classifier\", LGBMClassifier(random_state=42))\n",
        "])\n",
        "\n",
        "# Create the RandomizedSearchCV object\n",
        "random_search = RandomizedSearchCV(\n",
        "    estimator=pipeline,\n",
        "    param_distributions=param_grid,\n",
        "    n_iter=10,  # Number of parameter settings that are sampled\n",
        "    scoring='roc_auc',  # Evaluation metric\n",
        "    cv=5,  # Number of cross-validation folds\n",
        "    verbose=3,\n",
        "    n_jobs=-1  # Use all available CPU cores\n",
        ")\n",
        "\n",
        "# 모형학습\n",
        "random_search.fit(X_tr, y_tr)\n",
        "\n",
        "# 예측값 산출\n",
        "predictions = random_search.predict_proba(X_te)\n",
        "\n",
        "# 모형평가\n",
        "roc_auc_score(y_te, predictions[:, 1])"
      ]
    },
    {
      "cell_type": "markdown",
      "id": "9b6d1f63-c731-4145-bacc-8797fb699dbf",
      "metadata": {
        "id": "9b6d1f63-c731-4145-bacc-8797fb699dbf"
      },
      "source": [
        "## 결과 제출"
      ]
    },
    {
      "cell_type": "code",
      "execution_count": null,
      "id": "cb288e70-d945-412d-a2d1-e829d6ab27ff",
      "metadata": {
        "id": "cb288e70-d945-412d-a2d1-e829d6ab27ff",
        "outputId": "c130ac0a-b25d-4cbd-c683-f101ea2e49be"
      },
      "outputs": [
        {
          "name": "stdout",
          "output_type": "stream",
          "text": [
            "[LightGBM] [Warning] Unknown parameter: min_samples_split\n",
            "[LightGBM] [Warning] min_data_in_leaf is set with min_child_samples=20, will be overridden by min_samples_leaf=1. Current value: min_data_in_leaf=1\n",
            "[LightGBM] [Warning] Unknown parameter: max_features\n",
            "[LightGBM] [Warning] Accuracy may be bad since you didn't explicitly set num_leaves OR 2^max_depth > num_leaves. (num_leaves=31).\n"
          ]
        },
        {
          "data": {
            "text/html": [
              "<div>\n",
              "<style scoped>\n",
              "    .dataframe tbody tr th:only-of-type {\n",
              "        vertical-align: middle;\n",
              "    }\n",
              "\n",
              "    .dataframe tbody tr th {\n",
              "        vertical-align: top;\n",
              "    }\n",
              "\n",
              "    .dataframe thead th {\n",
              "        text-align: right;\n",
              "    }\n",
              "</style>\n",
              "<table border=\"1\" class=\"dataframe\">\n",
              "  <thead>\n",
              "    <tr style=\"text-align: right;\">\n",
              "      <th></th>\n",
              "      <th>ID</th>\n",
              "      <th>pred</th>\n",
              "    </tr>\n",
              "  </thead>\n",
              "  <tbody>\n",
              "    <tr>\n",
              "      <th>0</th>\n",
              "      <td>7007</td>\n",
              "      <td>0.350926</td>\n",
              "    </tr>\n",
              "  </tbody>\n",
              "</table>\n",
              "</div>"
            ],
            "text/plain": [
              "     ID      pred\n",
              "0  7007  0.350926"
            ]
          },
          "execution_count": 24,
          "metadata": {},
          "output_type": "execute_result"
        }
      ],
      "source": [
        "final_preds = random_search.predict_proba(X_test)\n",
        "result = pd.DataFrame({\"ID\" : X_test_id, \"pred\": final_preds[:, 1]})\n",
        "result.head(1)"
      ]
    },
    {
      "cell_type": "code",
      "execution_count": null,
      "id": "c09d2e00-f2d5-40a0-88f9-7a599da2a961",
      "metadata": {
        "id": "c09d2e00-f2d5-40a0-88f9-7a599da2a961"
      },
      "outputs": [],
      "source": [
        "result.to_csv(\"00000.csv\", index=False)"
      ]
    }
  ],
  "metadata": {
    "kernelspec": {
      "display_name": "Python 3 (ipykernel)",
      "language": "python",
      "name": "python3"
    },
    "language_info": {
      "codemirror_mode": {
        "name": "ipython",
        "version": 3
      },
      "file_extension": ".py",
      "mimetype": "text/x-python",
      "name": "python",
      "nbconvert_exporter": "python",
      "pygments_lexer": "ipython3",
      "version": "3.11.4"
    },
    "colab": {
      "provenance": [],
      "include_colab_link": true
    }
  },
  "nbformat": 4,
  "nbformat_minor": 5
}