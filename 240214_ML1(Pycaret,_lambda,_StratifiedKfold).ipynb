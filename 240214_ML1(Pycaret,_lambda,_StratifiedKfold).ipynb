{
  "cells": [
    {
      "cell_type": "markdown",
      "metadata": {
        "id": "view-in-github",
        "colab_type": "text"
      },
      "source": [
        "<a href=\"https://colab.research.google.com/github/yellayujin/studying/blob/main/240214_ML1(Pycaret%2C_lambda%2C_StratifiedKfold).ipynb\" target=\"_parent\"><img src=\"https://colab.research.google.com/assets/colab-badge.svg\" alt=\"Open In Colab\"/></a>"
      ]
    },
    {
      "cell_type": "code",
      "execution_count": null,
      "id": "63908be0-1c86-4d60-b4c9-c7c5c102d2fb",
      "metadata": {
        "id": "63908be0-1c86-4d60-b4c9-c7c5c102d2fb",
        "outputId": "8433c4e2-fdd0-495e-ac09-afb06c477088"
      },
      "outputs": [
        {
          "data": {
            "text/plain": [
              "'3.2.0'"
            ]
          },
          "execution_count": 1,
          "metadata": {},
          "output_type": "execute_result"
        }
      ],
      "source": [
        "import pycaret\n",
        "pycaret.__version__"
      ]
    },
    {
      "cell_type": "code",
      "execution_count": null,
      "id": "a24a8eda-7c62-4af7-bf90-99a9510e8bb1",
      "metadata": {
        "id": "a24a8eda-7c62-4af7-bf90-99a9510e8bb1",
        "outputId": "0338013a-b244-4c8a-fddc-4b7010891266"
      },
      "outputs": [
        {
          "data": {
            "text/plain": [
              "'4.3.0'"
            ]
          },
          "execution_count": 2,
          "metadata": {},
          "output_type": "execute_result"
        }
      ],
      "source": [
        "import lightgbm\n",
        "lightgbm.__version__"
      ]
    },
    {
      "cell_type": "markdown",
      "id": "bfb9f1bb-3cb5-4b7d-b448-0d6568c1cf09",
      "metadata": {
        "id": "bfb9f1bb-3cb5-4b7d-b448-0d6568c1cf09"
      },
      "source": [
        "# Pycaret 사용해보기!\n",
        "- 각 모델 비교해주는 부분까지만 보고(상세 생략 건너뜀), 나머지는 아래 링크로\n",
        "- https://colab.research.google.com/github/pycaret/pycaret/blob/master/tutorials/Tutorial%20-%20Multiclass%20Classification.ipynb#scrollTo=0ec7fad6\n"
      ]
    },
    {
      "cell_type": "code",
      "execution_count": null,
      "id": "0501f106-581e-43d6-9559-6e0df00eae41",
      "metadata": {
        "id": "0501f106-581e-43d6-9559-6e0df00eae41",
        "outputId": "36d0b646-0c89-439f-e345-84b9344648b8"
      },
      "outputs": [
        {
          "data": {
            "text/html": [
              "<div>\n",
              "<style scoped>\n",
              "    .dataframe tbody tr th:only-of-type {\n",
              "        vertical-align: middle;\n",
              "    }\n",
              "\n",
              "    .dataframe tbody tr th {\n",
              "        vertical-align: top;\n",
              "    }\n",
              "\n",
              "    .dataframe thead th {\n",
              "        text-align: right;\n",
              "    }\n",
              "</style>\n",
              "<table border=\"1\" class=\"dataframe\">\n",
              "  <thead>\n",
              "    <tr style=\"text-align: right;\">\n",
              "      <th></th>\n",
              "      <th>sepal_length</th>\n",
              "      <th>sepal_width</th>\n",
              "      <th>petal_length</th>\n",
              "      <th>petal_width</th>\n",
              "      <th>species</th>\n",
              "    </tr>\n",
              "  </thead>\n",
              "  <tbody>\n",
              "    <tr>\n",
              "      <th>0</th>\n",
              "      <td>5.1</td>\n",
              "      <td>3.5</td>\n",
              "      <td>1.4</td>\n",
              "      <td>0.2</td>\n",
              "      <td>Iris-setosa</td>\n",
              "    </tr>\n",
              "    <tr>\n",
              "      <th>1</th>\n",
              "      <td>4.9</td>\n",
              "      <td>3.0</td>\n",
              "      <td>1.4</td>\n",
              "      <td>0.2</td>\n",
              "      <td>Iris-setosa</td>\n",
              "    </tr>\n",
              "    <tr>\n",
              "      <th>2</th>\n",
              "      <td>4.7</td>\n",
              "      <td>3.2</td>\n",
              "      <td>1.3</td>\n",
              "      <td>0.2</td>\n",
              "      <td>Iris-setosa</td>\n",
              "    </tr>\n",
              "    <tr>\n",
              "      <th>3</th>\n",
              "      <td>4.6</td>\n",
              "      <td>3.1</td>\n",
              "      <td>1.5</td>\n",
              "      <td>0.2</td>\n",
              "      <td>Iris-setosa</td>\n",
              "    </tr>\n",
              "    <tr>\n",
              "      <th>4</th>\n",
              "      <td>5.0</td>\n",
              "      <td>3.6</td>\n",
              "      <td>1.4</td>\n",
              "      <td>0.2</td>\n",
              "      <td>Iris-setosa</td>\n",
              "    </tr>\n",
              "  </tbody>\n",
              "</table>\n",
              "</div>"
            ],
            "text/plain": [
              "   sepal_length  sepal_width  petal_length  petal_width      species\n",
              "0           5.1          3.5           1.4          0.2  Iris-setosa\n",
              "1           4.9          3.0           1.4          0.2  Iris-setosa\n",
              "2           4.7          3.2           1.3          0.2  Iris-setosa\n",
              "3           4.6          3.1           1.5          0.2  Iris-setosa\n",
              "4           5.0          3.6           1.4          0.2  Iris-setosa"
            ]
          },
          "metadata": {},
          "output_type": "display_data"
        }
      ],
      "source": [
        "# loading sample dataset from pycaret dataset module\n",
        "from pycaret.datasets import get_data\n",
        "data = get_data('iris')"
      ]
    },
    {
      "cell_type": "code",
      "execution_count": null,
      "id": "d0807d76-499b-4583-ae06-63274100f3bf",
      "metadata": {
        "id": "d0807d76-499b-4583-ae06-63274100f3bf",
        "outputId": "8ecef834-65d6-4016-f269-620dcea07f17"
      },
      "outputs": [
        {
          "data": {
            "text/html": [
              "<style type=\"text/css\">\n",
              "#T_ba71e_row9_col1 {\n",
              "  background-color: lightgreen;\n",
              "}\n",
              "</style>\n",
              "<table id=\"T_ba71e\">\n",
              "  <thead>\n",
              "    <tr>\n",
              "      <th class=\"blank level0\" >&nbsp;</th>\n",
              "      <th id=\"T_ba71e_level0_col0\" class=\"col_heading level0 col0\" >Description</th>\n",
              "      <th id=\"T_ba71e_level0_col1\" class=\"col_heading level0 col1\" >Value</th>\n",
              "    </tr>\n",
              "  </thead>\n",
              "  <tbody>\n",
              "    <tr>\n",
              "      <th id=\"T_ba71e_level0_row0\" class=\"row_heading level0 row0\" >0</th>\n",
              "      <td id=\"T_ba71e_row0_col0\" class=\"data row0 col0\" >Session id</td>\n",
              "      <td id=\"T_ba71e_row0_col1\" class=\"data row0 col1\" >123</td>\n",
              "    </tr>\n",
              "    <tr>\n",
              "      <th id=\"T_ba71e_level0_row1\" class=\"row_heading level0 row1\" >1</th>\n",
              "      <td id=\"T_ba71e_row1_col0\" class=\"data row1 col0\" >Target</td>\n",
              "      <td id=\"T_ba71e_row1_col1\" class=\"data row1 col1\" >species</td>\n",
              "    </tr>\n",
              "    <tr>\n",
              "      <th id=\"T_ba71e_level0_row2\" class=\"row_heading level0 row2\" >2</th>\n",
              "      <td id=\"T_ba71e_row2_col0\" class=\"data row2 col0\" >Target type</td>\n",
              "      <td id=\"T_ba71e_row2_col1\" class=\"data row2 col1\" >Multiclass</td>\n",
              "    </tr>\n",
              "    <tr>\n",
              "      <th id=\"T_ba71e_level0_row3\" class=\"row_heading level0 row3\" >3</th>\n",
              "      <td id=\"T_ba71e_row3_col0\" class=\"data row3 col0\" >Target mapping</td>\n",
              "      <td id=\"T_ba71e_row3_col1\" class=\"data row3 col1\" >Iris-setosa: 0, Iris-versicolor: 1, Iris-virginica: 2</td>\n",
              "    </tr>\n",
              "    <tr>\n",
              "      <th id=\"T_ba71e_level0_row4\" class=\"row_heading level0 row4\" >4</th>\n",
              "      <td id=\"T_ba71e_row4_col0\" class=\"data row4 col0\" >Original data shape</td>\n",
              "      <td id=\"T_ba71e_row4_col1\" class=\"data row4 col1\" >(150, 5)</td>\n",
              "    </tr>\n",
              "    <tr>\n",
              "      <th id=\"T_ba71e_level0_row5\" class=\"row_heading level0 row5\" >5</th>\n",
              "      <td id=\"T_ba71e_row5_col0\" class=\"data row5 col0\" >Transformed data shape</td>\n",
              "      <td id=\"T_ba71e_row5_col1\" class=\"data row5 col1\" >(150, 5)</td>\n",
              "    </tr>\n",
              "    <tr>\n",
              "      <th id=\"T_ba71e_level0_row6\" class=\"row_heading level0 row6\" >6</th>\n",
              "      <td id=\"T_ba71e_row6_col0\" class=\"data row6 col0\" >Transformed train set shape</td>\n",
              "      <td id=\"T_ba71e_row6_col1\" class=\"data row6 col1\" >(105, 5)</td>\n",
              "    </tr>\n",
              "    <tr>\n",
              "      <th id=\"T_ba71e_level0_row7\" class=\"row_heading level0 row7\" >7</th>\n",
              "      <td id=\"T_ba71e_row7_col0\" class=\"data row7 col0\" >Transformed test set shape</td>\n",
              "      <td id=\"T_ba71e_row7_col1\" class=\"data row7 col1\" >(45, 5)</td>\n",
              "    </tr>\n",
              "    <tr>\n",
              "      <th id=\"T_ba71e_level0_row8\" class=\"row_heading level0 row8\" >8</th>\n",
              "      <td id=\"T_ba71e_row8_col0\" class=\"data row8 col0\" >Numeric features</td>\n",
              "      <td id=\"T_ba71e_row8_col1\" class=\"data row8 col1\" >4</td>\n",
              "    </tr>\n",
              "    <tr>\n",
              "      <th id=\"T_ba71e_level0_row9\" class=\"row_heading level0 row9\" >9</th>\n",
              "      <td id=\"T_ba71e_row9_col0\" class=\"data row9 col0\" >Preprocess</td>\n",
              "      <td id=\"T_ba71e_row9_col1\" class=\"data row9 col1\" >True</td>\n",
              "    </tr>\n",
              "    <tr>\n",
              "      <th id=\"T_ba71e_level0_row10\" class=\"row_heading level0 row10\" >10</th>\n",
              "      <td id=\"T_ba71e_row10_col0\" class=\"data row10 col0\" >Imputation type</td>\n",
              "      <td id=\"T_ba71e_row10_col1\" class=\"data row10 col1\" >simple</td>\n",
              "    </tr>\n",
              "    <tr>\n",
              "      <th id=\"T_ba71e_level0_row11\" class=\"row_heading level0 row11\" >11</th>\n",
              "      <td id=\"T_ba71e_row11_col0\" class=\"data row11 col0\" >Numeric imputation</td>\n",
              "      <td id=\"T_ba71e_row11_col1\" class=\"data row11 col1\" >mean</td>\n",
              "    </tr>\n",
              "    <tr>\n",
              "      <th id=\"T_ba71e_level0_row12\" class=\"row_heading level0 row12\" >12</th>\n",
              "      <td id=\"T_ba71e_row12_col0\" class=\"data row12 col0\" >Categorical imputation</td>\n",
              "      <td id=\"T_ba71e_row12_col1\" class=\"data row12 col1\" >mode</td>\n",
              "    </tr>\n",
              "    <tr>\n",
              "      <th id=\"T_ba71e_level0_row13\" class=\"row_heading level0 row13\" >13</th>\n",
              "      <td id=\"T_ba71e_row13_col0\" class=\"data row13 col0\" >Fold Generator</td>\n",
              "      <td id=\"T_ba71e_row13_col1\" class=\"data row13 col1\" >StratifiedKFold</td>\n",
              "    </tr>\n",
              "    <tr>\n",
              "      <th id=\"T_ba71e_level0_row14\" class=\"row_heading level0 row14\" >14</th>\n",
              "      <td id=\"T_ba71e_row14_col0\" class=\"data row14 col0\" >Fold Number</td>\n",
              "      <td id=\"T_ba71e_row14_col1\" class=\"data row14 col1\" >10</td>\n",
              "    </tr>\n",
              "    <tr>\n",
              "      <th id=\"T_ba71e_level0_row15\" class=\"row_heading level0 row15\" >15</th>\n",
              "      <td id=\"T_ba71e_row15_col0\" class=\"data row15 col0\" >CPU Jobs</td>\n",
              "      <td id=\"T_ba71e_row15_col1\" class=\"data row15 col1\" >-1</td>\n",
              "    </tr>\n",
              "    <tr>\n",
              "      <th id=\"T_ba71e_level0_row16\" class=\"row_heading level0 row16\" >16</th>\n",
              "      <td id=\"T_ba71e_row16_col0\" class=\"data row16 col0\" >Use GPU</td>\n",
              "      <td id=\"T_ba71e_row16_col1\" class=\"data row16 col1\" >False</td>\n",
              "    </tr>\n",
              "    <tr>\n",
              "      <th id=\"T_ba71e_level0_row17\" class=\"row_heading level0 row17\" >17</th>\n",
              "      <td id=\"T_ba71e_row17_col0\" class=\"data row17 col0\" >Log Experiment</td>\n",
              "      <td id=\"T_ba71e_row17_col1\" class=\"data row17 col1\" >False</td>\n",
              "    </tr>\n",
              "    <tr>\n",
              "      <th id=\"T_ba71e_level0_row18\" class=\"row_heading level0 row18\" >18</th>\n",
              "      <td id=\"T_ba71e_row18_col0\" class=\"data row18 col0\" >Experiment Name</td>\n",
              "      <td id=\"T_ba71e_row18_col1\" class=\"data row18 col1\" >clf-default-name</td>\n",
              "    </tr>\n",
              "    <tr>\n",
              "      <th id=\"T_ba71e_level0_row19\" class=\"row_heading level0 row19\" >19</th>\n",
              "      <td id=\"T_ba71e_row19_col0\" class=\"data row19 col0\" >USI</td>\n",
              "      <td id=\"T_ba71e_row19_col1\" class=\"data row19 col1\" >cf69</td>\n",
              "    </tr>\n",
              "  </tbody>\n",
              "</table>\n"
            ],
            "text/plain": [
              "<pandas.io.formats.style.Styler at 0x2851655c0d0>"
            ]
          },
          "metadata": {},
          "output_type": "display_data"
        }
      ],
      "source": [
        "# import pycaret classification and init setup\n",
        "from pycaret.classification import *\n",
        "s = setup(data, target = 'species', session_id = 123)"
      ]
    },
    {
      "cell_type": "code",
      "execution_count": null,
      "id": "7956ae47-f84f-455b-94b5-9e393b30b88d",
      "metadata": {
        "id": "7956ae47-f84f-455b-94b5-9e393b30b88d"
      },
      "outputs": [],
      "source": [
        "# import ClassificationExperiment and init the class\n",
        "from pycaret.classification import ClassificationExperiment\n",
        "exp = ClassificationExperiment()"
      ]
    },
    {
      "cell_type": "code",
      "execution_count": null,
      "id": "909aa0f5-a96d-449e-8963-c887702a2f31",
      "metadata": {
        "id": "909aa0f5-a96d-449e-8963-c887702a2f31",
        "outputId": "dc27c470-2a7a-4681-eca3-ef68e4627be1"
      },
      "outputs": [
        {
          "data": {
            "text/plain": [
              "pycaret.classification.oop.ClassificationExperiment"
            ]
          },
          "execution_count": 6,
          "metadata": {},
          "output_type": "execute_result"
        }
      ],
      "source": [
        "# check the type of exp\n",
        "type(exp)"
      ]
    },
    {
      "cell_type": "code",
      "execution_count": null,
      "id": "075f6b8c-479f-4952-8fa9-289f202fe4b4",
      "metadata": {
        "id": "075f6b8c-479f-4952-8fa9-289f202fe4b4",
        "outputId": "ca0486b7-be32-4b18-b9b8-14ec775fcf8b"
      },
      "outputs": [
        {
          "data": {
            "text/html": [
              "<style type=\"text/css\">\n",
              "#T_be178_row9_col1 {\n",
              "  background-color: lightgreen;\n",
              "}\n",
              "</style>\n",
              "<table id=\"T_be178\">\n",
              "  <thead>\n",
              "    <tr>\n",
              "      <th class=\"blank level0\" >&nbsp;</th>\n",
              "      <th id=\"T_be178_level0_col0\" class=\"col_heading level0 col0\" >Description</th>\n",
              "      <th id=\"T_be178_level0_col1\" class=\"col_heading level0 col1\" >Value</th>\n",
              "    </tr>\n",
              "  </thead>\n",
              "  <tbody>\n",
              "    <tr>\n",
              "      <th id=\"T_be178_level0_row0\" class=\"row_heading level0 row0\" >0</th>\n",
              "      <td id=\"T_be178_row0_col0\" class=\"data row0 col0\" >Session id</td>\n",
              "      <td id=\"T_be178_row0_col1\" class=\"data row0 col1\" >123</td>\n",
              "    </tr>\n",
              "    <tr>\n",
              "      <th id=\"T_be178_level0_row1\" class=\"row_heading level0 row1\" >1</th>\n",
              "      <td id=\"T_be178_row1_col0\" class=\"data row1 col0\" >Target</td>\n",
              "      <td id=\"T_be178_row1_col1\" class=\"data row1 col1\" >species</td>\n",
              "    </tr>\n",
              "    <tr>\n",
              "      <th id=\"T_be178_level0_row2\" class=\"row_heading level0 row2\" >2</th>\n",
              "      <td id=\"T_be178_row2_col0\" class=\"data row2 col0\" >Target type</td>\n",
              "      <td id=\"T_be178_row2_col1\" class=\"data row2 col1\" >Multiclass</td>\n",
              "    </tr>\n",
              "    <tr>\n",
              "      <th id=\"T_be178_level0_row3\" class=\"row_heading level0 row3\" >3</th>\n",
              "      <td id=\"T_be178_row3_col0\" class=\"data row3 col0\" >Target mapping</td>\n",
              "      <td id=\"T_be178_row3_col1\" class=\"data row3 col1\" >Iris-setosa: 0, Iris-versicolor: 1, Iris-virginica: 2</td>\n",
              "    </tr>\n",
              "    <tr>\n",
              "      <th id=\"T_be178_level0_row4\" class=\"row_heading level0 row4\" >4</th>\n",
              "      <td id=\"T_be178_row4_col0\" class=\"data row4 col0\" >Original data shape</td>\n",
              "      <td id=\"T_be178_row4_col1\" class=\"data row4 col1\" >(150, 5)</td>\n",
              "    </tr>\n",
              "    <tr>\n",
              "      <th id=\"T_be178_level0_row5\" class=\"row_heading level0 row5\" >5</th>\n",
              "      <td id=\"T_be178_row5_col0\" class=\"data row5 col0\" >Transformed data shape</td>\n",
              "      <td id=\"T_be178_row5_col1\" class=\"data row5 col1\" >(150, 5)</td>\n",
              "    </tr>\n",
              "    <tr>\n",
              "      <th id=\"T_be178_level0_row6\" class=\"row_heading level0 row6\" >6</th>\n",
              "      <td id=\"T_be178_row6_col0\" class=\"data row6 col0\" >Transformed train set shape</td>\n",
              "      <td id=\"T_be178_row6_col1\" class=\"data row6 col1\" >(105, 5)</td>\n",
              "    </tr>\n",
              "    <tr>\n",
              "      <th id=\"T_be178_level0_row7\" class=\"row_heading level0 row7\" >7</th>\n",
              "      <td id=\"T_be178_row7_col0\" class=\"data row7 col0\" >Transformed test set shape</td>\n",
              "      <td id=\"T_be178_row7_col1\" class=\"data row7 col1\" >(45, 5)</td>\n",
              "    </tr>\n",
              "    <tr>\n",
              "      <th id=\"T_be178_level0_row8\" class=\"row_heading level0 row8\" >8</th>\n",
              "      <td id=\"T_be178_row8_col0\" class=\"data row8 col0\" >Numeric features</td>\n",
              "      <td id=\"T_be178_row8_col1\" class=\"data row8 col1\" >4</td>\n",
              "    </tr>\n",
              "    <tr>\n",
              "      <th id=\"T_be178_level0_row9\" class=\"row_heading level0 row9\" >9</th>\n",
              "      <td id=\"T_be178_row9_col0\" class=\"data row9 col0\" >Preprocess</td>\n",
              "      <td id=\"T_be178_row9_col1\" class=\"data row9 col1\" >True</td>\n",
              "    </tr>\n",
              "    <tr>\n",
              "      <th id=\"T_be178_level0_row10\" class=\"row_heading level0 row10\" >10</th>\n",
              "      <td id=\"T_be178_row10_col0\" class=\"data row10 col0\" >Imputation type</td>\n",
              "      <td id=\"T_be178_row10_col1\" class=\"data row10 col1\" >simple</td>\n",
              "    </tr>\n",
              "    <tr>\n",
              "      <th id=\"T_be178_level0_row11\" class=\"row_heading level0 row11\" >11</th>\n",
              "      <td id=\"T_be178_row11_col0\" class=\"data row11 col0\" >Numeric imputation</td>\n",
              "      <td id=\"T_be178_row11_col1\" class=\"data row11 col1\" >mean</td>\n",
              "    </tr>\n",
              "    <tr>\n",
              "      <th id=\"T_be178_level0_row12\" class=\"row_heading level0 row12\" >12</th>\n",
              "      <td id=\"T_be178_row12_col0\" class=\"data row12 col0\" >Categorical imputation</td>\n",
              "      <td id=\"T_be178_row12_col1\" class=\"data row12 col1\" >mode</td>\n",
              "    </tr>\n",
              "    <tr>\n",
              "      <th id=\"T_be178_level0_row13\" class=\"row_heading level0 row13\" >13</th>\n",
              "      <td id=\"T_be178_row13_col0\" class=\"data row13 col0\" >Fold Generator</td>\n",
              "      <td id=\"T_be178_row13_col1\" class=\"data row13 col1\" >StratifiedKFold</td>\n",
              "    </tr>\n",
              "    <tr>\n",
              "      <th id=\"T_be178_level0_row14\" class=\"row_heading level0 row14\" >14</th>\n",
              "      <td id=\"T_be178_row14_col0\" class=\"data row14 col0\" >Fold Number</td>\n",
              "      <td id=\"T_be178_row14_col1\" class=\"data row14 col1\" >10</td>\n",
              "    </tr>\n",
              "    <tr>\n",
              "      <th id=\"T_be178_level0_row15\" class=\"row_heading level0 row15\" >15</th>\n",
              "      <td id=\"T_be178_row15_col0\" class=\"data row15 col0\" >CPU Jobs</td>\n",
              "      <td id=\"T_be178_row15_col1\" class=\"data row15 col1\" >-1</td>\n",
              "    </tr>\n",
              "    <tr>\n",
              "      <th id=\"T_be178_level0_row16\" class=\"row_heading level0 row16\" >16</th>\n",
              "      <td id=\"T_be178_row16_col0\" class=\"data row16 col0\" >Use GPU</td>\n",
              "      <td id=\"T_be178_row16_col1\" class=\"data row16 col1\" >False</td>\n",
              "    </tr>\n",
              "    <tr>\n",
              "      <th id=\"T_be178_level0_row17\" class=\"row_heading level0 row17\" >17</th>\n",
              "      <td id=\"T_be178_row17_col0\" class=\"data row17 col0\" >Log Experiment</td>\n",
              "      <td id=\"T_be178_row17_col1\" class=\"data row17 col1\" >False</td>\n",
              "    </tr>\n",
              "    <tr>\n",
              "      <th id=\"T_be178_level0_row18\" class=\"row_heading level0 row18\" >18</th>\n",
              "      <td id=\"T_be178_row18_col0\" class=\"data row18 col0\" >Experiment Name</td>\n",
              "      <td id=\"T_be178_row18_col1\" class=\"data row18 col1\" >clf-default-name</td>\n",
              "    </tr>\n",
              "    <tr>\n",
              "      <th id=\"T_be178_level0_row19\" class=\"row_heading level0 row19\" >19</th>\n",
              "      <td id=\"T_be178_row19_col0\" class=\"data row19 col0\" >USI</td>\n",
              "      <td id=\"T_be178_row19_col1\" class=\"data row19 col1\" >1511</td>\n",
              "    </tr>\n",
              "  </tbody>\n",
              "</table>\n"
            ],
            "text/plain": [
              "<pandas.io.formats.style.Styler at 0x285168f9a80>"
            ]
          },
          "metadata": {},
          "output_type": "display_data"
        },
        {
          "data": {
            "text/plain": [
              "<pycaret.classification.oop.ClassificationExperiment at 0x285028729b0>"
            ]
          },
          "execution_count": 7,
          "metadata": {},
          "output_type": "execute_result"
        }
      ],
      "source": [
        "# init setup on exp\n",
        "exp.setup(data, target = 'species', session_id = 123)"
      ]
    },
    {
      "cell_type": "code",
      "execution_count": null,
      "id": "a8b2d0e2-460a-43e5-b886-ac1c0cbe33b5",
      "metadata": {
        "id": "a8b2d0e2-460a-43e5-b886-ac1c0cbe33b5",
        "outputId": "ea7e2bb6-1e68-4740-dc0d-1c67008bca64"
      },
      "outputs": [
        {
          "data": {
            "text/html": [],
            "text/plain": [
              "<IPython.core.display.HTML object>"
            ]
          },
          "metadata": {},
          "output_type": "display_data"
        },
        {
          "data": {
            "text/html": [
              "<style type=\"text/css\">\n",
              "#T_467ec th {\n",
              "  text-align: left;\n",
              "}\n",
              "#T_467ec_row0_col0, #T_467ec_row0_col2, #T_467ec_row1_col0, #T_467ec_row1_col2, #T_467ec_row2_col0, #T_467ec_row2_col2, #T_467ec_row3_col0, #T_467ec_row4_col0, #T_467ec_row4_col1, #T_467ec_row4_col2, #T_467ec_row4_col3, #T_467ec_row4_col4, #T_467ec_row4_col5, #T_467ec_row4_col6, #T_467ec_row4_col7, #T_467ec_row5_col0, #T_467ec_row5_col1, #T_467ec_row5_col2, #T_467ec_row5_col3, #T_467ec_row5_col4, #T_467ec_row5_col5, #T_467ec_row5_col6, #T_467ec_row5_col7, #T_467ec_row6_col0, #T_467ec_row6_col1, #T_467ec_row6_col2, #T_467ec_row6_col3, #T_467ec_row6_col4, #T_467ec_row6_col5, #T_467ec_row6_col6, #T_467ec_row6_col7, #T_467ec_row7_col0, #T_467ec_row7_col1, #T_467ec_row7_col2, #T_467ec_row7_col3, #T_467ec_row7_col4, #T_467ec_row7_col5, #T_467ec_row7_col6, #T_467ec_row7_col7, #T_467ec_row8_col0, #T_467ec_row8_col1, #T_467ec_row8_col2, #T_467ec_row8_col3, #T_467ec_row8_col4, #T_467ec_row8_col5, #T_467ec_row8_col6, #T_467ec_row8_col7, #T_467ec_row9_col0, #T_467ec_row9_col1, #T_467ec_row9_col2, #T_467ec_row9_col3, #T_467ec_row9_col4, #T_467ec_row9_col5, #T_467ec_row9_col6, #T_467ec_row9_col7, #T_467ec_row10_col0, #T_467ec_row10_col1, #T_467ec_row10_col2, #T_467ec_row10_col3, #T_467ec_row10_col4, #T_467ec_row10_col5, #T_467ec_row10_col6, #T_467ec_row10_col7, #T_467ec_row11_col0, #T_467ec_row11_col1, #T_467ec_row11_col2, #T_467ec_row11_col3, #T_467ec_row11_col4, #T_467ec_row11_col5, #T_467ec_row11_col6, #T_467ec_row11_col7, #T_467ec_row12_col0, #T_467ec_row12_col1, #T_467ec_row12_col2, #T_467ec_row12_col3, #T_467ec_row12_col4, #T_467ec_row12_col5, #T_467ec_row12_col6, #T_467ec_row12_col7, #T_467ec_row13_col0, #T_467ec_row13_col1, #T_467ec_row13_col2, #T_467ec_row13_col3, #T_467ec_row13_col4, #T_467ec_row13_col5, #T_467ec_row13_col6, #T_467ec_row13_col7 {\n",
              "  text-align: left;\n",
              "}\n",
              "#T_467ec_row0_col1, #T_467ec_row0_col3, #T_467ec_row0_col4, #T_467ec_row0_col5, #T_467ec_row0_col6, #T_467ec_row0_col7, #T_467ec_row1_col1, #T_467ec_row1_col3, #T_467ec_row1_col4, #T_467ec_row1_col5, #T_467ec_row1_col6, #T_467ec_row1_col7, #T_467ec_row2_col1, #T_467ec_row2_col3, #T_467ec_row2_col4, #T_467ec_row2_col5, #T_467ec_row2_col6, #T_467ec_row2_col7, #T_467ec_row3_col1, #T_467ec_row3_col2, #T_467ec_row3_col3, #T_467ec_row3_col4, #T_467ec_row3_col5, #T_467ec_row3_col6, #T_467ec_row3_col7 {\n",
              "  text-align: left;\n",
              "  background-color: yellow;\n",
              "}\n",
              "#T_467ec_row0_col8, #T_467ec_row1_col8, #T_467ec_row2_col8, #T_467ec_row3_col8, #T_467ec_row4_col8, #T_467ec_row5_col8, #T_467ec_row6_col8, #T_467ec_row7_col8, #T_467ec_row8_col8, #T_467ec_row9_col8, #T_467ec_row10_col8, #T_467ec_row11_col8, #T_467ec_row12_col8 {\n",
              "  text-align: left;\n",
              "  background-color: lightgrey;\n",
              "}\n",
              "#T_467ec_row13_col8 {\n",
              "  text-align: left;\n",
              "  background-color: yellow;\n",
              "  background-color: lightgrey;\n",
              "}\n",
              "</style>\n",
              "<table id=\"T_467ec\">\n",
              "  <thead>\n",
              "    <tr>\n",
              "      <th class=\"blank level0\" >&nbsp;</th>\n",
              "      <th id=\"T_467ec_level0_col0\" class=\"col_heading level0 col0\" >Model</th>\n",
              "      <th id=\"T_467ec_level0_col1\" class=\"col_heading level0 col1\" >Accuracy</th>\n",
              "      <th id=\"T_467ec_level0_col2\" class=\"col_heading level0 col2\" >AUC</th>\n",
              "      <th id=\"T_467ec_level0_col3\" class=\"col_heading level0 col3\" >Recall</th>\n",
              "      <th id=\"T_467ec_level0_col4\" class=\"col_heading level0 col4\" >Prec.</th>\n",
              "      <th id=\"T_467ec_level0_col5\" class=\"col_heading level0 col5\" >F1</th>\n",
              "      <th id=\"T_467ec_level0_col6\" class=\"col_heading level0 col6\" >Kappa</th>\n",
              "      <th id=\"T_467ec_level0_col7\" class=\"col_heading level0 col7\" >MCC</th>\n",
              "      <th id=\"T_467ec_level0_col8\" class=\"col_heading level0 col8\" >TT (Sec)</th>\n",
              "    </tr>\n",
              "  </thead>\n",
              "  <tbody>\n",
              "    <tr>\n",
              "      <th id=\"T_467ec_level0_row0\" class=\"row_heading level0 row0\" >lr</th>\n",
              "      <td id=\"T_467ec_row0_col0\" class=\"data row0 col0\" >Logistic Regression</td>\n",
              "      <td id=\"T_467ec_row0_col1\" class=\"data row0 col1\" >0.9718</td>\n",
              "      <td id=\"T_467ec_row0_col2\" class=\"data row0 col2\" >0.9971</td>\n",
              "      <td id=\"T_467ec_row0_col3\" class=\"data row0 col3\" >0.9718</td>\n",
              "      <td id=\"T_467ec_row0_col4\" class=\"data row0 col4\" >0.9780</td>\n",
              "      <td id=\"T_467ec_row0_col5\" class=\"data row0 col5\" >0.9712</td>\n",
              "      <td id=\"T_467ec_row0_col6\" class=\"data row0 col6\" >0.9573</td>\n",
              "      <td id=\"T_467ec_row0_col7\" class=\"data row0 col7\" >0.9609</td>\n",
              "      <td id=\"T_467ec_row0_col8\" class=\"data row0 col8\" >2.0720</td>\n",
              "    </tr>\n",
              "    <tr>\n",
              "      <th id=\"T_467ec_level0_row1\" class=\"row_heading level0 row1\" >knn</th>\n",
              "      <td id=\"T_467ec_row1_col0\" class=\"data row1 col0\" >K Neighbors Classifier</td>\n",
              "      <td id=\"T_467ec_row1_col1\" class=\"data row1 col1\" >0.9718</td>\n",
              "      <td id=\"T_467ec_row1_col2\" class=\"data row1 col2\" >0.9830</td>\n",
              "      <td id=\"T_467ec_row1_col3\" class=\"data row1 col3\" >0.9718</td>\n",
              "      <td id=\"T_467ec_row1_col4\" class=\"data row1 col4\" >0.9780</td>\n",
              "      <td id=\"T_467ec_row1_col5\" class=\"data row1 col5\" >0.9712</td>\n",
              "      <td id=\"T_467ec_row1_col6\" class=\"data row1 col6\" >0.9573</td>\n",
              "      <td id=\"T_467ec_row1_col7\" class=\"data row1 col7\" >0.9609</td>\n",
              "      <td id=\"T_467ec_row1_col8\" class=\"data row1 col8\" >0.0890</td>\n",
              "    </tr>\n",
              "    <tr>\n",
              "      <th id=\"T_467ec_level0_row2\" class=\"row_heading level0 row2\" >qda</th>\n",
              "      <td id=\"T_467ec_row2_col0\" class=\"data row2 col0\" >Quadratic Discriminant Analysis</td>\n",
              "      <td id=\"T_467ec_row2_col1\" class=\"data row2 col1\" >0.9718</td>\n",
              "      <td id=\"T_467ec_row2_col2\" class=\"data row2 col2\" >0.9974</td>\n",
              "      <td id=\"T_467ec_row2_col3\" class=\"data row2 col3\" >0.9718</td>\n",
              "      <td id=\"T_467ec_row2_col4\" class=\"data row2 col4\" >0.9780</td>\n",
              "      <td id=\"T_467ec_row2_col5\" class=\"data row2 col5\" >0.9712</td>\n",
              "      <td id=\"T_467ec_row2_col6\" class=\"data row2 col6\" >0.9573</td>\n",
              "      <td id=\"T_467ec_row2_col7\" class=\"data row2 col7\" >0.9609</td>\n",
              "      <td id=\"T_467ec_row2_col8\" class=\"data row2 col8\" >0.0540</td>\n",
              "    </tr>\n",
              "    <tr>\n",
              "      <th id=\"T_467ec_level0_row3\" class=\"row_heading level0 row3\" >lda</th>\n",
              "      <td id=\"T_467ec_row3_col0\" class=\"data row3 col0\" >Linear Discriminant Analysis</td>\n",
              "      <td id=\"T_467ec_row3_col1\" class=\"data row3 col1\" >0.9718</td>\n",
              "      <td id=\"T_467ec_row3_col2\" class=\"data row3 col2\" >1.0000</td>\n",
              "      <td id=\"T_467ec_row3_col3\" class=\"data row3 col3\" >0.9718</td>\n",
              "      <td id=\"T_467ec_row3_col4\" class=\"data row3 col4\" >0.9780</td>\n",
              "      <td id=\"T_467ec_row3_col5\" class=\"data row3 col5\" >0.9712</td>\n",
              "      <td id=\"T_467ec_row3_col6\" class=\"data row3 col6\" >0.9573</td>\n",
              "      <td id=\"T_467ec_row3_col7\" class=\"data row3 col7\" >0.9609</td>\n",
              "      <td id=\"T_467ec_row3_col8\" class=\"data row3 col8\" >0.0380</td>\n",
              "    </tr>\n",
              "    <tr>\n",
              "      <th id=\"T_467ec_level0_row4\" class=\"row_heading level0 row4\" >lightgbm</th>\n",
              "      <td id=\"T_467ec_row4_col0\" class=\"data row4 col0\" >Light Gradient Boosting Machine</td>\n",
              "      <td id=\"T_467ec_row4_col1\" class=\"data row4 col1\" >0.9536</td>\n",
              "      <td id=\"T_467ec_row4_col2\" class=\"data row4 col2\" >0.9935</td>\n",
              "      <td id=\"T_467ec_row4_col3\" class=\"data row4 col3\" >0.9536</td>\n",
              "      <td id=\"T_467ec_row4_col4\" class=\"data row4 col4\" >0.9634</td>\n",
              "      <td id=\"T_467ec_row4_col5\" class=\"data row4 col5\" >0.9528</td>\n",
              "      <td id=\"T_467ec_row4_col6\" class=\"data row4 col6\" >0.9298</td>\n",
              "      <td id=\"T_467ec_row4_col7\" class=\"data row4 col7\" >0.9356</td>\n",
              "      <td id=\"T_467ec_row4_col8\" class=\"data row4 col8\" >0.5850</td>\n",
              "    </tr>\n",
              "    <tr>\n",
              "      <th id=\"T_467ec_level0_row5\" class=\"row_heading level0 row5\" >nb</th>\n",
              "      <td id=\"T_467ec_row5_col0\" class=\"data row5 col0\" >Naive Bayes</td>\n",
              "      <td id=\"T_467ec_row5_col1\" class=\"data row5 col1\" >0.9445</td>\n",
              "      <td id=\"T_467ec_row5_col2\" class=\"data row5 col2\" >0.9868</td>\n",
              "      <td id=\"T_467ec_row5_col3\" class=\"data row5 col3\" >0.9445</td>\n",
              "      <td id=\"T_467ec_row5_col4\" class=\"data row5 col4\" >0.9525</td>\n",
              "      <td id=\"T_467ec_row5_col5\" class=\"data row5 col5\" >0.9438</td>\n",
              "      <td id=\"T_467ec_row5_col6\" class=\"data row5 col6\" >0.9161</td>\n",
              "      <td id=\"T_467ec_row5_col7\" class=\"data row5 col7\" >0.9207</td>\n",
              "      <td id=\"T_467ec_row5_col8\" class=\"data row5 col8\" >0.0520</td>\n",
              "    </tr>\n",
              "    <tr>\n",
              "      <th id=\"T_467ec_level0_row6\" class=\"row_heading level0 row6\" >et</th>\n",
              "      <td id=\"T_467ec_row6_col0\" class=\"data row6 col0\" >Extra Trees Classifier</td>\n",
              "      <td id=\"T_467ec_row6_col1\" class=\"data row6 col1\" >0.9445</td>\n",
              "      <td id=\"T_467ec_row6_col2\" class=\"data row6 col2\" >0.9935</td>\n",
              "      <td id=\"T_467ec_row6_col3\" class=\"data row6 col3\" >0.9445</td>\n",
              "      <td id=\"T_467ec_row6_col4\" class=\"data row6 col4\" >0.9586</td>\n",
              "      <td id=\"T_467ec_row6_col5\" class=\"data row6 col5\" >0.9426</td>\n",
              "      <td id=\"T_467ec_row6_col6\" class=\"data row6 col6\" >0.9161</td>\n",
              "      <td id=\"T_467ec_row6_col7\" class=\"data row6 col7\" >0.9246</td>\n",
              "      <td id=\"T_467ec_row6_col8\" class=\"data row6 col8\" >0.2140</td>\n",
              "    </tr>\n",
              "    <tr>\n",
              "      <th id=\"T_467ec_level0_row7\" class=\"row_heading level0 row7\" >gbc</th>\n",
              "      <td id=\"T_467ec_row7_col0\" class=\"data row7 col0\" >Gradient Boosting Classifier</td>\n",
              "      <td id=\"T_467ec_row7_col1\" class=\"data row7 col1\" >0.9355</td>\n",
              "      <td id=\"T_467ec_row7_col2\" class=\"data row7 col2\" >0.9792</td>\n",
              "      <td id=\"T_467ec_row7_col3\" class=\"data row7 col3\" >0.9355</td>\n",
              "      <td id=\"T_467ec_row7_col4\" class=\"data row7 col4\" >0.9416</td>\n",
              "      <td id=\"T_467ec_row7_col5\" class=\"data row7 col5\" >0.9325</td>\n",
              "      <td id=\"T_467ec_row7_col6\" class=\"data row7 col6\" >0.9023</td>\n",
              "      <td id=\"T_467ec_row7_col7\" class=\"data row7 col7\" >0.9083</td>\n",
              "      <td id=\"T_467ec_row7_col8\" class=\"data row7 col8\" >0.2580</td>\n",
              "    </tr>\n",
              "    <tr>\n",
              "      <th id=\"T_467ec_level0_row8\" class=\"row_heading level0 row8\" >dt</th>\n",
              "      <td id=\"T_467ec_row8_col0\" class=\"data row8 col0\" >Decision Tree Classifier</td>\n",
              "      <td id=\"T_467ec_row8_col1\" class=\"data row8 col1\" >0.9264</td>\n",
              "      <td id=\"T_467ec_row8_col2\" class=\"data row8 col2\" >0.9429</td>\n",
              "      <td id=\"T_467ec_row8_col3\" class=\"data row8 col3\" >0.9264</td>\n",
              "      <td id=\"T_467ec_row8_col4\" class=\"data row8 col4\" >0.9502</td>\n",
              "      <td id=\"T_467ec_row8_col5\" class=\"data row8 col5\" >0.9201</td>\n",
              "      <td id=\"T_467ec_row8_col6\" class=\"data row8 col6\" >0.8886</td>\n",
              "      <td id=\"T_467ec_row8_col7\" class=\"data row8 col7\" >0.9040</td>\n",
              "      <td id=\"T_467ec_row8_col8\" class=\"data row8 col8\" >0.0490</td>\n",
              "    </tr>\n",
              "    <tr>\n",
              "      <th id=\"T_467ec_level0_row9\" class=\"row_heading level0 row9\" >rf</th>\n",
              "      <td id=\"T_467ec_row9_col0\" class=\"data row9 col0\" >Random Forest Classifier</td>\n",
              "      <td id=\"T_467ec_row9_col1\" class=\"data row9 col1\" >0.9264</td>\n",
              "      <td id=\"T_467ec_row9_col2\" class=\"data row9 col2\" >0.9909</td>\n",
              "      <td id=\"T_467ec_row9_col3\" class=\"data row9 col3\" >0.9264</td>\n",
              "      <td id=\"T_467ec_row9_col4\" class=\"data row9 col4\" >0.9343</td>\n",
              "      <td id=\"T_467ec_row9_col5\" class=\"data row9 col5\" >0.9232</td>\n",
              "      <td id=\"T_467ec_row9_col6\" class=\"data row9 col6\" >0.8886</td>\n",
              "      <td id=\"T_467ec_row9_col7\" class=\"data row9 col7\" >0.8956</td>\n",
              "      <td id=\"T_467ec_row9_col8\" class=\"data row9 col8\" >0.3540</td>\n",
              "    </tr>\n",
              "    <tr>\n",
              "      <th id=\"T_467ec_level0_row10\" class=\"row_heading level0 row10\" >ada</th>\n",
              "      <td id=\"T_467ec_row10_col0\" class=\"data row10 col0\" >Ada Boost Classifier</td>\n",
              "      <td id=\"T_467ec_row10_col1\" class=\"data row10 col1\" >0.9155</td>\n",
              "      <td id=\"T_467ec_row10_col2\" class=\"data row10 col2\" >0.9947</td>\n",
              "      <td id=\"T_467ec_row10_col3\" class=\"data row10 col3\" >0.9155</td>\n",
              "      <td id=\"T_467ec_row10_col4\" class=\"data row10 col4\" >0.9401</td>\n",
              "      <td id=\"T_467ec_row10_col5\" class=\"data row10 col5\" >0.9097</td>\n",
              "      <td id=\"T_467ec_row10_col6\" class=\"data row10 col6\" >0.8720</td>\n",
              "      <td id=\"T_467ec_row10_col7\" class=\"data row10 col7\" >0.8873</td>\n",
              "      <td id=\"T_467ec_row10_col8\" class=\"data row10 col8\" >0.1630</td>\n",
              "    </tr>\n",
              "    <tr>\n",
              "      <th id=\"T_467ec_level0_row11\" class=\"row_heading level0 row11\" >ridge</th>\n",
              "      <td id=\"T_467ec_row11_col0\" class=\"data row11 col0\" >Ridge Classifier</td>\n",
              "      <td id=\"T_467ec_row11_col1\" class=\"data row11 col1\" >0.8227</td>\n",
              "      <td id=\"T_467ec_row11_col2\" class=\"data row11 col2\" >0.0000</td>\n",
              "      <td id=\"T_467ec_row11_col3\" class=\"data row11 col3\" >0.8227</td>\n",
              "      <td id=\"T_467ec_row11_col4\" class=\"data row11 col4\" >0.8437</td>\n",
              "      <td id=\"T_467ec_row11_col5\" class=\"data row11 col5\" >0.8186</td>\n",
              "      <td id=\"T_467ec_row11_col6\" class=\"data row11 col6\" >0.7320</td>\n",
              "      <td id=\"T_467ec_row11_col7\" class=\"data row11 col7\" >0.7454</td>\n",
              "      <td id=\"T_467ec_row11_col8\" class=\"data row11 col8\" >0.0530</td>\n",
              "    </tr>\n",
              "    <tr>\n",
              "      <th id=\"T_467ec_level0_row12\" class=\"row_heading level0 row12\" >svm</th>\n",
              "      <td id=\"T_467ec_row12_col0\" class=\"data row12 col0\" >SVM - Linear Kernel</td>\n",
              "      <td id=\"T_467ec_row12_col1\" class=\"data row12 col1\" >0.7618</td>\n",
              "      <td id=\"T_467ec_row12_col2\" class=\"data row12 col2\" >0.0000</td>\n",
              "      <td id=\"T_467ec_row12_col3\" class=\"data row12 col3\" >0.7618</td>\n",
              "      <td id=\"T_467ec_row12_col4\" class=\"data row12 col4\" >0.6655</td>\n",
              "      <td id=\"T_467ec_row12_col5\" class=\"data row12 col5\" >0.6888</td>\n",
              "      <td id=\"T_467ec_row12_col6\" class=\"data row12 col6\" >0.6333</td>\n",
              "      <td id=\"T_467ec_row12_col7\" class=\"data row12 col7\" >0.7048</td>\n",
              "      <td id=\"T_467ec_row12_col8\" class=\"data row12 col8\" >0.0470</td>\n",
              "    </tr>\n",
              "    <tr>\n",
              "      <th id=\"T_467ec_level0_row13\" class=\"row_heading level0 row13\" >dummy</th>\n",
              "      <td id=\"T_467ec_row13_col0\" class=\"data row13 col0\" >Dummy Classifier</td>\n",
              "      <td id=\"T_467ec_row13_col1\" class=\"data row13 col1\" >0.2864</td>\n",
              "      <td id=\"T_467ec_row13_col2\" class=\"data row13 col2\" >0.5000</td>\n",
              "      <td id=\"T_467ec_row13_col3\" class=\"data row13 col3\" >0.2864</td>\n",
              "      <td id=\"T_467ec_row13_col4\" class=\"data row13 col4\" >0.0822</td>\n",
              "      <td id=\"T_467ec_row13_col5\" class=\"data row13 col5\" >0.1277</td>\n",
              "      <td id=\"T_467ec_row13_col6\" class=\"data row13 col6\" >0.0000</td>\n",
              "      <td id=\"T_467ec_row13_col7\" class=\"data row13 col7\" >0.0000</td>\n",
              "      <td id=\"T_467ec_row13_col8\" class=\"data row13 col8\" >0.0280</td>\n",
              "    </tr>\n",
              "  </tbody>\n",
              "</table>\n"
            ],
            "text/plain": [
              "<pandas.io.formats.style.Styler at 0x28502873340>"
            ]
          },
          "metadata": {},
          "output_type": "display_data"
        },
        {
          "data": {
            "text/html": [],
            "text/plain": [
              "<IPython.core.display.HTML object>"
            ]
          },
          "metadata": {},
          "output_type": "display_data"
        }
      ],
      "source": [
        "# compare baseline models\n",
        "best = compare_models()"
      ]
    },
    {
      "cell_type": "code",
      "execution_count": null,
      "id": "b9d95bd2-363f-4135-8901-caaf591d6f88",
      "metadata": {
        "id": "b9d95bd2-363f-4135-8901-caaf591d6f88",
        "outputId": "7f352ea0-777c-4b01-a7ae-d5254cac3d36"
      },
      "outputs": [
        {
          "data": {
            "text/html": [],
            "text/plain": [
              "<IPython.core.display.HTML object>"
            ]
          },
          "metadata": {},
          "output_type": "display_data"
        },
        {
          "data": {
            "text/html": [
              "<style type=\"text/css\">\n",
              "#T_67a5b th {\n",
              "  text-align: left;\n",
              "}\n",
              "#T_67a5b_row0_col0, #T_67a5b_row0_col2, #T_67a5b_row1_col0, #T_67a5b_row1_col2, #T_67a5b_row2_col0, #T_67a5b_row2_col2, #T_67a5b_row3_col0, #T_67a5b_row4_col0, #T_67a5b_row4_col1, #T_67a5b_row4_col2, #T_67a5b_row4_col3, #T_67a5b_row4_col4, #T_67a5b_row4_col5, #T_67a5b_row4_col6, #T_67a5b_row4_col7, #T_67a5b_row5_col0, #T_67a5b_row5_col1, #T_67a5b_row5_col2, #T_67a5b_row5_col3, #T_67a5b_row5_col4, #T_67a5b_row5_col5, #T_67a5b_row5_col6, #T_67a5b_row5_col7, #T_67a5b_row6_col0, #T_67a5b_row6_col1, #T_67a5b_row6_col2, #T_67a5b_row6_col3, #T_67a5b_row6_col4, #T_67a5b_row6_col5, #T_67a5b_row6_col6, #T_67a5b_row6_col7, #T_67a5b_row7_col0, #T_67a5b_row7_col1, #T_67a5b_row7_col2, #T_67a5b_row7_col3, #T_67a5b_row7_col4, #T_67a5b_row7_col5, #T_67a5b_row7_col6, #T_67a5b_row7_col7, #T_67a5b_row8_col0, #T_67a5b_row8_col1, #T_67a5b_row8_col2, #T_67a5b_row8_col3, #T_67a5b_row8_col4, #T_67a5b_row8_col5, #T_67a5b_row8_col6, #T_67a5b_row8_col7, #T_67a5b_row9_col0, #T_67a5b_row9_col1, #T_67a5b_row9_col2, #T_67a5b_row9_col3, #T_67a5b_row9_col4, #T_67a5b_row9_col5, #T_67a5b_row9_col6, #T_67a5b_row9_col7, #T_67a5b_row10_col0, #T_67a5b_row10_col1, #T_67a5b_row10_col2, #T_67a5b_row10_col3, #T_67a5b_row10_col4, #T_67a5b_row10_col5, #T_67a5b_row10_col6, #T_67a5b_row10_col7, #T_67a5b_row11_col0, #T_67a5b_row11_col1, #T_67a5b_row11_col2, #T_67a5b_row11_col3, #T_67a5b_row11_col4, #T_67a5b_row11_col5, #T_67a5b_row11_col6, #T_67a5b_row11_col7, #T_67a5b_row12_col0, #T_67a5b_row12_col1, #T_67a5b_row12_col2, #T_67a5b_row12_col3, #T_67a5b_row12_col4, #T_67a5b_row12_col5, #T_67a5b_row12_col6, #T_67a5b_row12_col7, #T_67a5b_row13_col0, #T_67a5b_row13_col1, #T_67a5b_row13_col2, #T_67a5b_row13_col3, #T_67a5b_row13_col4, #T_67a5b_row13_col5, #T_67a5b_row13_col6, #T_67a5b_row13_col7 {\n",
              "  text-align: left;\n",
              "}\n",
              "#T_67a5b_row0_col1, #T_67a5b_row0_col3, #T_67a5b_row0_col4, #T_67a5b_row0_col5, #T_67a5b_row0_col6, #T_67a5b_row0_col7, #T_67a5b_row1_col1, #T_67a5b_row1_col3, #T_67a5b_row1_col4, #T_67a5b_row1_col5, #T_67a5b_row1_col6, #T_67a5b_row1_col7, #T_67a5b_row2_col1, #T_67a5b_row2_col3, #T_67a5b_row2_col4, #T_67a5b_row2_col5, #T_67a5b_row2_col6, #T_67a5b_row2_col7, #T_67a5b_row3_col1, #T_67a5b_row3_col2, #T_67a5b_row3_col3, #T_67a5b_row3_col4, #T_67a5b_row3_col5, #T_67a5b_row3_col6, #T_67a5b_row3_col7 {\n",
              "  text-align: left;\n",
              "  background-color: yellow;\n",
              "}\n",
              "#T_67a5b_row0_col8, #T_67a5b_row1_col8, #T_67a5b_row2_col8, #T_67a5b_row3_col8, #T_67a5b_row4_col8, #T_67a5b_row6_col8, #T_67a5b_row7_col8, #T_67a5b_row8_col8, #T_67a5b_row9_col8, #T_67a5b_row10_col8, #T_67a5b_row11_col8, #T_67a5b_row12_col8, #T_67a5b_row13_col8 {\n",
              "  text-align: left;\n",
              "  background-color: lightgrey;\n",
              "}\n",
              "#T_67a5b_row5_col8 {\n",
              "  text-align: left;\n",
              "  background-color: yellow;\n",
              "  background-color: lightgrey;\n",
              "}\n",
              "</style>\n",
              "<table id=\"T_67a5b\">\n",
              "  <thead>\n",
              "    <tr>\n",
              "      <th class=\"blank level0\" >&nbsp;</th>\n",
              "      <th id=\"T_67a5b_level0_col0\" class=\"col_heading level0 col0\" >Model</th>\n",
              "      <th id=\"T_67a5b_level0_col1\" class=\"col_heading level0 col1\" >Accuracy</th>\n",
              "      <th id=\"T_67a5b_level0_col2\" class=\"col_heading level0 col2\" >AUC</th>\n",
              "      <th id=\"T_67a5b_level0_col3\" class=\"col_heading level0 col3\" >Recall</th>\n",
              "      <th id=\"T_67a5b_level0_col4\" class=\"col_heading level0 col4\" >Prec.</th>\n",
              "      <th id=\"T_67a5b_level0_col5\" class=\"col_heading level0 col5\" >F1</th>\n",
              "      <th id=\"T_67a5b_level0_col6\" class=\"col_heading level0 col6\" >Kappa</th>\n",
              "      <th id=\"T_67a5b_level0_col7\" class=\"col_heading level0 col7\" >MCC</th>\n",
              "      <th id=\"T_67a5b_level0_col8\" class=\"col_heading level0 col8\" >TT (Sec)</th>\n",
              "    </tr>\n",
              "  </thead>\n",
              "  <tbody>\n",
              "    <tr>\n",
              "      <th id=\"T_67a5b_level0_row0\" class=\"row_heading level0 row0\" >lr</th>\n",
              "      <td id=\"T_67a5b_row0_col0\" class=\"data row0 col0\" >Logistic Regression</td>\n",
              "      <td id=\"T_67a5b_row0_col1\" class=\"data row0 col1\" >0.9718</td>\n",
              "      <td id=\"T_67a5b_row0_col2\" class=\"data row0 col2\" >0.9971</td>\n",
              "      <td id=\"T_67a5b_row0_col3\" class=\"data row0 col3\" >0.9718</td>\n",
              "      <td id=\"T_67a5b_row0_col4\" class=\"data row0 col4\" >0.9780</td>\n",
              "      <td id=\"T_67a5b_row0_col5\" class=\"data row0 col5\" >0.9712</td>\n",
              "      <td id=\"T_67a5b_row0_col6\" class=\"data row0 col6\" >0.9573</td>\n",
              "      <td id=\"T_67a5b_row0_col7\" class=\"data row0 col7\" >0.9609</td>\n",
              "      <td id=\"T_67a5b_row0_col8\" class=\"data row0 col8\" >0.0530</td>\n",
              "    </tr>\n",
              "    <tr>\n",
              "      <th id=\"T_67a5b_level0_row1\" class=\"row_heading level0 row1\" >knn</th>\n",
              "      <td id=\"T_67a5b_row1_col0\" class=\"data row1 col0\" >K Neighbors Classifier</td>\n",
              "      <td id=\"T_67a5b_row1_col1\" class=\"data row1 col1\" >0.9718</td>\n",
              "      <td id=\"T_67a5b_row1_col2\" class=\"data row1 col2\" >0.9830</td>\n",
              "      <td id=\"T_67a5b_row1_col3\" class=\"data row1 col3\" >0.9718</td>\n",
              "      <td id=\"T_67a5b_row1_col4\" class=\"data row1 col4\" >0.9780</td>\n",
              "      <td id=\"T_67a5b_row1_col5\" class=\"data row1 col5\" >0.9712</td>\n",
              "      <td id=\"T_67a5b_row1_col6\" class=\"data row1 col6\" >0.9573</td>\n",
              "      <td id=\"T_67a5b_row1_col7\" class=\"data row1 col7\" >0.9609</td>\n",
              "      <td id=\"T_67a5b_row1_col8\" class=\"data row1 col8\" >0.0560</td>\n",
              "    </tr>\n",
              "    <tr>\n",
              "      <th id=\"T_67a5b_level0_row2\" class=\"row_heading level0 row2\" >qda</th>\n",
              "      <td id=\"T_67a5b_row2_col0\" class=\"data row2 col0\" >Quadratic Discriminant Analysis</td>\n",
              "      <td id=\"T_67a5b_row2_col1\" class=\"data row2 col1\" >0.9718</td>\n",
              "      <td id=\"T_67a5b_row2_col2\" class=\"data row2 col2\" >0.9974</td>\n",
              "      <td id=\"T_67a5b_row2_col3\" class=\"data row2 col3\" >0.9718</td>\n",
              "      <td id=\"T_67a5b_row2_col4\" class=\"data row2 col4\" >0.9780</td>\n",
              "      <td id=\"T_67a5b_row2_col5\" class=\"data row2 col5\" >0.9712</td>\n",
              "      <td id=\"T_67a5b_row2_col6\" class=\"data row2 col6\" >0.9573</td>\n",
              "      <td id=\"T_67a5b_row2_col7\" class=\"data row2 col7\" >0.9609</td>\n",
              "      <td id=\"T_67a5b_row2_col8\" class=\"data row2 col8\" >0.0470</td>\n",
              "    </tr>\n",
              "    <tr>\n",
              "      <th id=\"T_67a5b_level0_row3\" class=\"row_heading level0 row3\" >lda</th>\n",
              "      <td id=\"T_67a5b_row3_col0\" class=\"data row3 col0\" >Linear Discriminant Analysis</td>\n",
              "      <td id=\"T_67a5b_row3_col1\" class=\"data row3 col1\" >0.9718</td>\n",
              "      <td id=\"T_67a5b_row3_col2\" class=\"data row3 col2\" >1.0000</td>\n",
              "      <td id=\"T_67a5b_row3_col3\" class=\"data row3 col3\" >0.9718</td>\n",
              "      <td id=\"T_67a5b_row3_col4\" class=\"data row3 col4\" >0.9780</td>\n",
              "      <td id=\"T_67a5b_row3_col5\" class=\"data row3 col5\" >0.9712</td>\n",
              "      <td id=\"T_67a5b_row3_col6\" class=\"data row3 col6\" >0.9573</td>\n",
              "      <td id=\"T_67a5b_row3_col7\" class=\"data row3 col7\" >0.9609</td>\n",
              "      <td id=\"T_67a5b_row3_col8\" class=\"data row3 col8\" >0.0390</td>\n",
              "    </tr>\n",
              "    <tr>\n",
              "      <th id=\"T_67a5b_level0_row4\" class=\"row_heading level0 row4\" >lightgbm</th>\n",
              "      <td id=\"T_67a5b_row4_col0\" class=\"data row4 col0\" >Light Gradient Boosting Machine</td>\n",
              "      <td id=\"T_67a5b_row4_col1\" class=\"data row4 col1\" >0.9536</td>\n",
              "      <td id=\"T_67a5b_row4_col2\" class=\"data row4 col2\" >0.9935</td>\n",
              "      <td id=\"T_67a5b_row4_col3\" class=\"data row4 col3\" >0.9536</td>\n",
              "      <td id=\"T_67a5b_row4_col4\" class=\"data row4 col4\" >0.9634</td>\n",
              "      <td id=\"T_67a5b_row4_col5\" class=\"data row4 col5\" >0.9528</td>\n",
              "      <td id=\"T_67a5b_row4_col6\" class=\"data row4 col6\" >0.9298</td>\n",
              "      <td id=\"T_67a5b_row4_col7\" class=\"data row4 col7\" >0.9356</td>\n",
              "      <td id=\"T_67a5b_row4_col8\" class=\"data row4 col8\" >0.7860</td>\n",
              "    </tr>\n",
              "    <tr>\n",
              "      <th id=\"T_67a5b_level0_row5\" class=\"row_heading level0 row5\" >nb</th>\n",
              "      <td id=\"T_67a5b_row5_col0\" class=\"data row5 col0\" >Naive Bayes</td>\n",
              "      <td id=\"T_67a5b_row5_col1\" class=\"data row5 col1\" >0.9445</td>\n",
              "      <td id=\"T_67a5b_row5_col2\" class=\"data row5 col2\" >0.9868</td>\n",
              "      <td id=\"T_67a5b_row5_col3\" class=\"data row5 col3\" >0.9445</td>\n",
              "      <td id=\"T_67a5b_row5_col4\" class=\"data row5 col4\" >0.9525</td>\n",
              "      <td id=\"T_67a5b_row5_col5\" class=\"data row5 col5\" >0.9438</td>\n",
              "      <td id=\"T_67a5b_row5_col6\" class=\"data row5 col6\" >0.9161</td>\n",
              "      <td id=\"T_67a5b_row5_col7\" class=\"data row5 col7\" >0.9207</td>\n",
              "      <td id=\"T_67a5b_row5_col8\" class=\"data row5 col8\" >0.0370</td>\n",
              "    </tr>\n",
              "    <tr>\n",
              "      <th id=\"T_67a5b_level0_row6\" class=\"row_heading level0 row6\" >et</th>\n",
              "      <td id=\"T_67a5b_row6_col0\" class=\"data row6 col0\" >Extra Trees Classifier</td>\n",
              "      <td id=\"T_67a5b_row6_col1\" class=\"data row6 col1\" >0.9445</td>\n",
              "      <td id=\"T_67a5b_row6_col2\" class=\"data row6 col2\" >0.9935</td>\n",
              "      <td id=\"T_67a5b_row6_col3\" class=\"data row6 col3\" >0.9445</td>\n",
              "      <td id=\"T_67a5b_row6_col4\" class=\"data row6 col4\" >0.9586</td>\n",
              "      <td id=\"T_67a5b_row6_col5\" class=\"data row6 col5\" >0.9426</td>\n",
              "      <td id=\"T_67a5b_row6_col6\" class=\"data row6 col6\" >0.9161</td>\n",
              "      <td id=\"T_67a5b_row6_col7\" class=\"data row6 col7\" >0.9246</td>\n",
              "      <td id=\"T_67a5b_row6_col8\" class=\"data row6 col8\" >0.2450</td>\n",
              "    </tr>\n",
              "    <tr>\n",
              "      <th id=\"T_67a5b_level0_row7\" class=\"row_heading level0 row7\" >gbc</th>\n",
              "      <td id=\"T_67a5b_row7_col0\" class=\"data row7 col0\" >Gradient Boosting Classifier</td>\n",
              "      <td id=\"T_67a5b_row7_col1\" class=\"data row7 col1\" >0.9355</td>\n",
              "      <td id=\"T_67a5b_row7_col2\" class=\"data row7 col2\" >0.9792</td>\n",
              "      <td id=\"T_67a5b_row7_col3\" class=\"data row7 col3\" >0.9355</td>\n",
              "      <td id=\"T_67a5b_row7_col4\" class=\"data row7 col4\" >0.9416</td>\n",
              "      <td id=\"T_67a5b_row7_col5\" class=\"data row7 col5\" >0.9325</td>\n",
              "      <td id=\"T_67a5b_row7_col6\" class=\"data row7 col6\" >0.9023</td>\n",
              "      <td id=\"T_67a5b_row7_col7\" class=\"data row7 col7\" >0.9083</td>\n",
              "      <td id=\"T_67a5b_row7_col8\" class=\"data row7 col8\" >0.2680</td>\n",
              "    </tr>\n",
              "    <tr>\n",
              "      <th id=\"T_67a5b_level0_row8\" class=\"row_heading level0 row8\" >dt</th>\n",
              "      <td id=\"T_67a5b_row8_col0\" class=\"data row8 col0\" >Decision Tree Classifier</td>\n",
              "      <td id=\"T_67a5b_row8_col1\" class=\"data row8 col1\" >0.9264</td>\n",
              "      <td id=\"T_67a5b_row8_col2\" class=\"data row8 col2\" >0.9429</td>\n",
              "      <td id=\"T_67a5b_row8_col3\" class=\"data row8 col3\" >0.9264</td>\n",
              "      <td id=\"T_67a5b_row8_col4\" class=\"data row8 col4\" >0.9502</td>\n",
              "      <td id=\"T_67a5b_row8_col5\" class=\"data row8 col5\" >0.9201</td>\n",
              "      <td id=\"T_67a5b_row8_col6\" class=\"data row8 col6\" >0.8886</td>\n",
              "      <td id=\"T_67a5b_row8_col7\" class=\"data row8 col7\" >0.9040</td>\n",
              "      <td id=\"T_67a5b_row8_col8\" class=\"data row8 col8\" >0.0410</td>\n",
              "    </tr>\n",
              "    <tr>\n",
              "      <th id=\"T_67a5b_level0_row9\" class=\"row_heading level0 row9\" >rf</th>\n",
              "      <td id=\"T_67a5b_row9_col0\" class=\"data row9 col0\" >Random Forest Classifier</td>\n",
              "      <td id=\"T_67a5b_row9_col1\" class=\"data row9 col1\" >0.9264</td>\n",
              "      <td id=\"T_67a5b_row9_col2\" class=\"data row9 col2\" >0.9909</td>\n",
              "      <td id=\"T_67a5b_row9_col3\" class=\"data row9 col3\" >0.9264</td>\n",
              "      <td id=\"T_67a5b_row9_col4\" class=\"data row9 col4\" >0.9343</td>\n",
              "      <td id=\"T_67a5b_row9_col5\" class=\"data row9 col5\" >0.9232</td>\n",
              "      <td id=\"T_67a5b_row9_col6\" class=\"data row9 col6\" >0.8886</td>\n",
              "      <td id=\"T_67a5b_row9_col7\" class=\"data row9 col7\" >0.8956</td>\n",
              "      <td id=\"T_67a5b_row9_col8\" class=\"data row9 col8\" >0.2490</td>\n",
              "    </tr>\n",
              "    <tr>\n",
              "      <th id=\"T_67a5b_level0_row10\" class=\"row_heading level0 row10\" >ada</th>\n",
              "      <td id=\"T_67a5b_row10_col0\" class=\"data row10 col0\" >Ada Boost Classifier</td>\n",
              "      <td id=\"T_67a5b_row10_col1\" class=\"data row10 col1\" >0.9155</td>\n",
              "      <td id=\"T_67a5b_row10_col2\" class=\"data row10 col2\" >0.9947</td>\n",
              "      <td id=\"T_67a5b_row10_col3\" class=\"data row10 col3\" >0.9155</td>\n",
              "      <td id=\"T_67a5b_row10_col4\" class=\"data row10 col4\" >0.9401</td>\n",
              "      <td id=\"T_67a5b_row10_col5\" class=\"data row10 col5\" >0.9097</td>\n",
              "      <td id=\"T_67a5b_row10_col6\" class=\"data row10 col6\" >0.8720</td>\n",
              "      <td id=\"T_67a5b_row10_col7\" class=\"data row10 col7\" >0.8873</td>\n",
              "      <td id=\"T_67a5b_row10_col8\" class=\"data row10 col8\" >0.1100</td>\n",
              "    </tr>\n",
              "    <tr>\n",
              "      <th id=\"T_67a5b_level0_row11\" class=\"row_heading level0 row11\" >ridge</th>\n",
              "      <td id=\"T_67a5b_row11_col0\" class=\"data row11 col0\" >Ridge Classifier</td>\n",
              "      <td id=\"T_67a5b_row11_col1\" class=\"data row11 col1\" >0.8227</td>\n",
              "      <td id=\"T_67a5b_row11_col2\" class=\"data row11 col2\" >0.0000</td>\n",
              "      <td id=\"T_67a5b_row11_col3\" class=\"data row11 col3\" >0.8227</td>\n",
              "      <td id=\"T_67a5b_row11_col4\" class=\"data row11 col4\" >0.8437</td>\n",
              "      <td id=\"T_67a5b_row11_col5\" class=\"data row11 col5\" >0.8186</td>\n",
              "      <td id=\"T_67a5b_row11_col6\" class=\"data row11 col6\" >0.7320</td>\n",
              "      <td id=\"T_67a5b_row11_col7\" class=\"data row11 col7\" >0.7454</td>\n",
              "      <td id=\"T_67a5b_row11_col8\" class=\"data row11 col8\" >0.0380</td>\n",
              "    </tr>\n",
              "    <tr>\n",
              "      <th id=\"T_67a5b_level0_row12\" class=\"row_heading level0 row12\" >svm</th>\n",
              "      <td id=\"T_67a5b_row12_col0\" class=\"data row12 col0\" >SVM - Linear Kernel</td>\n",
              "      <td id=\"T_67a5b_row12_col1\" class=\"data row12 col1\" >0.7618</td>\n",
              "      <td id=\"T_67a5b_row12_col2\" class=\"data row12 col2\" >0.0000</td>\n",
              "      <td id=\"T_67a5b_row12_col3\" class=\"data row12 col3\" >0.7618</td>\n",
              "      <td id=\"T_67a5b_row12_col4\" class=\"data row12 col4\" >0.6655</td>\n",
              "      <td id=\"T_67a5b_row12_col5\" class=\"data row12 col5\" >0.6888</td>\n",
              "      <td id=\"T_67a5b_row12_col6\" class=\"data row12 col6\" >0.6333</td>\n",
              "      <td id=\"T_67a5b_row12_col7\" class=\"data row12 col7\" >0.7048</td>\n",
              "      <td id=\"T_67a5b_row12_col8\" class=\"data row12 col8\" >0.0390</td>\n",
              "    </tr>\n",
              "    <tr>\n",
              "      <th id=\"T_67a5b_level0_row13\" class=\"row_heading level0 row13\" >dummy</th>\n",
              "      <td id=\"T_67a5b_row13_col0\" class=\"data row13 col0\" >Dummy Classifier</td>\n",
              "      <td id=\"T_67a5b_row13_col1\" class=\"data row13 col1\" >0.2864</td>\n",
              "      <td id=\"T_67a5b_row13_col2\" class=\"data row13 col2\" >0.5000</td>\n",
              "      <td id=\"T_67a5b_row13_col3\" class=\"data row13 col3\" >0.2864</td>\n",
              "      <td id=\"T_67a5b_row13_col4\" class=\"data row13 col4\" >0.0822</td>\n",
              "      <td id=\"T_67a5b_row13_col5\" class=\"data row13 col5\" >0.1277</td>\n",
              "      <td id=\"T_67a5b_row13_col6\" class=\"data row13 col6\" >0.0000</td>\n",
              "      <td id=\"T_67a5b_row13_col7\" class=\"data row13 col7\" >0.0000</td>\n",
              "      <td id=\"T_67a5b_row13_col8\" class=\"data row13 col8\" >0.0390</td>\n",
              "    </tr>\n",
              "  </tbody>\n",
              "</table>\n"
            ],
            "text/plain": [
              "<pandas.io.formats.style.Styler at 0x28516a23ca0>"
            ]
          },
          "metadata": {},
          "output_type": "display_data"
        },
        {
          "data": {
            "text/html": [],
            "text/plain": [
              "<IPython.core.display.HTML object>"
            ]
          },
          "metadata": {},
          "output_type": "display_data"
        },
        {
          "data": {
            "text/html": [
              "<style>#sk-container-id-1 {color: black;background-color: white;}#sk-container-id-1 pre{padding: 0;}#sk-container-id-1 div.sk-toggleable {background-color: white;}#sk-container-id-1 label.sk-toggleable__label {cursor: pointer;display: block;width: 100%;margin-bottom: 0;padding: 0.3em;box-sizing: border-box;text-align: center;}#sk-container-id-1 label.sk-toggleable__label-arrow:before {content: \"▸\";float: left;margin-right: 0.25em;color: #696969;}#sk-container-id-1 label.sk-toggleable__label-arrow:hover:before {color: black;}#sk-container-id-1 div.sk-estimator:hover label.sk-toggleable__label-arrow:before {color: black;}#sk-container-id-1 div.sk-toggleable__content {max-height: 0;max-width: 0;overflow: hidden;text-align: left;background-color: #f0f8ff;}#sk-container-id-1 div.sk-toggleable__content pre {margin: 0.2em;color: black;border-radius: 0.25em;background-color: #f0f8ff;}#sk-container-id-1 input.sk-toggleable__control:checked~div.sk-toggleable__content {max-height: 200px;max-width: 100%;overflow: auto;}#sk-container-id-1 input.sk-toggleable__control:checked~label.sk-toggleable__label-arrow:before {content: \"▾\";}#sk-container-id-1 div.sk-estimator input.sk-toggleable__control:checked~label.sk-toggleable__label {background-color: #d4ebff;}#sk-container-id-1 div.sk-label input.sk-toggleable__control:checked~label.sk-toggleable__label {background-color: #d4ebff;}#sk-container-id-1 input.sk-hidden--visually {border: 0;clip: rect(1px 1px 1px 1px);clip: rect(1px, 1px, 1px, 1px);height: 1px;margin: -1px;overflow: hidden;padding: 0;position: absolute;width: 1px;}#sk-container-id-1 div.sk-estimator {font-family: monospace;background-color: #f0f8ff;border: 1px dotted black;border-radius: 0.25em;box-sizing: border-box;margin-bottom: 0.5em;}#sk-container-id-1 div.sk-estimator:hover {background-color: #d4ebff;}#sk-container-id-1 div.sk-parallel-item::after {content: \"\";width: 100%;border-bottom: 1px solid gray;flex-grow: 1;}#sk-container-id-1 div.sk-label:hover label.sk-toggleable__label {background-color: #d4ebff;}#sk-container-id-1 div.sk-serial::before {content: \"\";position: absolute;border-left: 1px solid gray;box-sizing: border-box;top: 0;bottom: 0;left: 50%;z-index: 0;}#sk-container-id-1 div.sk-serial {display: flex;flex-direction: column;align-items: center;background-color: white;padding-right: 0.2em;padding-left: 0.2em;position: relative;}#sk-container-id-1 div.sk-item {position: relative;z-index: 1;}#sk-container-id-1 div.sk-parallel {display: flex;align-items: stretch;justify-content: center;background-color: white;position: relative;}#sk-container-id-1 div.sk-item::before, #sk-container-id-1 div.sk-parallel-item::before {content: \"\";position: absolute;border-left: 1px solid gray;box-sizing: border-box;top: 0;bottom: 0;left: 50%;z-index: -1;}#sk-container-id-1 div.sk-parallel-item {display: flex;flex-direction: column;z-index: 1;position: relative;background-color: white;}#sk-container-id-1 div.sk-parallel-item:first-child::after {align-self: flex-end;width: 50%;}#sk-container-id-1 div.sk-parallel-item:last-child::after {align-self: flex-start;width: 50%;}#sk-container-id-1 div.sk-parallel-item:only-child::after {width: 0;}#sk-container-id-1 div.sk-dashed-wrapped {border: 1px dashed gray;margin: 0 0.4em 0.5em 0.4em;box-sizing: border-box;padding-bottom: 0.4em;background-color: white;}#sk-container-id-1 div.sk-label label {font-family: monospace;font-weight: bold;display: inline-block;line-height: 1.2em;}#sk-container-id-1 div.sk-label-container {text-align: center;}#sk-container-id-1 div.sk-container {/* jupyter's `normalize.less` sets `[hidden] { display: none; }` but bootstrap.min.css set `[hidden] { display: none !important; }` so we also need the `!important` here to be able to override the default hidden behavior on the sphinx rendered scikit-learn.org. See: https://github.com/scikit-learn/scikit-learn/issues/21755 */display: inline-block !important;position: relative;}#sk-container-id-1 div.sk-text-repr-fallback {display: none;}</style><div id=\"sk-container-id-1\" class=\"sk-top-container\"><div class=\"sk-text-repr-fallback\"><pre>LogisticRegression(C=1.0, class_weight=None, dual=False, fit_intercept=True,\n",
              "                   intercept_scaling=1, l1_ratio=None, max_iter=1000,\n",
              "                   multi_class=&#x27;auto&#x27;, n_jobs=None, penalty=&#x27;l2&#x27;,\n",
              "                   random_state=123, solver=&#x27;lbfgs&#x27;, tol=0.0001, verbose=0,\n",
              "                   warm_start=False)</pre><b>In a Jupyter environment, please rerun this cell to show the HTML representation or trust the notebook. <br />On GitHub, the HTML representation is unable to render, please try loading this page with nbviewer.org.</b></div><div class=\"sk-container\" hidden><div class=\"sk-item\"><div class=\"sk-estimator sk-toggleable\"><input class=\"sk-toggleable__control sk-hidden--visually\" id=\"sk-estimator-id-1\" type=\"checkbox\" checked><label for=\"sk-estimator-id-1\" class=\"sk-toggleable__label sk-toggleable__label-arrow\">LogisticRegression</label><div class=\"sk-toggleable__content\"><pre>LogisticRegression(C=1.0, class_weight=None, dual=False, fit_intercept=True,\n",
              "                   intercept_scaling=1, l1_ratio=None, max_iter=1000,\n",
              "                   multi_class=&#x27;auto&#x27;, n_jobs=None, penalty=&#x27;l2&#x27;,\n",
              "                   random_state=123, solver=&#x27;lbfgs&#x27;, tol=0.0001, verbose=0,\n",
              "                   warm_start=False)</pre></div></div></div></div></div>"
            ],
            "text/plain": [
              "LogisticRegression(C=1.0, class_weight=None, dual=False, fit_intercept=True,\n",
              "                   intercept_scaling=1, l1_ratio=None, max_iter=1000,\n",
              "                   multi_class='auto', n_jobs=None, penalty='l2',\n",
              "                   random_state=123, solver='lbfgs', tol=0.0001, verbose=0,\n",
              "                   warm_start=False)"
            ]
          },
          "execution_count": 9,
          "metadata": {},
          "output_type": "execute_result"
        }
      ],
      "source": [
        "# compare models using OOP\n",
        "exp.compare_models()"
      ]
    },
    {
      "cell_type": "markdown",
      "id": "d468e469-ac89-4c60-84c5-6ba6d98bce15",
      "metadata": {
        "id": "d468e469-ac89-4c60-84c5-6ba6d98bce15"
      },
      "source": [
        "## Pandas 복습\n",
        "- 구글 코랩의 경우 구글 코랩 연동\n",
        "- from google.colab import drive\n",
        "- drive.mount(\"/content/drive\")"
      ]
    },
    {
      "cell_type": "code",
      "execution_count": null,
      "id": "4839f382-21b7-43f1-8865-a323fe872b79",
      "metadata": {
        "id": "4839f382-21b7-43f1-8865-a323fe872b79",
        "outputId": "8f766c3c-871a-4661-a455-9998c510aa6a"
      },
      "outputs": [
        {
          "data": {
            "text/html": [
              "<div>\n",
              "<style scoped>\n",
              "    .dataframe tbody tr th:only-of-type {\n",
              "        vertical-align: middle;\n",
              "    }\n",
              "\n",
              "    .dataframe tbody tr th {\n",
              "        vertical-align: top;\n",
              "    }\n",
              "\n",
              "    .dataframe thead th {\n",
              "        text-align: right;\n",
              "    }\n",
              "</style>\n",
              "<table border=\"1\" class=\"dataframe\">\n",
              "  <thead>\n",
              "    <tr style=\"text-align: right;\">\n",
              "      <th></th>\n",
              "      <th>PassengerId</th>\n",
              "      <th>Survived</th>\n",
              "      <th>Pclass</th>\n",
              "      <th>Name</th>\n",
              "      <th>Sex</th>\n",
              "      <th>Age</th>\n",
              "      <th>SibSp</th>\n",
              "      <th>Parch</th>\n",
              "      <th>Ticket</th>\n",
              "      <th>Fare</th>\n",
              "      <th>Cabin</th>\n",
              "      <th>Embarked</th>\n",
              "    </tr>\n",
              "  </thead>\n",
              "  <tbody>\n",
              "    <tr>\n",
              "      <th>0</th>\n",
              "      <td>1</td>\n",
              "      <td>0</td>\n",
              "      <td>3</td>\n",
              "      <td>Braund, Mr. Owen Harris</td>\n",
              "      <td>male</td>\n",
              "      <td>22.0</td>\n",
              "      <td>1</td>\n",
              "      <td>0</td>\n",
              "      <td>A/5 21171</td>\n",
              "      <td>7.2500</td>\n",
              "      <td>NaN</td>\n",
              "      <td>S</td>\n",
              "    </tr>\n",
              "    <tr>\n",
              "      <th>1</th>\n",
              "      <td>2</td>\n",
              "      <td>1</td>\n",
              "      <td>1</td>\n",
              "      <td>Cumings, Mrs. John Bradley (Florence Briggs Th...</td>\n",
              "      <td>female</td>\n",
              "      <td>38.0</td>\n",
              "      <td>1</td>\n",
              "      <td>0</td>\n",
              "      <td>PC 17599</td>\n",
              "      <td>71.2833</td>\n",
              "      <td>C85</td>\n",
              "      <td>C</td>\n",
              "    </tr>\n",
              "    <tr>\n",
              "      <th>2</th>\n",
              "      <td>3</td>\n",
              "      <td>1</td>\n",
              "      <td>3</td>\n",
              "      <td>Heikkinen, Miss. Laina</td>\n",
              "      <td>female</td>\n",
              "      <td>26.0</td>\n",
              "      <td>0</td>\n",
              "      <td>0</td>\n",
              "      <td>STON/O2. 3101282</td>\n",
              "      <td>7.9250</td>\n",
              "      <td>NaN</td>\n",
              "      <td>S</td>\n",
              "    </tr>\n",
              "    <tr>\n",
              "      <th>3</th>\n",
              "      <td>4</td>\n",
              "      <td>1</td>\n",
              "      <td>1</td>\n",
              "      <td>Futrelle, Mrs. Jacques Heath (Lily May Peel)</td>\n",
              "      <td>female</td>\n",
              "      <td>35.0</td>\n",
              "      <td>1</td>\n",
              "      <td>0</td>\n",
              "      <td>113803</td>\n",
              "      <td>53.1000</td>\n",
              "      <td>C123</td>\n",
              "      <td>S</td>\n",
              "    </tr>\n",
              "    <tr>\n",
              "      <th>4</th>\n",
              "      <td>5</td>\n",
              "      <td>0</td>\n",
              "      <td>3</td>\n",
              "      <td>Allen, Mr. William Henry</td>\n",
              "      <td>male</td>\n",
              "      <td>35.0</td>\n",
              "      <td>0</td>\n",
              "      <td>0</td>\n",
              "      <td>373450</td>\n",
              "      <td>8.0500</td>\n",
              "      <td>NaN</td>\n",
              "      <td>S</td>\n",
              "    </tr>\n",
              "  </tbody>\n",
              "</table>\n",
              "</div>"
            ],
            "text/plain": [
              "   PassengerId  Survived  Pclass  \\\n",
              "0            1         0       3   \n",
              "1            2         1       1   \n",
              "2            3         1       3   \n",
              "3            4         1       1   \n",
              "4            5         0       3   \n",
              "\n",
              "                                                Name     Sex   Age  SibSp  \\\n",
              "0                            Braund, Mr. Owen Harris    male  22.0      1   \n",
              "1  Cumings, Mrs. John Bradley (Florence Briggs Th...  female  38.0      1   \n",
              "2                             Heikkinen, Miss. Laina  female  26.0      0   \n",
              "3       Futrelle, Mrs. Jacques Heath (Lily May Peel)  female  35.0      1   \n",
              "4                           Allen, Mr. William Henry    male  35.0      0   \n",
              "\n",
              "   Parch            Ticket     Fare Cabin Embarked  \n",
              "0      0         A/5 21171   7.2500   NaN        S  \n",
              "1      0          PC 17599  71.2833   C85        C  \n",
              "2      0  STON/O2. 3101282   7.9250   NaN        S  \n",
              "3      0            113803  53.1000  C123        S  \n",
              "4      0            373450   8.0500   NaN        S  "
            ]
          },
          "execution_count": 15,
          "metadata": {},
          "output_type": "execute_result"
        }
      ],
      "source": [
        "import pandas as pd\n",
        "data = pd.read_csv('./data/titanic_train.csv')\n",
        "data.head()"
      ]
    },
    {
      "cell_type": "code",
      "execution_count": null,
      "id": "90f3d5c7-380d-4d60-82ba-179bba3de5bb",
      "metadata": {
        "id": "90f3d5c7-380d-4d60-82ba-179bba3de5bb",
        "outputId": "e3cfe74d-17f9-42a8-b59a-f744d8a71b4f"
      },
      "outputs": [
        {
          "data": {
            "text/plain": [
              "S    646\n",
              "C    168\n",
              "Q     77\n",
              "Name: Embarked, dtype: int64"
            ]
          },
          "execution_count": 42,
          "metadata": {},
          "output_type": "execute_result"
        }
      ],
      "source": [
        "data['Embarked'] = data['Embarked'].fillna('S')\n",
        "data['Embarked'].value_counts(dropna=False)"
      ]
    },
    {
      "cell_type": "code",
      "execution_count": null,
      "id": "f0daa7cd-aac5-4d07-901a-6810fcc8b4f6",
      "metadata": {
        "id": "f0daa7cd-aac5-4d07-901a-6810fcc8b4f6",
        "outputId": "43c723d4-8c1b-4c09-d16b-4f32f7f58cb8"
      },
      "outputs": [
        {
          "data": {
            "text/plain": [
              "'S'"
            ]
          },
          "execution_count": 44,
          "metadata": {},
          "output_type": "execute_result"
        }
      ],
      "source": [
        "data['Embarked'].value_counts(dropna=False).idxmax()"
      ]
    },
    {
      "cell_type": "code",
      "execution_count": null,
      "id": "e09fb240-71a3-4491-b849-5ce2a9cbfd8b",
      "metadata": {
        "id": "e09fb240-71a3-4491-b849-5ce2a9cbfd8b",
        "outputId": "af1f94f3-562b-41ca-8d2c-638d326f82ea"
      },
      "outputs": [
        {
          "data": {
            "text/plain": [
              "'S'"
            ]
          },
          "execution_count": 46,
          "metadata": {},
          "output_type": "execute_result"
        }
      ],
      "source": [
        "data['Embarked'].mode()[0]"
      ]
    },
    {
      "cell_type": "markdown",
      "id": "877bad42-8170-44e7-b49a-5034d9fb2100",
      "metadata": {
        "id": "877bad42-8170-44e7-b49a-5034d9fb2100"
      },
      "source": [
        "## 데이터 정의서\n",
        "- 프로젝트시 각 데이터는 우리가 모아온 것이므로 데이터 정의서(친절한 코드북 느낌) 작성해야.\n",
        "- kaggle 등에 예시 많음"
      ]
    },
    {
      "cell_type": "markdown",
      "id": "634979ff-e08d-48f0-99a6-66987b378126",
      "metadata": {
        "id": "634979ff-e08d-48f0-99a6-66987b378126"
      },
      "source": [
        "## apply lambda 식으로 데이터 가공\n",
        "- 일회성 사용자 정의 함수"
      ]
    },
    {
      "cell_type": "markdown",
      "id": "4c31fdb0-81be-4710-8f6d-d4d4c4d3d5c2",
      "metadata": {
        "id": "4c31fdb0-81be-4710-8f6d-d4d4c4d3d5c2"
      },
      "source": [
        "### apply()\n",
        "- 행 단위로 연산을 할 때, apply() 사용\n",
        "    + lambda: 간단한 연산 할 때\n",
        "    + udf(사용자 정의 함수): if 조건절이 여러 번 사용될 것 같은 상황이면 이게 나음"
      ]
    },
    {
      "cell_type": "code",
      "execution_count": null,
      "id": "293832ed-ab60-4d0d-8a69-fceaea6eb168",
      "metadata": {
        "id": "293832ed-ab60-4d0d-8a69-fceaea6eb168",
        "outputId": "4267b053-35ae-4f46-907e-35f2e216ee31"
      },
      "outputs": [
        {
          "data": {
            "text/plain": [
              "64"
            ]
          },
          "execution_count": 19,
          "metadata": {},
          "output_type": "execute_result"
        }
      ],
      "source": [
        "def get_square(a):\n",
        "    return a ** 2\n",
        "\n",
        "get_square(8)"
      ]
    },
    {
      "cell_type": "code",
      "execution_count": null,
      "id": "f6b77d40-3124-40cf-9411-7fb3898afc9b",
      "metadata": {
        "id": "f6b77d40-3124-40cf-9411-7fb3898afc9b",
        "outputId": "7ff1984f-31b3-48b7-ae2b-e500920c2033"
      },
      "outputs": [
        {
          "data": {
            "text/plain": [
              "9"
            ]
          },
          "execution_count": 21,
          "metadata": {},
          "output_type": "execute_result"
        }
      ],
      "source": [
        "lambda_square = lambda x: x ** 2\n",
        "lambda_square(3)"
      ]
    },
    {
      "cell_type": "code",
      "execution_count": null,
      "id": "ba58720c-4f71-44b8-8520-27843b02fb45",
      "metadata": {
        "id": "ba58720c-4f71-44b8-8520-27843b02fb45",
        "outputId": "d7fe58d4-dd33-433c-bbf4-960a682cd62f"
      },
      "outputs": [
        {
          "data": {
            "text/plain": [
              "[1, 4, 9, 16, 25, 36]"
            ]
          },
          "execution_count": 22,
          "metadata": {},
          "output_type": "execute_result"
        }
      ],
      "source": [
        "a = [1, 2, 3, 4, 5, 6]\n",
        "squares = map(lambda x: x ** 2, a)\n",
        "list(squares)"
      ]
    },
    {
      "cell_type": "code",
      "execution_count": null,
      "id": "862b9296-67e2-40ed-b388-98894f6d5f18",
      "metadata": {
        "id": "862b9296-67e2-40ed-b388-98894f6d5f18",
        "outputId": "66c57511-0824-4098-cab0-7e3e74e9591c"
      },
      "outputs": [
        {
          "data": {
            "text/plain": [
              "0      23\n",
              "1      51\n",
              "2      22\n",
              "3      44\n",
              "4      24\n",
              "       ..\n",
              "886    21\n",
              "887    28\n",
              "888    40\n",
              "889    21\n",
              "890    19\n",
              "Name: Name_len, Length: 891, dtype: int64"
            ]
          },
          "execution_count": 34,
          "metadata": {},
          "output_type": "execute_result"
        }
      ],
      "source": [
        "data['Name_len'] = data['Name'].apply(lambda x : len(x))   # 행 단위로 처리됨!!\n",
        "data['Name_len']"
      ]
    },
    {
      "cell_type": "code",
      "execution_count": null,
      "id": "66dda47a-19b9-4631-a089-e46c8a033f78",
      "metadata": {
        "id": "66dda47a-19b9-4631-a089-e46c8a033f78"
      },
      "outputs": [],
      "source": [
        "def get_category(age):\n",
        "    cat = ''\n",
        "    if age <= 5: cat = 'Baby'\n",
        "    elif age <= 12: cat = 'Child'\n",
        "    elif age <= 18: cat = 'Teenager'\n",
        "    elif age <= 25: cat = 'Student'\n",
        "    elif age <= 35: cat = 'Young Adult'\n",
        "    elif age <= 60: cat = 'Adult'\n",
        "    else : cat = 'Elderly'\n",
        "\n",
        "    return cat"
      ]
    },
    {
      "cell_type": "code",
      "execution_count": null,
      "id": "44c001fa-304d-471e-80a9-6e1d6ec7644d",
      "metadata": {
        "id": "44c001fa-304d-471e-80a9-6e1d6ec7644d"
      },
      "outputs": [],
      "source": [
        "# lambda에서는 else if 없음. 괄호로 넣어줘야하는데 여러 번 중첩되면 복잡해짐"
      ]
    },
    {
      "cell_type": "markdown",
      "id": "46b148f3-9995-486f-98f0-9243f4bdec08",
      "metadata": {
        "id": "46b148f3-9995-486f-98f0-9243f4bdec08"
      },
      "source": [
        "## 사이킷런(Scikit-Learn)\n",
        "- 파이썬 머신러닝 라이브러리\n",
        "- 엑셀 데이터 -> 정형 데이터 -> 머신러닝 디폴트 라이브러리\n",
        "    + 텐서플로, 케라스, 파이토치 등의 딥러닝 전문 라이브러리(비정형 데이터에 적합. 사이킷 런 잘 쓰진 않음)\n",
        "    + 따라서 내가 풀어야 할 문제의 데이터가 정형인지 비정형인지 구분해야\n",
        "- 파이썬 기반의 다른 머신러닝 패키지도 사이킷런 스타일의 API를 지향함\n",
        "    + XGBoost, LightGBM, CatBoost 등의 알고리즘은 사이킷런 라이브러리 알고리즘 아님. 아예 별개.\n",
        "    + 하지만 이들도 사이킷런 클래스처럼 사용이 가능하도록 지원\n",
        "- 단점: GPU 연산을 못함 (CPU 연산만 함)"
      ]
    },
    {
      "cell_type": "code",
      "execution_count": null,
      "id": "5016bc0a-4626-43a3-896d-c9b917b972b5",
      "metadata": {
        "id": "5016bc0a-4626-43a3-896d-c9b917b972b5",
        "outputId": "090b90df-528c-47c8-ffe3-a36b240c72cc"
      },
      "outputs": [
        {
          "data": {
            "text/plain": [
              "'1.2.2'"
            ]
          },
          "execution_count": 107,
          "metadata": {},
          "output_type": "execute_result"
        }
      ],
      "source": [
        "import sklearn\n",
        "sklearn.__version__"
      ]
    },
    {
      "cell_type": "markdown",
      "id": "c526efd3-212f-4d19-b889-2ed486a81b9b",
      "metadata": {
        "id": "c526efd3-212f-4d19-b889-2ed486a81b9b"
      },
      "source": [
        "### 붓꽃 품종 예측하기"
      ]
    },
    {
      "cell_type": "code",
      "execution_count": null,
      "id": "6c38f26e-9f00-4c52-afbb-b0c18625a6b6",
      "metadata": {
        "id": "6c38f26e-9f00-4c52-afbb-b0c18625a6b6"
      },
      "outputs": [],
      "source": [
        "from sklearn.datasets import load_iris\n",
        "from sklearn.tree import DecisionTreeClassifier\n",
        "from sklearn.model_selection import train_test_split"
      ]
    },
    {
      "cell_type": "code",
      "execution_count": null,
      "id": "442b9e28-e270-446c-8889-c3b393755782",
      "metadata": {
        "id": "442b9e28-e270-446c-8889-c3b393755782"
      },
      "outputs": [],
      "source": [
        "# 데이터 프레임 만들기\n",
        "iris = load_iris()\n",
        "# iris   # 넘파이 배열\n",
        "\n",
        "# 독립변수 = 설명변수\n",
        "iris_data = iris.data  # 딕셔너리의 key값 중 data의 내용만 출력\n",
        "# iris_data\n",
        "\n",
        "# 종속변수\n",
        "iris_label = iris.target  # 딕셔너리의 key값 중 target의 내용만 출력\n",
        "# iris_label"
      ]
    },
    {
      "cell_type": "code",
      "execution_count": null,
      "id": "87e8f0e7-6b57-4b1d-856e-710a7b548223",
      "metadata": {
        "id": "87e8f0e7-6b57-4b1d-856e-710a7b548223",
        "outputId": "bce30071-c40b-4974-b562-370709c25761"
      },
      "outputs": [
        {
          "data": {
            "text/plain": [
              "dict_keys(['data', 'target', 'frame', 'target_names', 'DESCR', 'feature_names', 'filename', 'data_module'])"
            ]
          },
          "execution_count": 110,
          "metadata": {},
          "output_type": "execute_result"
        }
      ],
      "source": [
        "iris.keys()"
      ]
    },
    {
      "cell_type": "code",
      "execution_count": null,
      "id": "4a31aefc-8d17-4e86-889c-e4e991a0d584",
      "metadata": {
        "id": "4a31aefc-8d17-4e86-889c-e4e991a0d584",
        "outputId": "7bb01e62-9dd9-4ba0-8271-add042c8df66"
      },
      "outputs": [
        {
          "data": {
            "text/plain": [
              "array(['setosa', 'versicolor', 'virginica'], dtype='<U10')"
            ]
          },
          "execution_count": 111,
          "metadata": {},
          "output_type": "execute_result"
        }
      ],
      "source": [
        "iris.target_names\n",
        "# 0은 setosa, 1은 versicolor, 2는 virginica"
      ]
    },
    {
      "cell_type": "code",
      "execution_count": null,
      "id": "6a27bb40-2eb9-40e9-877e-03f3526f3ae8",
      "metadata": {
        "id": "6a27bb40-2eb9-40e9-877e-03f3526f3ae8",
        "outputId": "2fcbc84c-87aa-4582-8ece-4c62b580aa12"
      },
      "outputs": [
        {
          "data": {
            "text/html": [
              "<div>\n",
              "<style scoped>\n",
              "    .dataframe tbody tr th:only-of-type {\n",
              "        vertical-align: middle;\n",
              "    }\n",
              "\n",
              "    .dataframe tbody tr th {\n",
              "        vertical-align: top;\n",
              "    }\n",
              "\n",
              "    .dataframe thead th {\n",
              "        text-align: right;\n",
              "    }\n",
              "</style>\n",
              "<table border=\"1\" class=\"dataframe\">\n",
              "  <thead>\n",
              "    <tr style=\"text-align: right;\">\n",
              "      <th></th>\n",
              "      <th>sepal length (cm)</th>\n",
              "      <th>sepal width (cm)</th>\n",
              "      <th>petal length (cm)</th>\n",
              "      <th>petal width (cm)</th>\n",
              "      <th>label</th>\n",
              "    </tr>\n",
              "  </thead>\n",
              "  <tbody>\n",
              "    <tr>\n",
              "      <th>0</th>\n",
              "      <td>5.1</td>\n",
              "      <td>3.5</td>\n",
              "      <td>1.4</td>\n",
              "      <td>0.2</td>\n",
              "      <td>0</td>\n",
              "    </tr>\n",
              "    <tr>\n",
              "      <th>1</th>\n",
              "      <td>4.9</td>\n",
              "      <td>3.0</td>\n",
              "      <td>1.4</td>\n",
              "      <td>0.2</td>\n",
              "      <td>0</td>\n",
              "    </tr>\n",
              "    <tr>\n",
              "      <th>2</th>\n",
              "      <td>4.7</td>\n",
              "      <td>3.2</td>\n",
              "      <td>1.3</td>\n",
              "      <td>0.2</td>\n",
              "      <td>0</td>\n",
              "    </tr>\n",
              "  </tbody>\n",
              "</table>\n",
              "</div>"
            ],
            "text/plain": [
              "   sepal length (cm)  sepal width (cm)  petal length (cm)  petal width (cm)  \\\n",
              "0                5.1               3.5                1.4               0.2   \n",
              "1                4.9               3.0                1.4               0.2   \n",
              "2                4.7               3.2                1.3               0.2   \n",
              "\n",
              "   label  \n",
              "0      0  \n",
              "1      0  \n",
              "2      0  "
            ]
          },
          "execution_count": 112,
          "metadata": {},
          "output_type": "execute_result"
        }
      ],
      "source": [
        "iris_df = pd.DataFrame(data = iris_data, columns = iris.feature_names)  # 독립 변수의 컬럼 명을 feature_names라고 많이 씀\n",
        "iris_df['label'] = iris.target\n",
        "iris_df.head(3)"
      ]
    },
    {
      "cell_type": "code",
      "execution_count": null,
      "id": "e4327110-fdd0-4e9c-971c-1720713f77df",
      "metadata": {
        "id": "e4327110-fdd0-4e9c-971c-1720713f77df"
      },
      "outputs": [],
      "source": [
        "# train, test로 분리(데이터가 작으니까)\n",
        "iris_df.shape\n",
        "\n",
        "# iris_data: 독립 데이터\n",
        "# iris_label: 종속 데이터\n",
        "# iris_df: 합친 것\n",
        "X_tr, X_te, y_tr, y_te = train_test_split(iris_data, iris_label, test_size = 0.3, stratify = iris_label, random_state = 0)\n",
        "\n",
        "# train_test_split 메서드는 일반적으로 X와 y 분리하고 사용함."
      ]
    },
    {
      "cell_type": "code",
      "execution_count": null,
      "id": "59e2cd3c-023b-4c95-95ed-8e4337d88884",
      "metadata": {
        "id": "59e2cd3c-023b-4c95-95ed-8e4337d88884",
        "outputId": "d432ddd1-8101-41db-8c73-0014df7f98c8"
      },
      "outputs": [
        {
          "data": {
            "text/html": [
              "<style>#sk-container-id-7 {color: black;background-color: white;}#sk-container-id-7 pre{padding: 0;}#sk-container-id-7 div.sk-toggleable {background-color: white;}#sk-container-id-7 label.sk-toggleable__label {cursor: pointer;display: block;width: 100%;margin-bottom: 0;padding: 0.3em;box-sizing: border-box;text-align: center;}#sk-container-id-7 label.sk-toggleable__label-arrow:before {content: \"▸\";float: left;margin-right: 0.25em;color: #696969;}#sk-container-id-7 label.sk-toggleable__label-arrow:hover:before {color: black;}#sk-container-id-7 div.sk-estimator:hover label.sk-toggleable__label-arrow:before {color: black;}#sk-container-id-7 div.sk-toggleable__content {max-height: 0;max-width: 0;overflow: hidden;text-align: left;background-color: #f0f8ff;}#sk-container-id-7 div.sk-toggleable__content pre {margin: 0.2em;color: black;border-radius: 0.25em;background-color: #f0f8ff;}#sk-container-id-7 input.sk-toggleable__control:checked~div.sk-toggleable__content {max-height: 200px;max-width: 100%;overflow: auto;}#sk-container-id-7 input.sk-toggleable__control:checked~label.sk-toggleable__label-arrow:before {content: \"▾\";}#sk-container-id-7 div.sk-estimator input.sk-toggleable__control:checked~label.sk-toggleable__label {background-color: #d4ebff;}#sk-container-id-7 div.sk-label input.sk-toggleable__control:checked~label.sk-toggleable__label {background-color: #d4ebff;}#sk-container-id-7 input.sk-hidden--visually {border: 0;clip: rect(1px 1px 1px 1px);clip: rect(1px, 1px, 1px, 1px);height: 1px;margin: -1px;overflow: hidden;padding: 0;position: absolute;width: 1px;}#sk-container-id-7 div.sk-estimator {font-family: monospace;background-color: #f0f8ff;border: 1px dotted black;border-radius: 0.25em;box-sizing: border-box;margin-bottom: 0.5em;}#sk-container-id-7 div.sk-estimator:hover {background-color: #d4ebff;}#sk-container-id-7 div.sk-parallel-item::after {content: \"\";width: 100%;border-bottom: 1px solid gray;flex-grow: 1;}#sk-container-id-7 div.sk-label:hover label.sk-toggleable__label {background-color: #d4ebff;}#sk-container-id-7 div.sk-serial::before {content: \"\";position: absolute;border-left: 1px solid gray;box-sizing: border-box;top: 0;bottom: 0;left: 50%;z-index: 0;}#sk-container-id-7 div.sk-serial {display: flex;flex-direction: column;align-items: center;background-color: white;padding-right: 0.2em;padding-left: 0.2em;position: relative;}#sk-container-id-7 div.sk-item {position: relative;z-index: 1;}#sk-container-id-7 div.sk-parallel {display: flex;align-items: stretch;justify-content: center;background-color: white;position: relative;}#sk-container-id-7 div.sk-item::before, #sk-container-id-7 div.sk-parallel-item::before {content: \"\";position: absolute;border-left: 1px solid gray;box-sizing: border-box;top: 0;bottom: 0;left: 50%;z-index: -1;}#sk-container-id-7 div.sk-parallel-item {display: flex;flex-direction: column;z-index: 1;position: relative;background-color: white;}#sk-container-id-7 div.sk-parallel-item:first-child::after {align-self: flex-end;width: 50%;}#sk-container-id-7 div.sk-parallel-item:last-child::after {align-self: flex-start;width: 50%;}#sk-container-id-7 div.sk-parallel-item:only-child::after {width: 0;}#sk-container-id-7 div.sk-dashed-wrapped {border: 1px dashed gray;margin: 0 0.4em 0.5em 0.4em;box-sizing: border-box;padding-bottom: 0.4em;background-color: white;}#sk-container-id-7 div.sk-label label {font-family: monospace;font-weight: bold;display: inline-block;line-height: 1.2em;}#sk-container-id-7 div.sk-label-container {text-align: center;}#sk-container-id-7 div.sk-container {/* jupyter's `normalize.less` sets `[hidden] { display: none; }` but bootstrap.min.css set `[hidden] { display: none !important; }` so we also need the `!important` here to be able to override the default hidden behavior on the sphinx rendered scikit-learn.org. See: https://github.com/scikit-learn/scikit-learn/issues/21755 */display: inline-block !important;position: relative;}#sk-container-id-7 div.sk-text-repr-fallback {display: none;}</style><div id=\"sk-container-id-7\" class=\"sk-top-container\"><div class=\"sk-text-repr-fallback\"><pre>DecisionTreeClassifier(ccp_alpha=0.0, class_weight=None, criterion=&#x27;gini&#x27;,\n",
              "                       max_depth=None, max_features=None, max_leaf_nodes=None,\n",
              "                       min_impurity_decrease=0.0, min_samples_leaf=1,\n",
              "                       min_samples_split=2, min_weight_fraction_leaf=0.0,\n",
              "                       random_state=0, splitter=&#x27;best&#x27;)</pre><b>In a Jupyter environment, please rerun this cell to show the HTML representation or trust the notebook. <br />On GitHub, the HTML representation is unable to render, please try loading this page with nbviewer.org.</b></div><div class=\"sk-container\" hidden><div class=\"sk-item\"><div class=\"sk-estimator sk-toggleable\"><input class=\"sk-toggleable__control sk-hidden--visually\" id=\"sk-estimator-id-7\" type=\"checkbox\" checked><label for=\"sk-estimator-id-7\" class=\"sk-toggleable__label sk-toggleable__label-arrow\">DecisionTreeClassifier</label><div class=\"sk-toggleable__content\"><pre>DecisionTreeClassifier(ccp_alpha=0.0, class_weight=None, criterion=&#x27;gini&#x27;,\n",
              "                       max_depth=None, max_features=None, max_leaf_nodes=None,\n",
              "                       min_impurity_decrease=0.0, min_samples_leaf=1,\n",
              "                       min_samples_split=2, min_weight_fraction_leaf=0.0,\n",
              "                       random_state=0, splitter=&#x27;best&#x27;)</pre></div></div></div></div></div>"
            ],
            "text/plain": [
              "DecisionTreeClassifier(ccp_alpha=0.0, class_weight=None, criterion='gini',\n",
              "                       max_depth=None, max_features=None, max_leaf_nodes=None,\n",
              "                       min_impurity_decrease=0.0, min_samples_leaf=1,\n",
              "                       min_samples_split=2, min_weight_fraction_leaf=0.0,\n",
              "                       random_state=0, splitter='best')"
            ]
          },
          "execution_count": 124,
          "metadata": {},
          "output_type": "execute_result"
        }
      ],
      "source": [
        "# 훈련 데이터로 모델 학습하기(DecisionTreeClassifier)\n",
        "dtc = DecisionTreeClassifier(random_state = 0)   # criterion='gini', max_depth=None 등의 옵션 있음\n",
        "dtc.fit(X_tr, y_tr)  # 훈련 데이터 학습시키기"
      ]
    },
    {
      "cell_type": "code",
      "execution_count": null,
      "id": "4160fdba-92d6-4754-9528-1b7f9018fe28",
      "metadata": {
        "id": "4160fdba-92d6-4754-9528-1b7f9018fe28"
      },
      "outputs": [],
      "source": [
        "# 테스트 데이터로 예측하기\n",
        "y_te_pred = dtc.predict(X_te)"
      ]
    },
    {
      "cell_type": "code",
      "execution_count": null,
      "id": "5cd5ff2d-b022-4a57-8b91-579472d68d8a",
      "metadata": {
        "id": "5cd5ff2d-b022-4a57-8b91-579472d68d8a",
        "outputId": "4bab7d45-b31c-4afd-f5c0-1962da6966a4"
      },
      "outputs": [
        {
          "data": {
            "text/plain": [
              "0.9777777777777777"
            ]
          },
          "execution_count": 126,
          "metadata": {},
          "output_type": "execute_result"
        }
      ],
      "source": [
        "# 예측 성능 확인\n",
        " # 정확도 계산\n",
        "from sklearn.metrics import accuracy_score\n",
        "accuracy_score(y_te, y_te_pred)"
      ]
    },
    {
      "cell_type": "code",
      "execution_count": null,
      "id": "495c8241-1105-4f7f-b91d-06286e011845",
      "metadata": {
        "id": "495c8241-1105-4f7f-b91d-06286e011845",
        "outputId": "69a1141a-3ddb-4dcd-b31b-a2d9c7c90210"
      },
      "outputs": [
        {
          "name": "stdout",
          "output_type": "stream",
          "text": [
            "[[15  0  0]\n",
            " [ 0 15  0]\n",
            " [ 0  1 14]]\n",
            "              precision    recall  f1-score   support\n",
            "\n",
            "           0       1.00      1.00      1.00        15\n",
            "           1       0.94      1.00      0.97        15\n",
            "           2       1.00      0.93      0.97        15\n",
            "\n",
            "    accuracy                           0.98        45\n",
            "   macro avg       0.98      0.98      0.98        45\n",
            "weighted avg       0.98      0.98      0.98        45\n",
            "\n"
          ]
        }
      ],
      "source": [
        "from sklearn.metrics import confusion_matrix, classification_report\n",
        " # 혼동행렬 계산\n",
        "print(confusion_matrix(y_te, y_te_pred))\n",
        " # classification_report 계산\n",
        "print(classification_report(y_te, y_te_pred))"
      ]
    },
    {
      "cell_type": "code",
      "execution_count": null,
      "id": "8a5af9eb-6917-42b5-8c7a-e5225ba8144e",
      "metadata": {
        "id": "8a5af9eb-6917-42b5-8c7a-e5225ba8144e",
        "outputId": "eff41041-3ead-4a9e-b475-6fcdaaf6781e"
      },
      "outputs": [
        {
          "name": "stdout",
          "output_type": "stream",
          "text": [
            "              precision    recall  f1-score   support\n",
            "\n",
            "           0       1.00      1.00      1.00        10\n",
            "           1       0.91      1.00      0.95        10\n",
            "           2       1.00      0.90      0.95        10\n",
            "\n",
            "    accuracy                           0.97        30\n",
            "   macro avg       0.97      0.97      0.97        30\n",
            "weighted avg       0.97      0.97      0.97        30\n",
            "\n"
          ]
        }
      ],
      "source": [
        "X_tr1, X_te1, y_tr1, y_te1 = train_test_split(iris_data, iris_label, test_size = 0.2, stratify = iris_label, random_state = 0)\n",
        "\n",
        "dtc1 = DecisionTreeClassifier(random_state = 0)   # criterion='gini', max_depth=None 등의 옵션 있음\n",
        "dtc1.fit(X_tr1, y_tr1)\n",
        "\n",
        "y_te_pred1 = dtc1.predict(X_te1)\n",
        "\n",
        "print(classification_report(y_te1, y_te_pred1))\n",
        "\n",
        "# 0.2, 0.4 로 테스트 사이즈 조정하니 아까보다는 낮아짐!"
      ]
    },
    {
      "cell_type": "markdown",
      "id": "06ff06cf-19fd-41f2-bc2c-da12ae318b3f",
      "metadata": {
        "id": "06ff06cf-19fd-41f2-bc2c-da12ae318b3f"
      },
      "source": [
        "### 사이킷런 코드 형식\n",
        "- sklearn.pipeline 방식대로 작성하는 것을 강력히 권고\n",
        "    + 공식문서에서도 매우 권장\n",
        "    + 빅분기 머신러닝파트에서 이 방식대로 달달 외워 적으면 점수 어지간히 나옴(최소 30점 / 40점)\n",
        "    + https://scikit-learn.org/stable/modules/generated/sklearn.pipeline.Pipeline.html#sklearn.pipeline.Pipeline"
      ]
    },
    {
      "cell_type": "markdown",
      "id": "aa113e95-cc29-43d6-86b5-a8c8036abc90",
      "metadata": {
        "id": "aa113e95-cc29-43d6-86b5-a8c8036abc90"
      },
      "source": [
        "### Model Selection 모듈 소개"
      ]
    },
    {
      "cell_type": "code",
      "execution_count": null,
      "id": "07796fe8-a3d0-4c75-9469-9e8f9f1e9a0e",
      "metadata": {
        "id": "07796fe8-a3d0-4c75-9469-9e8f9f1e9a0e",
        "outputId": "6e211027-e900-4e18-8866-1dcd86a000da"
      },
      "outputs": [
        {
          "name": "stdout",
          "output_type": "stream",
          "text": [
            "              precision    recall  f1-score   support\n",
            "\n",
            "           0       1.00      1.00      1.00        15\n",
            "           1       0.94      1.00      0.97        15\n",
            "           2       1.00      0.93      0.97        15\n",
            "\n",
            "    accuracy                           0.98        45\n",
            "   macro avg       0.98      0.98      0.98        45\n",
            "weighted avg       0.98      0.98      0.98        45\n",
            "\n",
            "예측 정확도: 0.9777777777777777\n"
          ]
        }
      ],
      "source": [
        "# 0.3으로 해봄\n",
        "X_tr1, X_te1, y_tr1, y_te1 = train_test_split(iris_data, iris_label, test_size = 0.3, stratify = iris_label, random_state = 0)\n",
        "\n",
        "dtc1 = DecisionTreeClassifier(random_state = 0)\n",
        "dtc1.fit(X_tr1, y_tr1)\n",
        "\n",
        "y_te_pred1 = dtc1.predict(X_te1)\n",
        "\n",
        "print(classification_report(y_te1, y_te_pred1))\n",
        "print('예측 정확도:',accuracy_score(y_te1, y_te_pred1))"
      ]
    },
    {
      "cell_type": "markdown",
      "id": "3230f15e-bc4d-4c56-bee8-fad6a33f0bad",
      "metadata": {
        "id": "3230f15e-bc4d-4c56-bee8-fad6a33f0bad"
      },
      "source": [
        "#### K-폴드 교차 검증\n",
        "- k = 10의 경우, 10번의 모델 학습\n",
        "    + 훈련데이터와 검증데이터의 샘플은 각각 다름\n",
        "    + 평가 5번, 평균을 뽑는 것이 목적"
      ]
    },
    {
      "cell_type": "code",
      "execution_count": null,
      "id": "70c826e5-aae9-404e-b448-17a1acd98e2f",
      "metadata": {
        "id": "70c826e5-aae9-404e-b448-17a1acd98e2f"
      },
      "outputs": [],
      "source": [
        "# 개념만 이해. 실제 코드 작성 방식과는 조금 다를 수 있음"
      ]
    },
    {
      "cell_type": "code",
      "execution_count": null,
      "id": "fda8191d-69cd-45cb-ba56-a4df03f892b4",
      "metadata": {
        "id": "fda8191d-69cd-45cb-ba56-a4df03f892b4",
        "outputId": "8a7ea0e3-3d93-4263-8260-101bb982a531"
      },
      "outputs": [
        {
          "name": "stdout",
          "output_type": "stream",
          "text": [
            "붓꽃 데이터 세트 크기: 150\n"
          ]
        }
      ],
      "source": [
        "from sklearn.model_selection import KFold\n",
        "import numpy as np\n",
        "\n",
        "iris = load_iris()\n",
        "features = iris.data\n",
        "label = iris.target\n",
        "dt_clf = DecisionTreeClassifier(random_state=156)\n",
        "\n",
        "# 5개의 폴드 세트로 분리하는 KFold 객체와 폴드 세트별 정확도를 담을 리스트 객체 생성.\n",
        "kfold = KFold(n_splits=5)    # 층화추출 하려면 StratifiedKFold 사용\n",
        "cv_accuracy = []\n",
        "print('붓꽃 데이터 세트 크기:',features.shape[0])"
      ]
    },
    {
      "cell_type": "code",
      "execution_count": null,
      "id": "7e93f14f-b6f2-445f-9f73-9590480468f6",
      "metadata": {
        "id": "7e93f14f-b6f2-445f-9f73-9590480468f6",
        "outputId": "85e190be-c47e-480a-e4d8-ddf282e918ea"
      },
      "outputs": [
        {
          "name": "stdout",
          "output_type": "stream",
          "text": [
            "\n",
            "#1 교차 검증 정확도 :1.0, 학습 데이터 크기: 120, 검증 데이터 크기: 30\n",
            "#1 검증 세트 인덱스:[ 0  1  2  3  4  5  6  7  8  9 10 11 12 13 14 15 16 17 18 19 20 21 22 23\n",
            " 24 25 26 27 28 29]\n",
            "\n",
            "#2 교차 검증 정확도 :0.9667, 학습 데이터 크기: 120, 검증 데이터 크기: 30\n",
            "#2 검증 세트 인덱스:[30 31 32 33 34 35 36 37 38 39 40 41 42 43 44 45 46 47 48 49 50 51 52 53\n",
            " 54 55 56 57 58 59]\n",
            "\n",
            "#3 교차 검증 정확도 :0.8667, 학습 데이터 크기: 120, 검증 데이터 크기: 30\n",
            "#3 검증 세트 인덱스:[60 61 62 63 64 65 66 67 68 69 70 71 72 73 74 75 76 77 78 79 80 81 82 83\n",
            " 84 85 86 87 88 89]\n",
            "\n",
            "#4 교차 검증 정확도 :0.9333, 학습 데이터 크기: 120, 검증 데이터 크기: 30\n",
            "#4 검증 세트 인덱스:[ 90  91  92  93  94  95  96  97  98  99 100 101 102 103 104 105 106 107\n",
            " 108 109 110 111 112 113 114 115 116 117 118 119]\n",
            "\n",
            "#5 교차 검증 정확도 :0.7333, 학습 데이터 크기: 120, 검증 데이터 크기: 30\n",
            "#5 검증 세트 인덱스:[120 121 122 123 124 125 126 127 128 129 130 131 132 133 134 135 136 137\n",
            " 138 139 140 141 142 143 144 145 146 147 148 149]\n",
            "\n",
            "## 평균 검증 정확도: 0.9\n"
          ]
        }
      ],
      "source": [
        "n_iter = 0\n",
        "# KFold객체의 split( ) 호출하면 폴드 별 학습용, 검증용 테스트의 로우 인덱스를 array로 반환\n",
        "for train_index, test_index  in kfold.split(features):\n",
        "    # kfold.split( )으로 반환된 인덱스를 이용하여 학습용, 검증용 테스트 데이터 추출\n",
        "    X_train, X_test = features[train_index], features[test_index]\n",
        "    y_train, y_test = label[train_index], label[test_index]\n",
        "    #학습 및 예측\n",
        "    dt_clf.fit(X_train , y_train)\n",
        "    pred = dt_clf.predict(X_test)\n",
        "    n_iter += 1\n",
        "    # 반복 시 마다 정확도 측정\n",
        "    accuracy = np.round(accuracy_score(y_test,pred), 4)\n",
        "    train_size = X_train.shape[0]\n",
        "    test_size = X_test.shape[0]\n",
        "    print('\\n#{0} 교차 검증 정확도 :{1}, 학습 데이터 크기: {2}, 검증 데이터 크기: {3}'\n",
        "          .format(n_iter, accuracy, train_size, test_size))\n",
        "    print('#{0} 검증 세트 인덱스:{1}'.format(n_iter,test_index))\n",
        "    cv_accuracy.append(accuracy)\n",
        "\n",
        "# 개별 iteration별 정확도를 합하여 평균 정확도 계산\n",
        "print('\\n## 평균 검증 정확도:', np.mean(cv_accuracy))"
      ]
    },
    {
      "cell_type": "markdown",
      "id": "7285ebfd-1f5e-4562-8074-ea21334391d2",
      "metadata": {
        "id": "7285ebfd-1f5e-4562-8074-ea21334391d2"
      },
      "source": [
        "#### StratifiedKFold (층화추출)"
      ]
    },
    {
      "cell_type": "code",
      "execution_count": null,
      "id": "6992408b-70c7-4b66-a284-92709b350996",
      "metadata": {
        "id": "6992408b-70c7-4b66-a284-92709b350996",
        "outputId": "883c2c93-5c18-4bd1-f56f-ce89a4f23d29"
      },
      "outputs": [
        {
          "name": "stdout",
          "output_type": "stream",
          "text": [
            "## 교차 검증: 1\n",
            "학습 레이블 데이터 분포:\n",
            " 2    34\n",
            "0    33\n",
            "1    33\n",
            "Name: label, dtype: int64\n",
            "검증 레이블 데이터 분포:\n",
            " 0    17\n",
            "1    17\n",
            "2    16\n",
            "Name: label, dtype: int64\n",
            "## 교차 검증: 2\n",
            "학습 레이블 데이터 분포:\n",
            " 1    34\n",
            "0    33\n",
            "2    33\n",
            "Name: label, dtype: int64\n",
            "검증 레이블 데이터 분포:\n",
            " 0    17\n",
            "2    17\n",
            "1    16\n",
            "Name: label, dtype: int64\n",
            "## 교차 검증: 3\n",
            "학습 레이블 데이터 분포:\n",
            " 0    34\n",
            "1    33\n",
            "2    33\n",
            "Name: label, dtype: int64\n",
            "검증 레이블 데이터 분포:\n",
            " 1    17\n",
            "2    17\n",
            "0    16\n",
            "Name: label, dtype: int64\n"
          ]
        }
      ],
      "source": [
        "# 층화추출 방식으로 데이터셋 분리 -> 모든 레이블에 대해 분리 일정하게 이루어짐.\n",
        "from sklearn.model_selection import StratifiedKFold\n",
        "\n",
        "skf = StratifiedKFold(n_splits=3)\n",
        "n_iter=0\n",
        "\n",
        "for train_index, test_index in skf.split(iris_df, iris_df['label']):\n",
        "    n_iter += 1\n",
        "    label_train= iris_df['label'].iloc[train_index]\n",
        "    label_test= iris_df['label'].iloc[test_index]\n",
        "    print('## 교차 검증: {0}'.format(n_iter))\n",
        "    print('학습 레이블 데이터 분포:\\n', label_train.value_counts())\n",
        "    print('검증 레이블 데이터 분포:\\n', label_test.value_counts())"
      ]
    },
    {
      "cell_type": "code",
      "execution_count": null,
      "id": "0aa96532-1a1d-4cea-8f4b-00c88b827d85",
      "metadata": {
        "id": "0aa96532-1a1d-4cea-8f4b-00c88b827d85",
        "outputId": "42fd73c6-a9fb-408c-89c5-a7f5381c0c80"
      },
      "outputs": [
        {
          "name": "stdout",
          "output_type": "stream",
          "text": [
            "\n",
            "#1 교차 검증 정확도 :0.98, 학습 데이터 크기: 100, 검증 데이터 크기: 50\n",
            "#1 검증 세트 인덱스:[  0   1   2   3   4   5   6   7   8   9  10  11  12  13  14  15  16  50\n",
            "  51  52  53  54  55  56  57  58  59  60  61  62  63  64  65  66 100 101\n",
            " 102 103 104 105 106 107 108 109 110 111 112 113 114 115]\n",
            "\n",
            "#2 교차 검증 정확도 :0.94, 학습 데이터 크기: 100, 검증 데이터 크기: 50\n",
            "#2 검증 세트 인덱스:[ 17  18  19  20  21  22  23  24  25  26  27  28  29  30  31  32  33  67\n",
            "  68  69  70  71  72  73  74  75  76  77  78  79  80  81  82 116 117 118\n",
            " 119 120 121 122 123 124 125 126 127 128 129 130 131 132]\n",
            "\n",
            "#3 교차 검증 정확도 :0.98, 학습 데이터 크기: 100, 검증 데이터 크기: 50\n",
            "#3 검증 세트 인덱스:[ 34  35  36  37  38  39  40  41  42  43  44  45  46  47  48  49  83  84\n",
            "  85  86  87  88  89  90  91  92  93  94  95  96  97  98  99 133 134 135\n",
            " 136 137 138 139 140 141 142 143 144 145 146 147 148 149]\n",
            "\n",
            "## 교차 검증별 정확도: [0.98 0.94 0.98]\n",
            "## 평균 검증 정확도: 0.9667\n"
          ]
        }
      ],
      "source": [
        "dt_clf = DecisionTreeClassifier(random_state=156)\n",
        "skfold = StratifiedKFold(n_splits=3)\n",
        "n_iter=0\n",
        "cv_accuracy=[]\n",
        "# StratifiedKFold의 split( ) 호출시 반드시 레이블 데이터 셋도 추가 입력 필요\n",
        "for train_index, test_index  in skfold.split(features, label):\n",
        "    # split( )으로 반환된 인덱스를 이용하여 학습용, 검증용 테스트 데이터 추출\n",
        "    X_train, X_test = features[train_index], features[test_index]\n",
        "    y_train, y_test = label[train_index], label[test_index]\n",
        "    #학습 및 예측\n",
        "    dt_clf.fit(X_train , y_train)\n",
        "    pred = dt_clf.predict(X_test)\n",
        "    # 반복 시 마다 정확도 측정\n",
        "    n_iter += 1\n",
        "    accuracy = np.round(accuracy_score(y_test,pred), 4)\n",
        "    train_size = X_train.shape[0]\n",
        "    test_size = X_test.shape[0]\n",
        "    print('\\n#{0} 교차 검증 정확도 :{1}, 학습 데이터 크기: {2}, 검증 데이터 크기: {3}'\n",
        "          .format(n_iter, accuracy, train_size, test_size))\n",
        "    print('#{0} 검증 세트 인덱스:{1}'.format(n_iter,test_index))\n",
        "    cv_accuracy.append(accuracy)\n",
        "\n",
        "# 교차 검증별 정확도 및 평균 정확도 계산\n",
        "print('\\n## 교차 검증별 정확도:', np.round(cv_accuracy, 4))\n",
        "print('## 평균 검증 정확도:', np.round(np.mean(cv_accuracy), 4))"
      ]
    },
    {
      "cell_type": "code",
      "execution_count": null,
      "id": "74ee6ae9-600b-4461-ab57-c0c2b250b48e",
      "metadata": {
        "id": "74ee6ae9-600b-4461-ab57-c0c2b250b48e"
      },
      "outputs": [],
      "source": []
    }
  ],
  "metadata": {
    "kernelspec": {
      "display_name": "Python 3 (ipykernel)",
      "language": "python",
      "name": "python3"
    },
    "language_info": {
      "codemirror_mode": {
        "name": "ipython",
        "version": 3
      },
      "file_extension": ".py",
      "mimetype": "text/x-python",
      "name": "python",
      "nbconvert_exporter": "python",
      "pygments_lexer": "ipython3",
      "version": "3.10.13"
    },
    "colab": {
      "provenance": [],
      "include_colab_link": true
    }
  },
  "nbformat": 4,
  "nbformat_minor": 5
}