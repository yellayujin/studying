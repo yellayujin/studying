{
  "cells": [
    {
      "cell_type": "markdown",
      "metadata": {
        "id": "view-in-github",
        "colab_type": "text"
      },
      "source": [
        "<a href=\"https://colab.research.google.com/github/yellayujin/studying/blob/main/240201_API_Crawling.ipynb\" target=\"_parent\"><img src=\"https://colab.research.google.com/assets/colab-badge.svg\" alt=\"Open In Colab\"/></a>"
      ]
    },
    {
      "cell_type": "code",
      "execution_count": null,
      "id": "f41ff829-4094-4d86-8ede-6937a7d03a89",
      "metadata": {
        "id": "f41ff829-4094-4d86-8ede-6937a7d03a89"
      },
      "outputs": [],
      "source": [
        "import os\n",
        "from dotenv import load_dotenv\n",
        "\n",
        "load_dotenv()\n",
        "SERVICE_KEY = os.getenv('SERVICE_KEY')"
      ]
    },
    {
      "cell_type": "code",
      "execution_count": null,
      "id": "69da2362-7c5e-4b2d-8bce-72d399232ef4",
      "metadata": {
        "id": "69da2362-7c5e-4b2d-8bce-72d399232ef4"
      },
      "outputs": [],
      "source": [
        "URL = f'http://openapi.seoul.go.kr:8088/{SERVICE_KEY}/json/tbLnOpendataRtmsV/1/100/'\n",
        "# json자리에 xml등 넣을 수 있음\n",
        "# 맨 뒤에 100: 데이터 수 (주의: 한 번에 1000개까지밖에 안 됨)"
      ]
    },
    {
      "cell_type": "code",
      "execution_count": null,
      "id": "1305202c-e1ed-4071-8e64-e715c3e7e983",
      "metadata": {
        "id": "1305202c-e1ed-4071-8e64-e715c3e7e983",
        "outputId": "a1a03f41-e8f4-40c1-e7c9-9ad92befee01"
      },
      "outputs": [
        {
          "data": {
            "text/plain": [
              "200"
            ]
          },
          "execution_count": 3,
          "metadata": {},
          "output_type": "execute_result"
        }
      ],
      "source": [
        "import requests\n",
        "import json\n",
        "import pandas as pd\n",
        "\n",
        "req = requests.get(URL)\n",
        "req.status_code     # 200, req만 입력해도 Response 200나오긴 함"
      ]
    },
    {
      "cell_type": "code",
      "execution_count": null,
      "id": "97ac1a18-5a6f-4a7b-8c73-f493be45c1e7",
      "metadata": {
        "id": "97ac1a18-5a6f-4a7b-8c73-f493be45c1e7",
        "outputId": "0f48e2dc-5e4d-4902-fa57-14ffcd4753d7"
      },
      "outputs": [
        {
          "data": {
            "text/html": [
              "<div>\n",
              "<style scoped>\n",
              "    .dataframe tbody tr th:only-of-type {\n",
              "        vertical-align: middle;\n",
              "    }\n",
              "\n",
              "    .dataframe tbody tr th {\n",
              "        vertical-align: top;\n",
              "    }\n",
              "\n",
              "    .dataframe thead th {\n",
              "        text-align: right;\n",
              "    }\n",
              "</style>\n",
              "<table border=\"1\" class=\"dataframe\">\n",
              "  <thead>\n",
              "    <tr style=\"text-align: right;\">\n",
              "      <th></th>\n",
              "      <th>ACC_YEAR</th>\n",
              "      <th>SGG_CD</th>\n",
              "      <th>SGG_NM</th>\n",
              "      <th>BJDONG_CD</th>\n",
              "      <th>BJDONG_NM</th>\n",
              "      <th>LAND_GBN</th>\n",
              "      <th>LAND_GBN_NM</th>\n",
              "      <th>BONBEON</th>\n",
              "      <th>BUBEON</th>\n",
              "      <th>BLDG_NM</th>\n",
              "      <th>...</th>\n",
              "      <th>OBJ_AMT</th>\n",
              "      <th>BLDG_AREA</th>\n",
              "      <th>TOT_AREA</th>\n",
              "      <th>FLOOR</th>\n",
              "      <th>RIGHT_GBN</th>\n",
              "      <th>CNTL_YMD</th>\n",
              "      <th>BUILD_YEAR</th>\n",
              "      <th>HOUSE_TYPE</th>\n",
              "      <th>REQ_GBN</th>\n",
              "      <th>RDEALER_LAWDNM</th>\n",
              "    </tr>\n",
              "  </thead>\n",
              "  <tbody>\n",
              "    <tr>\n",
              "      <th>0</th>\n",
              "      <td>2024</td>\n",
              "      <td>11380</td>\n",
              "      <td>은평구</td>\n",
              "      <td>10700</td>\n",
              "      <td>응암동</td>\n",
              "      <td>1</td>\n",
              "      <td>대지</td>\n",
              "      <td>0091</td>\n",
              "      <td>0007</td>\n",
              "      <td>CJ드림시티</td>\n",
              "      <td>...</td>\n",
              "      <td>12900</td>\n",
              "      <td>24.84</td>\n",
              "      <td>34.07</td>\n",
              "      <td>15.0</td>\n",
              "      <td></td>\n",
              "      <td></td>\n",
              "      <td>2004</td>\n",
              "      <td>오피스텔</td>\n",
              "      <td>중개거래</td>\n",
              "      <td>서울 은평구</td>\n",
              "    </tr>\n",
              "    <tr>\n",
              "      <th>1</th>\n",
              "      <td>2024</td>\n",
              "      <td>11140</td>\n",
              "      <td>중구</td>\n",
              "      <td>14500</td>\n",
              "      <td>광희동1가</td>\n",
              "      <td>1</td>\n",
              "      <td>대지</td>\n",
              "      <td>0089</td>\n",
              "      <td>0001</td>\n",
              "      <td>광희동금호트윈 오피스텔</td>\n",
              "      <td>...</td>\n",
              "      <td>9850</td>\n",
              "      <td>21.96</td>\n",
              "      <td>31.13</td>\n",
              "      <td>14.0</td>\n",
              "      <td></td>\n",
              "      <td></td>\n",
              "      <td>1999</td>\n",
              "      <td>오피스텔</td>\n",
              "      <td>중개거래</td>\n",
              "      <td>서울 중구</td>\n",
              "    </tr>\n",
              "    <tr>\n",
              "      <th>2</th>\n",
              "      <td>2024</td>\n",
              "      <td>11740</td>\n",
              "      <td>강동구</td>\n",
              "      <td>10900</td>\n",
              "      <td>천호동</td>\n",
              "      <td>1</td>\n",
              "      <td>대지</td>\n",
              "      <td>0039</td>\n",
              "      <td>0009</td>\n",
              "      <td>미래위너스</td>\n",
              "      <td>...</td>\n",
              "      <td>26400</td>\n",
              "      <td>29.96</td>\n",
              "      <td>19.16</td>\n",
              "      <td>4.0</td>\n",
              "      <td></td>\n",
              "      <td></td>\n",
              "      <td>2016</td>\n",
              "      <td>연립다세대</td>\n",
              "      <td>중개거래</td>\n",
              "      <td>서울 강동구</td>\n",
              "    </tr>\n",
              "    <tr>\n",
              "      <th>3</th>\n",
              "      <td>2024</td>\n",
              "      <td>11710</td>\n",
              "      <td>송파구</td>\n",
              "      <td>11300</td>\n",
              "      <td>거여동</td>\n",
              "      <td>1</td>\n",
              "      <td>대지</td>\n",
              "      <td>0605</td>\n",
              "      <td>0000</td>\n",
              "      <td>휴먼빌 시티</td>\n",
              "      <td>...</td>\n",
              "      <td>18000</td>\n",
              "      <td>24.15</td>\n",
              "      <td>35.41</td>\n",
              "      <td>4.0</td>\n",
              "      <td></td>\n",
              "      <td></td>\n",
              "      <td>2020</td>\n",
              "      <td>오피스텔</td>\n",
              "      <td>중개거래</td>\n",
              "      <td>서울 송파구</td>\n",
              "    </tr>\n",
              "    <tr>\n",
              "      <th>4</th>\n",
              "      <td>2024</td>\n",
              "      <td>11530</td>\n",
              "      <td>구로구</td>\n",
              "      <td>10200</td>\n",
              "      <td>구로동</td>\n",
              "      <td>1</td>\n",
              "      <td>대지</td>\n",
              "      <td>0044</td>\n",
              "      <td>0008</td>\n",
              "      <td>비즈트위트 오렌지</td>\n",
              "      <td>...</td>\n",
              "      <td>15000</td>\n",
              "      <td>20.80</td>\n",
              "      <td>31.43</td>\n",
              "      <td>8.0</td>\n",
              "      <td></td>\n",
              "      <td></td>\n",
              "      <td>2013</td>\n",
              "      <td>오피스텔</td>\n",
              "      <td>중개거래</td>\n",
              "      <td>서울 영등포구</td>\n",
              "    </tr>\n",
              "    <tr>\n",
              "      <th>...</th>\n",
              "      <td>...</td>\n",
              "      <td>...</td>\n",
              "      <td>...</td>\n",
              "      <td>...</td>\n",
              "      <td>...</td>\n",
              "      <td>...</td>\n",
              "      <td>...</td>\n",
              "      <td>...</td>\n",
              "      <td>...</td>\n",
              "      <td>...</td>\n",
              "      <td>...</td>\n",
              "      <td>...</td>\n",
              "      <td>...</td>\n",
              "      <td>...</td>\n",
              "      <td>...</td>\n",
              "      <td>...</td>\n",
              "      <td>...</td>\n",
              "      <td>...</td>\n",
              "      <td>...</td>\n",
              "      <td>...</td>\n",
              "      <td>...</td>\n",
              "    </tr>\n",
              "    <tr>\n",
              "      <th>95</th>\n",
              "      <td>2024</td>\n",
              "      <td>11380</td>\n",
              "      <td>은평구</td>\n",
              "      <td>10900</td>\n",
              "      <td>신사동</td>\n",
              "      <td>1</td>\n",
              "      <td>대지</td>\n",
              "      <td>0005</td>\n",
              "      <td>0042</td>\n",
              "      <td>삼원제우스(5-42)</td>\n",
              "      <td>...</td>\n",
              "      <td>30000</td>\n",
              "      <td>45.64</td>\n",
              "      <td>26.54</td>\n",
              "      <td>4.0</td>\n",
              "      <td></td>\n",
              "      <td></td>\n",
              "      <td>2016</td>\n",
              "      <td>연립다세대</td>\n",
              "      <td>직거래</td>\n",
              "      <td></td>\n",
              "    </tr>\n",
              "    <tr>\n",
              "      <th>96</th>\n",
              "      <td>2024</td>\n",
              "      <td>11140</td>\n",
              "      <td>중구</td>\n",
              "      <td>16200</td>\n",
              "      <td>신당동</td>\n",
              "      <td>1</td>\n",
              "      <td>대지</td>\n",
              "      <td>0846</td>\n",
              "      <td>0000</td>\n",
              "      <td>신당동파라다이스</td>\n",
              "      <td>...</td>\n",
              "      <td>82000</td>\n",
              "      <td>84.77</td>\n",
              "      <td>0.00</td>\n",
              "      <td>6.0</td>\n",
              "      <td></td>\n",
              "      <td></td>\n",
              "      <td>2000</td>\n",
              "      <td>아파트</td>\n",
              "      <td>중개거래</td>\n",
              "      <td>서울 중구</td>\n",
              "    </tr>\n",
              "    <tr>\n",
              "      <th>97</th>\n",
              "      <td>2024</td>\n",
              "      <td>11500</td>\n",
              "      <td>강서구</td>\n",
              "      <td>10300</td>\n",
              "      <td>화곡동</td>\n",
              "      <td>1</td>\n",
              "      <td>대지</td>\n",
              "      <td>0056</td>\n",
              "      <td>0323</td>\n",
              "      <td>화성빌라A동(56-323)</td>\n",
              "      <td>...</td>\n",
              "      <td>8000</td>\n",
              "      <td>28.53</td>\n",
              "      <td>13.35</td>\n",
              "      <td>4.0</td>\n",
              "      <td></td>\n",
              "      <td></td>\n",
              "      <td>2001</td>\n",
              "      <td>연립다세대</td>\n",
              "      <td>직거래</td>\n",
              "      <td></td>\n",
              "    </tr>\n",
              "    <tr>\n",
              "      <th>98</th>\n",
              "      <td>2024</td>\n",
              "      <td>11215</td>\n",
              "      <td>광진구</td>\n",
              "      <td>10500</td>\n",
              "      <td>자양동</td>\n",
              "      <td>1</td>\n",
              "      <td>대지</td>\n",
              "      <td>0610</td>\n",
              "      <td>0027</td>\n",
              "      <td>(610-27)</td>\n",
              "      <td>...</td>\n",
              "      <td>23800</td>\n",
              "      <td>39.27</td>\n",
              "      <td>25.62</td>\n",
              "      <td>1.0</td>\n",
              "      <td></td>\n",
              "      <td></td>\n",
              "      <td>1986</td>\n",
              "      <td>연립다세대</td>\n",
              "      <td>중개거래</td>\n",
              "      <td>서울 광진구</td>\n",
              "    </tr>\n",
              "    <tr>\n",
              "      <th>99</th>\n",
              "      <td>2024</td>\n",
              "      <td>11230</td>\n",
              "      <td>동대문구</td>\n",
              "      <td>10200</td>\n",
              "      <td>용두동</td>\n",
              "      <td>1</td>\n",
              "      <td>대지</td>\n",
              "      <td>0787</td>\n",
              "      <td>0000</td>\n",
              "      <td>동의보감타워</td>\n",
              "      <td>...</td>\n",
              "      <td>17000</td>\n",
              "      <td>36.02</td>\n",
              "      <td>49.34</td>\n",
              "      <td>14.0</td>\n",
              "      <td></td>\n",
              "      <td></td>\n",
              "      <td>2005</td>\n",
              "      <td>오피스텔</td>\n",
              "      <td>중개거래</td>\n",
              "      <td>서울 동대문구</td>\n",
              "    </tr>\n",
              "  </tbody>\n",
              "</table>\n",
              "<p>100 rows × 21 columns</p>\n",
              "</div>"
            ],
            "text/plain": [
              "   ACC_YEAR SGG_CD SGG_NM BJDONG_CD BJDONG_NM LAND_GBN LAND_GBN_NM BONBEON  \\\n",
              "0      2024  11380    은평구     10700       응암동        1          대지    0091   \n",
              "1      2024  11140     중구     14500     광희동1가        1          대지    0089   \n",
              "2      2024  11740    강동구     10900       천호동        1          대지    0039   \n",
              "3      2024  11710    송파구     11300       거여동        1          대지    0605   \n",
              "4      2024  11530    구로구     10200       구로동        1          대지    0044   \n",
              "..      ...    ...    ...       ...       ...      ...         ...     ...   \n",
              "95     2024  11380    은평구     10900       신사동        1          대지    0005   \n",
              "96     2024  11140     중구     16200       신당동        1          대지    0846   \n",
              "97     2024  11500    강서구     10300       화곡동        1          대지    0056   \n",
              "98     2024  11215    광진구     10500       자양동        1          대지    0610   \n",
              "99     2024  11230   동대문구     10200       용두동        1          대지    0787   \n",
              "\n",
              "   BUBEON         BLDG_NM  ... OBJ_AMT BLDG_AREA  TOT_AREA  FLOOR  RIGHT_GBN  \\\n",
              "0    0007          CJ드림시티  ...   12900     24.84     34.07   15.0              \n",
              "1    0001    광희동금호트윈 오피스텔  ...    9850     21.96     31.13   14.0              \n",
              "2    0009           미래위너스  ...   26400     29.96     19.16    4.0              \n",
              "3    0000          휴먼빌 시티  ...   18000     24.15     35.41    4.0              \n",
              "4    0008       비즈트위트 오렌지  ...   15000     20.80     31.43    8.0              \n",
              "..    ...             ...  ...     ...       ...       ...    ...        ...   \n",
              "95   0042     삼원제우스(5-42)  ...   30000     45.64     26.54    4.0              \n",
              "96   0000        신당동파라다이스  ...   82000     84.77      0.00    6.0              \n",
              "97   0323  화성빌라A동(56-323)  ...    8000     28.53     13.35    4.0              \n",
              "98   0027        (610-27)  ...   23800     39.27     25.62    1.0              \n",
              "99   0000          동의보감타워  ...   17000     36.02     49.34   14.0              \n",
              "\n",
              "   CNTL_YMD BUILD_YEAR HOUSE_TYPE REQ_GBN RDEALER_LAWDNM  \n",
              "0                 2004       오피스텔    중개거래         서울 은평구  \n",
              "1                 1999       오피스텔    중개거래          서울 중구  \n",
              "2                 2016      연립다세대    중개거래         서울 강동구  \n",
              "3                 2020       오피스텔    중개거래         서울 송파구  \n",
              "4                 2013       오피스텔    중개거래        서울 영등포구  \n",
              "..      ...        ...        ...     ...            ...  \n",
              "95                2016      연립다세대     직거래                 \n",
              "96                2000        아파트    중개거래          서울 중구  \n",
              "97                2001      연립다세대     직거래                 \n",
              "98                1986      연립다세대    중개거래         서울 광진구  \n",
              "99                2005       오피스텔    중개거래        서울 동대문구  \n",
              "\n",
              "[100 rows x 21 columns]"
            ]
          },
          "execution_count": 4,
          "metadata": {},
          "output_type": "execute_result"
        }
      ],
      "source": [
        "content = req.json()\n",
        "# content   # 정상 처리되었다고 하고 데이터 쭉\n",
        "result = pd.DataFrame(content['tbLnOpendataRtmsV']['row'])    #content 안의 tbLn~은 key값. 그 뒤에 row만 찾음 (content 주석 풀면 보일 것)\n",
        "result"
      ]
    },
    {
      "cell_type": "code",
      "execution_count": null,
      "id": "95348215-a0fc-4ae4-9c41-5e2d58e5c6c1",
      "metadata": {
        "id": "95348215-a0fc-4ae4-9c41-5e2d58e5c6c1",
        "outputId": "4c6151a6-b5bb-4dc7-cf5c-3724ce602cc7"
      },
      "outputs": [
        {
          "data": {
            "text/plain": [
              "'http://openapi.seoul.go.kr:8088/5a736a6857736b7236387253467746/json/tbLnOpendataRtmsV/1/100/'"
            ]
          },
          "execution_count": 5,
          "metadata": {},
          "output_type": "execute_result"
        }
      ],
      "source": [
        "# json 대신 xml로 해보기!\n",
        "URL"
      ]
    },
    {
      "cell_type": "code",
      "execution_count": null,
      "id": "f190bef1-e260-4ef2-90cd-eb81ddc20648",
      "metadata": {
        "id": "f190bef1-e260-4ef2-90cd-eb81ddc20648",
        "outputId": "796cccdf-0468-49da-9163-08062361cdcc"
      },
      "outputs": [
        {
          "data": {
            "text/plain": [
              "'http://openapi.seoul.go.kr:8088/5a736a6857736b7236387253467746/xml/tbLnOpendataRtmsV/1/100/'"
            ]
          },
          "execution_count": 6,
          "metadata": {},
          "output_type": "execute_result"
        }
      ],
      "source": [
        "URL1 = URL.replace('json', 'xml')\n",
        "URL1"
      ]
    },
    {
      "cell_type": "code",
      "execution_count": null,
      "id": "181b7276-136c-4cef-8498-2f60c1ad0435",
      "metadata": {
        "id": "181b7276-136c-4cef-8498-2f60c1ad0435",
        "outputId": "2e78cb27-48c8-46c5-ad26-fc33a359be1d"
      },
      "outputs": [
        {
          "name": "stderr",
          "output_type": "stream",
          "text": [
            "C:\\Users\\skrtk\\AppData\\Local\\Temp\\ipykernel_20140\\859826875.py:7: XMLParsedAsHTMLWarning: It looks like you're parsing an XML document using an HTML parser. If this really is an HTML document (maybe it's XHTML?), you can ignore or filter this warning. If it's XML, you should know that using an XML parser will be more reliable. To parse this document as XML, make sure you have the lxml package installed, and pass the keyword argument `features=\"xml\"` into the BeautifulSoup constructor.\n",
            "  soup = BeautifulSoup(req.content, 'lxml')   # soup객체로 바꾸어줘야 진짜 html느낌 됨\n"
          ]
        }
      ],
      "source": [
        "import requests\n",
        "from bs4 import BeautifulSoup\n",
        "import pandas as pd\n",
        "\n",
        "req = requests.get(URL1)\n",
        "# req.content       # 약간 html과 비슷한 형태로 나옴\n",
        "soup = BeautifulSoup(req.content, 'lxml')   # soup객체로 바꾸어줘야 진짜 html느낌 됨\n",
        "# print(soup.prettify()) # prettify()가 뭐야?"
      ]
    },
    {
      "cell_type": "code",
      "execution_count": null,
      "id": "2d17735a-e26d-4227-ac50-b392766895c8",
      "metadata": {
        "id": "2d17735a-e26d-4227-ac50-b392766895c8",
        "outputId": "a6fe13eb-541c-418c-fb05-d975c02929a9"
      },
      "outputs": [
        {
          "data": {
            "text/html": [
              "<div>\n",
              "<style scoped>\n",
              "    .dataframe tbody tr th:only-of-type {\n",
              "        vertical-align: middle;\n",
              "    }\n",
              "\n",
              "    .dataframe tbody tr th {\n",
              "        vertical-align: top;\n",
              "    }\n",
              "\n",
              "    .dataframe thead th {\n",
              "        text-align: right;\n",
              "    }\n",
              "</style>\n",
              "<table border=\"1\" class=\"dataframe\">\n",
              "  <thead>\n",
              "    <tr style=\"text-align: right;\">\n",
              "      <th></th>\n",
              "      <th>acc_year</th>\n",
              "      <th>sgg_cd</th>\n",
              "      <th>sgg_nm</th>\n",
              "      <th>bjdong_cd</th>\n",
              "      <th>land_gbn</th>\n",
              "      <th>land_gbn_nm</th>\n",
              "      <th>bonbeon</th>\n",
              "      <th>bubeon</th>\n",
              "      <th>bldg_nm</th>\n",
              "      <th>deal_ymd</th>\n",
              "      <th>house_type</th>\n",
              "    </tr>\n",
              "  </thead>\n",
              "  <tbody>\n",
              "    <tr>\n",
              "      <th>0</th>\n",
              "      <td>2024</td>\n",
              "      <td>11380</td>\n",
              "      <td>은평구</td>\n",
              "      <td>10700</td>\n",
              "      <td>1</td>\n",
              "      <td>대지</td>\n",
              "      <td>0091</td>\n",
              "      <td>0007</td>\n",
              "      <td>CJ드림시티</td>\n",
              "      <td>20240131</td>\n",
              "      <td>오피스텔</td>\n",
              "    </tr>\n",
              "    <tr>\n",
              "      <th>1</th>\n",
              "      <td>2024</td>\n",
              "      <td>11140</td>\n",
              "      <td>중구</td>\n",
              "      <td>14500</td>\n",
              "      <td>1</td>\n",
              "      <td>대지</td>\n",
              "      <td>0089</td>\n",
              "      <td>0001</td>\n",
              "      <td>광희동금호트윈 오피스텔</td>\n",
              "      <td>20240131</td>\n",
              "      <td>오피스텔</td>\n",
              "    </tr>\n",
              "    <tr>\n",
              "      <th>2</th>\n",
              "      <td>2024</td>\n",
              "      <td>11740</td>\n",
              "      <td>강동구</td>\n",
              "      <td>10900</td>\n",
              "      <td>1</td>\n",
              "      <td>대지</td>\n",
              "      <td>0039</td>\n",
              "      <td>0009</td>\n",
              "      <td>미래위너스</td>\n",
              "      <td>20240131</td>\n",
              "      <td>연립다세대</td>\n",
              "    </tr>\n",
              "    <tr>\n",
              "      <th>3</th>\n",
              "      <td>2024</td>\n",
              "      <td>11710</td>\n",
              "      <td>송파구</td>\n",
              "      <td>11300</td>\n",
              "      <td>1</td>\n",
              "      <td>대지</td>\n",
              "      <td>0605</td>\n",
              "      <td>0000</td>\n",
              "      <td>휴먼빌 시티</td>\n",
              "      <td>20240131</td>\n",
              "      <td>오피스텔</td>\n",
              "    </tr>\n",
              "    <tr>\n",
              "      <th>4</th>\n",
              "      <td>2024</td>\n",
              "      <td>11530</td>\n",
              "      <td>구로구</td>\n",
              "      <td>10200</td>\n",
              "      <td>1</td>\n",
              "      <td>대지</td>\n",
              "      <td>0044</td>\n",
              "      <td>0008</td>\n",
              "      <td>비즈트위트 오렌지</td>\n",
              "      <td>20240131</td>\n",
              "      <td>오피스텔</td>\n",
              "    </tr>\n",
              "    <tr>\n",
              "      <th>...</th>\n",
              "      <td>...</td>\n",
              "      <td>...</td>\n",
              "      <td>...</td>\n",
              "      <td>...</td>\n",
              "      <td>...</td>\n",
              "      <td>...</td>\n",
              "      <td>...</td>\n",
              "      <td>...</td>\n",
              "      <td>...</td>\n",
              "      <td>...</td>\n",
              "      <td>...</td>\n",
              "    </tr>\n",
              "    <tr>\n",
              "      <th>95</th>\n",
              "      <td>2024</td>\n",
              "      <td>11380</td>\n",
              "      <td>은평구</td>\n",
              "      <td>10900</td>\n",
              "      <td>1</td>\n",
              "      <td>대지</td>\n",
              "      <td>0005</td>\n",
              "      <td>0042</td>\n",
              "      <td>삼원제우스(5-42)</td>\n",
              "      <td>20240129</td>\n",
              "      <td>연립다세대</td>\n",
              "    </tr>\n",
              "    <tr>\n",
              "      <th>96</th>\n",
              "      <td>2024</td>\n",
              "      <td>11140</td>\n",
              "      <td>중구</td>\n",
              "      <td>16200</td>\n",
              "      <td>1</td>\n",
              "      <td>대지</td>\n",
              "      <td>0846</td>\n",
              "      <td>0000</td>\n",
              "      <td>신당동파라다이스</td>\n",
              "      <td>20240129</td>\n",
              "      <td>아파트</td>\n",
              "    </tr>\n",
              "    <tr>\n",
              "      <th>97</th>\n",
              "      <td>2024</td>\n",
              "      <td>11500</td>\n",
              "      <td>강서구</td>\n",
              "      <td>10300</td>\n",
              "      <td>1</td>\n",
              "      <td>대지</td>\n",
              "      <td>0056</td>\n",
              "      <td>0323</td>\n",
              "      <td>화성빌라A동(56-323)</td>\n",
              "      <td>20240129</td>\n",
              "      <td>연립다세대</td>\n",
              "    </tr>\n",
              "    <tr>\n",
              "      <th>98</th>\n",
              "      <td>2024</td>\n",
              "      <td>11215</td>\n",
              "      <td>광진구</td>\n",
              "      <td>10500</td>\n",
              "      <td>1</td>\n",
              "      <td>대지</td>\n",
              "      <td>0610</td>\n",
              "      <td>0027</td>\n",
              "      <td>(610-27)</td>\n",
              "      <td>20240129</td>\n",
              "      <td>연립다세대</td>\n",
              "    </tr>\n",
              "    <tr>\n",
              "      <th>99</th>\n",
              "      <td>2024</td>\n",
              "      <td>11230</td>\n",
              "      <td>동대문구</td>\n",
              "      <td>10200</td>\n",
              "      <td>1</td>\n",
              "      <td>대지</td>\n",
              "      <td>0787</td>\n",
              "      <td>0000</td>\n",
              "      <td>동의보감타워</td>\n",
              "      <td>20240129</td>\n",
              "      <td>오피스텔</td>\n",
              "    </tr>\n",
              "  </tbody>\n",
              "</table>\n",
              "<p>100 rows × 11 columns</p>\n",
              "</div>"
            ],
            "text/plain": [
              "   acc_year sgg_cd sgg_nm bjdong_cd land_gbn land_gbn_nm bonbeon bubeon  \\\n",
              "0      2024  11380    은평구     10700        1          대지    0091   0007   \n",
              "1      2024  11140     중구     14500        1          대지    0089   0001   \n",
              "2      2024  11740    강동구     10900        1          대지    0039   0009   \n",
              "3      2024  11710    송파구     11300        1          대지    0605   0000   \n",
              "4      2024  11530    구로구     10200        1          대지    0044   0008   \n",
              "..      ...    ...    ...       ...      ...         ...     ...    ...   \n",
              "95     2024  11380    은평구     10900        1          대지    0005   0042   \n",
              "96     2024  11140     중구     16200        1          대지    0846   0000   \n",
              "97     2024  11500    강서구     10300        1          대지    0056   0323   \n",
              "98     2024  11215    광진구     10500        1          대지    0610   0027   \n",
              "99     2024  11230   동대문구     10200        1          대지    0787   0000   \n",
              "\n",
              "           bldg_nm  deal_ymd house_type  \n",
              "0           CJ드림시티  20240131       오피스텔  \n",
              "1     광희동금호트윈 오피스텔  20240131       오피스텔  \n",
              "2            미래위너스  20240131      연립다세대  \n",
              "3           휴먼빌 시티  20240131       오피스텔  \n",
              "4        비즈트위트 오렌지  20240131       오피스텔  \n",
              "..             ...       ...        ...  \n",
              "95     삼원제우스(5-42)  20240129      연립다세대  \n",
              "96        신당동파라다이스  20240129        아파트  \n",
              "97  화성빌라A동(56-323)  20240129      연립다세대  \n",
              "98        (610-27)  20240129      연립다세대  \n",
              "99          동의보감타워  20240129       오피스텔  \n",
              "\n",
              "[100 rows x 11 columns]"
            ]
          },
          "execution_count": 8,
          "metadata": {},
          "output_type": "execute_result"
        }
      ],
      "source": [
        "# try 이 부분 로직 정리해보자!\n",
        "\n",
        "col = ['acc_year', 'sgg_cd', 'sgg_nm', 'bjdong_cd', 'land_gbn', 'land_gbn_nm', 'bonbeon', 'bubeon',\n",
        "       'bldg_nm', 'deal_ymd', 'house_type']\n",
        "\n",
        "result_dict = {colname: [] for colname in col}\n",
        "\n",
        "for colname in col:\n",
        "    for tag in soup.find_all(colname):\n",
        "        result_dict[colname].append(tag.text)\n",
        "result = pd.DataFrame(result_dict)\n",
        "result"
      ]
    },
    {
      "cell_type": "code",
      "execution_count": null,
      "id": "4819588e-6311-40b0-82ec-2dffd5d2566b",
      "metadata": {
        "id": "4819588e-6311-40b0-82ec-2dffd5d2566b",
        "outputId": "dbed3cc2-296a-48ea-d800-22e841074e4e"
      },
      "outputs": [
        {
          "data": {
            "text/plain": [
              "<Response [200]>"
            ]
          },
          "execution_count": 9,
          "metadata": {},
          "output_type": "execute_result"
        }
      ],
      "source": [
        "# 공공데이터 포털- 국토교통부\n",
        "PUBLIC_SERVICE_KEY = os.getenv('PUBLIC_SERVICE_KEY')\n",
        "URL2 = 'http://openapi.molit.go.kr:8081/OpenAPI_ToolInstallPackage/service/rest/RTMSOBJSvc/getRTMSDataSvcAptTrade?_wadl&type=xml'\n",
        "        # end point에서 가져왔는데, 공식문서에서 서비스 URL가져오는 것이 더 바람직\n",
        "\n",
        "pageNo = 1 # 페이지 번호\n",
        "numOfRows = 500 # 한 페이지 결과수\n",
        "LAWD_CD = 11500 # 지역코드\n",
        "DEAL_YMD = 202101 # 계약월\n",
        "url = f'http://openapi.molit.go.kr/OpenAPI_ToolInstallPackage/service/rest/RTMSOBJSvc/getRTMSDataSvcAptTradeDev?serviceKey={PUBLIC_SERVICE_KEY}&pageNo={pageNo}&numOfRows={numOfRows}&LAWD_CD={LAWD_CD}&DEAL_YMD={DEAL_YMD}'\n",
        "req = requests.get(url)\n",
        "req"
      ]
    },
    {
      "cell_type": "code",
      "execution_count": null,
      "id": "3f40f6fa-e258-44a4-be95-41fc3491dfdd",
      "metadata": {
        "id": "3f40f6fa-e258-44a4-be95-41fc3491dfdd",
        "outputId": "b93d234d-7102-47fc-92f6-0a674d3e770a"
      },
      "outputs": [
        {
          "data": {
            "text/plain": [
              "'<?xml version=\"1.0\" encoding=\"UTF-8\" standalone=\"yes\"?><response><header><resultCode>99</resultCode><resultMsg>SERVICE ACCESS DENIED ERROR.</resultMsg></header></response>'"
            ]
          },
          "execution_count": 10,
          "metadata": {},
          "output_type": "execute_result"
        }
      ],
      "source": [
        "req.text    # 인증키 아직 인증 못 받으면 뜨는 에러: <?xml version=\"1.0\" encoding=\"UTF-8\" standalone=\"yes\"?><response><header><resultCode>99</resultCode><resultMsg>SERVICE KEY IS NOT REGISTERED ERROR.</resultMsg></header></response>"
      ]
    },
    {
      "cell_type": "code",
      "execution_count": null,
      "id": "9d5dd39d-f52d-40f2-a942-dfe51e616f70",
      "metadata": {
        "id": "9d5dd39d-f52d-40f2-a942-dfe51e616f70"
      },
      "outputs": [],
      "source": [
        "# xml 데이터를 dictionary(json) 타입으로 변경할 수 있는 라이브러리"
      ]
    },
    {
      "cell_type": "code",
      "execution_count": null,
      "id": "52a6e9e1-784d-4bd0-bffd-410fab98ad9d",
      "metadata": {
        "id": "52a6e9e1-784d-4bd0-bffd-410fab98ad9d",
        "outputId": "9a9eca64-c835-479c-f661-aec87acd7b6d"
      },
      "outputs": [
        {
          "name": "stdout",
          "output_type": "stream",
          "text": [
            "Requirement already satisfied: xmltodict in c:\\users\\skrtk\\desktop\\streamlit-mulcamp\\venv\\lib\\site-packages (0.13.0)\n",
            "Note: you may need to restart the kernel to use updated packages.\n"
          ]
        }
      ],
      "source": [
        "pip install xmltodict"
      ]
    },
    {
      "cell_type": "code",
      "execution_count": null,
      "id": "e5082faf-67b8-4295-a507-aec497913154",
      "metadata": {
        "id": "e5082faf-67b8-4295-a507-aec497913154",
        "outputId": "92467163-370d-445c-b540-d7aa20e0f37d"
      },
      "outputs": [
        {
          "ename": "NameError",
          "evalue": "name 'xmltodict' is not defined",
          "output_type": "error",
          "traceback": [
            "\u001b[1;31m---------------------------------------------------------------------------\u001b[0m",
            "\u001b[1;31mNameError\u001b[0m                                 Traceback (most recent call last)",
            "Cell \u001b[1;32mIn[13], line 2\u001b[0m\n\u001b[0;32m      1\u001b[0m \u001b[38;5;66;03m# 위에서 인증 못 받아서 일단 필기\u001b[39;00m\n\u001b[1;32m----> 2\u001b[0m contents \u001b[38;5;241m=\u001b[39m \u001b[43mxmltodict\u001b[49m\u001b[38;5;241m.\u001b[39mparse(req\u001b[38;5;241m.\u001b[39mtext)\n\u001b[0;32m      3\u001b[0m data \u001b[38;5;241m=\u001b[39m pd\u001b[38;5;241m.\u001b[39mDataFrame(contents[\u001b[38;5;124m'\u001b[39m\u001b[38;5;124mresponse\u001b[39m\u001b[38;5;124m'\u001b[39m][\u001b[38;5;124m'\u001b[39m\u001b[38;5;124mbody\u001b[39m\u001b[38;5;124m'\u001b[39m][\u001b[38;5;124m'\u001b[39m\u001b[38;5;124mitems\u001b[39m\u001b[38;5;124m'\u001b[39m][\u001b[38;5;124m'\u001b[39m\u001b[38;5;124mitem\u001b[39m\u001b[38;5;124m'\u001b[39m])\n\u001b[0;32m      4\u001b[0m data\u001b[38;5;241m.\u001b[39mhead()\n",
            "\u001b[1;31mNameError\u001b[0m: name 'xmltodict' is not defined"
          ]
        }
      ],
      "source": [
        "# 위에서 인증 못 받아서 일단 필기\n",
        "contents = xmltodict.parse(req.text)\n",
        "data = pd.DataFrame(contents['response']['body']['items']['item'])\n",
        "data.head()\n"
      ]
    },
    {
      "cell_type": "code",
      "execution_count": null,
      "id": "baa85302-7495-4c9d-afe0-51453f152149",
      "metadata": {
        "id": "baa85302-7495-4c9d-afe0-51453f152149"
      },
      "outputs": [],
      "source": [
        "# 1000개 이상으로 다중 데이터 수집\n",
        "URL1000 = URL.replace('100', '1000')\n",
        "URL1000"
      ]
    },
    {
      "cell_type": "code",
      "execution_count": null,
      "id": "da0697bd-ee15-47ac-9470-331b1a0ef502",
      "metadata": {
        "id": "da0697bd-ee15-47ac-9470-331b1a0ef502"
      },
      "outputs": [],
      "source": [
        "# 합쳐보기\n",
        "df = None\n",
        "for i in range(1000, 4000, 1000):\n",
        "    URL1000 = f'http://openapi.seoul.go.kr:8088/{SERVICE_KEY}/json/tbLnOpendataRtmsV/{(i-1000)+1}/{i}/'\n",
        "    print(URL1000)\n",
        "\n",
        "    req = requests.get(URL1000)\n",
        "    content = req.json()\n",
        "\n",
        "    result = pd.DataFrame(content['tbLnOpendataRtmsV']['row'])\n",
        "    df = pd.concat([df, result], ignore_index=True)"
      ]
    },
    {
      "cell_type": "code",
      "execution_count": null,
      "id": "0dfbbd52-3691-473c-a3e1-2adb4b2267fd",
      "metadata": {
        "id": "0dfbbd52-3691-473c-a3e1-2adb4b2267fd"
      },
      "outputs": [],
      "source": [
        "df"
      ]
    }
  ],
  "metadata": {
    "kernelspec": {
      "display_name": "Python 3 (ipykernel)",
      "language": "python",
      "name": "python3"
    },
    "language_info": {
      "codemirror_mode": {
        "name": "ipython",
        "version": 3
      },
      "file_extension": ".py",
      "mimetype": "text/x-python",
      "name": "python",
      "nbconvert_exporter": "python",
      "pygments_lexer": "ipython3",
      "version": "3.11.4"
    },
    "colab": {
      "provenance": [],
      "include_colab_link": true
    }
  },
  "nbformat": 4,
  "nbformat_minor": 5
}