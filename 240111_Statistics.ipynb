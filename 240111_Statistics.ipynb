{
  "cells": [
    {
      "cell_type": "markdown",
      "metadata": {
        "id": "view-in-github",
        "colab_type": "text"
      },
      "source": [
        "<a href=\"https://colab.research.google.com/github/yellayujin/mulcamp34/blob/main/240111_Statistics.ipynb\" target=\"_parent\"><img src=\"https://colab.research.google.com/assets/colab-badge.svg\" alt=\"Open In Colab\"/></a>"
      ]
    },
    {
      "cell_type": "code",
      "execution_count": null,
      "id": "e612fe8d-cdd5-4fd8-8d7d-d764d1579c5d",
      "metadata": {
        "id": "e612fe8d-cdd5-4fd8-8d7d-d764d1579c5d"
      },
      "outputs": [],
      "source": [
        "# 0110: ADsP pptx로 강의 진행"
      ]
    },
    {
      "cell_type": "markdown",
      "id": "c64ab72b-d09d-4eca-8c58-d3faf56a3a6b",
      "metadata": {
        "id": "c64ab72b-d09d-4eca-8c58-d3faf56a3a6b"
      },
      "source": [
        "# 문제 상황(p.294)\n",
        "- 평균 무게 130g으로 알려진 감튀-> 1개 구매, 무게 122.02g\n",
        "- 14개 표본 평균 계산-> 128.451g\n",
        "\n",
        "- Q. 어떤 통계 검정 방법을 사용해야 할까?\n",
        "    : 정규성 검정 후 일표본 T검정\n",
        "    \n",
        "- Q. 귀무가설과 대립가설을 설정하시오\n",
        "    H0: 평균은 130g, H1: 평균은 130g이 아님 (= 양측검정)\n",
        "    H0: 평균은 130g, H1: 평균은 130g보다 작다 (= 단측검정)\n"
      ]
    },
    {
      "cell_type": "code",
      "execution_count": null,
      "id": "6173485b-5906-4e36-8fab-381002010e9b",
      "metadata": {
        "tags": [],
        "id": "6173485b-5906-4e36-8fab-381002010e9b",
        "outputId": "f9001bdd-86af-432b-c2d8-59028ad233e0"
      },
      "outputs": [
        {
          "data": {
            "text/plain": [
              "'1.10.1'"
            ]
          },
          "execution_count": 3,
          "metadata": {},
          "output_type": "execute_result"
        }
      ],
      "source": [
        "import numpy as np\n",
        "import pandas as pd\n",
        "import scipy\n",
        "from scipy import stats\n",
        "scipy.__version__"
      ]
    },
    {
      "cell_type": "code",
      "execution_count": null,
      "id": "b264287b-7089-41d5-9f8f-21ef38fa4a9d",
      "metadata": {
        "tags": [],
        "id": "b264287b-7089-41d5-9f8f-21ef38fa4a9d"
      },
      "outputs": [],
      "source": [
        "%precision 3\n",
        "np.random.seed(1111)"
      ]
    },
    {
      "cell_type": "code",
      "execution_count": null,
      "id": "14432205-d2f1-4a28-9924-ce3956ad1b17",
      "metadata": {
        "tags": [],
        "id": "14432205-d2f1-4a28-9924-ce3956ad1b17",
        "outputId": "e06b7327-794d-4af5-a256-bf99e4820908"
      },
      "outputs": [
        {
          "data": {
            "text/html": [
              "<div>\n",
              "<style scoped>\n",
              "    .dataframe tbody tr th:only-of-type {\n",
              "        vertical-align: middle;\n",
              "    }\n",
              "\n",
              "    .dataframe tbody tr th {\n",
              "        vertical-align: top;\n",
              "    }\n",
              "\n",
              "    .dataframe thead th {\n",
              "        text-align: right;\n",
              "    }\n",
              "</style>\n",
              "<table border=\"1\" class=\"dataframe\">\n",
              "  <thead>\n",
              "    <tr style=\"text-align: right;\">\n",
              "      <th></th>\n",
              "      <th>무게</th>\n",
              "    </tr>\n",
              "  </thead>\n",
              "  <tbody>\n",
              "    <tr>\n",
              "      <th>0</th>\n",
              "      <td>122.02</td>\n",
              "    </tr>\n",
              "    <tr>\n",
              "      <th>1</th>\n",
              "      <td>131.73</td>\n",
              "    </tr>\n",
              "    <tr>\n",
              "      <th>2</th>\n",
              "      <td>130.60</td>\n",
              "    </tr>\n",
              "    <tr>\n",
              "      <th>3</th>\n",
              "      <td>131.82</td>\n",
              "    </tr>\n",
              "    <tr>\n",
              "      <th>4</th>\n",
              "      <td>132.05</td>\n",
              "    </tr>\n",
              "  </tbody>\n",
              "</table>\n",
              "</div>"
            ],
            "text/plain": [
              "       무게\n",
              "0  122.02\n",
              "1  131.73\n",
              "2  130.60\n",
              "3  131.82\n",
              "4  132.05"
            ]
          },
          "execution_count": 5,
          "metadata": {},
          "output_type": "execute_result"
        }
      ],
      "source": [
        "df = pd.read_csv('data/ch11_potato.csv')\n",
        "df.head()"
      ]
    },
    {
      "cell_type": "code",
      "execution_count": null,
      "id": "1c2266ae-95db-4d55-b08a-b8e70f83b64e",
      "metadata": {
        "tags": [],
        "id": "1c2266ae-95db-4d55-b08a-b8e70f83b64e",
        "outputId": "5215a01b-fb0f-48a5-f715-ccde56c1e6d3"
      },
      "outputs": [
        {
          "data": {
            "text/plain": [
              "array([122.02, 131.73, 130.6 , 131.82, 132.05, 126.12, 124.43, 132.89,\n",
              "       122.79, 129.95, 126.14, 134.45, 127.64, 125.68])"
            ]
          },
          "execution_count": 6,
          "metadata": {},
          "output_type": "execute_result"
        }
      ],
      "source": [
        "sample = np.array(df['무게'])     # 변수 하나밖에 없어도 df로 하면 다르게 됨(각각에 [ ] 들어감)\n",
        "sample                           # 배열로 해야하는 이유가 있을까?"
      ]
    },
    {
      "cell_type": "code",
      "execution_count": null,
      "id": "c51d8ce3-9106-4ea3-aee5-687b1dabeac2",
      "metadata": {
        "tags": [],
        "id": "c51d8ce3-9106-4ea3-aee5-687b1dabeac2",
        "outputId": "3bc5a541-4f2a-4e65-bb2b-b56697f37cff"
      },
      "outputs": [
        {
          "data": {
            "text/plain": [
              "128.451"
            ]
          },
          "execution_count": 7,
          "metadata": {},
          "output_type": "execute_result"
        }
      ],
      "source": [
        "# 표본평균\n",
        "s_mean = np.mean(sample)   # array 방식 평균\n",
        "s_mean"
      ]
    },
    {
      "cell_type": "code",
      "execution_count": null,
      "id": "63b8b1a7-7480-4f09-a236-b6c776a5c206",
      "metadata": {
        "tags": [],
        "id": "63b8b1a7-7480-4f09-a236-b6c776a5c206",
        "outputId": "43855603-e0a1-48cd-9d8f-59c815c7ede4"
      },
      "outputs": [
        {
          "data": {
            "text/plain": [
              "128.451"
            ]
          },
          "execution_count": 8,
          "metadata": {},
          "output_type": "execute_result"
        }
      ],
      "source": [
        "s_mean1 = sample.mean()\n",
        "s_mean1"
      ]
    },
    {
      "cell_type": "markdown",
      "id": "981afade-79b8-4a66-9ced-1c6548f524be",
      "metadata": {
        "id": "981afade-79b8-4a66-9ced-1c6548f524be"
      },
      "source": [
        "# A학생의 관심(단측 검정)\n",
        "- 14개 표본평균이 모평균 130g보다 작은지 여부\n",
        "- 여기서는 감자튀김의 모집단이 정규분포를 따르고 있다고 가정(~N(130, 9)으로 모평균, 모분산 기지) -> 정규성 검정 할 필요 없음\n",
        "    + 비모수검정 쓸 필요 없음 -> 모수 검정 하면 됨"
      ]
    },
    {
      "cell_type": "code",
      "execution_count": null,
      "id": "3b528193-6ecc-4337-b5c7-41651d67a354",
      "metadata": {
        "tags": [],
        "id": "3b528193-6ecc-4337-b5c7-41651d67a354",
        "outputId": "d054be84-90b6-450c-f505-7cae53ff692c"
      },
      "outputs": [
        {
          "data": {
            "text/plain": [
              "128.681"
            ]
          },
          "execution_count": 9,
          "metadata": {},
          "output_type": "execute_result"
        }
      ],
      "source": [
        "rv = stats.norm(130, np.sqrt(9/14))  # 표본평균이 따르는 정규분포\n",
        "rv.isf(0.95)   # P(Xbar<=x) = 0.05인 x인 임계값(신뢰구간 구할 수 있음)"
      ]
    },
    {
      "cell_type": "markdown",
      "id": "e6eb9465-7bf7-4072-a306-1834b5039b5f",
      "metadata": {
        "id": "e6eb9465-7bf7-4072-a306-1834b5039b5f"
      },
      "source": [
        "## 해석\n",
        "- 표본평균이 128.681이하일 확률은 0.05임\n",
        "- A학생이 추출한 표본평균이 128.451이었던 것은 매우 드물게 발생하는 사건이었음\n",
        "- 하지만 여전히 샘플 수가 작아 확신하기는 힘듬(yet, 의심의 수준)\n",
        "    + 샘플의 수가 바뀔 때마다 임계값의 변화가 있음\n",
        "    + Thus, t-통계량(=검정통계량)과 p-값 확인   (검정통계량: 각 검정방법에 따른 통계량)"
      ]
    },
    {
      "cell_type": "markdown",
      "id": "a5b5b2c7-5311-4353-9da9-8d79d5d2f6d3",
      "metadata": {
        "id": "a5b5b2c7-5311-4353-9da9-8d79d5d2f6d3"
      },
      "source": [
        "# Way1(유의수준 이용)"
      ]
    },
    {
      "cell_type": "markdown",
      "id": "f985502e-e846-49cd-b738-a88da07b1f18",
      "metadata": {
        "id": "f985502e-e846-49cd-b738-a88da07b1f18"
      },
      "source": [
        "## 검정통계량 구하기\n"
      ]
    },
    {
      "cell_type": "code",
      "execution_count": null,
      "id": "4c755640-3e8c-4769-ab0e-55c7f6721b68",
      "metadata": {
        "tags": [],
        "id": "4c755640-3e8c-4769-ab0e-55c7f6721b68",
        "outputId": "53bccfaa-e4b5-4d3a-9823-b80d384e8eaf"
      },
      "outputs": [
        {
          "data": {
            "text/plain": [
              "-1.932"
            ]
          },
          "execution_count": 10,
          "metadata": {},
          "output_type": "execute_result"
        }
      ],
      "source": [
        "z = (s_mean - 130) / np.sqrt(9/14)\n",
        "z"
      ]
    },
    {
      "cell_type": "markdown",
      "id": "b219af6f-90c6-4566-b65b-613cfc9f77a9",
      "metadata": {
        "id": "b219af6f-90c6-4566-b65b-613cfc9f77a9"
      },
      "source": [
        "## (검정통계량에 대한)임계값 구하기"
      ]
    },
    {
      "cell_type": "code",
      "execution_count": null,
      "id": "346d1ba1-fc40-4766-9072-6c9fb0e59e8d",
      "metadata": {
        "tags": [],
        "id": "346d1ba1-fc40-4766-9072-6c9fb0e59e8d",
        "outputId": "83ac754e-f2e0-4d24-a9f1-dcf37b7b9912"
      },
      "outputs": [
        {
          "data": {
            "text/plain": [
              "-1.645"
            ]
          },
          "execution_count": 11,
          "metadata": {},
          "output_type": "execute_result"
        }
      ],
      "source": [
        "rv = stats.norm()    # 표준정규분포에 대한 임계값\n",
        "rv.isf(0.95)         # 생존함수의 역함수(inverse survival function)"
      ]
    },
    {
      "cell_type": "markdown",
      "id": "bd5e7787-4738-4811-b0cf-8fb4d2cdfef1",
      "metadata": {
        "tags": [],
        "id": "bd5e7787-4738-4811-b0cf-8fb4d2cdfef1"
      },
      "source": [
        "## 해석\n",
        "- z값이 기각역에 있으므로 귀무가설 기각\n",
        "- 이 결론은 검정통계량으로 표본평균을 사용했을 때와 동일한 결론\n",
        "- 여전히"
      ]
    },
    {
      "cell_type": "markdown",
      "id": "747a4fd5-38d8-4cd4-b719-f5ca32749f5d",
      "metadata": {
        "tags": [],
        "id": "747a4fd5-38d8-4cd4-b719-f5ca32749f5d"
      },
      "source": [
        "# Way2(p-value이용)"
      ]
    },
    {
      "cell_type": "markdown",
      "id": "4a589681-ab85-4312-b1c2-50bbcf9931af",
      "metadata": {
        "id": "4a589681-ab85-4312-b1c2-50bbcf9931af"
      },
      "source": [
        "## 누적분포함수 이용"
      ]
    },
    {
      "cell_type": "code",
      "execution_count": null,
      "id": "a559c0ff-b384-40e3-9264-0314e362844e",
      "metadata": {
        "tags": [],
        "id": "a559c0ff-b384-40e3-9264-0314e362844e",
        "outputId": "da907b7c-ad02-4f00-81d7-6c80b592299a"
      },
      "outputs": [
        {
          "data": {
            "text/plain": [
              "0.027"
            ]
          },
          "execution_count": 12,
          "metadata": {},
          "output_type": "execute_result"
        }
      ],
      "source": [
        "rv.cdf(z)"
      ]
    },
    {
      "cell_type": "markdown",
      "id": "7c3efb6d-6b85-471b-8547-d6978f4e5932",
      "metadata": {
        "id": "7c3efb6d-6b85-471b-8547-d6978f4e5932"
      },
      "source": [
        "## 해석\n",
        "- p-값이 유의수준 0.05보다 작으므로 귀무가설 기각"
      ]
    },
    {
      "cell_type": "markdown",
      "id": "dd290fcf-c8bb-4a75-980e-7fdd726f6b53",
      "metadata": {
        "id": "dd290fcf-c8bb-4a75-980e-7fdd726f6b53"
      },
      "source": [
        "# 양측 검정"
      ]
    },
    {
      "cell_type": "code",
      "execution_count": null,
      "id": "31bc2e43-351e-4b03-b354-10886d2cc37b",
      "metadata": {
        "tags": [],
        "id": "31bc2e43-351e-4b03-b354-10886d2cc37b",
        "outputId": "a95edfb2-b252-4e25-c603-aad304275e24"
      },
      "outputs": [
        {
          "data": {
            "text/plain": [
              "(-1.960, 1.960)"
            ]
          },
          "execution_count": 13,
          "metadata": {},
          "output_type": "execute_result"
        }
      ],
      "source": [
        "z = (s_mean - 130) / np.sqrt(9/14)  # 표준화확률변수\n",
        "rv = stats.norm()   # 표준정규분포\n",
        "rv.interval(0.95)   # 95% 신뢰구간, 위 구간 안이면 채택역, 양 쪽 바깥이면 기각역"
      ]
    },
    {
      "cell_type": "code",
      "execution_count": null,
      "id": "5b235dd2-d6b1-48be-88e5-503bb18b9094",
      "metadata": {
        "tags": [],
        "id": "5b235dd2-d6b1-48be-88e5-503bb18b9094",
        "outputId": "d1d32b90-93c2-4f0f-b579-c328e8d4b73a"
      },
      "outputs": [
        {
          "data": {
            "text/plain": [
              "0.053"
            ]
          },
          "execution_count": 14,
          "metadata": {},
          "output_type": "execute_result"
        }
      ],
      "source": [
        "rv.cdf(z) * 2       # p-value"
      ]
    },
    {
      "cell_type": "markdown",
      "id": "d7fcdb3e-a6f3-46dc-b5af-cbf0278f9623",
      "metadata": {
        "id": "d7fcdb3e-a6f3-46dc-b5af-cbf0278f9623"
      },
      "source": [
        "## 해석\n",
        "- p-value가 유의수준 0.05보다 크므로 귀무가설 기각"
      ]
    },
    {
      "cell_type": "markdown",
      "id": "441ae270-073c-4da8-9903-1c2278ce5a64",
      "metadata": {
        "id": "441ae270-073c-4da8-9903-1c2278ce5a64"
      },
      "source": [
        "# 가설검정의 두 가지 오류\n",
        "- 제1종 오류(H0이 옳은데 기각)\n",
        "- 제2종 오류(H1이 옳은데 H0 채택)\n"
      ]
    },
    {
      "cell_type": "markdown",
      "id": "0dbcf201-e045-4e4d-8a02-06768106080c",
      "metadata": {
        "id": "0dbcf201-e045-4e4d-8a02-06768106080c"
      },
      "source": [
        "## 제1종 오류\n",
        "- 오탐(false positive)"
      ]
    },
    {
      "cell_type": "code",
      "execution_count": null,
      "id": "67d85b92-624c-4481-94e5-d41bfae97859",
      "metadata": {
        "tags": [],
        "id": "67d85b92-624c-4481-94e5-d41bfae97859",
        "outputId": "8406defe-8f6e-464f-a622-0858584f3a72"
      },
      "outputs": [
        {
          "data": {
            "text/plain": [
              "0.051"
            ]
          },
          "execution_count": 17,
          "metadata": {},
          "output_type": "execute_result"
        }
      ],
      "source": [
        "# 제1종 오류\n",
        "rv = stats.norm(130, 3)\n",
        "c = stats.norm().isf(0.95)\n",
        "n_samples = 10000\n",
        "cnt = 0\n",
        "\n",
        "for _ in range(n_samples):\n",
        "    sample_ = np.round(rv.rvs(14), 2)\n",
        "    s_mean_ = np.mean(sample_)\n",
        "    z = (s_mean_ - 130) / np.sqrt(9/14)\n",
        "    if z < c:\n",
        "        cnt += 1\n",
        "cnt / n_samples"
      ]
    },
    {
      "cell_type": "markdown",
      "id": "fe4c0e44-d9e1-4b07-9ee2-aae77bee5a72",
      "metadata": {
        "id": "fe4c0e44-d9e1-4b07-9ee2-aae77bee5a72"
      },
      "source": [
        "## 해석\n",
        "- 제1종 오류를 범할 확률(유의수준, 위험률, 알파)는 위와 같음(돌릴 때마다 다르게 나옴)\n",
        "- 좀 더 엄격하게 적용하고 싶다면 유의수준 1%에서 가설검정 수행"
      ]
    },
    {
      "cell_type": "markdown",
      "id": "93062a2b-3455-49ba-b585-ffed909f5729",
      "metadata": {
        "id": "93062a2b-3455-49ba-b585-ffed909f5729"
      },
      "source": [
        "## 제2종 오류\n",
        "- 실제 표본평균이 130g보다 작음을 확인했음(H1이 옳음)에도 불구하고 표본평균이 130g보다 작다라고 얻을 수 없는 상황(계산 오류 등)\n",
        "    + 본래 검출해야하는 것을 검출하지 못했으므로 미탐(false negative)"
      ]
    },
    {
      "cell_type": "code",
      "execution_count": null,
      "id": "f20f0ec0-ae7d-4a7c-bca4-188e7dc550ec",
      "metadata": {
        "tags": [],
        "id": "f20f0ec0-ae7d-4a7c-bca4-188e7dc550ec",
        "outputId": "e1b8db64-4ee8-4306-f3f9-3f0d7c5248d9"
      },
      "outputs": [
        {
          "data": {
            "text/plain": [
              "0.196"
            ]
          },
          "execution_count": 19,
          "metadata": {},
          "output_type": "execute_result"
        }
      ],
      "source": [
        "rv = stats.norm(128, 3)   # p.306\n",
        "c = stats.norm().isf(0.95)\n",
        "n_samples = 10000\n",
        "cnt = 0\n",
        "for _ in range(n_samples):\n",
        "    sample_ = np.round(rv.rvs(14), 2)\n",
        "    s_mean_ = np.mean(sample_)\n",
        "    z = (s_mean_ - 130) / np.sqrt(9/14)\n",
        "    if z >= c:\n",
        "        cnt += 1\n",
        "\n",
        "cnt / n_samples"
      ]
    },
    {
      "cell_type": "markdown",
      "id": "d014fb66-4b30-4d5d-a02c-83ffd3260087",
      "metadata": {
        "tags": [],
        "id": "d014fb66-4b30-4d5d-a02c-83ffd3260087"
      },
      "source": [
        "## 해석\n",
        "- 위 수치 -> 베타\n",
        "- 검정력 = 1-베타이므로 제대로 탐지할 수 있는 능력은 약 80%\n",
        "+ 제2종 오류는 언제나 모집단의 정보에 의존... 제어 불능\n",
        "    + 위 상황에서는 모집단에 대한 정보를 안다고 가정(특수 상황)하여 계산 가능했음\n",
        "+ 제1종 오류와 제2종 오류는 서로 상충관계..."
      ]
    },
    {
      "cell_type": "markdown",
      "id": "fb818205-c318-4e8c-8ca8-0da6e2a41e0c",
      "metadata": {
        "tags": [],
        "id": "fb818205-c318-4e8c-8ca8-0da6e2a41e0c"
      },
      "source": [
        "# 모평균과 모분산의 미/기지 여부 따른 가설 검정\n",
        "- 현실적으로 모평균과 모분산 아는 경우 거의 없음"
      ]
    },
    {
      "cell_type": "markdown",
      "id": "1a19c6ee-0e02-4863-a602-d8e62b2625b3",
      "metadata": {
        "id": "1a19c6ee-0e02-4863-a602-d8e62b2625b3"
      },
      "source": [
        "# 정규분포의 모평균에 대한 검정: 모분산을 모르는 경우\n",
        "- 모분산을 알지 못하는 상황에서 정규분포의 모평균에 대한 검정을 일표본 t-검정이라 함\n",
        "- 검정통계량 t = (Xbar-모평균) / np.sqrt(표본분산/ 표본 수)"
      ]
    },
    {
      "cell_type": "code",
      "execution_count": null,
      "id": "d8f0ea84-31cc-4c84-b7ee-8b0adbb34e22",
      "metadata": {
        "tags": [],
        "id": "d8f0ea84-31cc-4c84-b7ee-8b0adbb34e22"
      },
      "outputs": [],
      "source": [
        "def pmean_test(sample, mean0, alpha=0.05):\n",
        "    s_mean = np.mean(sample)\n",
        "    u_var = np.var(sample, ddof=1)\n",
        "    n = len(sample)\n",
        "    rv = stats.t(df=n-1)\n",
        "    interval = rv.interval(1-alpha)\n",
        "\n",
        "    t = (s_mean - mean0) / np.sqrt(u_var/n)\n",
        "    print(f't통계량 값은 {t:.3f}')\n",
        "    if interval[0] <= t <= interval[1]:\n",
        "        print('귀무가설을 채택')\n",
        "    else:\n",
        "        print('귀무가설을 기각')\n",
        "\n",
        "    if t < 0:\n",
        "        p = rv.cdf(t) * 2   # 양측검정이므로 누적밀도함수의 값 2배\n",
        "    else:\n",
        "        p = (1 - rv.cdf(t)) * 2\n",
        "    print(f'p값은 {p:.3f}')"
      ]
    },
    {
      "cell_type": "code",
      "execution_count": null,
      "id": "10000a63-df89-46b8-a47b-ae0c72b5306b",
      "metadata": {
        "tags": [],
        "id": "10000a63-df89-46b8-a47b-ae0c72b5306b",
        "outputId": "a7ad174f-9c77-41fc-ca07-66d7941757db"
      },
      "outputs": [
        {
          "name": "stdout",
          "output_type": "stream",
          "text": [
            "t통계량 값은 -1.455\n",
            "귀무가설을 채택\n",
            "p값은 0.169\n"
          ]
        }
      ],
      "source": [
        "pmean_test(sample, 130)"
      ]
    },
    {
      "cell_type": "code",
      "execution_count": null,
      "id": "f8fcf10b-94ad-4f34-8e87-4d89915f2554",
      "metadata": {
        "tags": [],
        "id": "f8fcf10b-94ad-4f34-8e87-4d89915f2554",
        "outputId": "14ecb37e-1ce4-400b-9b40-cf3b33ea27fc"
      },
      "outputs": [
        {
          "data": {
            "text/plain": [
              "(-1.455, 0.169)"
            ]
          },
          "execution_count": 25,
          "metadata": {},
          "output_type": "execute_result"
        }
      ],
      "source": [
        "from scipy.stats import ttest_1samp\n",
        "t, p = stats.ttest_1samp(sample, 130)\n",
        "t, p"
      ]
    },
    {
      "cell_type": "markdown",
      "id": "3c85c623-ae7f-47d3-bdd6-f23d862c00a6",
      "metadata": {
        "id": "3c85c623-ae7f-47d3-bdd6-f23d862c00a6"
      },
      "source": [
        "# z-통계량과 t-통계량\n",
        "- 모평균과 모분산 기지: z-검정, 이 검정에서 나오는 통계량이 z-통계량(but 현실에서 잘 없음)\n",
        "- 표본을 추출하여 표본평균과 표본분산을 아는 상태에서 모집단에 대한 추측을 할 때: t-검정, 이 검정에서 나오는 통계량이 t-통계량\n"
      ]
    },
    {
      "cell_type": "markdown",
      "id": "05d9b77f-d01c-4232-a197-d15a3e1f73f4",
      "metadata": {
        "id": "05d9b77f-d01c-4232-a197-d15a3e1f73f4"
      },
      "source": [
        "# 이표본 문제에 관한 가설검정\n",
        "- 독립표본\n",
        "    + 정규성 검정 통과: 독립표본 t-검정\n",
        "    + 정규성 검정 불통: 맨-위트니의 U검정\n",
        "- 대응표본\n",
        "    + 정규성 검정 통과: 대응표본 t-검정\n",
        "    + 정규성 검정 불통: 비모수 검정, 윌콕슨의 부호순위검정(: 중앙값의 차이에 대한 검정)"
      ]
    },
    {
      "cell_type": "markdown",
      "id": "008573fa-6807-482a-a729-1606abbbd097",
      "metadata": {
        "id": "008573fa-6807-482a-a729-1606abbbd097"
      },
      "source": [
        "## 독립표본 t-검정\n",
        "- p.318\n",
        "- H0: 두 학급의 집중력의 평균 차이가 없다. (뮤a = 뮤b, 차이=0)\n",
        "- H1: 두 학급의 집중력의 평균 차이가 있다. (뮤a != 뮤b, 차이!=0)\n",
        "\n",
        "- 가정: 정규성(shapiro), 등분산성(levene)"
      ]
    },
    {
      "cell_type": "code",
      "execution_count": null,
      "id": "71b2cb59-09e4-4ea0-a42b-79ed209f956f",
      "metadata": {
        "tags": [],
        "id": "71b2cb59-09e4-4ea0-a42b-79ed209f956f",
        "outputId": "635c76db-8948-44d7-8426-5aa6dc5732e3"
      },
      "outputs": [
        {
          "data": {
            "text/html": [
              "<div>\n",
              "<style scoped>\n",
              "    .dataframe tbody tr th:only-of-type {\n",
              "        vertical-align: middle;\n",
              "    }\n",
              "\n",
              "    .dataframe tbody tr th {\n",
              "        vertical-align: top;\n",
              "    }\n",
              "\n",
              "    .dataframe thead th {\n",
              "        text-align: right;\n",
              "    }\n",
              "</style>\n",
              "<table border=\"1\" class=\"dataframe\">\n",
              "  <thead>\n",
              "    <tr style=\"text-align: right;\">\n",
              "      <th></th>\n",
              "      <th>A</th>\n",
              "      <th>B</th>\n",
              "    </tr>\n",
              "  </thead>\n",
              "  <tbody>\n",
              "    <tr>\n",
              "      <th>0</th>\n",
              "      <td>47</td>\n",
              "      <td>49</td>\n",
              "    </tr>\n",
              "    <tr>\n",
              "      <th>1</th>\n",
              "      <td>50</td>\n",
              "      <td>52</td>\n",
              "    </tr>\n",
              "    <tr>\n",
              "      <th>2</th>\n",
              "      <td>37</td>\n",
              "      <td>54</td>\n",
              "    </tr>\n",
              "    <tr>\n",
              "      <th>3</th>\n",
              "      <td>60</td>\n",
              "      <td>48</td>\n",
              "    </tr>\n",
              "    <tr>\n",
              "      <th>4</th>\n",
              "      <td>39</td>\n",
              "      <td>51</td>\n",
              "    </tr>\n",
              "  </tbody>\n",
              "</table>\n",
              "</div>"
            ],
            "text/plain": [
              "    A   B\n",
              "0  47  49\n",
              "1  50  52\n",
              "2  37  54\n",
              "3  60  48\n",
              "4  39  51"
            ]
          },
          "execution_count": 47,
          "metadata": {},
          "output_type": "execute_result"
        }
      ],
      "source": [
        "df0 = pd.read_csv('data/ch11_training_ind.csv')\n",
        "df0.head()"
      ]
    },
    {
      "cell_type": "markdown",
      "id": "14bdcd90-fbd9-4c7d-a392-10499e3e7651",
      "metadata": {
        "id": "14bdcd90-fbd9-4c7d-a392-10499e3e7651"
      },
      "source": [
        "### 스튜던트의 방법, 웰치의 방법\n",
        "- 스튜던트의 방법(ttest_ind의디폴트) 사용하기 위한 조건\n",
        "1. 자료는 모두 동일 간격을 가진 연속형 수치\n",
        "2. 두 집단은 서로 독립\n",
        "3. 자료의 수치는 정규성 띰\n",
        "4. 두 집단 각각에서 추정된 분산이 같다(등분산성 만족)\n",
        "\n",
        "- 4.를 만족하지 못하면 웰치의 방법 사용(등분산성 만족X)\n"
      ]
    },
    {
      "cell_type": "code",
      "execution_count": null,
      "id": "acda7619-670a-4807-8402-b4dbb8c21d2a",
      "metadata": {
        "tags": [],
        "id": "acda7619-670a-4807-8402-b4dbb8c21d2a",
        "outputId": "19ce9621-75a0-48b4-cc30-9cc36dc7839d"
      },
      "outputs": [
        {
          "data": {
            "text/plain": [
              "(-1.761, 0.087)"
            ]
          },
          "execution_count": 77,
          "metadata": {},
          "output_type": "execute_result"
        }
      ],
      "source": [
        "# 웰치의 T-검정\n",
        "t, p = stats.ttest_ind(df0['A'], df0['B'], equal_var=False)   # equal_var=False: 웰치의 방법, 두 집단 각각에서 추정된 분산이 다르다\n",
        "t, p"
      ]
    },
    {
      "cell_type": "code",
      "execution_count": null,
      "id": "2e7f53cf-728f-48d8-8cd8-4a6f214b79d9",
      "metadata": {
        "tags": [],
        "id": "2e7f53cf-728f-48d8-8cd8-4a6f214b79d9",
        "outputId": "d58f3bc8-fad0-441f-8486-23e7ef98d98a"
      },
      "outputs": [
        {
          "data": {
            "text/plain": [
              "(-1.761, 0.086)"
            ]
          },
          "execution_count": 78,
          "metadata": {},
          "output_type": "execute_result"
        }
      ],
      "source": [
        "# 스튜던트의 T-검정\n",
        "t, p = stats.ttest_ind(df0['A'], df0['B'], equal_var=True) # 두 집단 각각에서 추정된 분산이 같다\n",
        "t, p"
      ]
    },
    {
      "cell_type": "code",
      "execution_count": null,
      "id": "dbf480e5-dc7a-42c7-8217-f7617ed991c2",
      "metadata": {
        "id": "dbf480e5-dc7a-42c7-8217-f7617ed991c2"
      },
      "outputs": [],
      "source": [
        "# 귀무가설 채택(두 그룹의 평균 차이 없음)"
      ]
    },
    {
      "cell_type": "markdown",
      "id": "e400b70e-ded0-4ad1-a893-e98779ce2989",
      "metadata": {
        "id": "e400b70e-ded0-4ad1-a893-e98779ce2989"
      },
      "source": [
        "## 대응표본 t-검정\n",
        "- 특별한 제재(intervention) 가했을 때의 평균값 차이에 대한 검정"
      ]
    },
    {
      "cell_type": "code",
      "execution_count": null,
      "id": "0e50f45a-5c46-4939-8b24-9f29d3106947",
      "metadata": {
        "tags": [],
        "id": "0e50f45a-5c46-4939-8b24-9f29d3106947",
        "outputId": "6f9ed8a3-e00b-400b-8835-c17860209059"
      },
      "outputs": [
        {
          "data": {
            "text/html": [
              "<div>\n",
              "<style scoped>\n",
              "    .dataframe tbody tr th:only-of-type {\n",
              "        vertical-align: middle;\n",
              "    }\n",
              "\n",
              "    .dataframe tbody tr th {\n",
              "        vertical-align: top;\n",
              "    }\n",
              "\n",
              "    .dataframe thead th {\n",
              "        text-align: right;\n",
              "    }\n",
              "</style>\n",
              "<table border=\"1\" class=\"dataframe\">\n",
              "  <thead>\n",
              "    <tr style=\"text-align: right;\">\n",
              "      <th></th>\n",
              "      <th>전</th>\n",
              "      <th>후</th>\n",
              "    </tr>\n",
              "  </thead>\n",
              "  <tbody>\n",
              "    <tr>\n",
              "      <th>0</th>\n",
              "      <td>59</td>\n",
              "      <td>41</td>\n",
              "    </tr>\n",
              "    <tr>\n",
              "      <th>1</th>\n",
              "      <td>52</td>\n",
              "      <td>63</td>\n",
              "    </tr>\n",
              "    <tr>\n",
              "      <th>2</th>\n",
              "      <td>55</td>\n",
              "      <td>68</td>\n",
              "    </tr>\n",
              "    <tr>\n",
              "      <th>3</th>\n",
              "      <td>61</td>\n",
              "      <td>59</td>\n",
              "    </tr>\n",
              "    <tr>\n",
              "      <th>4</th>\n",
              "      <td>59</td>\n",
              "      <td>84</td>\n",
              "    </tr>\n",
              "  </tbody>\n",
              "</table>\n",
              "</div>"
            ],
            "text/plain": [
              "    전   후\n",
              "0  59  41\n",
              "1  52  63\n",
              "2  55  68\n",
              "3  61  59\n",
              "4  59  84"
            ]
          },
          "execution_count": 33,
          "metadata": {},
          "output_type": "execute_result"
        }
      ],
      "source": [
        "import pandas as pd\n",
        "\n",
        "df1 = pd.read_csv('data/ch11_training_rel.csv')\n",
        "df1.head()"
      ]
    },
    {
      "cell_type": "code",
      "execution_count": null,
      "id": "ec49d0bb-921b-4a5d-a480-9a49d3dc23aa",
      "metadata": {
        "tags": [],
        "id": "ec49d0bb-921b-4a5d-a480-9a49d3dc23aa"
      },
      "outputs": [],
      "source": [
        "# H0: 운동 전후 집중력 평균의 차이가 없을 것이다(전=후, 차이=0)\n",
        "# H1: 운동 전후 집중력 평균의 차이가 있을 것이다(전!=후, 차이!=0)"
      ]
    },
    {
      "cell_type": "code",
      "execution_count": null,
      "id": "73c910ef-fab0-429f-82c0-20ddf2b77867",
      "metadata": {
        "tags": [],
        "id": "73c910ef-fab0-429f-82c0-20ddf2b77867",
        "outputId": "f5ea9d7f-8aef-48a5-f1a4-1e6fb420959b"
      },
      "outputs": [
        {
          "data": {
            "text/html": [
              "<div>\n",
              "<style scoped>\n",
              "    .dataframe tbody tr th:only-of-type {\n",
              "        vertical-align: middle;\n",
              "    }\n",
              "\n",
              "    .dataframe tbody tr th {\n",
              "        vertical-align: top;\n",
              "    }\n",
              "\n",
              "    .dataframe thead th {\n",
              "        text-align: right;\n",
              "    }\n",
              "</style>\n",
              "<table border=\"1\" class=\"dataframe\">\n",
              "  <thead>\n",
              "    <tr style=\"text-align: right;\">\n",
              "      <th></th>\n",
              "      <th>전</th>\n",
              "      <th>후</th>\n",
              "      <th>차</th>\n",
              "    </tr>\n",
              "  </thead>\n",
              "  <tbody>\n",
              "    <tr>\n",
              "      <th>0</th>\n",
              "      <td>59</td>\n",
              "      <td>41</td>\n",
              "      <td>-18</td>\n",
              "    </tr>\n",
              "    <tr>\n",
              "      <th>1</th>\n",
              "      <td>52</td>\n",
              "      <td>63</td>\n",
              "      <td>11</td>\n",
              "    </tr>\n",
              "    <tr>\n",
              "      <th>2</th>\n",
              "      <td>55</td>\n",
              "      <td>68</td>\n",
              "      <td>13</td>\n",
              "    </tr>\n",
              "    <tr>\n",
              "      <th>3</th>\n",
              "      <td>61</td>\n",
              "      <td>59</td>\n",
              "      <td>-2</td>\n",
              "    </tr>\n",
              "    <tr>\n",
              "      <th>4</th>\n",
              "      <td>59</td>\n",
              "      <td>84</td>\n",
              "      <td>25</td>\n",
              "    </tr>\n",
              "  </tbody>\n",
              "</table>\n",
              "</div>"
            ],
            "text/plain": [
              "    전   후   차\n",
              "0  59  41 -18\n",
              "1  52  63  11\n",
              "2  55  68  13\n",
              "3  61  59  -2\n",
              "4  59  84  25"
            ]
          },
          "execution_count": 36,
          "metadata": {},
          "output_type": "execute_result"
        }
      ],
      "source": [
        "df1['차'] = df1['후']-df1['전']\n",
        "df1.head()"
      ]
    },
    {
      "cell_type": "code",
      "execution_count": null,
      "id": "1babc626-4484-494b-9c3a-ad9425c23cf7",
      "metadata": {
        "tags": [],
        "id": "1babc626-4484-494b-9c3a-ad9425c23cf7",
        "outputId": "e0f563bd-04d7-42b1-d5f9-ef7d9c2d0330"
      },
      "outputs": [
        {
          "data": {
            "text/plain": [
              "(2.204, 0.040)"
            ]
          },
          "execution_count": 40,
          "metadata": {},
          "output_type": "execute_result"
        }
      ],
      "source": [
        "t, p = stats.ttest_1samp(df1['차'], 0)   # 얘는 차(diff)를 따로 계산해 줬어야. but 아래는 따로 할 필요 없음\n",
        "t, p"
      ]
    },
    {
      "cell_type": "code",
      "execution_count": null,
      "id": "0920dfe6-aa05-4dec-8d33-bbf4c4bd0d5f",
      "metadata": {
        "tags": [],
        "id": "0920dfe6-aa05-4dec-8d33-bbf4c4bd0d5f"
      },
      "outputs": [],
      "source": [
        "# 유의수준 5%에서 임계값은 +-1.96, 채택역은 (-1.96, 1.96), 바깥은 기각역\n",
        "# 기각역 안에 검정통계량이 놓이므로 귀무가설 기각, 차이가 있다고 볼 수 있음"
      ]
    },
    {
      "cell_type": "code",
      "execution_count": null,
      "id": "a6464e8b-f00f-42d9-9777-ac050c8e185b",
      "metadata": {
        "tags": [],
        "id": "a6464e8b-f00f-42d9-9777-ac050c8e185b",
        "outputId": "5a188583-2aa9-448e-983a-9e3c33a7884d"
      },
      "outputs": [
        {
          "data": {
            "text/plain": [
              "(2.204, 0.040)"
            ]
          },
          "execution_count": 60,
          "metadata": {},
          "output_type": "execute_result"
        }
      ],
      "source": [
        "t, p = stats.ttest_rel(df1['후'], df1['전'])     # 이 방법으로 숙지해두자\n",
        "t, p"
      ]
    },
    {
      "cell_type": "markdown",
      "id": "af34e49e-982b-480d-b45f-033a8fdb89a9",
      "metadata": {
        "tags": [],
        "id": "af34e49e-982b-480d-b45f-033a8fdb89a9"
      },
      "source": [
        "# 비모수검정\n",
        "- 모수 검정에서 각 가정을 만족시키지 못할 때 사용"
      ]
    },
    {
      "cell_type": "markdown",
      "id": "94cbd983-6352-4273-846b-6ce9cf15d53b",
      "metadata": {
        "tags": [],
        "id": "94cbd983-6352-4273-846b-6ce9cf15d53b"
      },
      "source": [
        "## 윌콕슨의 부호순위 검정\n",
        "- 대응표본에서 정규성 검정 통과 못 할 때\n",
        "    + 평균차이가 아닌 중앙값 차이에 대한 검정임!"
      ]
    },
    {
      "cell_type": "code",
      "execution_count": null,
      "id": "a8b54538-7889-4336-ad8a-a784c9d2018d",
      "metadata": {
        "tags": [],
        "id": "a8b54538-7889-4336-ad8a-a784c9d2018d",
        "outputId": "025a2643-180b-4d41-c651-192d3d3268d0"
      },
      "outputs": [
        {
          "data": {
            "text/html": [
              "<div>\n",
              "<style scoped>\n",
              "    .dataframe tbody tr th:only-of-type {\n",
              "        vertical-align: middle;\n",
              "    }\n",
              "\n",
              "    .dataframe tbody tr th {\n",
              "        vertical-align: top;\n",
              "    }\n",
              "\n",
              "    .dataframe thead th {\n",
              "        text-align: right;\n",
              "    }\n",
              "</style>\n",
              "<table border=\"1\" class=\"dataframe\">\n",
              "  <thead>\n",
              "    <tr style=\"text-align: right;\">\n",
              "      <th></th>\n",
              "      <th>전</th>\n",
              "      <th>후</th>\n",
              "      <th>차</th>\n",
              "    </tr>\n",
              "  </thead>\n",
              "  <tbody>\n",
              "    <tr>\n",
              "      <th>0</th>\n",
              "      <td>59</td>\n",
              "      <td>41</td>\n",
              "      <td>-18</td>\n",
              "    </tr>\n",
              "    <tr>\n",
              "      <th>1</th>\n",
              "      <td>52</td>\n",
              "      <td>63</td>\n",
              "      <td>11</td>\n",
              "    </tr>\n",
              "    <tr>\n",
              "      <th>2</th>\n",
              "      <td>55</td>\n",
              "      <td>68</td>\n",
              "      <td>13</td>\n",
              "    </tr>\n",
              "    <tr>\n",
              "      <th>3</th>\n",
              "      <td>61</td>\n",
              "      <td>59</td>\n",
              "      <td>-2</td>\n",
              "    </tr>\n",
              "    <tr>\n",
              "      <th>4</th>\n",
              "      <td>59</td>\n",
              "      <td>84</td>\n",
              "      <td>25</td>\n",
              "    </tr>\n",
              "    <tr>\n",
              "      <th>5</th>\n",
              "      <td>45</td>\n",
              "      <td>37</td>\n",
              "      <td>-8</td>\n",
              "    </tr>\n",
              "  </tbody>\n",
              "</table>\n",
              "</div>"
            ],
            "text/plain": [
              "    전   후   차\n",
              "0  59  41 -18\n",
              "1  52  63  11\n",
              "2  55  68  13\n",
              "3  61  59  -2\n",
              "4  59  84  25\n",
              "5  45  37  -8"
            ]
          },
          "execution_count": 63,
          "metadata": {},
          "output_type": "execute_result"
        }
      ],
      "source": [
        "df2 = pd.read_csv('data/ch11_training_rel.csv')\n",
        "df3 = df2[:6].copy()\n",
        "df3['차'] = df3['후']-df3['전']\n",
        "df3"
      ]
    },
    {
      "cell_type": "code",
      "execution_count": null,
      "id": "cc11e7b7-0a1a-4241-bded-eb596e33786d",
      "metadata": {
        "tags": [],
        "id": "cc11e7b7-0a1a-4241-bded-eb596e33786d",
        "outputId": "28cba94d-2e9d-4d53-cefd-28117e2da7d8"
      },
      "outputs": [
        {
          "data": {
            "text/html": [
              "<div>\n",
              "<style scoped>\n",
              "    .dataframe tbody tr th:only-of-type {\n",
              "        vertical-align: middle;\n",
              "    }\n",
              "\n",
              "    .dataframe tbody tr th {\n",
              "        vertical-align: top;\n",
              "    }\n",
              "\n",
              "    .dataframe thead th {\n",
              "        text-align: right;\n",
              "    }\n",
              "</style>\n",
              "<table border=\"1\" class=\"dataframe\">\n",
              "  <thead>\n",
              "    <tr style=\"text-align: right;\">\n",
              "      <th></th>\n",
              "      <th>전</th>\n",
              "      <th>후</th>\n",
              "      <th>차</th>\n",
              "      <th>순위</th>\n",
              "    </tr>\n",
              "  </thead>\n",
              "  <tbody>\n",
              "    <tr>\n",
              "      <th>0</th>\n",
              "      <td>59</td>\n",
              "      <td>41</td>\n",
              "      <td>-18</td>\n",
              "      <td>5</td>\n",
              "    </tr>\n",
              "    <tr>\n",
              "      <th>1</th>\n",
              "      <td>52</td>\n",
              "      <td>63</td>\n",
              "      <td>11</td>\n",
              "      <td>3</td>\n",
              "    </tr>\n",
              "    <tr>\n",
              "      <th>2</th>\n",
              "      <td>55</td>\n",
              "      <td>68</td>\n",
              "      <td>13</td>\n",
              "      <td>4</td>\n",
              "    </tr>\n",
              "    <tr>\n",
              "      <th>3</th>\n",
              "      <td>61</td>\n",
              "      <td>59</td>\n",
              "      <td>-2</td>\n",
              "      <td>1</td>\n",
              "    </tr>\n",
              "    <tr>\n",
              "      <th>4</th>\n",
              "      <td>59</td>\n",
              "      <td>84</td>\n",
              "      <td>25</td>\n",
              "      <td>6</td>\n",
              "    </tr>\n",
              "    <tr>\n",
              "      <th>5</th>\n",
              "      <td>45</td>\n",
              "      <td>37</td>\n",
              "      <td>-8</td>\n",
              "      <td>2</td>\n",
              "    </tr>\n",
              "  </tbody>\n",
              "</table>\n",
              "</div>"
            ],
            "text/plain": [
              "    전   후   차  순위\n",
              "0  59  41 -18   5\n",
              "1  52  63  11   3\n",
              "2  55  68  13   4\n",
              "3  61  59  -2   1\n",
              "4  59  84  25   6\n",
              "5  45  37  -8   2"
            ]
          },
          "execution_count": 64,
          "metadata": {},
          "output_type": "execute_result"
        }
      ],
      "source": [
        "# 순위 적용\n",
        "diff = df3['차']\n",
        "rank = stats.rankdata(abs(diff)).astype(int)\n",
        "df3['순위'] = rank\n",
        "df3"
      ]
    },
    {
      "cell_type": "code",
      "execution_count": null,
      "id": "4b97aa93-0017-4581-afd7-774a6d4c0af8",
      "metadata": {
        "tags": [],
        "id": "4b97aa93-0017-4581-afd7-774a6d4c0af8",
        "outputId": "1fc82705-419f-4d8c-e082-9f4bfc9fa55b"
      },
      "outputs": [
        {
          "data": {
            "text/plain": [
              "(8, 13)"
            ]
          },
          "execution_count": 71,
          "metadata": {},
          "output_type": "execute_result"
        }
      ],
      "source": [
        "# 차의 부호가 +인 것의 순위합, 차의 부호가 -인 것의 순위합을 구해야\n",
        "r_minus = np.sum((diff<0)*rank)\n",
        "r_plus = np.sum((diff>0)*rank)\n",
        "\n",
        "r_minus, r_plus    # 이 중 작은 쪽이 검정통계량(=8) 됨!\n",
        "# 윌콕슨의 부호순위검정에서는 이 검정통계량이 임계값보다 작은 경우에 귀무가설 기각되는 단측검정 수행함\n",
        "# 차이에 편차가 있으면 검정통계량이 작아짐"
      ]
    },
    {
      "cell_type": "code",
      "execution_count": null,
      "id": "a3925f81-691a-41be-9153-d72f7d35a732",
      "metadata": {
        "tags": [],
        "id": "a3925f81-691a-41be-9153-d72f7d35a732",
        "outputId": "48047518-43aa-4241-fec9-d00d82f4f3ef"
      },
      "outputs": [
        {
          "data": {
            "text/plain": [
              "(8.000, 0.688)"
            ]
          },
          "execution_count": 72,
          "metadata": {},
          "output_type": "execute_result"
        }
      ],
      "source": [
        "T, p = stats.wilcoxon(df3['전'], df3['후'])\n",
        "T, p      # 귀무가설 기각됨(대응표본 t-검정과 동일한 결론)"
      ]
    },
    {
      "cell_type": "code",
      "execution_count": null,
      "id": "f84f25c1-f7bf-4dee-b980-d8fe23d6c600",
      "metadata": {
        "tags": [],
        "id": "f84f25c1-f7bf-4dee-b980-d8fe23d6c600"
      },
      "outputs": [],
      "source": [
        "# + 윌콕슨의 부호순위검정은 모집단이 정규분포를 따를 때도 사용 가능하나, 검정력이 낮음"
      ]
    },
    {
      "cell_type": "markdown",
      "id": "9bc2ff5f-c875-4731-a7ee-898042e43e05",
      "metadata": {
        "id": "9bc2ff5f-c875-4731-a7ee-898042e43e05"
      },
      "source": [
        "# 적합도 검정(goodness-of-fit): by 카이제곱검정\n",
        "- 어떤 실험에서 관측도수가 가정하는 이론상의 분포 또는 주어진 형태를 잘 따른다는 귀무가설을 검정하는 것\n",
        "    - e.g.1 이미 분포가 주어진 상태(정규분포 등)에서 이 데이터가 실제로 그 분포를 잘 따르고 있는지 확인(정규분포에 대한 적합도 검정)\n",
        "    - e.g.2 이미 등분산성이 만족된다고 알려졌을 때 실제로 등분산인지(등분산성에 대한 적합도 검정)\n",
        "- 관측도수: 실제 실험에서 단일 특성에 의해 분류된 각 범주의 관측값(숫자, 갯수)\n",
        "- 독립성 검정의 카이제곱검정과 워딩 차이 확인"
      ]
    },
    {
      "cell_type": "code",
      "execution_count": null,
      "id": "1be314c2-0362-4d61-8993-12c08282bab3",
      "metadata": {
        "tags": [],
        "id": "1be314c2-0362-4d61-8993-12c08282bab3",
        "outputId": "b092f7c4-37ac-434d-e8f8-948847154a69"
      },
      "outputs": [
        {
          "data": {
            "text/plain": [
              "11.070"
            ]
          },
          "execution_count": 80,
          "metadata": {},
          "output_type": "execute_result"
        }
      ],
      "source": [
        "# 카이제곱분포의 상위 5%점(자유도5): x^2_0.05(5)\n",
        "rv = stats.chi2(5)\n",
        "rv.isf(0.05)"
      ]
    },
    {
      "cell_type": "markdown",
      "id": "674d3b23-4c76-48f8-93b5-87ed03270cd0",
      "metadata": {
        "id": "674d3b23-4c76-48f8-93b5-87ed03270cd0"
      },
      "source": [
        "# 독립성 검정(교차분석): by 카이제곱검정\n",
        "- 방법론이 동일하기에, 적합도검정을 위한 카이제곱검정인지 독립성검정을 위한 카이제곱검정인지 구분해야\n",
        "    - 전자의 키워드: 분포, 등분산, 실제로 따름\n",
        "    - 후자의 키워드: 두 범주형 변수, 독립, 상관(=한 특성이 다른 특성에 영향을 미치는지)\n",
        "         e.g. 영화 장르별 간식 구매의 상관성\n",
        "             - H0: 영화 장르와 간식류 구입은 서로 독립적\n",
        "             - H1: 영화 장르와 간식류 구입은 서로 독립적인 것은 아니다(=상관성이 존재)\n",
        "         + 두 연속형 변수이면 상관분석! This chisquare-test is only for categorical variables.\n",
        "        \n",
        "- 독립성 검정에서의 검정통계량의 자유도는 n-1이 아니라 (r-1)(c-1)로, 다름\n",
        "- 이원 분할표를 통한 범주별 도수 파악\n",
        "    - 이원분할표 = pd.crosstab(객체['변수1'], 객체['변수2'], margins = False/True(주변 도수 포함 여부)\n",
        "    - chi2, p, dof, expected = chi2_contingency(이원분할표)"
      ]
    },
    {
      "cell_type": "code",
      "execution_count": null,
      "id": "120e1d95-51d0-4f8d-9be6-4ec877a9acb7",
      "metadata": {
        "id": "120e1d95-51d0-4f8d-9be6-4ec877a9acb7"
      },
      "outputs": [],
      "source": []
    }
  ],
  "metadata": {
    "kernelspec": {
      "display_name": "Python 3 (ipykernel)",
      "language": "python",
      "name": "python3"
    },
    "language_info": {
      "codemirror_mode": {
        "name": "ipython",
        "version": 3
      },
      "file_extension": ".py",
      "mimetype": "text/x-python",
      "name": "python",
      "nbconvert_exporter": "python",
      "pygments_lexer": "ipython3",
      "version": "3.11.4"
    },
    "colab": {
      "provenance": [],
      "include_colab_link": true
    }
  },
  "nbformat": 4,
  "nbformat_minor": 5
}