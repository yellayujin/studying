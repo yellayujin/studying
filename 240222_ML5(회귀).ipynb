{
  "cells": [
    {
      "cell_type": "markdown",
      "metadata": {
        "id": "view-in-github",
        "colab_type": "text"
      },
      "source": [
        "<a href=\"https://colab.research.google.com/github/yellayujin/studying/blob/main/240222_ML5(%ED%9A%8C%EA%B7%80).ipynb\" target=\"_parent\"><img src=\"https://colab.research.google.com/assets/colab-badge.svg\" alt=\"Open In Colab\"/></a>"
      ]
    },
    {
      "cell_type": "markdown",
      "id": "4b5a2f96-5892-4d67-bf69-fd47f6f427db",
      "metadata": {
        "id": "4b5a2f96-5892-4d67-bf69-fd47f6f427db"
      },
      "source": [
        "# 회귀\n",
        "- 통계의 회귀: 가정, 회귀계수의 유의 여부가 중요\n",
        "- 머신러닝의 회귀: 평가지표(RMSE, R^2)가 중요\n",
        "- -> 원리는 동일\n",
        "## 일반선형회귀\n",
        "- 최소제곱법-잔차 0인 회귀식을 만드는 것이 best\n",
        "- 규제(Penalty) 적용 X\n",
        "- 릿지: L2규제, 예측영향력이 큰 피처의 영향력을 감소시키는 게 목적\n",
        "- 라쏘: L1규제, 예측영향력이 작은 피처를 아예 0으로 만들어서 선택되지 않게\n",
        "- 엘라스틱넷: L1+L2\n",
        "## 경사하강법(Gradient Descent)\n",
        "- 비용 함수(Cost Function)가 최소가 되는 W파라미터를 구하는 방법\n",
        "- 비용함수(2차함수)의 미분(=기울기)이 최소인 점 = 비용함수가 최소인 지점"
      ]
    },
    {
      "cell_type": "code",
      "execution_count": null,
      "id": "ceef40a0-774a-4ca4-a491-b76f87892862",
      "metadata": {
        "id": "ceef40a0-774a-4ca4-a491-b76f87892862",
        "outputId": "36f91977-36b8-49e8-8e32-fcb548cc24f7"
      },
      "outputs": [
        {
          "data": {
            "text/plain": [
              "<matplotlib.collections.PathCollection at 0x21145836990>"
            ]
          },
          "execution_count": 6,
          "metadata": {},
          "output_type": "execute_result"
        },
        {
          "data": {
            "image/png": "[encoded data removed]",
            "text/plain": [
              "<Figure size 640x480 with 1 Axes>"
            ]
          },
          "metadata": {},
          "output_type": "display_data"
        }
      ],
      "source": [
        "# 경사하강법의 기본 코드\n",
        "import numpy as np\n",
        "import matplotlib.pyplot as plt\n",
        "%matplotlib inline\n",
        "# jupyter lab에서 명령 셀 바로 아래에 그래프 나오게\n",
        "\n",
        "np.random.seed(0)\n",
        "# y = 4X + 6 식을 근사(w1=4, w0=6). random 값은 Noise를 위해 만듬\n",
        "X = 2 * np.random.rand(100,1)\n",
        "y = 6 +4 * X+ np.random.randn(100,1)\n",
        "\n",
        "# X, y 데이터 셋 scatter plot으로 시각화\n",
        "plt.scatter(X, y)"
      ]
    },
    {
      "cell_type": "code",
      "execution_count": null,
      "id": "0de2fe0e-5bf9-44f8-be8f-246de18eef4c",
      "metadata": {
        "id": "0de2fe0e-5bf9-44f8-be8f-246de18eef4c"
      },
      "outputs": [],
      "source": [
        "# 예측 오차 비용을 계산을 수행하는 함수 생성\n",
        "def get_cost(y, y_pred):\n",
        "    N = len(y)\n",
        "    cost = np.sum(np.square(y-y_pred)) / N\n",
        "    return cost"
      ]
    },
    {
      "cell_type": "markdown",
      "id": "ac616d9e-2dc7-4c73-89bf-b827cdc049fa",
      "metadata": {
        "id": "ac616d9e-2dc7-4c73-89bf-b827cdc049fa"
      },
      "source": [
        "- w0과 w1의 값을 최소화 할 수 있도록 업데이트 수행하는 함수 생성\n",
        "-\n",
        "예측 배열 y_pred는 np.dot(X, w1.T) + w0 임 100개의 데이터 X(1,2,...,100)이 있다면 예측값은 w0 + X(1)w1 + X(2)w1 +..+ X(100)*w1이며, 이는 입력 배열 X와 w1 배열의 내\n",
        "임- .\n",
        "새로운 w1과 w0를 update함"
      ]
    },
    {
      "cell_type": "code",
      "execution_count": null,
      "id": "54db344b-b661-40e2-9827-33b619bffd40",
      "metadata": {
        "id": "54db344b-b661-40e2-9827-33b619bffd40"
      },
      "outputs": [],
      "source": [
        "# w1 과 w0 를 업데이트 할 w1_update, w0_update를 반환.\n",
        "def get_weight_updates(w1, w0, X, y, learning_rate=0.01):\n",
        "    N = len(y)\n",
        "    # 먼저 w1_update, w0_update를 각각 w1, w0의 shape와 동일한 크기를 가진 0 값으로 초기화\n",
        "    w1_update = np.zeros_like(w1)\n",
        "    w0_update = np.zeros_like(w0)\n",
        "    # 예측 배열 계산하고 예측과 실제 값의 차이 계산\n",
        "    y_pred = np.dot(X, w1.T) + w0\n",
        "    diff = y-y_pred\n",
        "\n",
        "    # w0_update를 dot 행렬 연산으로 구하기 위해 모두 1값을 가진 행렬 생성\n",
        "    w0_factors = np.ones((N,1))\n",
        "\n",
        "    # w1과 w0을 업데이트할 w1_update와 w0_update 계산\n",
        "    w1_update = -(2/N)*learning_rate*(np.dot(X.T, diff))\n",
        "    w0_update = -(2/N)*learning_rate*(np.dot(w0_factors.T, diff))\n",
        "\n",
        "    return w1_update, w0_update"
      ]
    },
    {
      "cell_type": "code",
      "execution_count": null,
      "id": "61f36706-f741-4895-a75a-4a28039b5c68",
      "metadata": {
        "id": "61f36706-f741-4895-a75a-4a28039b5c68",
        "outputId": "ce507527-91df-468f-b9be-a3398d3b5c1c"
      },
      "outputs": [
        {
          "name": "stdout",
          "output_type": "stream",
          "text": [
            "(100, 1)\n",
            "(1, 1) (1, 1)\n"
          ]
        },
        {
          "data": {
            "text/plain": [
              "(array([[0.]]), array([[0.]]))"
            ]
          },
          "execution_count": 8,
          "metadata": {},
          "output_type": "execute_result"
        }
      ],
      "source": [
        "w0 = np.zeros((1,1))\n",
        "w1 = np.zeros((1,1))\n",
        "y_pred = np.dot(X, w1.T) + w0\n",
        "diff = y-y_pred\n",
        "print(diff.shape)\n",
        "w0_factors = np.ones((100,1))\n",
        "w1_update = -(2/100)*0.01*(np.dot(X.T, diff))\n",
        "w0_update = -(2/100)*0.01*(np.dot(w0_factors.T, diff))\n",
        "print(w1_update.shape, w0_update.shape)\n",
        "w1, w0"
      ]
    },
    {
      "cell_type": "code",
      "execution_count": null,
      "id": "5d1f3473-402b-4ecd-8f4f-a3ece8fac51f",
      "metadata": {
        "id": "5d1f3473-402b-4ecd-8f4f-a3ece8fac51f"
      },
      "outputs": [],
      "source": [
        "# 반복적으로 경사 하강법을 이용하여 get_weigth_updates()를 호출하여 w1과 w0를 업데이트 하는 함수 생성\n",
        "# 입력 인자 iters로 주어진 횟수만큼 반복적으로 w1과 w0를 업데이트 적용함.\n",
        "def gradient_descent_steps(X, y, iters=10000):\n",
        "    # w0와 w1을 모두 0으로 초기화.\n",
        "    w0 = np.zeros((1,1))\n",
        "    w1 = np.zeros((1,1))\n",
        "\n",
        "    # 인자로 주어진 iters 만큼 반복적으로 get_weight_updates() 호출하여 w1, w0 업데이트 수행.\n",
        "    for ind in range(iters):\n",
        "        w1_update, w0_update = get_weight_updates(w1, w0, X, y, learning_rate=0.01)\n",
        "        w1 = w1 - w1_update\n",
        "        w0 = w0 - w0_update\n",
        "\n",
        "    return w1, w0"
      ]
    },
    {
      "cell_type": "code",
      "execution_count": null,
      "id": "15c5bbe5-caea-42e6-b9be-eae8831c2e4a",
      "metadata": {
        "id": "15c5bbe5-caea-42e6-b9be-eae8831c2e4a",
        "outputId": "bd3316fd-4bd9-4a2b-d16d-fe8d81c8c02b"
      },
      "outputs": [
        {
          "name": "stdout",
          "output_type": "stream",
          "text": [
            "w1:4.022 w0:6.162\n",
            "Gradient Descent Total Cost:0.9935\n"
          ]
        }
      ],
      "source": [
        "#경사 하강법 수행\n",
        "w1, w0 = gradient_descent_steps(X, y, iters=1000)\n",
        "print(\"w1:{0:.3f} w0:{1:.3f}\".format(w1[0,0], w0[0,0]))\n",
        "y_pred = w1[0,0] * X + w0\n",
        "print('Gradient Descent Total Cost:{0:.4f}'.format(get_cost(y, y_pred)))\n",
        "\n",
        "# 일정 수준(1000정도) 넘어가면 비용함수 변화 크게 없음."
      ]
    },
    {
      "cell_type": "code",
      "execution_count": null,
      "id": "6c1c3200-3fd1-4b4a-a2d2-6daa6c1326a4",
      "metadata": {
        "id": "6c1c3200-3fd1-4b4a-a2d2-6daa6c1326a4",
        "outputId": "5fe4ebf1-9fb3-4fbb-969a-fe77e64b2112"
      },
      "outputs": [
        {
          "data": {
            "text/plain": [
              "[<matplotlib.lines.Line2D at 0x21147950550>]"
            ]
          },
          "execution_count": 11,
          "metadata": {},
          "output_type": "execute_result"
        },
        {
          "data": {
            "image/png": "[encoded data removed]",
            "text/plain": [
              "<Figure size 640x480 with 1 Axes>"
            ]
          },
          "metadata": {},
          "output_type": "display_data"
        }
      ],
      "source": [
        "plt.scatter(X, y)\n",
        "plt.plot(X,y_pred)"
      ]
    },
    {
      "cell_type": "markdown",
      "id": "7765142b-a4ac-48ec-94fa-8b66c2e77819",
      "metadata": {
        "id": "7765142b-a4ac-48ec-94fa-8b66c2e77819"
      },
      "source": [
        "- 대용량 데이터의 경우 대부분 미니 배치 확률적 경사 하강법 이용\n",
        "- 미니 배치 확률적 경사 하강법: 한꺼번에 학습하지 않고, 나누어 학습"
      ]
    },
    {
      "cell_type": "code",
      "execution_count": null,
      "id": "0508e2c4-5dd6-4da4-acf4-3fa0d88745e4",
      "metadata": {
        "id": "0508e2c4-5dd6-4da4-acf4-3fa0d88745e4"
      },
      "outputs": [],
      "source": [
        "# 미니 배치 확률적 경사 하강법을 이용한 최적 비용함수 도출\n",
        "def stochastic_gradient_descent_steps(X, y, batch_size=10, iters=1000):\n",
        "    # batch_size=10: 몇 번 나누어 학습할지\n",
        "    w0 = np.zeros((1,1))\n",
        "    w1 = np.zeros((1,1))\n",
        "    prev_cost = 100000\n",
        "    iter_index =0\n",
        "\n",
        "    for ind in range(iters):\n",
        "        np.random.seed(ind)\n",
        "        # 전체 X, y 데이터에서 랜덤하게 batch_size만큼 데이터 추출하여 sample_X, sample_y로 저장\n",
        "        stochastic_random_index = np.random.permutation(X.shape[0])\n",
        "        sample_X = X[stochastic_random_index[0:batch_size]]\n",
        "        sample_y = y[stochastic_random_index[0:batch_size]]\n",
        "        # 랜덤하게 batch_size만큼 추출된 데이터 기반으로 w1_update, w0_update 계산 후 업데이트\n",
        "        w1_update, w0_update = get_weight_updates(w1, w0, sample_X, sample_y, learning_rate=0.01)\n",
        "        w1 = w1 - w1_update\n",
        "        w0 = w0 - w0_update\n",
        "\n",
        "    return w1, w0"
      ]
    },
    {
      "cell_type": "code",
      "execution_count": null,
      "id": "39131841-cf64-4b17-8a17-18509f345613",
      "metadata": {
        "id": "39131841-cf64-4b17-8a17-18509f345613",
        "outputId": "09a0ea8e-2054-4d4a-d61e-d0931b7b39dd"
      },
      "outputs": [
        {
          "name": "stdout",
          "output_type": "stream",
          "text": [
            "w1: 4.028 w0: 6.156\n",
            "Stochastic Gradient Descent Total Cost:0.9937\n"
          ]
        }
      ],
      "source": [
        "w1, w0 = stochastic_gradient_descent_steps(X, y, iters=1000)\n",
        "# 1000->10000으로 하니 소폭 상승. 늘 감소하지는 않을 수 있음 cuz of 배치사이즈(=학습횟수=많이 크면 과적합)\n",
        "# 과적합 그래프 참고\n",
        "# but 수렴하는 중인 것은 맞음\n",
        "print(\"w1:\",round(w1[0,0],3),\"w0:\",round(w0[0,0],3))\n",
        "y_pred = w1[0,0] * X + w0\n",
        "print('Stochastic Gradient Descent Total Cost:{0:.4f}'.format(get_cost(y, y_pred)))"
      ]
    },
    {
      "cell_type": "markdown",
      "id": "4aa7e304-8774-4791-8dcd-a9070e287077",
      "metadata": {
        "id": "4aa7e304-8774-4791-8dcd-a9070e287077"
      },
      "source": [
        "## 사이킷런 LinearRegression을 이용한 보스턴 주택 가격 예측"
      ]
    },
    {
      "cell_type": "markdown",
      "id": "21b0d6d2-1c54-4596-ab73-f19fc2ebea15",
      "metadata": {
        "id": "21b0d6d2-1c54-4596-ab73-f19fc2ebea15"
      },
      "source": [
        "### 데이터 불러오기"
      ]
    },
    {
      "cell_type": "code",
      "execution_count": null,
      "id": "eb770423-e4af-4a88-96fe-cb6891831e10",
      "metadata": {
        "id": "eb770423-e4af-4a88-96fe-cb6891831e10",
        "outputId": "96fe91b9-0622-4e41-887f-bcc81848ef5f"
      },
      "outputs": [
        {
          "name": "stdout",
          "output_type": "stream",
          "text": [
            "Boston 데이타셋 크기 : (506, 14)\n"
          ]
        },
        {
          "data": {
            "text/html": [
              "<div>\n",
              "<style scoped>\n",
              "    .dataframe tbody tr th:only-of-type {\n",
              "        vertical-align: middle;\n",
              "    }\n",
              "\n",
              "    .dataframe tbody tr th {\n",
              "        vertical-align: top;\n",
              "    }\n",
              "\n",
              "    .dataframe thead th {\n",
              "        text-align: right;\n",
              "    }\n",
              "</style>\n",
              "<table border=\"1\" class=\"dataframe\">\n",
              "  <thead>\n",
              "    <tr style=\"text-align: right;\">\n",
              "      <th></th>\n",
              "      <th>CRIM</th>\n",
              "      <th>ZN</th>\n",
              "      <th>INDUS</th>\n",
              "      <th>CHAS</th>\n",
              "      <th>NOX</th>\n",
              "      <th>RM</th>\n",
              "      <th>AGE</th>\n",
              "      <th>DIS</th>\n",
              "      <th>RAD</th>\n",
              "      <th>TAX</th>\n",
              "      <th>PTRATIO</th>\n",
              "      <th>B</th>\n",
              "      <th>LSTAT</th>\n",
              "      <th>MEDV</th>\n",
              "    </tr>\n",
              "  </thead>\n",
              "  <tbody>\n",
              "    <tr>\n",
              "      <th>0</th>\n",
              "      <td>0.00632</td>\n",
              "      <td>18.0</td>\n",
              "      <td>2.31</td>\n",
              "      <td>0.0</td>\n",
              "      <td>0.538</td>\n",
              "      <td>6.575</td>\n",
              "      <td>65.2</td>\n",
              "      <td>4.0900</td>\n",
              "      <td>1</td>\n",
              "      <td>296</td>\n",
              "      <td>15.3</td>\n",
              "      <td>396.90</td>\n",
              "      <td>4.98</td>\n",
              "      <td>24.0</td>\n",
              "    </tr>\n",
              "    <tr>\n",
              "      <th>1</th>\n",
              "      <td>0.02731</td>\n",
              "      <td>0.0</td>\n",
              "      <td>7.07</td>\n",
              "      <td>0.0</td>\n",
              "      <td>0.469</td>\n",
              "      <td>6.421</td>\n",
              "      <td>78.9</td>\n",
              "      <td>4.9671</td>\n",
              "      <td>2</td>\n",
              "      <td>242</td>\n",
              "      <td>17.8</td>\n",
              "      <td>396.90</td>\n",
              "      <td>9.14</td>\n",
              "      <td>21.6</td>\n",
              "    </tr>\n",
              "    <tr>\n",
              "      <th>2</th>\n",
              "      <td>0.02729</td>\n",
              "      <td>0.0</td>\n",
              "      <td>7.07</td>\n",
              "      <td>0.0</td>\n",
              "      <td>0.469</td>\n",
              "      <td>7.185</td>\n",
              "      <td>61.1</td>\n",
              "      <td>4.9671</td>\n",
              "      <td>2</td>\n",
              "      <td>242</td>\n",
              "      <td>17.8</td>\n",
              "      <td>392.83</td>\n",
              "      <td>4.03</td>\n",
              "      <td>34.7</td>\n",
              "    </tr>\n",
              "    <tr>\n",
              "      <th>3</th>\n",
              "      <td>0.03237</td>\n",
              "      <td>0.0</td>\n",
              "      <td>2.18</td>\n",
              "      <td>0.0</td>\n",
              "      <td>0.458</td>\n",
              "      <td>6.998</td>\n",
              "      <td>45.8</td>\n",
              "      <td>6.0622</td>\n",
              "      <td>3</td>\n",
              "      <td>222</td>\n",
              "      <td>18.7</td>\n",
              "      <td>394.63</td>\n",
              "      <td>2.94</td>\n",
              "      <td>33.4</td>\n",
              "    </tr>\n",
              "    <tr>\n",
              "      <th>4</th>\n",
              "      <td>0.06905</td>\n",
              "      <td>0.0</td>\n",
              "      <td>2.18</td>\n",
              "      <td>0.0</td>\n",
              "      <td>0.458</td>\n",
              "      <td>7.147</td>\n",
              "      <td>54.2</td>\n",
              "      <td>6.0622</td>\n",
              "      <td>3</td>\n",
              "      <td>222</td>\n",
              "      <td>18.7</td>\n",
              "      <td>396.90</td>\n",
              "      <td>NaN</td>\n",
              "      <td>36.2</td>\n",
              "    </tr>\n",
              "  </tbody>\n",
              "</table>\n",
              "</div>"
            ],
            "text/plain": [
              "      CRIM    ZN  INDUS  CHAS    NOX     RM   AGE     DIS  RAD  TAX  PTRATIO  \\\n",
              "0  0.00632  18.0   2.31   0.0  0.538  6.575  65.2  4.0900    1  296     15.3   \n",
              "1  0.02731   0.0   7.07   0.0  0.469  6.421  78.9  4.9671    2  242     17.8   \n",
              "2  0.02729   0.0   7.07   0.0  0.469  7.185  61.1  4.9671    2  242     17.8   \n",
              "3  0.03237   0.0   2.18   0.0  0.458  6.998  45.8  6.0622    3  222     18.7   \n",
              "4  0.06905   0.0   2.18   0.0  0.458  7.147  54.2  6.0622    3  222     18.7   \n",
              "\n",
              "        B  LSTAT  MEDV  \n",
              "0  396.90   4.98  24.0  \n",
              "1  396.90   9.14  21.6  \n",
              "2  392.83   4.03  34.7  \n",
              "3  394.63   2.94  33.4  \n",
              "4  396.90    NaN  36.2  "
            ]
          },
          "execution_count": 54,
          "metadata": {},
          "output_type": "execute_result"
        }
      ],
      "source": [
        "import numpy as np\n",
        "import matplotlib.pyplot as plt\n",
        "import pandas as pd\n",
        "import seaborn as sns\n",
        "from scipy import stats\n",
        "# from sklearn.datasets import load_boston\n",
        "# import warnings\n",
        "# warnings.filterwarnings('ignore')  #사이킷런 1.2 부터는 보스턴 주택가격 데이터가 없어진다는 warning 메시지 출력 제거\n",
        "# %matplotlib inline\n",
        "\n",
        "'''\n",
        "# boston 데이타셋 로드\n",
        "boston = load_boston()\n",
        "\n",
        "# boston 데이타셋 DataFrame 변환\n",
        "bostonDF = pd.DataFrame(boston.data , columns = boston.feature_names)\n",
        "\n",
        "# boston dataset의 target array는 주택 가격임. 이를 PRICE 컬럼으로 DataFrame에 추가함.\n",
        "bostonDF['PRICE'] = boston.target\n",
        "'''\n",
        "\n",
        "bostonDF = pd.read_csv('./data/boston.csv')\n",
        "print('Boston 데이타셋 크기 :', bostonDF.shape)\n",
        "bostonDF.head()"
      ]
    },
    {
      "cell_type": "markdown",
      "id": "9aae507c-f851-46e6-ab6c-84abd2c28887",
      "metadata": {
        "id": "9aae507c-f851-46e6-ab6c-84abd2c28887"
      },
      "source": [
        "- CRIM: 지역별 범죄 발생률\n",
        "-\n",
        "ZN: 25,000평방피트를 초과하는 거주 지역의 비율-\n",
        "NDUS: 비상업 지역 넓이 비- 율\n",
        "CHAS: 찰스강에 대한 더미 변수(강의 경계에 위치한 경우는 1, 아니면 - 0)\n",
        "NOX: 일산화질소-  농도\n",
        "RM: 거주할 수 있는 - 방 개수\n",
        "AGE: 1940년 이전에 건축된 소유 주- 택의 비율\n",
        "DIS: 5개 주요 고용센터까지의-  가중 거리\n",
        "RAD: 고속도로-  접근 용이도\n",
        "TAX: 10,000- 달러당 재산세율\n",
        "PTRATIO: 지역의 교사- 와 학생 수 비율\n",
        "B: 지역- 의 흑인 거주 비율\n",
        "LSTAT- : 하위 계층의 비율\n",
        "MEDV: 본인 소유의 주택 가격(중앙값)\n",
        "각 컬럼별로 주택가격에 미치는 영향도를 조사"
      ]
    },
    {
      "cell_type": "code",
      "execution_count": null,
      "id": "e636ebb5-3f6c-45fd-8ed7-507de6955bcf",
      "metadata": {
        "id": "e636ebb5-3f6c-45fd-8ed7-507de6955bcf",
        "outputId": "6a0650ac-3c99-400f-d0a2-7092acd6c507"
      },
      "outputs": [
        {
          "data": {
            "text/plain": [
              "Index(['CRIM', 'ZN', 'INDUS', 'CHAS', 'NOX', 'RM', 'AGE', 'DIS', 'RAD', 'TAX',\n",
              "       'PTRATIO', 'B', 'LSTAT', 'PRICE'],\n",
              "      dtype='object')"
            ]
          },
          "execution_count": 59,
          "metadata": {},
          "output_type": "execute_result"
        }
      ],
      "source": [
        "# MEDV -> PRICE로 변경\n",
        "bostonDF = bostonDF.rename(columns = {'MEDV':'PRICE'})\n",
        "bostonDF.columns"
      ]
    },
    {
      "cell_type": "markdown",
      "id": "532c8885-6ee2-46a0-86ac-92fa2a935a06",
      "metadata": {
        "id": "532c8885-6ee2-46a0-86ac-92fa2a935a06"
      },
      "source": [
        "### 평가지표\n",
        "- RMSE는 MSE에 sqrt취해서 구해야"
      ]
    },
    {
      "cell_type": "code",
      "execution_count": null,
      "id": "a297ba43-aa57-4381-976c-b0b46b73a036",
      "metadata": {
        "id": "a297ba43-aa57-4381-976c-b0b46b73a036",
        "outputId": "4907547c-4953-482b-8324-3f2a731bccca"
      },
      "outputs": [
        {
          "data": {
            "image/png": "[encoded data removed]",
            "text/plain": [
              "<Figure size 1600x800 with 8 Axes>"
            ]
          },
          "metadata": {},
          "output_type": "display_data"
        }
      ],
      "source": [
        "fig, ax = plt.subplots(figsize=(16,8), ncols=4, nrows=2)\n",
        "lm_features = ['RM','ZN','INDUS','NOX','AGE','PTRATIO','LSTAT','RAD']\n",
        "\n",
        "for i, feature in enumerate(lm_features):\n",
        "    row = int(i/4)\n",
        "    col = i%4\n",
        "    # print(row, col) 각 캔버스의 행, 열 인덱스 번호 출력\n",
        "    sns.regplot(x=feature, y='PRICE', data=bostonDF, ax=ax[row][col])\n",
        "    ax[row][col].set_title(feature)\n",
        "\n",
        "plt.tight_layout()\n",
        "plt.show()"
      ]
    },
    {
      "cell_type": "markdown",
      "id": "3e0d6051-6ef0-4cdd-be09-8537c4a0a11f",
      "metadata": {
        "id": "3e0d6051-6ef0-4cdd-be09-8537c4a0a11f"
      },
      "source": [
        "## Pipeline 코드(회귀)로 변경\n",
        "- 문자 컬럼은 아직 없음\n",
        "- LinearRegression 사용"
      ]
    },
    {
      "cell_type": "code",
      "execution_count": null,
      "id": "163751f5-1911-48f2-a4a4-3dfd24bc083b",
      "metadata": {
        "id": "163751f5-1911-48f2-a4a4-3dfd24bc083b",
        "outputId": "f271efaa-5507-4c52-e07b-e34b5881aa47"
      },
      "outputs": [
        {
          "name": "stdout",
          "output_type": "stream",
          "text": [
            "<class 'pandas.core.frame.DataFrame'>\n",
            "RangeIndex: 506 entries, 0 to 505\n",
            "Data columns (total 14 columns):\n",
            " #   Column   Non-Null Count  Dtype  \n",
            "---  ------   --------------  -----  \n",
            " 0   CRIM     486 non-null    float64\n",
            " 1   ZN       486 non-null    float64\n",
            " 2   INDUS    486 non-null    float64\n",
            " 3   CHAS     486 non-null    float64\n",
            " 4   NOX      506 non-null    float64\n",
            " 5   RM       506 non-null    float64\n",
            " 6   AGE      486 non-null    float64\n",
            " 7   DIS      506 non-null    float64\n",
            " 8   RAD      506 non-null    int64  \n",
            " 9   TAX      506 non-null    int64  \n",
            " 10  PTRATIO  506 non-null    float64\n",
            " 11  B        506 non-null    float64\n",
            " 12  LSTAT    486 non-null    float64\n",
            " 13  PRICE    506 non-null    float64\n",
            "dtypes: float64(12), int64(2)\n",
            "memory usage: 55.5 KB\n"
          ]
        }
      ],
      "source": [
        "bostonDF.info()"
      ]
    },
    {
      "cell_type": "code",
      "execution_count": null,
      "id": "e12e0e0c-2ac2-4db2-976d-e063b595ee70",
      "metadata": {
        "id": "e12e0e0c-2ac2-4db2-976d-e063b595ee70",
        "outputId": "5019b960-e072-47dc-a289-7047ee8bed5c"
      },
      "outputs": [
        {
          "name": "stdout",
          "output_type": "stream",
          "text": [
            "<class 'pandas.core.frame.DataFrame'>\n",
            "Index: 394 entries, 0 to 504\n",
            "Data columns (total 14 columns):\n",
            " #   Column   Non-Null Count  Dtype  \n",
            "---  ------   --------------  -----  \n",
            " 0   CRIM     394 non-null    float64\n",
            " 1   ZN       394 non-null    float64\n",
            " 2   INDUS    394 non-null    float64\n",
            " 3   CHAS     394 non-null    float64\n",
            " 4   NOX      394 non-null    float64\n",
            " 5   RM       394 non-null    float64\n",
            " 6   AGE      394 non-null    float64\n",
            " 7   DIS      394 non-null    float64\n",
            " 8   RAD      394 non-null    int64  \n",
            " 9   TAX      394 non-null    int64  \n",
            " 10  PTRATIO  394 non-null    float64\n",
            " 11  B        394 non-null    float64\n",
            " 12  LSTAT    394 non-null    float64\n",
            " 13  PRICE    394 non-null    float64\n",
            "dtypes: float64(12), int64(2)\n",
            "memory usage: 46.2 KB\n"
          ]
        }
      ],
      "source": [
        "data = bostonDF.dropna()\n",
        "data.info()"
      ]
    },
    {
      "cell_type": "code",
      "execution_count": null,
      "id": "b7ddfda5-3efa-47a0-8305-890b883180f6",
      "metadata": {
        "id": "b7ddfda5-3efa-47a0-8305-890b883180f6",
        "outputId": "7f5798bc-0e9f-4e16-b86e-99962427bedc"
      },
      "outputs": [
        {
          "name": "stdout",
          "output_type": "stream",
          "text": [
            "(394, 13) (394,)\n"
          ]
        }
      ],
      "source": [
        "X = data.drop('PRICE', axis=1)\n",
        "y = data['PRICE']\n",
        "\n",
        "print(X.shape, y.shape)"
      ]
    },
    {
      "cell_type": "code",
      "execution_count": null,
      "id": "f3246db0-b5ce-419f-92ce-42e43b9776d4",
      "metadata": {
        "id": "f3246db0-b5ce-419f-92ce-42e43b9776d4",
        "outputId": "c25e6b81-c86a-4120-bf02-4a6e201efac4"
      },
      "outputs": [
        {
          "name": "stdout",
          "output_type": "stream",
          "text": [
            "(275, 13) (119, 13) (275,) (119,)\n"
          ]
        }
      ],
      "source": [
        "from sklearn.model_selection import train_test_split\n",
        "X_tr, X_te, y_tr, y_te = train_test_split(X, y, random_state=0, test_size=0.3)\n",
        "print(X_tr.shape, X_te.shape, y_tr.shape, y_te.shape)"
      ]
    },
    {
      "cell_type": "code",
      "execution_count": null,
      "id": "e5999748-1f79-4a39-b0e5-138d1ef90984",
      "metadata": {
        "id": "e5999748-1f79-4a39-b0e5-138d1ef90984"
      },
      "outputs": [],
      "source": [
        "numbers_df = X.select_dtypes(include=np.number)"
      ]
    },
    {
      "cell_type": "code",
      "execution_count": null,
      "id": "a08a99fb-b8bc-45b9-987b-a4bac7688f89",
      "metadata": {
        "id": "a08a99fb-b8bc-45b9-987b-a4bac7688f89",
        "outputId": "4d5b4a7d-9890-4289-9644-0cdd7adc9215"
      },
      "outputs": [
        {
          "name": "stderr",
          "output_type": "stream",
          "text": [
            "C:\\Users\\skrtk\\anaconda3\\Lib\\site-packages\\sklearn\\model_selection\\_search.py:318: UserWarning: The total space of parameters 1 is smaller than n_iter=3. Running 1 iterations. For exhaustive searches, use GridSearchCV.\n",
            "  warnings.warn(\n"
          ]
        },
        {
          "name": "stdout",
          "output_type": "stream",
          "text": [
            "Fitting 3 folds for each of 1 candidates, totalling 3 fits\n",
            "4.887179417986755\n"
          ]
        }
      ],
      "source": [
        "from sklearn.preprocessing import RobustScaler\n",
        "from sklearn.compose import ColumnTransformer\n",
        "from sklearn.pipeline import Pipeline\n",
        "from sklearn.linear_model import LinearRegression\n",
        "from sklearn.model_selection import RandomizedSearchCV\n",
        "from sklearn.metrics import mean_squared_error, r2_score\n",
        "param_grid = {}\n",
        "\n",
        "column_transformer = ColumnTransformer([\n",
        "    ('scaler', RobustScaler(), numbers_df.columns)], remainder = 'passthrough')\n",
        "\n",
        "pipeline = Pipeline([('preprocessor', column_transformer), ('regressor', LinearRegression())])\n",
        "\n",
        "random_search = RandomizedSearchCV(\n",
        "    estimator = pipeline,\n",
        "    random_state=0,\n",
        "    param_distributions = param_grid,\n",
        "    n_iter=3,\n",
        "    cv = 3,\n",
        "    verbose=3,\n",
        "    n_jobs = -1 # CPU cores를 모두 사용하겠다는 뜻\n",
        ")\n",
        "\n",
        "# 모형학습\n",
        "random_search.fit(X_tr, y_tr)\n",
        "\n",
        "# 예측값 산출\n",
        "predictions = random_search.predict(X_te)\n",
        "\n",
        "# 모형평가\n",
        "mse = mean_squared_error(y_te, predictions)\n",
        "print(mse**(1/2))"
      ]
    },
    {
      "cell_type": "code",
      "execution_count": null,
      "id": "704467b6-4494-4fc2-8e23-11fb82fa2aec",
      "metadata": {
        "scrolled": true,
        "id": "704467b6-4494-4fc2-8e23-11fb82fa2aec",
        "outputId": "40131963-8adc-471b-b355-cf9152cb2469"
      },
      "outputs": [
        {
          "data": {
            "text/plain": [
              "'\\nfrom sklearn.model_selection import train_test_split\\nfrom sklearn.linear_model import LinearRegression\\nfrom sklearn.metrics import mean_squared_error, r2_score\\n\\ny_target = bostonDF[\\'PRICE\\']\\nX_data = bostonDF.drop([\\'PRICE\\'],axis=1,inplace=False)\\n\\nX_train , X_test , y_train , y_test = train_test_split(X_data , y_target ,test_size=0.3, random_state=156)\\n\\nfrom sklearn.model_selection import train_test_split\\nfrom sklearn.linear_model import LinearRegression\\nfrom sklearn.metrics import mean_squared_error, r2_score\\nfrom sklearn.preprocessing import OrdinalEncoder, OneHotEncoder, RobustScaler, MinMaxScaler, StandardScaler\\nfrom sklearn.compose import ColumnTransformer\\nfrom sklearn.pipeline import Pipeline\\nfrom sklearn.ensemble import RandomForestClassifier\\nfrom sklearn.model_selection import RandomizedSearchCV\\nfrom sklearn.metrics import roc_auc_score\\nfrom lightgbm import LGBMClassifier\\nimport numpy as np\\n\\nbostonDF = pd.read_csv(\"data/boston.csv\")\\n# print(\\'Boston 데이타셋 크기 :\\',bostonDF.shape)\\nbostonDF = bostonDF.rename(columns = {\"MEDV\": \"PRICE\"})\\n\\nmissing_cols = [\"CRIM\", \"ZN\", \"INDUS\", \"CHAS\", \"AGE\", \"LSTAT\"]\\n\\nfor col in missing_cols:\\n    bostonDF[col] = bostonDF[col].fillna(bostonDF[col].mean())\\n\\ny_target = bostonDF[\\'PRICE\\']\\nX_data = bostonDF.drop([\\'PRICE\\'], axis=1, inplace=False)\\n\\nX_train , X_test , y_train , y_test = train_test_split(X_data , y_target ,test_size=0.3, random_state=156)\\n\\n# RandomizedSearchCV() 에 대입\\nparam_grid = {\\'verbose\\' : [0, 1, -1]}\\n\\n# ColumnTransformer\\ncolumn_transformer = ColumnTransformer([\\n    (\"scaler\", RobustScaler(), X_data.columns), # scaler\\n   #  (\"ohc_encoder\", OneHotEncoder(), [\\'Warehouse_block\\', \\'Mode_of_Shipment\\', \\'Gender\\']), # 명목척도 처리\\n   # (\"pd_imp_encoder\", OrdinalEncoder(categories=[[\\'low\\', \\'medium\\', \\'high\\']]), [\\'Product_importance\\']), # 서열척도 처리\\n], remainder = \\'passthrough\\')\\n\\npipeline = Pipeline([\\n    (\\'preprocessor\\', column_transformer), \\n    (\\'classifier\\', LinearRegression())\\n])\\n\\n# Grid Search 코드 스타일은 비슷(99% 비슷)\\nrandom_search = RandomizedSearchCV(\\n    estimator = pipeline, \\n    param_distributions = param_grid, \\n    n_iter = 3, \\n    scoring = \\'neg_mean_absolute_error\\', # 잘 모르겠다. 시험장에서는 디폴트 값으로 accuracy\\n    cv = 3, \\n    verbose=3, \\n    n_jobs = -1 # CPU cores 모두 사용하겠다는 뜻\\n)\\n\\n# 모형학습\\n# pipeline.fit(X_train, y_train)\\nrandom_search.fit(X_train, y_train) \\n\\npreds = random_search.predict(X_test)\\nmse = mean_squared_error(y_test, preds)\\nr2 = r2_score(y_test, preds)\\nprint(mse, np.sqrt(mse), r2)\\n'"
            ]
          },
          "execution_count": 89,
          "metadata": {},
          "output_type": "execute_result"
        }
      ],
      "source": [
        "# 강사\n",
        "'''\n",
        "from sklearn.model_selection import train_test_split\n",
        "from sklearn.linear_model import LinearRegression\n",
        "from sklearn.metrics import mean_squared_error, r2_score\n",
        "\n",
        "y_target = bostonDF['PRICE']\n",
        "X_data = bostonDF.drop(['PRICE'],axis=1,inplace=False)\n",
        "\n",
        "X_train , X_test , y_train , y_test = train_test_split(X_data , y_target ,test_size=0.3, random_state=156)\n",
        "\n",
        "from sklearn.model_selection import train_test_split\n",
        "from sklearn.linear_model import LinearRegression\n",
        "from sklearn.metrics import mean_squared_error, r2_score\n",
        "from sklearn.preprocessing import OrdinalEncoder, OneHotEncoder, RobustScaler, MinMaxScaler, StandardScaler\n",
        "from sklearn.compose import ColumnTransformer\n",
        "from sklearn.pipeline import Pipeline\n",
        "from sklearn.ensemble import RandomForestClassifier\n",
        "from sklearn.model_selection import RandomizedSearchCV\n",
        "from sklearn.metrics import roc_auc_score\n",
        "from lightgbm import LGBMClassifier\n",
        "import numpy as np\n",
        "\n",
        "bostonDF = pd.read_csv(\"data/boston.csv\")\n",
        "# print('Boston 데이타셋 크기 :',bostonDF.shape)\n",
        "bostonDF = bostonDF.rename(columns = {\"MEDV\": \"PRICE\"})\n",
        "\n",
        "missing_cols = [\"CRIM\", \"ZN\", \"INDUS\", \"CHAS\", \"AGE\", \"LSTAT\"]\n",
        "\n",
        "for col in missing_cols:\n",
        "    bostonDF[col] = bostonDF[col].fillna(bostonDF[col].mean())\n",
        "\n",
        "y_target = bostonDF['PRICE']\n",
        "X_data = bostonDF.drop(['PRICE'], axis=1, inplace=False)\n",
        "\n",
        "X_train , X_test , y_train , y_test = train_test_split(X_data , y_target ,test_size=0.3, random_state=156)\n",
        "\n",
        "# RandomizedSearchCV() 에 대입\n",
        "param_grid = {'verbose' : [0, 1, -1]}\n",
        "\n",
        "# ColumnTransformer\n",
        "column_transformer = ColumnTransformer([\n",
        "    (\"scaler\", RobustScaler(), X_data.columns), # scaler\n",
        "   #  (\"ohc_encoder\", OneHotEncoder(), ['Warehouse_block', 'Mode_of_Shipment', 'Gender']), # 명목척도 처리\n",
        "   # (\"pd_imp_encoder\", OrdinalEncoder(categories=[['low', 'medium', 'high']]), ['Product_importance']), # 서열척도 처리\n",
        "], remainder = 'passthrough')\n",
        "\n",
        "pipeline = Pipeline([\n",
        "    ('preprocessor', column_transformer),\n",
        "    ('classifier', LinearRegression())\n",
        "])\n",
        "\n",
        "# Grid Search 코드 스타일은 비슷(99% 비슷)\n",
        "random_search = RandomizedSearchCV(\n",
        "    estimator = pipeline,\n",
        "    param_distributions = param_grid,\n",
        "    n_iter = 3,\n",
        "    scoring = 'neg_mean_absolute_error', # 잘 모르겠다. 시험장에서는 디폴트 값으로 accuracy\n",
        "    cv = 3,\n",
        "    verbose=3,\n",
        "    n_jobs = -1 # CPU cores 모두 사용하겠다는 뜻\n",
        ")\n",
        "\n",
        "# 모형학습\n",
        "# pipeline.fit(X_train, y_train)\n",
        "random_search.fit(X_train, y_train)\n",
        "\n",
        "preds = random_search.predict(X_test)\n",
        "mse = mean_squared_error(y_test, preds)\n",
        "r2 = r2_score(y_test, preds)\n",
        "print(mse, np.sqrt(mse), r2)\n",
        "'''"
      ]
    },
    {
      "cell_type": "markdown",
      "id": "27ba6f0b-5e63-48b4-b2a1-a2e606aee922",
      "metadata": {
        "id": "27ba6f0b-5e63-48b4-b2a1-a2e606aee922"
      },
      "source": [
        "# Palmerpenguins로 회귀 실습"
      ]
    },
    {
      "cell_type": "code",
      "execution_count": null,
      "id": "869d0033-1bfb-4380-a1ef-031fee01b22b",
      "metadata": {
        "id": "869d0033-1bfb-4380-a1ef-031fee01b22b",
        "outputId": "af32015e-4d0b-4c61-b58d-8e86f5021e5c"
      },
      "outputs": [
        {
          "data": {
            "text/html": [
              "<div>\n",
              "<style scoped>\n",
              "    .dataframe tbody tr th:only-of-type {\n",
              "        vertical-align: middle;\n",
              "    }\n",
              "\n",
              "    .dataframe tbody tr th {\n",
              "        vertical-align: top;\n",
              "    }\n",
              "\n",
              "    .dataframe thead th {\n",
              "        text-align: right;\n",
              "    }\n",
              "</style>\n",
              "<table border=\"1\" class=\"dataframe\">\n",
              "  <thead>\n",
              "    <tr style=\"text-align: right;\">\n",
              "      <th></th>\n",
              "      <th>species</th>\n",
              "      <th>island</th>\n",
              "      <th>bill_length_mm</th>\n",
              "      <th>bill_depth_mm</th>\n",
              "      <th>flipper_length_mm</th>\n",
              "      <th>body_mass_g</th>\n",
              "      <th>sex</th>\n",
              "      <th>year</th>\n",
              "      <th>ID</th>\n",
              "    </tr>\n",
              "  </thead>\n",
              "  <tbody>\n",
              "    <tr>\n",
              "      <th>0</th>\n",
              "      <td>Adelie</td>\n",
              "      <td>Torgersen</td>\n",
              "      <td>39.1</td>\n",
              "      <td>18.7</td>\n",
              "      <td>181.0</td>\n",
              "      <td>3750.0</td>\n",
              "      <td>male</td>\n",
              "      <td>2007</td>\n",
              "      <td>1</td>\n",
              "    </tr>\n",
              "    <tr>\n",
              "      <th>1</th>\n",
              "      <td>Adelie</td>\n",
              "      <td>Torgersen</td>\n",
              "      <td>39.5</td>\n",
              "      <td>17.4</td>\n",
              "      <td>186.0</td>\n",
              "      <td>3800.0</td>\n",
              "      <td>female</td>\n",
              "      <td>2007</td>\n",
              "      <td>2</td>\n",
              "    </tr>\n",
              "    <tr>\n",
              "      <th>2</th>\n",
              "      <td>Adelie</td>\n",
              "      <td>Torgersen</td>\n",
              "      <td>40.3</td>\n",
              "      <td>18.0</td>\n",
              "      <td>195.0</td>\n",
              "      <td>3250.0</td>\n",
              "      <td>female</td>\n",
              "      <td>2007</td>\n",
              "      <td>3</td>\n",
              "    </tr>\n",
              "    <tr>\n",
              "      <th>3</th>\n",
              "      <td>Adelie</td>\n",
              "      <td>Torgersen</td>\n",
              "      <td>NaN</td>\n",
              "      <td>NaN</td>\n",
              "      <td>NaN</td>\n",
              "      <td>NaN</td>\n",
              "      <td>NaN</td>\n",
              "      <td>2007</td>\n",
              "      <td>4</td>\n",
              "    </tr>\n",
              "    <tr>\n",
              "      <th>4</th>\n",
              "      <td>Adelie</td>\n",
              "      <td>Torgersen</td>\n",
              "      <td>36.7</td>\n",
              "      <td>19.3</td>\n",
              "      <td>193.0</td>\n",
              "      <td>3450.0</td>\n",
              "      <td>female</td>\n",
              "      <td>2007</td>\n",
              "      <td>5</td>\n",
              "    </tr>\n",
              "  </tbody>\n",
              "</table>\n",
              "</div>"
            ],
            "text/plain": [
              "  species     island  bill_length_mm  bill_depth_mm  flipper_length_mm  \\\n",
              "0  Adelie  Torgersen            39.1           18.7              181.0   \n",
              "1  Adelie  Torgersen            39.5           17.4              186.0   \n",
              "2  Adelie  Torgersen            40.3           18.0              195.0   \n",
              "3  Adelie  Torgersen             NaN            NaN                NaN   \n",
              "4  Adelie  Torgersen            36.7           19.3              193.0   \n",
              "\n",
              "   body_mass_g     sex  year  ID  \n",
              "0       3750.0    male  2007   1  \n",
              "1       3800.0  female  2007   2  \n",
              "2       3250.0  female  2007   3  \n",
              "3          NaN     NaN  2007   4  \n",
              "4       3450.0  female  2007   5  "
            ]
          },
          "execution_count": 149,
          "metadata": {},
          "output_type": "execute_result"
        }
      ],
      "source": [
        "import pandas as pd\n",
        "from palmerpenguins import load_penguins\n",
        "\n",
        "penguins = load_penguins()\n",
        "penguins['ID'] = penguins.reset_index().index + 1\n",
        "penguins.head()"
      ]
    },
    {
      "cell_type": "code",
      "execution_count": null,
      "id": "09df3d3a-9a4a-4d4b-b0f0-4544cf0f3cc5",
      "metadata": {
        "id": "09df3d3a-9a4a-4d4b-b0f0-4544cf0f3cc5",
        "outputId": "a687132f-cbce-4e53-f879-6b26eb642845"
      },
      "outputs": [
        {
          "name": "stdout",
          "output_type": "stream",
          "text": [
            "<class 'pandas.core.frame.DataFrame'>\n",
            "RangeIndex: 344 entries, 0 to 343\n",
            "Data columns (total 9 columns):\n",
            " #   Column             Non-Null Count  Dtype  \n",
            "---  ------             --------------  -----  \n",
            " 0   species            344 non-null    object \n",
            " 1   island             344 non-null    object \n",
            " 2   bill_length_mm     342 non-null    float64\n",
            " 3   bill_depth_mm      342 non-null    float64\n",
            " 4   flipper_length_mm  342 non-null    float64\n",
            " 5   body_mass_g        342 non-null    float64\n",
            " 6   sex                333 non-null    object \n",
            " 7   year               344 non-null    int64  \n",
            " 8   ID                 344 non-null    int64  \n",
            "dtypes: float64(4), int64(2), object(3)\n",
            "memory usage: 24.3+ KB\n"
          ]
        }
      ],
      "source": [
        "penguins.info()"
      ]
    },
    {
      "cell_type": "code",
      "execution_count": null,
      "id": "92a89464-865a-44b4-82ea-1f3e69ea3a2c",
      "metadata": {
        "id": "92a89464-865a-44b4-82ea-1f3e69ea3a2c"
      },
      "outputs": [],
      "source": [
        "penguins = penguins.dropna()"
      ]
    },
    {
      "cell_type": "code",
      "execution_count": null,
      "id": "5615211f-2880-421e-a283-401ff43a2c85",
      "metadata": {
        "id": "5615211f-2880-421e-a283-401ff43a2c85",
        "outputId": "778242e1-a3ad-490e-c109-23d4b3f669a3"
      },
      "outputs": [
        {
          "data": {
            "text/html": [
              "<div>\n",
              "<style scoped>\n",
              "    .dataframe tbody tr th:only-of-type {\n",
              "        vertical-align: middle;\n",
              "    }\n",
              "\n",
              "    .dataframe tbody tr th {\n",
              "        vertical-align: top;\n",
              "    }\n",
              "\n",
              "    .dataframe thead th {\n",
              "        text-align: right;\n",
              "    }\n",
              "</style>\n",
              "<table border=\"1\" class=\"dataframe\">\n",
              "  <thead>\n",
              "    <tr style=\"text-align: right;\">\n",
              "      <th></th>\n",
              "      <th>bill_length_mm</th>\n",
              "      <th>bill_depth_mm</th>\n",
              "      <th>flipper_length_mm</th>\n",
              "      <th>body_mass_g</th>\n",
              "      <th>year</th>\n",
              "      <th>ID</th>\n",
              "    </tr>\n",
              "  </thead>\n",
              "  <tbody>\n",
              "    <tr>\n",
              "      <th>count</th>\n",
              "      <td>333.000000</td>\n",
              "      <td>333.000000</td>\n",
              "      <td>333.000000</td>\n",
              "      <td>333.000000</td>\n",
              "      <td>333.000000</td>\n",
              "      <td>333.000000</td>\n",
              "    </tr>\n",
              "    <tr>\n",
              "      <th>mean</th>\n",
              "      <td>43.992793</td>\n",
              "      <td>17.164865</td>\n",
              "      <td>200.966967</td>\n",
              "      <td>4207.057057</td>\n",
              "      <td>2008.042042</td>\n",
              "      <td>174.324324</td>\n",
              "    </tr>\n",
              "    <tr>\n",
              "      <th>std</th>\n",
              "      <td>5.468668</td>\n",
              "      <td>1.969235</td>\n",
              "      <td>14.015765</td>\n",
              "      <td>805.215802</td>\n",
              "      <td>0.812944</td>\n",
              "      <td>98.386547</td>\n",
              "    </tr>\n",
              "    <tr>\n",
              "      <th>min</th>\n",
              "      <td>32.100000</td>\n",
              "      <td>13.100000</td>\n",
              "      <td>172.000000</td>\n",
              "      <td>2700.000000</td>\n",
              "      <td>2007.000000</td>\n",
              "      <td>1.000000</td>\n",
              "    </tr>\n",
              "    <tr>\n",
              "      <th>25%</th>\n",
              "      <td>39.500000</td>\n",
              "      <td>15.600000</td>\n",
              "      <td>190.000000</td>\n",
              "      <td>3550.000000</td>\n",
              "      <td>2007.000000</td>\n",
              "      <td>90.000000</td>\n",
              "    </tr>\n",
              "    <tr>\n",
              "      <th>50%</th>\n",
              "      <td>44.500000</td>\n",
              "      <td>17.300000</td>\n",
              "      <td>197.000000</td>\n",
              "      <td>4050.000000</td>\n",
              "      <td>2008.000000</td>\n",
              "      <td>173.000000</td>\n",
              "    </tr>\n",
              "    <tr>\n",
              "      <th>75%</th>\n",
              "      <td>48.600000</td>\n",
              "      <td>18.700000</td>\n",
              "      <td>213.000000</td>\n",
              "      <td>4775.000000</td>\n",
              "      <td>2009.000000</td>\n",
              "      <td>259.000000</td>\n",
              "    </tr>\n",
              "    <tr>\n",
              "      <th>max</th>\n",
              "      <td>59.600000</td>\n",
              "      <td>21.500000</td>\n",
              "      <td>231.000000</td>\n",
              "      <td>6300.000000</td>\n",
              "      <td>2009.000000</td>\n",
              "      <td>344.000000</td>\n",
              "    </tr>\n",
              "  </tbody>\n",
              "</table>\n",
              "</div>"
            ],
            "text/plain": [
              "       bill_length_mm  bill_depth_mm  flipper_length_mm  body_mass_g  \\\n",
              "count      333.000000     333.000000         333.000000   333.000000   \n",
              "mean        43.992793      17.164865         200.966967  4207.057057   \n",
              "std          5.468668       1.969235          14.015765   805.215802   \n",
              "min         32.100000      13.100000         172.000000  2700.000000   \n",
              "25%         39.500000      15.600000         190.000000  3550.000000   \n",
              "50%         44.500000      17.300000         197.000000  4050.000000   \n",
              "75%         48.600000      18.700000         213.000000  4775.000000   \n",
              "max         59.600000      21.500000         231.000000  6300.000000   \n",
              "\n",
              "              year          ID  \n",
              "count   333.000000  333.000000  \n",
              "mean   2008.042042  174.324324  \n",
              "std       0.812944   98.386547  \n",
              "min    2007.000000    1.000000  \n",
              "25%    2007.000000   90.000000  \n",
              "50%    2008.000000  173.000000  \n",
              "75%    2009.000000  259.000000  \n",
              "max    2009.000000  344.000000  "
            ]
          },
          "execution_count": 152,
          "metadata": {},
          "output_type": "execute_result"
        }
      ],
      "source": [
        "penguins.describe()"
      ]
    },
    {
      "cell_type": "code",
      "execution_count": null,
      "id": "9d55683e-912f-4e56-82e2-a396854ca3b7",
      "metadata": {
        "id": "9d55683e-912f-4e56-82e2-a396854ca3b7",
        "outputId": "e66f556d-aac9-42c2-f28e-7de2e817d45a"
      },
      "outputs": [
        {
          "name": "stdout",
          "output_type": "stream",
          "text": [
            "(333, 7) (333,)\n"
          ]
        }
      ],
      "source": [
        "X = penguins.drop(['body_mass_g','ID'], axis=1)\n",
        "y = penguins['body_mass_g']\n",
        "\n",
        "print(X.shape, y.shape)"
      ]
    },
    {
      "cell_type": "code",
      "execution_count": null,
      "id": "b07e8f9f-3746-41d3-98a3-e4ebb3d0b6df",
      "metadata": {
        "id": "b07e8f9f-3746-41d3-98a3-e4ebb3d0b6df",
        "outputId": "9b5220f4-cd1e-493a-efd1-761c7c5f8af8"
      },
      "outputs": [
        {
          "name": "stdout",
          "output_type": "stream",
          "text": [
            "(233, 7) (100, 7) (233,) (100,)\n"
          ]
        }
      ],
      "source": [
        "from sklearn.model_selection import train_test_split\n",
        "X_tr, X_te, y_tr, y_te = train_test_split(X, y, random_state=0, test_size=0.3)\n",
        "print(X_tr.shape, X_te.shape, y_tr.shape, y_te.shape)"
      ]
    },
    {
      "cell_type": "code",
      "execution_count": null,
      "id": "72b6ad7a-a4a3-4f3c-ba3a-abff8520cdf8",
      "metadata": {
        "id": "72b6ad7a-a4a3-4f3c-ba3a-abff8520cdf8",
        "outputId": "83358ebc-976f-4bba-f01f-1f6faa19f8c1"
      },
      "outputs": [
        {
          "name": "stderr",
          "output_type": "stream",
          "text": [
            "C:\\Users\\skrtk\\anaconda3\\Lib\\site-packages\\sklearn\\model_selection\\_search.py:318: UserWarning: The total space of parameters 1 is smaller than n_iter=3. Running 1 iterations. For exhaustive searches, use GridSearchCV.\n",
            "  warnings.warn(\n"
          ]
        },
        {
          "name": "stdout",
          "output_type": "stream",
          "text": [
            "Fitting 3 folds for each of 1 candidates, totalling 3 fits\n",
            "280.6877743627826\n"
          ]
        }
      ],
      "source": [
        "from sklearn.preprocessing import RobustScaler\n",
        "from sklearn.compose import ColumnTransformer\n",
        "from sklearn.pipeline import Pipeline\n",
        "from sklearn.linear_model import LinearRegression\n",
        "from sklearn.model_selection import RandomizedSearchCV\n",
        "from sklearn.metrics import mean_squared_error\n",
        "param_grid = {}\n",
        "\n",
        "numbers_df = X.select_dtypes(include=np.number)\n",
        "object_df = X.select_dtypes(exclude=np.number)\n",
        "\n",
        "# ColumnTransformer\n",
        "column_transformer = ColumnTransformer([\n",
        "    ('scaler', RobustScaler(), numbers_df.columns), # scaler\n",
        "    ('ohc_encoder', OneHotEncoder(drop='first'), object_df.columns), # 명목척도 처리\n",
        "], remainder = 'passthrough')\n",
        "\n",
        "pipeline = Pipeline([('preprocessor', column_transformer), ('regressor', LinearRegression())])\n",
        "\n",
        "random_search = RandomizedSearchCV(\n",
        "    estimator = pipeline,\n",
        "    random_state=0,\n",
        "    param_distributions = param_grid,\n",
        "    n_iter=3,\n",
        "    cv = 3,\n",
        "    verbose=3,\n",
        "    n_jobs = -1 # CPU cores를 모두 사용하겠다는 뜻\n",
        ")\n",
        "\n",
        "# 모형학습\n",
        "random_search.fit(X_tr, y_tr)\n",
        "\n",
        "# 예측값 산출\n",
        "predictions = random_search.predict(X_te)\n",
        "\n",
        "# 모형평가\n",
        "mse = mean_squared_error(y_te, predictions)\n",
        "print(mse**(1/2))\n",
        "\n",
        "# from sklearn.metrics import root_mean_squared_error\n",
        "# root_mean_squared_error(y_te, predictions) 되네?"
      ]
    },
    {
      "cell_type": "code",
      "execution_count": null,
      "id": "03b2acad-23d2-4c59-b6c2-544f2cac79ab",
      "metadata": {
        "id": "03b2acad-23d2-4c59-b6c2-544f2cac79ab"
      },
      "outputs": [],
      "source": [
        "# 참고 코드"
      ]
    },
    {
      "cell_type": "code",
      "execution_count": null,
      "id": "f0d40c4a-ee10-44d6-98c2-74558393098d",
      "metadata": {
        "id": "f0d40c4a-ee10-44d6-98c2-74558393098d"
      },
      "outputs": [],
      "source": [
        "import pandas as pd\n",
        "\n",
        "X_train = pd.read_csv(\"data/penguin_reg_X_train.csv\")\n",
        "X_test = pd.read_csv(\"data/penguin_reg_X_test.csv\")\n",
        "y_train = pd.read_csv(\"data/penguin_reg_y_train.csv\")"
      ]
    },
    {
      "cell_type": "code",
      "execution_count": null,
      "id": "50e8adc3-8fbe-469a-9a17-7118eb168ac9",
      "metadata": {
        "id": "50e8adc3-8fbe-469a-9a17-7118eb168ac9",
        "outputId": "b158dbcd-ad74-49fa-f2ee-e3dd11559c44"
      },
      "outputs": [
        {
          "data": {
            "text/plain": [
              "Index(['ID', 'species', 'island', 'bill_length_mm', 'bill_depth_mm',\n",
              "       'flipper_length_mm', 'sex', 'year'],\n",
              "      dtype='object')"
            ]
          },
          "execution_count": 161,
          "metadata": {},
          "output_type": "execute_result"
        }
      ],
      "source": [
        "X_train.columns"
      ]
    },
    {
      "cell_type": "code",
      "execution_count": null,
      "id": "67c5cc94-dd37-4315-8ac4-f99280318d63",
      "metadata": {
        "id": "67c5cc94-dd37-4315-8ac4-f99280318d63",
        "outputId": "d6afffa6-1da4-402c-ca85-7589cdbb767e"
      },
      "outputs": [
        {
          "data": {
            "text/html": [
              "<div>\n",
              "<style scoped>\n",
              "    .dataframe tbody tr th:only-of-type {\n",
              "        vertical-align: middle;\n",
              "    }\n",
              "\n",
              "    .dataframe tbody tr th {\n",
              "        vertical-align: top;\n",
              "    }\n",
              "\n",
              "    .dataframe thead th {\n",
              "        text-align: right;\n",
              "    }\n",
              "</style>\n",
              "<table border=\"1\" class=\"dataframe\">\n",
              "  <thead>\n",
              "    <tr style=\"text-align: right;\">\n",
              "      <th></th>\n",
              "      <th>ID</th>\n",
              "      <th>species</th>\n",
              "      <th>island</th>\n",
              "      <th>bill_length_mm</th>\n",
              "      <th>bill_depth_mm</th>\n",
              "      <th>flipper_length_mm</th>\n",
              "      <th>sex</th>\n",
              "      <th>year</th>\n",
              "    </tr>\n",
              "  </thead>\n",
              "  <tbody>\n",
              "    <tr>\n",
              "      <th>0</th>\n",
              "      <td>28</td>\n",
              "      <td>Adelie</td>\n",
              "      <td>Biscoe</td>\n",
              "      <td>40.5</td>\n",
              "      <td>17.9</td>\n",
              "      <td>187.0</td>\n",
              "      <td>female</td>\n",
              "      <td>2007</td>\n",
              "    </tr>\n",
              "  </tbody>\n",
              "</table>\n",
              "</div>"
            ],
            "text/plain": [
              "   ID species  island  bill_length_mm  bill_depth_mm  flipper_length_mm  \\\n",
              "0  28  Adelie  Biscoe            40.5           17.9              187.0   \n",
              "\n",
              "      sex  year  \n",
              "0  female  2007  "
            ]
          },
          "execution_count": 162,
          "metadata": {},
          "output_type": "execute_result"
        }
      ],
      "source": [
        "X_train.head(1)"
      ]
    },
    {
      "cell_type": "code",
      "execution_count": null,
      "id": "3de66b3a-8ffb-4322-94c5-03e22d69bac3",
      "metadata": {
        "id": "3de66b3a-8ffb-4322-94c5-03e22d69bac3",
        "outputId": "ede12d22-6924-47a3-c77e-5d5b69281088"
      },
      "outputs": [
        {
          "data": {
            "text/html": [
              "<div>\n",
              "<style scoped>\n",
              "    .dataframe tbody tr th:only-of-type {\n",
              "        vertical-align: middle;\n",
              "    }\n",
              "\n",
              "    .dataframe tbody tr th {\n",
              "        vertical-align: top;\n",
              "    }\n",
              "\n",
              "    .dataframe thead th {\n",
              "        text-align: right;\n",
              "    }\n",
              "</style>\n",
              "<table border=\"1\" class=\"dataframe\">\n",
              "  <thead>\n",
              "    <tr style=\"text-align: right;\">\n",
              "      <th></th>\n",
              "      <th>body_mass_g</th>\n",
              "    </tr>\n",
              "  </thead>\n",
              "  <tbody>\n",
              "    <tr>\n",
              "      <th>0</th>\n",
              "      <td>3200.0</td>\n",
              "    </tr>\n",
              "  </tbody>\n",
              "</table>\n",
              "</div>"
            ],
            "text/plain": [
              "   body_mass_g\n",
              "0       3200.0"
            ]
          },
          "execution_count": 163,
          "metadata": {},
          "output_type": "execute_result"
        }
      ],
      "source": [
        "y_train.head(1)"
      ]
    },
    {
      "cell_type": "code",
      "execution_count": null,
      "id": "2b021c4d-208f-495f-aba8-441d6d842cd7",
      "metadata": {
        "id": "2b021c4d-208f-495f-aba8-441d6d842cd7",
        "outputId": "9b23b39d-8de9-4c0e-bda3-58f4440d3624"
      },
      "outputs": [
        {
          "data": {
            "text/html": [
              "<div>\n",
              "<style scoped>\n",
              "    .dataframe tbody tr th:only-of-type {\n",
              "        vertical-align: middle;\n",
              "    }\n",
              "\n",
              "    .dataframe tbody tr th {\n",
              "        vertical-align: top;\n",
              "    }\n",
              "\n",
              "    .dataframe thead th {\n",
              "        text-align: right;\n",
              "    }\n",
              "</style>\n",
              "<table border=\"1\" class=\"dataframe\">\n",
              "  <thead>\n",
              "    <tr style=\"text-align: right;\">\n",
              "      <th></th>\n",
              "      <th>ID</th>\n",
              "      <th>species</th>\n",
              "      <th>island</th>\n",
              "      <th>bill_length_mm</th>\n",
              "      <th>bill_depth_mm</th>\n",
              "      <th>flipper_length_mm</th>\n",
              "      <th>sex</th>\n",
              "      <th>year</th>\n",
              "    </tr>\n",
              "  </thead>\n",
              "  <tbody>\n",
              "    <tr>\n",
              "      <th>0</th>\n",
              "      <td>31</td>\n",
              "      <td>Adelie</td>\n",
              "      <td>Dream</td>\n",
              "      <td>39.5</td>\n",
              "      <td>16.7</td>\n",
              "      <td>178.0</td>\n",
              "      <td>female</td>\n",
              "      <td>2007</td>\n",
              "    </tr>\n",
              "  </tbody>\n",
              "</table>\n",
              "</div>"
            ],
            "text/plain": [
              "   ID species island  bill_length_mm  bill_depth_mm  flipper_length_mm  \\\n",
              "0  31  Adelie  Dream            39.5           16.7              178.0   \n",
              "\n",
              "      sex  year  \n",
              "0  female  2007  "
            ]
          },
          "execution_count": 164,
          "metadata": {},
          "output_type": "execute_result"
        }
      ],
      "source": [
        "X_test.head(1)"
      ]
    },
    {
      "cell_type": "code",
      "execution_count": null,
      "id": "73ac5aec-ba3e-4755-9991-215977a522c2",
      "metadata": {
        "id": "73ac5aec-ba3e-4755-9991-215977a522c2",
        "outputId": "fe06f786-d600-46c1-f8a2-d9a11f0b9fdb"
      },
      "outputs": [
        {
          "data": {
            "text/plain": [
              "0       28\n",
              "1      296\n",
              "2      306\n",
              "3       63\n",
              "4      183\n",
              "      ... \n",
              "228    196\n",
              "229     78\n",
              "230    113\n",
              "231    282\n",
              "232    109\n",
              "Name: ID, Length: 233, dtype: int64"
            ]
          },
          "execution_count": 165,
          "metadata": {},
          "output_type": "execute_result"
        }
      ],
      "source": [
        "X_train_id = X_train.pop('ID')\n",
        "X_test_id = X_test.pop('ID')\n",
        "X_train_id"
      ]
    },
    {
      "cell_type": "code",
      "execution_count": null,
      "id": "298e4e79-bab1-4a4b-9f8b-05637a2628a5",
      "metadata": {
        "id": "298e4e79-bab1-4a4b-9f8b-05637a2628a5",
        "outputId": "adc52e1d-8129-4de4-ad0f-27d26131fb25"
      },
      "outputs": [
        {
          "name": "stdout",
          "output_type": "stream",
          "text": [
            "['species', 'island', 'sex']\n",
            "['bill_length_mm', 'bill_depth_mm', 'flipper_length_mm', 'year']\n"
          ]
        }
      ],
      "source": [
        "# 컬럼 분리\n",
        "import numpy as np\n",
        "cat_cols = X_train.select_dtypes(exclude = np.number).columns.tolist()\n",
        "print(cat_cols)\n",
        "\n",
        "num_cols = X_train.select_dtypes(include = np.number).columns.tolist()\n",
        "print(num_cols)"
      ]
    },
    {
      "cell_type": "code",
      "execution_count": null,
      "id": "5db03ca9-b9cd-4251-966c-42952cdcca8c",
      "metadata": {
        "id": "5db03ca9-b9cd-4251-966c-42952cdcca8c"
      },
      "outputs": [],
      "source": [
        "X_train['year'].value_counts()   # 일단 엄밀히는 숫자형은 아님 & body_mass_g랑...연년이 큰 의미 없을 가능성\n",
        "num_cols.remove('year')\n",
        "# 하지만 위는 추측임!!\n",
        "# 평균의 차이가 있는지 없는지 확인하려면, 분산분석, 시각화하고 난 후 제거할지 말지 결정해야!!!!"
      ]
    },
    {
      "cell_type": "code",
      "execution_count": null,
      "id": "84e3fd35-a159-42a5-8784-552e11ab3cf3",
      "metadata": {
        "id": "84e3fd35-a159-42a5-8784-552e11ab3cf3",
        "outputId": "6ce6bf6a-354a-47cb-926a-710566c9b6a0"
      },
      "outputs": [
        {
          "data": {
            "text/plain": [
              "((163, 7), (70, 7), (163,), (70,))"
            ]
          },
          "execution_count": 168,
          "metadata": {},
          "output_type": "execute_result"
        }
      ],
      "source": [
        "# 데이터셋 분리\n",
        "from sklearn.model_selection import train_test_split\n",
        "\n",
        "X_tr, X_val, y_tr, y_val = train_test_split(X_train, y_train['body_mass_g'], random_state=0, test_size=0.3, stratify=X_train['sex'])\n",
        "# 꼭 stratify에 종속변수만 들어가라는 법은 없음. 독립변수에 대해서도 층화추출 가능(지금은 그게 가능하다는거 보여주기용)\n",
        "\n",
        "X_tr.shape, X_val.shape, y_tr.shape, y_val.shape\n"
      ]
    },
    {
      "cell_type": "code",
      "execution_count": null,
      "id": "df9b4164-81b2-44bf-9668-d4c43e5b00b1",
      "metadata": {
        "id": "df9b4164-81b2-44bf-9668-d4c43e5b00b1",
        "outputId": "26f97d91-690d-4954-cff5-f8f8e0325246"
      },
      "outputs": [
        {
          "data": {
            "text/plain": [
              "'1.4.1.post1'"
            ]
          },
          "execution_count": 179,
          "metadata": {},
          "output_type": "execute_result"
        }
      ],
      "source": [
        "import sklearn\n",
        "sklearn.__version__"
      ]
    },
    {
      "cell_type": "code",
      "execution_count": null,
      "id": "ef4b6b2c-03e4-4f81-a033-9a794d6cb90a",
      "metadata": {
        "id": "ef4b6b2c-03e4-4f81-a033-9a794d6cb90a",
        "outputId": "5e301b89-acb8-4d08-e21d-0f1ae423fb6a"
      },
      "outputs": [
        {
          "name": "stdout",
          "output_type": "stream",
          "text": [
            "[LightGBM] [Info] Auto-choosing col-wise multi-threading, the overhead of testing was 0.000095 seconds.\n",
            "You can set `force_col_wise=true` to remove the overhead.\n",
            "[LightGBM] [Info] Total Bins 147\n",
            "[LightGBM] [Info] Number of data points in the train set: 163, number of used features: 12\n",
            "[LightGBM] [Info] Start training from score 4233.588957\n",
            "[LightGBM] [Warning] No further splits with positive gain, best gain: -inf\n",
            "[LightGBM] [Warning] No further splits with positive gain, best gain: -inf\n",
            "[LightGBM] [Warning] No further splits with positive gain, best gain: -inf\n",
            "[LightGBM] [Warning] No further splits with positive gain, best gain: -inf\n",
            "[LightGBM] [Warning] No further splits with positive gain, best gain: -inf\n",
            "[LightGBM] [Warning] No further splits with positive gain, best gain: -inf\n",
            "[LightGBM] [Warning] No further splits with positive gain, best gain: -inf\n",
            "[LightGBM] [Warning] No further splits with positive gain, best gain: -inf\n",
            "[LightGBM] [Warning] No further splits with positive gain, best gain: -inf\n",
            "[LightGBM] [Warning] No further splits with positive gain, best gain: -inf\n",
            "[LightGBM] [Warning] No further splits with positive gain, best gain: -inf\n",
            "[LightGBM] [Warning] No further splits with positive gain, best gain: -inf\n",
            "[LightGBM] [Warning] No further splits with positive gain, best gain: -inf\n",
            "[LightGBM] [Warning] No further splits with positive gain, best gain: -inf\n",
            "[LightGBM] [Warning] No further splits with positive gain, best gain: -inf\n",
            "[LightGBM] [Warning] No further splits with positive gain, best gain: -inf\n",
            "[LightGBM] [Warning] No further splits with positive gain, best gain: -inf\n",
            "[LightGBM] [Warning] No further splits with positive gain, best gain: -inf\n",
            "[LightGBM] [Warning] No further splits with positive gain, best gain: -inf\n",
            "[LightGBM] [Warning] No further splits with positive gain, best gain: -inf\n",
            "[LightGBM] [Warning] No further splits with positive gain, best gain: -inf\n",
            "[LightGBM] [Warning] No further splits with positive gain, best gain: -inf\n",
            "[LightGBM] [Warning] No further splits with positive gain, best gain: -inf\n",
            "[LightGBM] [Warning] No further splits with positive gain, best gain: -inf\n",
            "[LightGBM] [Warning] No further splits with positive gain, best gain: -inf\n",
            "[LightGBM] [Warning] No further splits with positive gain, best gain: -inf\n",
            "[LightGBM] [Warning] No further splits with positive gain, best gain: -inf\n",
            "[LightGBM] [Warning] No further splits with positive gain, best gain: -inf\n",
            "[LightGBM] [Warning] No further splits with positive gain, best gain: -inf\n",
            "[LightGBM] [Warning] No further splits with positive gain, best gain: -inf\n",
            "[LightGBM] [Warning] No further splits with positive gain, best gain: -inf\n",
            "[LightGBM] [Warning] No further splits with positive gain, best gain: -inf\n",
            "[LightGBM] [Warning] No further splits with positive gain, best gain: -inf\n",
            "[LightGBM] [Warning] No further splits with positive gain, best gain: -inf\n",
            "[LightGBM] [Warning] No further splits with positive gain, best gain: -inf\n",
            "[LightGBM] [Warning] No further splits with positive gain, best gain: -inf\n",
            "[LightGBM] [Warning] No further splits with positive gain, best gain: -inf\n",
            "[LightGBM] [Warning] No further splits with positive gain, best gain: -inf\n",
            "[LightGBM] [Warning] No further splits with positive gain, best gain: -inf\n",
            "[LightGBM] [Warning] No further splits with positive gain, best gain: -inf\n",
            "[LightGBM] [Warning] No further splits with positive gain, best gain: -inf\n",
            "[LightGBM] [Warning] No further splits with positive gain, best gain: -inf\n",
            "[LightGBM] [Warning] No further splits with positive gain, best gain: -inf\n",
            "[LightGBM] [Warning] No further splits with positive gain, best gain: -inf\n",
            "[LightGBM] [Warning] No further splits with positive gain, best gain: -inf\n",
            "[LightGBM] [Warning] No further splits with positive gain, best gain: -inf\n"
          ]
        },
        {
          "data": {
            "text/html": [
              "<style>#sk-container-id-12 {\n",
              "  /* Definition of color scheme common for light and dark mode */\n",
              "  --sklearn-color-text: black;\n",
              "  --sklearn-color-line: gray;\n",
              "  /* Definition of color scheme for unfitted estimators */\n",
              "  --sklearn-color-unfitted-level-0: #fff5e6;\n",
              "  --sklearn-color-unfitted-level-1: #f6e4d2;\n",
              "  --sklearn-color-unfitted-level-2: #ffe0b3;\n",
              "  --sklearn-color-unfitted-level-3: chocolate;\n",
              "  /* Definition of color scheme for fitted estimators */\n",
              "  --sklearn-color-fitted-level-0: #f0f8ff;\n",
              "  --sklearn-color-fitted-level-1: #d4ebff;\n",
              "  --sklearn-color-fitted-level-2: #b3dbfd;\n",
              "  --sklearn-color-fitted-level-3: cornflowerblue;\n",
              "\n",
              "  /* Specific color for light theme */\n",
              "  --sklearn-color-text-on-default-background: var(--sg-text-color, var(--theme-code-foreground, var(--jp-content-font-color1, black)));\n",
              "  --sklearn-color-background: var(--sg-background-color, var(--theme-background, var(--jp-layout-color0, white)));\n",
              "  --sklearn-color-border-box: var(--sg-text-color, var(--theme-code-foreground, var(--jp-content-font-color1, black)));\n",
              "  --sklearn-color-icon: #696969;\n",
              "\n",
              "  @media (prefers-color-scheme: dark) {\n",
              "    /* Redefinition of color scheme for dark theme */\n",
              "    --sklearn-color-text-on-default-background: var(--sg-text-color, var(--theme-code-foreground, var(--jp-content-font-color1, white)));\n",
              "    --sklearn-color-background: var(--sg-background-color, var(--theme-background, var(--jp-layout-color0, #111)));\n",
              "    --sklearn-color-border-box: var(--sg-text-color, var(--theme-code-foreground, var(--jp-content-font-color1, white)));\n",
              "    --sklearn-color-icon: #878787;\n",
              "  }\n",
              "}\n",
              "\n",
              "#sk-container-id-12 {\n",
              "  color: var(--sklearn-color-text);\n",
              "}\n",
              "\n",
              "#sk-container-id-12 pre {\n",
              "  padding: 0;\n",
              "}\n",
              "\n",
              "#sk-container-id-12 input.sk-hidden--visually {\n",
              "  border: 0;\n",
              "  clip: rect(1px 1px 1px 1px);\n",
              "  clip: rect(1px, 1px, 1px, 1px);\n",
              "  height: 1px;\n",
              "  margin: -1px;\n",
              "  overflow: hidden;\n",
              "  padding: 0;\n",
              "  position: absolute;\n",
              "  width: 1px;\n",
              "}\n",
              "\n",
              "#sk-container-id-12 div.sk-dashed-wrapped {\n",
              "  border: 1px dashed var(--sklearn-color-line);\n",
              "  margin: 0 0.4em 0.5em 0.4em;\n",
              "  box-sizing: border-box;\n",
              "  padding-bottom: 0.4em;\n",
              "  background-color: var(--sklearn-color-background);\n",
              "}\n",
              "\n",
              "#sk-container-id-12 div.sk-container {\n",
              "  /* jupyter's `normalize.less` sets `[hidden] { display: none; }`\n",
              "     but bootstrap.min.css set `[hidden] { display: none !important; }`\n",
              "     so we also need the `!important` here to be able to override the\n",
              "     default hidden behavior on the sphinx rendered scikit-learn.org.\n",
              "     See: https://github.com/scikit-learn/scikit-learn/issues/21755 */\n",
              "  display: inline-block !important;\n",
              "  position: relative;\n",
              "}\n",
              "\n",
              "#sk-container-id-12 div.sk-text-repr-fallback {\n",
              "  display: none;\n",
              "}\n",
              "\n",
              "div.sk-parallel-item,\n",
              "div.sk-serial,\n",
              "div.sk-item {\n",
              "  /* draw centered vertical line to link estimators */\n",
              "  background-image: linear-gradient(var(--sklearn-color-text-on-default-background), var(--sklearn-color-text-on-default-background));\n",
              "  background-size: 2px 100%;\n",
              "  background-repeat: no-repeat;\n",
              "  background-position: center center;\n",
              "}\n",
              "\n",
              "/* Parallel-specific style estimator block */\n",
              "\n",
              "#sk-container-id-12 div.sk-parallel-item::after {\n",
              "  content: \"\";\n",
              "  width: 100%;\n",
              "  border-bottom: 2px solid var(--sklearn-color-text-on-default-background);\n",
              "  flex-grow: 1;\n",
              "}\n",
              "\n",
              "#sk-container-id-12 div.sk-parallel {\n",
              "  display: flex;\n",
              "  align-items: stretch;\n",
              "  justify-content: center;\n",
              "  background-color: var(--sklearn-color-background);\n",
              "  position: relative;\n",
              "}\n",
              "\n",
              "#sk-container-id-12 div.sk-parallel-item {\n",
              "  display: flex;\n",
              "  flex-direction: column;\n",
              "}\n",
              "\n",
              "#sk-container-id-12 div.sk-parallel-item:first-child::after {\n",
              "  align-self: flex-end;\n",
              "  width: 50%;\n",
              "}\n",
              "\n",
              "#sk-container-id-12 div.sk-parallel-item:last-child::after {\n",
              "  align-self: flex-start;\n",
              "  width: 50%;\n",
              "}\n",
              "\n",
              "#sk-container-id-12 div.sk-parallel-item:only-child::after {\n",
              "  width: 0;\n",
              "}\n",
              "\n",
              "/* Serial-specific style estimator block */\n",
              "\n",
              "#sk-container-id-12 div.sk-serial {\n",
              "  display: flex;\n",
              "  flex-direction: column;\n",
              "  align-items: center;\n",
              "  background-color: var(--sklearn-color-background);\n",
              "  padding-right: 1em;\n",
              "  padding-left: 1em;\n",
              "}\n",
              "\n",
              "\n",
              "/* Toggleable style: style used for estimator/Pipeline/ColumnTransformer box that is\n",
              "clickable and can be expanded/collapsed.\n",
              "- Pipeline and ColumnTransformer use this feature and define the default style\n",
              "- Estimators will overwrite some part of the style using the `sk-estimator` class\n",
              "*/\n",
              "\n",
              "/* Pipeline and ColumnTransformer style (default) */\n",
              "\n",
              "#sk-container-id-12 div.sk-toggleable {\n",
              "  /* Default theme specific background. It is overwritten whether we have a\n",
              "  specific estimator or a Pipeline/ColumnTransformer */\n",
              "  background-color: var(--sklearn-color-background);\n",
              "}\n",
              "\n",
              "/* Toggleable label */\n",
              "#sk-container-id-12 label.sk-toggleable__label {\n",
              "  cursor: pointer;\n",
              "  display: block;\n",
              "  width: 100%;\n",
              "  margin-bottom: 0;\n",
              "  padding: 0.5em;\n",
              "  box-sizing: border-box;\n",
              "  text-align: center;\n",
              "}\n",
              "\n",
              "#sk-container-id-12 label.sk-toggleable__label-arrow:before {\n",
              "  /* Arrow on the left of the label */\n",
              "  content: \"▸\";\n",
              "  float: left;\n",
              "  margin-right: 0.25em;\n",
              "  color: var(--sklearn-color-icon);\n",
              "}\n",
              "\n",
              "#sk-container-id-12 label.sk-toggleable__label-arrow:hover:before {\n",
              "  color: var(--sklearn-color-text);\n",
              "}\n",
              "\n",
              "/* Toggleable content - dropdown */\n",
              "\n",
              "#sk-container-id-12 div.sk-toggleable__content {\n",
              "  max-height: 0;\n",
              "  max-width: 0;\n",
              "  overflow: hidden;\n",
              "  text-align: left;\n",
              "  /* unfitted */\n",
              "  background-color: var(--sklearn-color-unfitted-level-0);\n",
              "}\n",
              "\n",
              "#sk-container-id-12 div.sk-toggleable__content.fitted {\n",
              "  /* fitted */\n",
              "  background-color: var(--sklearn-color-fitted-level-0);\n",
              "}\n",
              "\n",
              "#sk-container-id-12 div.sk-toggleable__content pre {\n",
              "  margin: 0.2em;\n",
              "  border-radius: 0.25em;\n",
              "  color: var(--sklearn-color-text);\n",
              "  /* unfitted */\n",
              "  background-color: var(--sklearn-color-unfitted-level-0);\n",
              "}\n",
              "\n",
              "#sk-container-id-12 div.sk-toggleable__content.fitted pre {\n",
              "  /* unfitted */\n",
              "  background-color: var(--sklearn-color-fitted-level-0);\n",
              "}\n",
              "\n",
              "#sk-container-id-12 input.sk-toggleable__control:checked~div.sk-toggleable__content {\n",
              "  /* Expand drop-down */\n",
              "  max-height: 200px;\n",
              "  max-width: 100%;\n",
              "  overflow: auto;\n",
              "}\n",
              "\n",
              "#sk-container-id-12 input.sk-toggleable__control:checked~label.sk-toggleable__label-arrow:before {\n",
              "  content: \"▾\";\n",
              "}\n",
              "\n",
              "/* Pipeline/ColumnTransformer-specific style */\n",
              "\n",
              "#sk-container-id-12 div.sk-label input.sk-toggleable__control:checked~label.sk-toggleable__label {\n",
              "  color: var(--sklearn-color-text);\n",
              "  background-color: var(--sklearn-color-unfitted-level-2);\n",
              "}\n",
              "\n",
              "#sk-container-id-12 div.sk-label.fitted input.sk-toggleable__control:checked~label.sk-toggleable__label {\n",
              "  background-color: var(--sklearn-color-fitted-level-2);\n",
              "}\n",
              "\n",
              "/* Estimator-specific style */\n",
              "\n",
              "/* Colorize estimator box */\n",
              "#sk-container-id-12 div.sk-estimator input.sk-toggleable__control:checked~label.sk-toggleable__label {\n",
              "  /* unfitted */\n",
              "  background-color: var(--sklearn-color-unfitted-level-2);\n",
              "}\n",
              "\n",
              "#sk-container-id-12 div.sk-estimator.fitted input.sk-toggleable__control:checked~label.sk-toggleable__label {\n",
              "  /* fitted */\n",
              "  background-color: var(--sklearn-color-fitted-level-2);\n",
              "}\n",
              "\n",
              "#sk-container-id-12 div.sk-label label.sk-toggleable__label,\n",
              "#sk-container-id-12 div.sk-label label {\n",
              "  /* The background is the default theme color */\n",
              "  color: var(--sklearn-color-text-on-default-background);\n",
              "}\n",
              "\n",
              "/* On hover, darken the color of the background */\n",
              "#sk-container-id-12 div.sk-label:hover label.sk-toggleable__label {\n",
              "  color: var(--sklearn-color-text);\n",
              "  background-color: var(--sklearn-color-unfitted-level-2);\n",
              "}\n",
              "\n",
              "/* Label box, darken color on hover, fitted */\n",
              "#sk-container-id-12 div.sk-label.fitted:hover label.sk-toggleable__label.fitted {\n",
              "  color: var(--sklearn-color-text);\n",
              "  background-color: var(--sklearn-color-fitted-level-2);\n",
              "}\n",
              "\n",
              "/* Estimator label */\n",
              "\n",
              "#sk-container-id-12 div.sk-label label {\n",
              "  font-family: monospace;\n",
              "  font-weight: bold;\n",
              "  display: inline-block;\n",
              "  line-height: 1.2em;\n",
              "}\n",
              "\n",
              "#sk-container-id-12 div.sk-label-container {\n",
              "  text-align: center;\n",
              "}\n",
              "\n",
              "/* Estimator-specific */\n",
              "#sk-container-id-12 div.sk-estimator {\n",
              "  font-family: monospace;\n",
              "  border: 1px dotted var(--sklearn-color-border-box);\n",
              "  border-radius: 0.25em;\n",
              "  box-sizing: border-box;\n",
              "  margin-bottom: 0.5em;\n",
              "  /* unfitted */\n",
              "  background-color: var(--sklearn-color-unfitted-level-0);\n",
              "}\n",
              "\n",
              "#sk-container-id-12 div.sk-estimator.fitted {\n",
              "  /* fitted */\n",
              "  background-color: var(--sklearn-color-fitted-level-0);\n",
              "}\n",
              "\n",
              "/* on hover */\n",
              "#sk-container-id-12 div.sk-estimator:hover {\n",
              "  /* unfitted */\n",
              "  background-color: var(--sklearn-color-unfitted-level-2);\n",
              "}\n",
              "\n",
              "#sk-container-id-12 div.sk-estimator.fitted:hover {\n",
              "  /* fitted */\n",
              "  background-color: var(--sklearn-color-fitted-level-2);\n",
              "}\n",
              "\n",
              "/* Specification for estimator info (e.g. \"i\" and \"?\") */\n",
              "\n",
              "/* Common style for \"i\" and \"?\" */\n",
              "\n",
              ".sk-estimator-doc-link,\n",
              "a:link.sk-estimator-doc-link,\n",
              "a:visited.sk-estimator-doc-link {\n",
              "  float: right;\n",
              "  font-size: smaller;\n",
              "  line-height: 1em;\n",
              "  font-family: monospace;\n",
              "  background-color: var(--sklearn-color-background);\n",
              "  border-radius: 1em;\n",
              "  height: 1em;\n",
              "  width: 1em;\n",
              "  text-decoration: none !important;\n",
              "  margin-left: 1ex;\n",
              "  /* unfitted */\n",
              "  border: var(--sklearn-color-unfitted-level-1) 1pt solid;\n",
              "  color: var(--sklearn-color-unfitted-level-1);\n",
              "}\n",
              "\n",
              ".sk-estimator-doc-link.fitted,\n",
              "a:link.sk-estimator-doc-link.fitted,\n",
              "a:visited.sk-estimator-doc-link.fitted {\n",
              "  /* fitted */\n",
              "  border: var(--sklearn-color-fitted-level-1) 1pt solid;\n",
              "  color: var(--sklearn-color-fitted-level-1);\n",
              "}\n",
              "\n",
              "/* On hover */\n",
              "div.sk-estimator:hover .sk-estimator-doc-link:hover,\n",
              ".sk-estimator-doc-link:hover,\n",
              "div.sk-label-container:hover .sk-estimator-doc-link:hover,\n",
              ".sk-estimator-doc-link:hover {\n",
              "  /* unfitted */\n",
              "  background-color: var(--sklearn-color-unfitted-level-3);\n",
              "  color: var(--sklearn-color-background);\n",
              "  text-decoration: none;\n",
              "}\n",
              "\n",
              "div.sk-estimator.fitted:hover .sk-estimator-doc-link.fitted:hover,\n",
              ".sk-estimator-doc-link.fitted:hover,\n",
              "div.sk-label-container:hover .sk-estimator-doc-link.fitted:hover,\n",
              ".sk-estimator-doc-link.fitted:hover {\n",
              "  /* fitted */\n",
              "  background-color: var(--sklearn-color-fitted-level-3);\n",
              "  color: var(--sklearn-color-background);\n",
              "  text-decoration: none;\n",
              "}\n",
              "\n",
              "/* Span, style for the box shown on hovering the info icon */\n",
              ".sk-estimator-doc-link span {\n",
              "  display: none;\n",
              "  z-index: 9999;\n",
              "  position: relative;\n",
              "  font-weight: normal;\n",
              "  right: .2ex;\n",
              "  padding: .5ex;\n",
              "  margin: .5ex;\n",
              "  width: min-content;\n",
              "  min-width: 20ex;\n",
              "  max-width: 50ex;\n",
              "  color: var(--sklearn-color-text);\n",
              "  box-shadow: 2pt 2pt 4pt #999;\n",
              "  /* unfitted */\n",
              "  background: var(--sklearn-color-unfitted-level-0);\n",
              "  border: .5pt solid var(--sklearn-color-unfitted-level-3);\n",
              "}\n",
              "\n",
              ".sk-estimator-doc-link.fitted span {\n",
              "  /* fitted */\n",
              "  background: var(--sklearn-color-fitted-level-0);\n",
              "  border: var(--sklearn-color-fitted-level-3);\n",
              "}\n",
              "\n",
              ".sk-estimator-doc-link:hover span {\n",
              "  display: block;\n",
              "}\n",
              "\n",
              "/* \"?\"-specific style due to the `<a>` HTML tag */\n",
              "\n",
              "#sk-container-id-12 a.estimator_doc_link {\n",
              "  float: right;\n",
              "  font-size: 1rem;\n",
              "  line-height: 1em;\n",
              "  font-family: monospace;\n",
              "  background-color: var(--sklearn-color-background);\n",
              "  border-radius: 1rem;\n",
              "  height: 1rem;\n",
              "  width: 1rem;\n",
              "  text-decoration: none;\n",
              "  /* unfitted */\n",
              "  color: var(--sklearn-color-unfitted-level-1);\n",
              "  border: var(--sklearn-color-unfitted-level-1) 1pt solid;\n",
              "}\n",
              "\n",
              "#sk-container-id-12 a.estimator_doc_link.fitted {\n",
              "  /* fitted */\n",
              "  border: var(--sklearn-color-fitted-level-1) 1pt solid;\n",
              "  color: var(--sklearn-color-fitted-level-1);\n",
              "}\n",
              "\n",
              "/* On hover */\n",
              "#sk-container-id-12 a.estimator_doc_link:hover {\n",
              "  /* unfitted */\n",
              "  background-color: var(--sklearn-color-unfitted-level-3);\n",
              "  color: var(--sklearn-color-background);\n",
              "  text-decoration: none;\n",
              "}\n",
              "\n",
              "#sk-container-id-12 a.estimator_doc_link.fitted:hover {\n",
              "  /* fitted */\n",
              "  background-color: var(--sklearn-color-fitted-level-3);\n",
              "}\n",
              "</style><div id=\"sk-container-id-12\" class=\"sk-top-container\"><div class=\"sk-text-repr-fallback\"><pre>RandomizedSearchCV(cv=5,\n",
              "                   estimator=Pipeline(steps=[(&#x27;preprocessing&#x27;,\n",
              "                                              ColumnTransformer(remainder=&#x27;passthrough&#x27;,\n",
              "                                                                transformers=[(&#x27;scaler&#x27;,\n",
              "                                                                               StandardScaler(),\n",
              "                                                                               [&#x27;bill_length_mm&#x27;,\n",
              "                                                                                &#x27;bill_depth_mm&#x27;,\n",
              "                                                                                &#x27;flipper_length_mm&#x27;]),\n",
              "                                                                              (&#x27;ohd_encoder&#x27;,\n",
              "                                                                               OneHotEncoder(),\n",
              "                                                                               [&#x27;species&#x27;,\n",
              "                                                                                &#x27;island&#x27;,\n",
              "                                                                                &#x27;sex&#x27;])])),\n",
              "                                             (&#x27;clf&#x27;,\n",
              "                                              LGBMRegressor(random_state=42))]),\n",
              "                   n_jobs=-1,\n",
              "                   param_distributions={&#x27;clf__lear...\n",
              "                                        &#x27;clf__min_split_gain&#x27;: array([0. , 0.1, 0.2, 0.3, 0.4, 0.5, 0.6, 0.7, 0.8, 0.9, 1. ]),\n",
              "                                        &#x27;clf__n_estimators&#x27;: array([30, 31, 32, 33, 34, 35, 36, 37, 38, 39, 40, 41, 42, 43, 44, 45, 46,\n",
              "       47, 48, 49]),\n",
              "                                        &#x27;clf__num_leaves&#x27;: array([30, 31, 32, 33, 34, 35, 36, 37, 38, 39, 40, 41, 42, 43, 44, 45, 46,\n",
              "       47, 48, 49]),\n",
              "                                        &#x27;clf__subsample&#x27;: array([0.6, 0.7, 0.8, 0.9])},\n",
              "                   scoring=make_scorer(rmse, greater_is_better=False, response_method=&#x27;predict&#x27;))</pre><b>In a Jupyter environment, please rerun this cell to show the HTML representation or trust the notebook. <br />On GitHub, the HTML representation is unable to render, please try loading this page with nbviewer.org.</b></div><div class=\"sk-container\" hidden><div class=\"sk-item sk-dashed-wrapped\"><div class=\"sk-label-container\"><div class=\"sk-label fitted sk-toggleable\"><input class=\"sk-toggleable__control sk-hidden--visually\" id=\"sk-estimator-id-111\" type=\"checkbox\" ><label for=\"sk-estimator-id-111\" class=\"sk-toggleable__label fitted sk-toggleable__label-arrow fitted\">&nbsp;&nbsp;RandomizedSearchCV<a class=\"sk-estimator-doc-link fitted\" rel=\"noreferrer\" target=\"_blank\" href=\"https://scikit-learn.org/1.4/modules/generated/sklearn.model_selection.RandomizedSearchCV.html\">?<span>Documentation for RandomizedSearchCV</span></a><span class=\"sk-estimator-doc-link fitted\">i<span>Fitted</span></span></label><div class=\"sk-toggleable__content fitted\"><pre>RandomizedSearchCV(cv=5,\n",
              "                   estimator=Pipeline(steps=[(&#x27;preprocessing&#x27;,\n",
              "                                              ColumnTransformer(remainder=&#x27;passthrough&#x27;,\n",
              "                                                                transformers=[(&#x27;scaler&#x27;,\n",
              "                                                                               StandardScaler(),\n",
              "                                                                               [&#x27;bill_length_mm&#x27;,\n",
              "                                                                                &#x27;bill_depth_mm&#x27;,\n",
              "                                                                                &#x27;flipper_length_mm&#x27;]),\n",
              "                                                                              (&#x27;ohd_encoder&#x27;,\n",
              "                                                                               OneHotEncoder(),\n",
              "                                                                               [&#x27;species&#x27;,\n",
              "                                                                                &#x27;island&#x27;,\n",
              "                                                                                &#x27;sex&#x27;])])),\n",
              "                                             (&#x27;clf&#x27;,\n",
              "                                              LGBMRegressor(random_state=42))]),\n",
              "                   n_jobs=-1,\n",
              "                   param_distributions={&#x27;clf__lear...\n",
              "                                        &#x27;clf__min_split_gain&#x27;: array([0. , 0.1, 0.2, 0.3, 0.4, 0.5, 0.6, 0.7, 0.8, 0.9, 1. ]),\n",
              "                                        &#x27;clf__n_estimators&#x27;: array([30, 31, 32, 33, 34, 35, 36, 37, 38, 39, 40, 41, 42, 43, 44, 45, 46,\n",
              "       47, 48, 49]),\n",
              "                                        &#x27;clf__num_leaves&#x27;: array([30, 31, 32, 33, 34, 35, 36, 37, 38, 39, 40, 41, 42, 43, 44, 45, 46,\n",
              "       47, 48, 49]),\n",
              "                                        &#x27;clf__subsample&#x27;: array([0.6, 0.7, 0.8, 0.9])},\n",
              "                   scoring=make_scorer(rmse, greater_is_better=False, response_method=&#x27;predict&#x27;))</pre></div> </div></div><div class=\"sk-parallel\"><div class=\"sk-parallel-item\"><div class=\"sk-item\"><div class=\"sk-label-container\"><div class=\"sk-label fitted sk-toggleable\"><input class=\"sk-toggleable__control sk-hidden--visually\" id=\"sk-estimator-id-112\" type=\"checkbox\" ><label for=\"sk-estimator-id-112\" class=\"sk-toggleable__label fitted sk-toggleable__label-arrow fitted\">estimator: Pipeline</label><div class=\"sk-toggleable__content fitted\"><pre>Pipeline(steps=[(&#x27;preprocessing&#x27;,\n",
              "                 ColumnTransformer(remainder=&#x27;passthrough&#x27;,\n",
              "                                   transformers=[(&#x27;scaler&#x27;, StandardScaler(),\n",
              "                                                  [&#x27;bill_length_mm&#x27;,\n",
              "                                                   &#x27;bill_depth_mm&#x27;,\n",
              "                                                   &#x27;flipper_length_mm&#x27;]),\n",
              "                                                 (&#x27;ohd_encoder&#x27;,\n",
              "                                                  OneHotEncoder(),\n",
              "                                                  [&#x27;species&#x27;, &#x27;island&#x27;,\n",
              "                                                   &#x27;sex&#x27;])])),\n",
              "                (&#x27;clf&#x27;, LGBMRegressor(random_state=42))])</pre></div> </div></div><div class=\"sk-serial\"><div class=\"sk-item\"><div class=\"sk-serial\"><div class=\"sk-item sk-dashed-wrapped\"><div class=\"sk-label-container\"><div class=\"sk-label fitted sk-toggleable\"><input class=\"sk-toggleable__control sk-hidden--visually\" id=\"sk-estimator-id-113\" type=\"checkbox\" ><label for=\"sk-estimator-id-113\" class=\"sk-toggleable__label fitted sk-toggleable__label-arrow fitted\">&nbsp;preprocessing: ColumnTransformer<a class=\"sk-estimator-doc-link fitted\" rel=\"noreferrer\" target=\"_blank\" href=\"https://scikit-learn.org/1.4/modules/generated/sklearn.compose.ColumnTransformer.html\">?<span>Documentation for preprocessing: ColumnTransformer</span></a></label><div class=\"sk-toggleable__content fitted\"><pre>ColumnTransformer(remainder=&#x27;passthrough&#x27;,\n",
              "                  transformers=[(&#x27;scaler&#x27;, StandardScaler(),\n",
              "                                 [&#x27;bill_length_mm&#x27;, &#x27;bill_depth_mm&#x27;,\n",
              "                                  &#x27;flipper_length_mm&#x27;]),\n",
              "                                (&#x27;ohd_encoder&#x27;, OneHotEncoder(),\n",
              "                                 [&#x27;species&#x27;, &#x27;island&#x27;, &#x27;sex&#x27;])])</pre></div> </div></div><div class=\"sk-parallel\"><div class=\"sk-parallel-item\"><div class=\"sk-item\"><div class=\"sk-label-container\"><div class=\"sk-label fitted sk-toggleable\"><input class=\"sk-toggleable__control sk-hidden--visually\" id=\"sk-estimator-id-114\" type=\"checkbox\" ><label for=\"sk-estimator-id-114\" class=\"sk-toggleable__label fitted sk-toggleable__label-arrow fitted\">scaler</label><div class=\"sk-toggleable__content fitted\"><pre>[&#x27;bill_length_mm&#x27;, &#x27;bill_depth_mm&#x27;, &#x27;flipper_length_mm&#x27;]</pre></div> </div></div><div class=\"sk-serial\"><div class=\"sk-item\"><div class=\"sk-estimator fitted sk-toggleable\"><input class=\"sk-toggleable__control sk-hidden--visually\" id=\"sk-estimator-id-115\" type=\"checkbox\" ><label for=\"sk-estimator-id-115\" class=\"sk-toggleable__label fitted sk-toggleable__label-arrow fitted\">&nbsp;StandardScaler<a class=\"sk-estimator-doc-link fitted\" rel=\"noreferrer\" target=\"_blank\" href=\"https://scikit-learn.org/1.4/modules/generated/sklearn.preprocessing.StandardScaler.html\">?<span>Documentation for StandardScaler</span></a></label><div class=\"sk-toggleable__content fitted\"><pre>StandardScaler()</pre></div> </div></div></div></div></div><div class=\"sk-parallel-item\"><div class=\"sk-item\"><div class=\"sk-label-container\"><div class=\"sk-label fitted sk-toggleable\"><input class=\"sk-toggleable__control sk-hidden--visually\" id=\"sk-estimator-id-116\" type=\"checkbox\" ><label for=\"sk-estimator-id-116\" class=\"sk-toggleable__label fitted sk-toggleable__label-arrow fitted\">ohd_encoder</label><div class=\"sk-toggleable__content fitted\"><pre>[&#x27;species&#x27;, &#x27;island&#x27;, &#x27;sex&#x27;]</pre></div> </div></div><div class=\"sk-serial\"><div class=\"sk-item\"><div class=\"sk-estimator fitted sk-toggleable\"><input class=\"sk-toggleable__control sk-hidden--visually\" id=\"sk-estimator-id-117\" type=\"checkbox\" ><label for=\"sk-estimator-id-117\" class=\"sk-toggleable__label fitted sk-toggleable__label-arrow fitted\">&nbsp;OneHotEncoder<a class=\"sk-estimator-doc-link fitted\" rel=\"noreferrer\" target=\"_blank\" href=\"https://scikit-learn.org/1.4/modules/generated/sklearn.preprocessing.OneHotEncoder.html\">?<span>Documentation for OneHotEncoder</span></a></label><div class=\"sk-toggleable__content fitted\"><pre>OneHotEncoder()</pre></div> </div></div></div></div></div><div class=\"sk-parallel-item\"><div class=\"sk-item\"><div class=\"sk-label-container\"><div class=\"sk-label fitted sk-toggleable\"><input class=\"sk-toggleable__control sk-hidden--visually\" id=\"sk-estimator-id-118\" type=\"checkbox\" ><label for=\"sk-estimator-id-118\" class=\"sk-toggleable__label fitted sk-toggleable__label-arrow fitted\">remainder</label><div class=\"sk-toggleable__content fitted\"><pre></pre></div> </div></div><div class=\"sk-serial\"><div class=\"sk-item\"><div class=\"sk-estimator fitted sk-toggleable\"><input class=\"sk-toggleable__control sk-hidden--visually\" id=\"sk-estimator-id-119\" type=\"checkbox\" ><label for=\"sk-estimator-id-119\" class=\"sk-toggleable__label fitted sk-toggleable__label-arrow fitted\">passthrough</label><div class=\"sk-toggleable__content fitted\"><pre>passthrough</pre></div> </div></div></div></div></div></div></div><div class=\"sk-item\"><div class=\"sk-estimator fitted sk-toggleable\"><input class=\"sk-toggleable__control sk-hidden--visually\" id=\"sk-estimator-id-120\" type=\"checkbox\" ><label for=\"sk-estimator-id-120\" class=\"sk-toggleable__label fitted sk-toggleable__label-arrow fitted\">LGBMRegressor</label><div class=\"sk-toggleable__content fitted\"><pre>LGBMRegressor(random_state=42)</pre></div> </div></div></div></div></div></div></div></div></div></div></div>"
            ],
            "text/plain": [
              "RandomizedSearchCV(cv=5,\n",
              "                   estimator=Pipeline(steps=[('preprocessing',\n",
              "                                              ColumnTransformer(remainder='passthrough',\n",
              "                                                                transformers=[('scaler',\n",
              "                                                                               StandardScaler(),\n",
              "                                                                               ['bill_length_mm',\n",
              "                                                                                'bill_depth_mm',\n",
              "                                                                                'flipper_length_mm']),\n",
              "                                                                              ('ohd_encoder',\n",
              "                                                                               OneHotEncoder(),\n",
              "                                                                               ['species',\n",
              "                                                                                'island',\n",
              "                                                                                'sex'])])),\n",
              "                                             ('clf',\n",
              "                                              LGBMRegressor(random_state=42))]),\n",
              "                   n_jobs=-1,\n",
              "                   param_distributions={'clf__lear...\n",
              "                                        'clf__min_split_gain': array([0. , 0.1, 0.2, 0.3, 0.4, 0.5, 0.6, 0.7, 0.8, 0.9, 1. ]),\n",
              "                                        'clf__n_estimators': array([30, 31, 32, 33, 34, 35, 36, 37, 38, 39, 40, 41, 42, 43, 44, 45, 46,\n",
              "       47, 48, 49]),\n",
              "                                        'clf__num_leaves': array([30, 31, 32, 33, 34, 35, 36, 37, 38, 39, 40, 41, 42, 43, 44, 45, 46,\n",
              "       47, 48, 49]),\n",
              "                                        'clf__subsample': array([0.6, 0.7, 0.8, 0.9])},\n",
              "                   scoring=make_scorer(rmse, greater_is_better=False, response_method='predict'))"
            ]
          },
          "execution_count": 177,
          "metadata": {},
          "output_type": "execute_result"
        }
      ],
      "source": [
        "from sklearn.preprocessing import StandardScaler, OneHotEncoder\n",
        "from sklearn.compose import ColumnTransformer\n",
        "from sklearn.pipeline import Pipeline\n",
        "# from sklearn.utils.fixes import loguniform\n",
        "from scipy.stats import loguniform\n",
        "from sklearn.metrics import make_scorer, mean_squared_error  # make_scorer: 사용자 정의함수로 평가지표 만들 때\n",
        "from lightgbm import LGBMRegressor\n",
        "from sklearn.model_selection import RandomizedSearchCV\n",
        "\n",
        "import numpy as np\n",
        "\n",
        "# 최신버전에서는 root_mean_squared_error 제공, 돌아가면 아래 scoring에 ‘neg_root_mean_squared_error’\n",
        "def rmse(y_tr, y_val):\n",
        "    return np.sqrt(mean_squared_error(y_tr, y_val))\n",
        "\n",
        "param_grid = {\n",
        "    \"clf__learning_rate\": loguniform(0.0001, 0.1),\n",
        "    \"clf__n_estimators\" : np.arange(30, 50),\n",
        "    \"clf__max_depth\" : np.arange(3, 30, 2),\n",
        "    \"clf__num_leaves\" : np.arange(30, 50),\n",
        "    \"clf__min_split_gain\" : np.arange(0, 1.1, 0.1),\n",
        "    \"clf__subsample\" : np.arange(0.6, 1.0, 0.1)\n",
        "}\n",
        "\n",
        "column_transformer = ColumnTransformer([\n",
        "    (\"scaler\", StandardScaler(), num_cols),\n",
        "    (\"ohd_encoder\", OneHotEncoder(), cat_cols)\n",
        "], remainder=\"passthrough\")\n",
        "\n",
        "pipeline = Pipeline([\n",
        "    (\"preprocessing\", column_transformer),\n",
        "    (\"clf\", LGBMRegressor(random_state=42))\n",
        "])\n",
        "\n",
        "random_search = RandomizedSearchCV(\n",
        "    estimator=pipeline,\n",
        "    param_distributions = param_grid,\n",
        "    n_iter = 10,\n",
        "    # scoring = 'neg_root_mean_squared_error',   # 이것도 됨\n",
        "    scoring = make_scorer(rmse, greater_is_better=False), # 값이 크면 좋을 때=True\n",
        "    cv=5,\n",
        "    verbose=0,\n",
        "    n_jobs=-1\n",
        ")\n",
        "\n",
        "random_search.fit(X_tr, y_tr)"
      ]
    },
    {
      "cell_type": "code",
      "execution_count": null,
      "id": "e5e12cac-a99e-477c-a088-aee2af13a69b",
      "metadata": {
        "id": "e5e12cac-a99e-477c-a088-aee2af13a69b",
        "outputId": "0cdc4151-a06a-4472-ae99-b836d00b0da9"
      },
      "outputs": [
        {
          "name": "stdout",
          "output_type": "stream",
          "text": [
            "[LightGBM] [Warning] Accuracy may be bad since you didn't explicitly set num_leaves OR 2^max_depth > num_leaves. (num_leaves=31).\n",
            "[LightGBM] [Warning] Accuracy may be bad since you didn't explicitly set num_leaves OR 2^max_depth > num_leaves. (num_leaves=31).\n"
          ]
        },
        {
          "data": {
            "text/plain": [
              "'train: 261.7059311375545, validation: 320.43628462943803'"
            ]
          },
          "execution_count": 170,
          "metadata": {},
          "output_type": "execute_result"
        }
      ],
      "source": [
        "# 평가 확인\n",
        "def get_score(model, X_tre, X_val, y_tr, y_val):\n",
        "    tr_pred = model.predict(X_tr)\n",
        "    val_pred = model.predict(X_val)\n",
        "    tr_score = rmse(y_tr, tr_pred)\n",
        "    val_score = rmse(y_val, val_pred)\n",
        "    return f'train: {tr_score}, validation: {val_score}'\n",
        "\n",
        "get_score(random_search, X_tr, X_val, y_tr, y_val)"
      ]
    },
    {
      "cell_type": "markdown",
      "id": "4c755140-a548-4675-99fb-27e720080a93",
      "metadata": {
        "id": "4c755140-a548-4675-99fb-27e720080a93"
      },
      "source": [
        "# SMOTE\n",
        "- 데이터셋의 불균형 해결\n",
        "- 주의! 반드시 학습 데이터셋만 오버샘플링-> Data Leakage개념과 연관(올바른 검증/테스트가 될 수 없음)"
      ]
    },
    {
      "cell_type": "markdown",
      "id": "9b180fe9-4238-4c1b-bd55-1540dd3057bc",
      "metadata": {
        "id": "9b180fe9-4238-4c1b-bd55-1540dd3057bc"
      },
      "source": [
        "# 스태킹 앙상블"
      ]
    },
    {
      "cell_type": "code",
      "execution_count": null,
      "id": "b4a4a230-e5de-493a-8d4b-8e8d9bd125f0",
      "metadata": {
        "id": "b4a4a230-e5de-493a-8d4b-8e8d9bd125f0",
        "outputId": "fd5a4d4e-a4cf-467b-9493-4ea731af160d"
      },
      "outputs": [
        {
          "name": "stdout",
          "output_type": "stream",
          "text": [
            "Mean Squared Error: 1.176284301891892\n"
          ]
        }
      ],
      "source": [
        "import numpy as np\n",
        "import pandas as pd\n",
        "import seaborn as sns\n",
        "from sklearn.model_selection import train_test_split\n",
        "from sklearn.preprocessing import StandardScaler, OneHotEncoder\n",
        "from sklearn.compose import ColumnTransformer\n",
        "from sklearn.pipeline import Pipeline\n",
        "from sklearn.ensemble import RandomForestRegressor\n",
        "from sklearn.svm import SVR\n",
        "from sklearn.ensemble import StackingRegressor\n",
        "from sklearn.metrics import mean_squared_error\n",
        "\n",
        "tips_df = sns.load_dataset('tips')\n",
        "\n",
        "X = tips_df.drop(columns=['tip'])\n",
        "y = tips_df['tip']\n",
        "\n",
        "X_train, X_test, y_train, y_test = train_test_split(X, y, test_size=0.3, random_state=42)\n",
        "\n",
        "numeric_features = ['total_bill', 'size']\n",
        "numeric_transformer = Pipeline(steps=[\n",
        "    ('scaler', StandardScaler())\n",
        "])\n",
        "\n",
        "categorical_features = ['sex', 'smoker', 'day', 'time']\n",
        "categorical_transformer = Pipeline(steps=[\n",
        "    ('onehot', OneHotEncoder())\n",
        "])\n",
        "\n",
        "preprocessor = ColumnTransformer(\n",
        "    transformers=[\n",
        "        ('num', numeric_transformer, numeric_features),\n",
        "        ('cat', categorical_transformer, categorical_features)\n",
        "    ])\n",
        "\n",
        "base_regressors = [\n",
        "    ('rf', RandomForestRegressor(n_estimators=100, random_state=42)),\n",
        "    ('svm', SVR(kernel='rbf'))\n",
        "]\n",
        "\n",
        "stacking_regressor = StackingRegressor(estimators=base_regressors, final_estimator=RandomForestRegressor())\n",
        "\n",
        "pipeline = Pipeline(steps=[('preprocessor', preprocessor),\n",
        "                           ('stacking_regressor', stacking_regressor)])\n",
        "\n",
        "pipeline.fit(X_train, y_train)\n",
        "\n",
        "y_pred = pipeline.predict(X_test)\n",
        "\n",
        "mse = mean_squared_error(y_test, y_pred)\n",
        "print(\"Mean Squared Error:\", mse)"
      ]
    }
  ],
  "metadata": {
    "kernelspec": {
      "display_name": "Python 3 (ipykernel)",
      "language": "python",
      "name": "python3"
    },
    "language_info": {
      "codemirror_mode": {
        "name": "ipython",
        "version": 3
      },
      "file_extension": ".py",
      "mimetype": "text/x-python",
      "name": "python",
      "nbconvert_exporter": "python",
      "pygments_lexer": "ipython3",
      "version": "3.11.4"
    },
    "colab": {
      "provenance": [],
      "include_colab_link": true
    }
  },
  "nbformat": 4,
  "nbformat_minor": 5
}