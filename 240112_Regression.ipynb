{
  "cells": [
    {
      "cell_type": "markdown",
      "metadata": {
        "id": "view-in-github",
        "colab_type": "text"
      },
      "source": [
        "<a href=\"https://colab.research.google.com/github/yellayujin/mulcamp34/blob/main/240112_Regression.ipynb\" target=\"_parent\"><img src=\"https://colab.research.google.com/assets/colab-badge.svg\" alt=\"Open In Colab\"/></a>"
      ]
    },
    {
      "cell_type": "markdown",
      "id": "4dc53f86-f724-4942-bd81-224f6b23d6c1",
      "metadata": {
        "id": "4dc53f86-f724-4942-bd81-224f6b23d6c1"
      },
      "source": [
        "# 회귀분석"
      ]
    },
    {
      "cell_type": "code",
      "execution_count": null,
      "id": "9969eaef-5f55-4b8c-9004-fe7c667e0259",
      "metadata": {
        "tags": [],
        "id": "9969eaef-5f55-4b8c-9004-fe7c667e0259",
        "outputId": "6cf234be-2294-4d38-c8d0-f4e60377cebe"
      },
      "outputs": [
        {
          "data": {
            "text/plain": [
              "'0.14.0'"
            ]
          },
          "execution_count": 3,
          "metadata": {},
          "output_type": "execute_result"
        }
      ],
      "source": [
        "import numpy as np\n",
        "import matplotlib.pyplot as plt\n",
        "import statsmodels\n",
        "import statsmodels.formula.api as smf\n",
        "\n",
        "\n",
        "statsmodels.__version__"
      ]
    },
    {
      "cell_type": "code",
      "execution_count": null,
      "id": "d97a7c91-2bc4-4131-83bf-e21690a3e1b3",
      "metadata": {
        "tags": [],
        "id": "d97a7c91-2bc4-4131-83bf-e21690a3e1b3",
        "outputId": "247bea7a-891e-4ce2-abeb-5e0d2303af2f"
      },
      "outputs": [
        {
          "data": {
            "text/html": [
              "<div>\n",
              "<style scoped>\n",
              "    .dataframe tbody tr th:only-of-type {\n",
              "        vertical-align: middle;\n",
              "    }\n",
              "\n",
              "    .dataframe tbody tr th {\n",
              "        vertical-align: top;\n",
              "    }\n",
              "\n",
              "    .dataframe thead th {\n",
              "        text-align: right;\n",
              "    }\n",
              "</style>\n",
              "<table border=\"1\" class=\"dataframe\">\n",
              "  <thead>\n",
              "    <tr style=\"text-align: right;\">\n",
              "      <th></th>\n",
              "      <th>sepal_length</th>\n",
              "      <th>sepal_width</th>\n",
              "      <th>petal_length</th>\n",
              "      <th>petal_width</th>\n",
              "      <th>species</th>\n",
              "    </tr>\n",
              "  </thead>\n",
              "  <tbody>\n",
              "    <tr>\n",
              "      <th>0</th>\n",
              "      <td>5.1</td>\n",
              "      <td>3.5</td>\n",
              "      <td>1.4</td>\n",
              "      <td>0.2</td>\n",
              "      <td>setosa</td>\n",
              "    </tr>\n",
              "    <tr>\n",
              "      <th>1</th>\n",
              "      <td>4.9</td>\n",
              "      <td>3.0</td>\n",
              "      <td>1.4</td>\n",
              "      <td>0.2</td>\n",
              "      <td>setosa</td>\n",
              "    </tr>\n",
              "    <tr>\n",
              "      <th>2</th>\n",
              "      <td>4.7</td>\n",
              "      <td>3.2</td>\n",
              "      <td>1.3</td>\n",
              "      <td>0.2</td>\n",
              "      <td>setosa</td>\n",
              "    </tr>\n",
              "    <tr>\n",
              "      <th>3</th>\n",
              "      <td>4.6</td>\n",
              "      <td>3.1</td>\n",
              "      <td>1.5</td>\n",
              "      <td>0.2</td>\n",
              "      <td>setosa</td>\n",
              "    </tr>\n",
              "    <tr>\n",
              "      <th>4</th>\n",
              "      <td>5.0</td>\n",
              "      <td>3.6</td>\n",
              "      <td>1.4</td>\n",
              "      <td>0.2</td>\n",
              "      <td>setosa</td>\n",
              "    </tr>\n",
              "  </tbody>\n",
              "</table>\n",
              "</div>"
            ],
            "text/plain": [
              "   sepal_length  sepal_width  petal_length  petal_width species\n",
              "0           5.1          3.5           1.4          0.2  setosa\n",
              "1           4.9          3.0           1.4          0.2  setosa\n",
              "2           4.7          3.2           1.3          0.2  setosa\n",
              "3           4.6          3.1           1.5          0.2  setosa\n",
              "4           5.0          3.6           1.4          0.2  setosa"
            ]
          },
          "execution_count": 5,
          "metadata": {},
          "output_type": "execute_result"
        }
      ],
      "source": [
        "import seaborn as sns\n",
        "iris = sns.load_dataset('iris')\n",
        "iris.head()"
      ]
    },
    {
      "cell_type": "code",
      "execution_count": null,
      "id": "55b3d962-8e4e-4414-a131-34d7ed9da9fa",
      "metadata": {
        "tags": [],
        "id": "55b3d962-8e4e-4414-a131-34d7ed9da9fa",
        "outputId": "0e85330f-0704-4bac-aacc-b508d4e9495f"
      },
      "outputs": [
        {
          "data": {
            "text/html": [
              "<table class=\"simpletable\">\n",
              "<caption>OLS Regression Results</caption>\n",
              "<tr>\n",
              "  <th>Dep. Variable:</th>      <td>sepal_length</td>   <th>  R-squared:         </th> <td>   0.014</td>\n",
              "</tr>\n",
              "<tr>\n",
              "  <th>Model:</th>                   <td>OLS</td>       <th>  Adj. R-squared:    </th> <td>   0.007</td>\n",
              "</tr>\n",
              "<tr>\n",
              "  <th>Method:</th>             <td>Least Squares</td>  <th>  F-statistic:       </th> <td>   2.074</td>\n",
              "</tr>\n",
              "<tr>\n",
              "  <th>Date:</th>             <td>Fri, 12 Jan 2024</td> <th>  Prob (F-statistic):</th>  <td> 0.152</td> \n",
              "</tr>\n",
              "<tr>\n",
              "  <th>Time:</th>                 <td>15:10:09</td>     <th>  Log-Likelihood:    </th> <td> -183.00</td>\n",
              "</tr>\n",
              "<tr>\n",
              "  <th>No. Observations:</th>      <td>   150</td>      <th>  AIC:               </th> <td>   370.0</td>\n",
              "</tr>\n",
              "<tr>\n",
              "  <th>Df Residuals:</th>          <td>   148</td>      <th>  BIC:               </th> <td>   376.0</td>\n",
              "</tr>\n",
              "<tr>\n",
              "  <th>Df Model:</th>              <td>     1</td>      <th>                     </th>     <td> </td>   \n",
              "</tr>\n",
              "<tr>\n",
              "  <th>Covariance Type:</th>      <td>nonrobust</td>    <th>                     </th>     <td> </td>   \n",
              "</tr>\n",
              "</table>\n",
              "<table class=\"simpletable\">\n",
              "<tr>\n",
              "       <td></td>          <th>coef</th>     <th>std err</th>      <th>t</th>      <th>P>|t|</th>  <th>[0.025</th>    <th>0.975]</th>  \n",
              "</tr>\n",
              "<tr>\n",
              "  <th>Intercept</th>   <td>    6.5262</td> <td>    0.479</td> <td>   13.628</td> <td> 0.000</td> <td>    5.580</td> <td>    7.473</td>\n",
              "</tr>\n",
              "<tr>\n",
              "  <th>sepal_width</th> <td>   -0.2234</td> <td>    0.155</td> <td>   -1.440</td> <td> 0.152</td> <td>   -0.530</td> <td>    0.083</td>\n",
              "</tr>\n",
              "</table>\n",
              "<table class=\"simpletable\">\n",
              "<tr>\n",
              "  <th>Omnibus:</th>       <td> 4.389</td> <th>  Durbin-Watson:     </th> <td>   0.952</td>\n",
              "</tr>\n",
              "<tr>\n",
              "  <th>Prob(Omnibus):</th> <td> 0.111</td> <th>  Jarque-Bera (JB):  </th> <td>   4.237</td>\n",
              "</tr>\n",
              "<tr>\n",
              "  <th>Skew:</th>          <td> 0.360</td> <th>  Prob(JB):          </th> <td>   0.120</td>\n",
              "</tr>\n",
              "<tr>\n",
              "  <th>Kurtosis:</th>      <td> 2.600</td> <th>  Cond. No.          </th> <td>    24.2</td>\n",
              "</tr>\n",
              "</table><br/><br/>Notes:<br/>[1] Standard Errors assume that the covariance matrix of the errors is correctly specified."
            ],
            "text/latex": [
              "\\begin{center}\n",
              "\\begin{tabular}{lclc}\n",
              "\\toprule\n",
              "\\textbf{Dep. Variable:}    &  sepal\\_length   & \\textbf{  R-squared:         } &     0.014   \\\\\n",
              "\\textbf{Model:}            &       OLS        & \\textbf{  Adj. R-squared:    } &     0.007   \\\\\n",
              "\\textbf{Method:}           &  Least Squares   & \\textbf{  F-statistic:       } &     2.074   \\\\\n",
              "\\textbf{Date:}             & Fri, 12 Jan 2024 & \\textbf{  Prob (F-statistic):} &    0.152    \\\\\n",
              "\\textbf{Time:}             &     15:10:09     & \\textbf{  Log-Likelihood:    } &   -183.00   \\\\\n",
              "\\textbf{No. Observations:} &         150      & \\textbf{  AIC:               } &     370.0   \\\\\n",
              "\\textbf{Df Residuals:}     &         148      & \\textbf{  BIC:               } &     376.0   \\\\\n",
              "\\textbf{Df Model:}         &           1      & \\textbf{                     } &             \\\\\n",
              "\\textbf{Covariance Type:}  &    nonrobust     & \\textbf{                     } &             \\\\\n",
              "\\bottomrule\n",
              "\\end{tabular}\n",
              "\\begin{tabular}{lcccccc}\n",
              "                      & \\textbf{coef} & \\textbf{std err} & \\textbf{t} & \\textbf{P$> |$t$|$} & \\textbf{[0.025} & \\textbf{0.975]}  \\\\\n",
              "\\midrule\n",
              "\\textbf{Intercept}    &       6.5262  &        0.479     &    13.628  &         0.000        &        5.580    &        7.473     \\\\\n",
              "\\textbf{sepal\\_width} &      -0.2234  &        0.155     &    -1.440  &         0.152        &       -0.530    &        0.083     \\\\\n",
              "\\bottomrule\n",
              "\\end{tabular}\n",
              "\\begin{tabular}{lclc}\n",
              "\\textbf{Omnibus:}       &  4.389 & \\textbf{  Durbin-Watson:     } &    0.952  \\\\\n",
              "\\textbf{Prob(Omnibus):} &  0.111 & \\textbf{  Jarque-Bera (JB):  } &    4.237  \\\\\n",
              "\\textbf{Skew:}          &  0.360 & \\textbf{  Prob(JB):          } &    0.120  \\\\\n",
              "\\textbf{Kurtosis:}      &  2.600 & \\textbf{  Cond. No.          } &     24.2  \\\\\n",
              "\\bottomrule\n",
              "\\end{tabular}\n",
              "%\\caption{OLS Regression Results}\n",
              "\\end{center}\n",
              "\n",
              "Notes: \\newline\n",
              " [1] Standard Errors assume that the covariance matrix of the errors is correctly specified."
            ],
            "text/plain": [
              "<class 'statsmodels.iolib.summary.Summary'>\n",
              "\"\"\"\n",
              "                            OLS Regression Results                            \n",
              "==============================================================================\n",
              "Dep. Variable:           sepal_length   R-squared:                       0.014\n",
              "Model:                            OLS   Adj. R-squared:                  0.007\n",
              "Method:                 Least Squares   F-statistic:                     2.074\n",
              "Date:                Fri, 12 Jan 2024   Prob (F-statistic):              0.152\n",
              "Time:                        15:10:09   Log-Likelihood:                -183.00\n",
              "No. Observations:                 150   AIC:                             370.0\n",
              "Df Residuals:                     148   BIC:                             376.0\n",
              "Df Model:                           1                                         \n",
              "Covariance Type:            nonrobust                                         \n",
              "===============================================================================\n",
              "                  coef    std err          t      P>|t|      [0.025      0.975]\n",
              "-------------------------------------------------------------------------------\n",
              "Intercept       6.5262      0.479     13.628      0.000       5.580       7.473\n",
              "sepal_width    -0.2234      0.155     -1.440      0.152      -0.530       0.083\n",
              "==============================================================================\n",
              "Omnibus:                        4.389   Durbin-Watson:                   0.952\n",
              "Prob(Omnibus):                  0.111   Jarque-Bera (JB):                4.237\n",
              "Skew:                           0.360   Prob(JB):                        0.120\n",
              "Kurtosis:                       2.600   Cond. No.                         24.2\n",
              "==============================================================================\n",
              "\n",
              "Notes:\n",
              "[1] Standard Errors assume that the covariance matrix of the errors is correctly specified.\n",
              "\"\"\""
            ]
          },
          "execution_count": 27,
          "metadata": {},
          "output_type": "execute_result"
        }
      ],
      "source": [
        "model = smf.ols(formula = 'sepal_length ~ sepal_width', data = iris).fit()  # formula='y ~ X'\n",
        "model.summary()  # print()안에 넣으면 더 익숙한 형태임"
      ]
    },
    {
      "cell_type": "markdown",
      "id": "6fbf31e3-4d63-49e3-9257-60a9783ccd25",
      "metadata": {
        "id": "6fbf31e3-4d63-49e3-9257-60a9783ccd25"
      },
      "source": [
        "- 결정계수 매우 낮아 안좋은 모델->시각화해보면 암\n",
        "- Intercept(절편, 상수항)\n",
        "- coef(결정계수)\n",
        "- sepal_width의 coef: sepal_width의 기울기(음수임)\n",
        "    y = -0.2234x + 6.5262    \n",
        "    + 기울기가 완만하다 = 멀리 떨어진 데이터와 회귀선 사이의 간격이 큼\n",
        "    + 변수로 쓸 수가 없으므로(기울기가 0에 가까워 y에 주는 영향 극히 적음) 영향 여부도 자연히 따질 수 없음\n",
        "- sepal_width의 p-value = 0.152 > 0.05이므로 귀무가설 채택(기울기가 0이다)   + 회귀에서의 H0과 H1은 기울기가지고 얘기함"
      ]
    },
    {
      "cell_type": "code",
      "execution_count": null,
      "id": "4695948e-8d46-49e8-98e0-a6322de8f707",
      "metadata": {
        "tags": [],
        "id": "4695948e-8d46-49e8-98e0-a6322de8f707",
        "outputId": "5a65470a-aa93-4dd8-9485-db0681da8a15"
      },
      "outputs": [
        {
          "name": "stdout",
          "output_type": "stream",
          "text": [
            "                            OLS Regression Results                            \n",
            "==============================================================================\n",
            "Dep. Variable:           sepal_length   R-squared:                       0.840\n",
            "Model:                            OLS   Adj. R-squared:                  0.838\n",
            "Method:                 Least Squares   F-statistic:                     386.4\n",
            "Date:                Fri, 12 Jan 2024   Prob (F-statistic):           2.93e-59\n",
            "Time:                        16:08:20   Log-Likelihood:                -46.513\n",
            "No. Observations:                 150   AIC:                             99.03\n",
            "Df Residuals:                     147   BIC:                             108.1\n",
            "Df Model:                           2                                         \n",
            "Covariance Type:            nonrobust                                         \n",
            "================================================================================\n",
            "                   coef    std err          t      P>|t|      [0.025      0.975]\n",
            "--------------------------------------------------------------------------------\n",
            "Intercept        2.2491      0.248      9.070      0.000       1.759       2.739\n",
            "petal_length     0.4719      0.017     27.569      0.000       0.438       0.506\n",
            "sepal_width      0.5955      0.069      8.590      0.000       0.459       0.733\n",
            "==============================================================================\n",
            "Omnibus:                        0.164   Durbin-Watson:                   2.021\n",
            "Prob(Omnibus):                  0.921   Jarque-Bera (JB):                0.319\n",
            "Skew:                          -0.044   Prob(JB):                        0.853\n",
            "Kurtosis:                       2.792   Cond. No.                         48.3\n",
            "==============================================================================\n",
            "\n",
            "Notes:\n",
            "[1] Standard Errors assume that the covariance matrix of the errors is correctly specified.\n"
          ]
        }
      ],
      "source": [
        "model = smf.ols(formula = 'sepal_length ~ petal_length + sepal_width', data = iris).fit()\n",
        "print(model.summary() )\n",
        "\n",
        "# p-value 보면 두 변수 모두 유의함->그럼 기울기가 아닌 상관계수로 구함"
      ]
    },
    {
      "cell_type": "markdown",
      "id": "db56d25b-5def-4f94-b0fb-04645707f3e6",
      "metadata": {
        "id": "db56d25b-5def-4f94-b0fb-04645707f3e6"
      },
      "source": [
        "### statsmodels에서의 범주형 변수 더미변수화\n",
        "- 자동으로 해줌\n",
        "- Thus smf.ols('y ~ X(문자) + X(숫자)', data).fit()으로 바로 해도 됨"
      ]
    },
    {
      "cell_type": "code",
      "execution_count": null,
      "id": "c5988078-4d13-4bb1-b24d-fd6fb90dd909",
      "metadata": {
        "tags": [],
        "id": "c5988078-4d13-4bb1-b24d-fd6fb90dd909",
        "outputId": "f14b831e-6950-414f-d7da-0c0773281ef8"
      },
      "outputs": [
        {
          "data": {
            "text/html": [
              "<div>\n",
              "<style scoped>\n",
              "    .dataframe tbody tr th:only-of-type {\n",
              "        vertical-align: middle;\n",
              "    }\n",
              "\n",
              "    .dataframe tbody tr th {\n",
              "        vertical-align: top;\n",
              "    }\n",
              "\n",
              "    .dataframe thead th {\n",
              "        text-align: right;\n",
              "    }\n",
              "</style>\n",
              "<table border=\"1\" class=\"dataframe\">\n",
              "  <thead>\n",
              "    <tr style=\"text-align: right;\">\n",
              "      <th></th>\n",
              "      <th>sepal_length</th>\n",
              "      <th>sepal_width</th>\n",
              "      <th>petal_length</th>\n",
              "    </tr>\n",
              "  </thead>\n",
              "  <tbody>\n",
              "    <tr>\n",
              "      <th>sepal_length</th>\n",
              "      <td>-</td>\n",
              "      <td></td>\n",
              "      <td>***</td>\n",
              "    </tr>\n",
              "    <tr>\n",
              "      <th>sepal_width</th>\n",
              "      <td>-0.118</td>\n",
              "      <td>-</td>\n",
              "      <td>***</td>\n",
              "    </tr>\n",
              "    <tr>\n",
              "      <th>petal_length</th>\n",
              "      <td>0.872</td>\n",
              "      <td>-0.428</td>\n",
              "      <td>-</td>\n",
              "    </tr>\n",
              "  </tbody>\n",
              "</table>\n",
              "</div>"
            ],
            "text/plain": [
              "             sepal_length sepal_width petal_length\n",
              "sepal_length            -                      ***\n",
              "sepal_width        -0.118           -          ***\n",
              "petal_length        0.872      -0.428            -"
            ]
          },
          "execution_count": 32,
          "metadata": {},
          "output_type": "execute_result"
        }
      ],
      "source": [
        "# 상관계수 구하고 비교하기\n",
        "iris.loc[:, ['sepal_length', 'sepal_width', 'petal_length']].rcorr()\n",
        "# petal_length가 더 높음"
      ]
    },
    {
      "cell_type": "code",
      "execution_count": null,
      "id": "995ccf83-d05d-440b-a0c5-4a1949fdbc2f",
      "metadata": {
        "tags": [],
        "id": "995ccf83-d05d-440b-a0c5-4a1949fdbc2f",
        "outputId": "5e43b600-93d9-440a-8ee6-0951ff5c2253"
      },
      "outputs": [
        {
          "data": {
            "text/html": [
              "<div>\n",
              "<style scoped>\n",
              "    .dataframe tbody tr th:only-of-type {\n",
              "        vertical-align: middle;\n",
              "    }\n",
              "\n",
              "    .dataframe tbody tr th {\n",
              "        vertical-align: top;\n",
              "    }\n",
              "\n",
              "    .dataframe thead th {\n",
              "        text-align: right;\n",
              "    }\n",
              "</style>\n",
              "<table border=\"1\" class=\"dataframe\">\n",
              "  <thead>\n",
              "    <tr style=\"text-align: right;\">\n",
              "      <th></th>\n",
              "      <th>names</th>\n",
              "      <th>coef</th>\n",
              "      <th>se</th>\n",
              "      <th>T</th>\n",
              "      <th>pval</th>\n",
              "      <th>r2</th>\n",
              "      <th>adj_r2</th>\n",
              "      <th>CI[2.5%]</th>\n",
              "      <th>CI[97.5%]</th>\n",
              "    </tr>\n",
              "  </thead>\n",
              "  <tbody>\n",
              "    <tr>\n",
              "      <th>0</th>\n",
              "      <td>Intercept</td>\n",
              "      <td>4.31</td>\n",
              "      <td>0.08</td>\n",
              "      <td>54.94</td>\n",
              "      <td>0.0</td>\n",
              "      <td>0.76</td>\n",
              "      <td>0.76</td>\n",
              "      <td>4.15</td>\n",
              "      <td>4.46</td>\n",
              "    </tr>\n",
              "    <tr>\n",
              "      <th>1</th>\n",
              "      <td>petal_length</td>\n",
              "      <td>0.41</td>\n",
              "      <td>0.02</td>\n",
              "      <td>21.65</td>\n",
              "      <td>0.0</td>\n",
              "      <td>0.76</td>\n",
              "      <td>0.76</td>\n",
              "      <td>0.37</td>\n",
              "      <td>0.45</td>\n",
              "    </tr>\n",
              "  </tbody>\n",
              "</table>\n",
              "</div>"
            ],
            "text/plain": [
              "          names  coef    se      T  pval    r2  adj_r2  CI[2.5%]  CI[97.5%]\n",
              "0     Intercept  4.31  0.08  54.94   0.0  0.76    0.76      4.15       4.46\n",
              "1  petal_length  0.41  0.02  21.65   0.0  0.76    0.76      0.37       0.45"
            ]
          },
          "execution_count": 33,
          "metadata": {},
          "output_type": "execute_result"
        }
      ],
      "source": [
        "mod3 = pg.linear_regression(iris['petal_length'], iris['sepal_length'])\n",
        "mod3.round(2)"
      ]
    },
    {
      "cell_type": "code",
      "execution_count": null,
      "id": "4c68a505-67a6-49b5-8603-0c6d5dea5758",
      "metadata": {
        "tags": [],
        "id": "4c68a505-67a6-49b5-8603-0c6d5dea5758",
        "outputId": "f35ab694-8e34-476e-a82b-94b6e02c91ee"
      },
      "outputs": [
        {
          "data": {
            "text/html": [
              "<div>\n",
              "<style scoped>\n",
              "    .dataframe tbody tr th:only-of-type {\n",
              "        vertical-align: middle;\n",
              "    }\n",
              "\n",
              "    .dataframe tbody tr th {\n",
              "        vertical-align: top;\n",
              "    }\n",
              "\n",
              "    .dataframe thead th {\n",
              "        text-align: right;\n",
              "    }\n",
              "</style>\n",
              "<table border=\"1\" class=\"dataframe\">\n",
              "  <thead>\n",
              "    <tr style=\"text-align: right;\">\n",
              "      <th></th>\n",
              "      <th>names</th>\n",
              "      <th>coef</th>\n",
              "      <th>se</th>\n",
              "      <th>T</th>\n",
              "      <th>pval</th>\n",
              "      <th>r2</th>\n",
              "      <th>adj_r2</th>\n",
              "      <th>CI[2.5%]</th>\n",
              "      <th>CI[97.5%]</th>\n",
              "    </tr>\n",
              "  </thead>\n",
              "  <tbody>\n",
              "    <tr>\n",
              "      <th>0</th>\n",
              "      <td>Intercept</td>\n",
              "      <td>6.53</td>\n",
              "      <td>0.48</td>\n",
              "      <td>13.63</td>\n",
              "      <td>0.00</td>\n",
              "      <td>0.01</td>\n",
              "      <td>0.01</td>\n",
              "      <td>5.58</td>\n",
              "      <td>7.47</td>\n",
              "    </tr>\n",
              "    <tr>\n",
              "      <th>1</th>\n",
              "      <td>sepal_width</td>\n",
              "      <td>-0.22</td>\n",
              "      <td>0.16</td>\n",
              "      <td>-1.44</td>\n",
              "      <td>0.15</td>\n",
              "      <td>0.01</td>\n",
              "      <td>0.01</td>\n",
              "      <td>-0.53</td>\n",
              "      <td>0.08</td>\n",
              "    </tr>\n",
              "  </tbody>\n",
              "</table>\n",
              "</div>"
            ],
            "text/plain": [
              "         names  coef    se      T  pval    r2  adj_r2  CI[2.5%]  CI[97.5%]\n",
              "0    Intercept  6.53  0.48  13.63  0.00  0.01    0.01      5.58       7.47\n",
              "1  sepal_width -0.22  0.16  -1.44  0.15  0.01    0.01     -0.53       0.08"
            ]
          },
          "execution_count": 34,
          "metadata": {},
          "output_type": "execute_result"
        }
      ],
      "source": [
        "mod3 = pg.linear_regression(iris['sepal_width'], iris['sepal_length'])\n",
        "mod3.round(2)"
      ]
    },
    {
      "cell_type": "code",
      "execution_count": null,
      "id": "f2abf896-9a67-452d-9752-01ee7a479e34",
      "metadata": {
        "id": "f2abf896-9a67-452d-9752-01ee7a479e34"
      },
      "outputs": [],
      "source": [
        "# 실제로 위 두 변수에 대한 r2(결정계수)를 비교했을 때, petal_length의 결정계수가 더 높음"
      ]
    },
    {
      "cell_type": "markdown",
      "id": "78da6003-ee2c-41c2-ac73-1548a858f8a0",
      "metadata": {
        "tags": [],
        "id": "78da6003-ee2c-41c2-ac73-1548a858f8a0"
      },
      "source": [
        "## 회귀분석에서의 검토사항\n",
        "- 회귀계수들이 유의미한가?\n",
        "    - 해당 계수의 t통계량의 p-value가 0.05보다 작으면 해당 회귀계수가 통계적으로 유의하다고 볼 수 있다.\n",
        "    - p-value >= 0.05 = 회귀계수가 유의하지 않다 = 기울기가 0이다 = x가 변화해도 y가 거의 변화되지 않는다.(=영향을 거의 미치지 않는다)\n",
        "- 모형이 얼마나 설명력을 갖는가?\n",
        "    - 결정계수(R^2)를 확인한다. 결정계수는 0과 1 사이의 값을 가지며, 높은 수치를 가질수록 회귀식의 설명력이 높다.\n",
        "- 모형이 데이터를 잘 적합하고 있는가?\n",
        "    - 잔차를 그래프로 그리고 회귀진단을 한다.\n",
        "    - 모형의 잔차가 특정 패턴을 이루고 있지 않아야한다.(등분산성 만족)\n",
        "- 회귀모형이 통계적으로 유의한가?\n",
        "    - 선형회귀모형의 통계량은 F통계량을 사용한다. F-통계량의 p-value가 유의수준(알파)보다 작으면 (귀무가설 기각)회귀식이 통계적으로 유의하다고 볼 수 있다.\n",
        "        - 귀무가설: 통계가설은 유의하지 않다.\n",
        "        - 대립가설: 통계가설은 유의하다.\n",
        "    "
      ]
    },
    {
      "cell_type": "code",
      "execution_count": null,
      "id": "38d40a3b-a654-4508-8050-fe19852651d1",
      "metadata": {
        "tags": [],
        "id": "38d40a3b-a654-4508-8050-fe19852651d1",
        "outputId": "2fffb060-c70d-46d1-8dde-d941aeeec69d"
      },
      "outputs": [
        {
          "data": {
            "text/plain": [
              "-0.2233610611298997"
            ]
          },
          "execution_count": 11,
          "metadata": {},
          "output_type": "execute_result"
        }
      ],
      "source": [
        "intercept = model.params.Intercept   # 절편(상수항)\n",
        "slope = model.params.sepal_width     # 기울기\n",
        "slope"
      ]
    },
    {
      "cell_type": "code",
      "execution_count": null,
      "id": "9f5f9841-0e6e-4d0f-b9a9-89af28bfa83c",
      "metadata": {
        "tags": [],
        "id": "9f5f9841-0e6e-4d0f-b9a9-89af28bfa83c",
        "outputId": "26219940-ec03-47b9-9b86-fae548bc095a"
      },
      "outputs": [
        {
          "data": {
            "image/png": "[encoded data removed]",
            "text/plain": [
              "<Figure size 700x400 with 2 Axes>"
            ]
          },
          "metadata": {},
          "output_type": "display_data"
        }
      ],
      "source": [
        "fig, ax = plt.subplots(1, 2, figsize=(7, 4), sharey=True)\n",
        "x = np.linspace(0,5)\n",
        "\n",
        "sns.scatterplot(data = iris, x = 'sepal_width', y = 'sepal_length', ax = ax[0])\n",
        "fig.axes[0].set_title(\"The best-fitting regression line\")\n",
        "fig.axes[0].set_xlabel(\"sepal_width (cm)\")\n",
        "fig.axes[0].set_ylabel(\"sepal_length (cm)\")\n",
        "fig.axes[0].plot(x,slope*x+intercept)\n",
        "\n",
        "sns.scatterplot(data = iris, x = 'sepal_width', y = 'sepal_length', ax = ax[1])\n",
        "fig.axes[1].set_title(\"Not the best-fitting regression line!\")\n",
        "fig.axes[1].set_xlabel(\"sepal_width (cm)\")\n",
        "fig.axes[1].set_ylabel(\"sepal_length (cm)\")\n",
        "fig.axes[1].plot(x,-2*x+10)\n",
        "\n",
        "sns.despine()\n",
        "plt.show()"
      ]
    },
    {
      "cell_type": "code",
      "execution_count": null,
      "id": "c111d458-4b76-4c42-b858-c35d4de3c06c",
      "metadata": {
        "tags": [],
        "id": "c111d458-4b76-4c42-b858-c35d4de3c06c",
        "outputId": "7e05f411-a5a8-4ca9-c1a3-771ef9d0b6c3"
      },
      "outputs": [
        {
          "data": {
            "text/html": [
              "<div>\n",
              "<style scoped>\n",
              "    .dataframe tbody tr th:only-of-type {\n",
              "        vertical-align: middle;\n",
              "    }\n",
              "\n",
              "    .dataframe tbody tr th {\n",
              "        vertical-align: top;\n",
              "    }\n",
              "\n",
              "    .dataframe thead th {\n",
              "        text-align: right;\n",
              "    }\n",
              "</style>\n",
              "<table border=\"1\" class=\"dataframe\">\n",
              "  <thead>\n",
              "    <tr style=\"text-align: right;\">\n",
              "      <th></th>\n",
              "      <th>names</th>\n",
              "      <th>coef</th>\n",
              "      <th>se</th>\n",
              "      <th>T</th>\n",
              "      <th>pval</th>\n",
              "      <th>r2</th>\n",
              "      <th>adj_r2</th>\n",
              "      <th>CI[2.5%]</th>\n",
              "      <th>CI[97.5%]</th>\n",
              "    </tr>\n",
              "  </thead>\n",
              "  <tbody>\n",
              "    <tr>\n",
              "      <th>0</th>\n",
              "      <td>Intercept</td>\n",
              "      <td>6.53</td>\n",
              "      <td>0.48</td>\n",
              "      <td>13.63</td>\n",
              "      <td>0.00</td>\n",
              "      <td>0.01</td>\n",
              "      <td>0.01</td>\n",
              "      <td>5.58</td>\n",
              "      <td>7.47</td>\n",
              "    </tr>\n",
              "    <tr>\n",
              "      <th>1</th>\n",
              "      <td>sepal_width</td>\n",
              "      <td>-0.22</td>\n",
              "      <td>0.16</td>\n",
              "      <td>-1.44</td>\n",
              "      <td>0.15</td>\n",
              "      <td>0.01</td>\n",
              "      <td>0.01</td>\n",
              "      <td>-0.53</td>\n",
              "      <td>0.08</td>\n",
              "    </tr>\n",
              "  </tbody>\n",
              "</table>\n",
              "</div>"
            ],
            "text/plain": [
              "         names  coef    se      T  pval    r2  adj_r2  CI[2.5%]  CI[97.5%]\n",
              "0    Intercept  6.53  0.48  13.63  0.00  0.01    0.01      5.58       7.47\n",
              "1  sepal_width -0.22  0.16  -1.44  0.15  0.01    0.01     -0.53       0.08"
            ]
          },
          "execution_count": 19,
          "metadata": {},
          "output_type": "execute_result"
        }
      ],
      "source": [
        "import pingouin as pg\n",
        "\n",
        "mod1 = pg.linear_regression(iris['sepal_width'], iris['sepal_length'])    # x, y순서\n",
        "mod1.round(2)\n",
        "\n",
        "# but 이 방법은 빅분기 실기에서는 못 씀"
      ]
    },
    {
      "cell_type": "code",
      "execution_count": null,
      "id": "2983262c-e174-48a1-810c-65ad6fba0a8a",
      "metadata": {
        "tags": [],
        "id": "2983262c-e174-48a1-810c-65ad6fba0a8a",
        "outputId": "6150c439-bf9e-4b8a-9eef-1a81fc6d53e4"
      },
      "outputs": [
        {
          "data": {
            "text/html": [
              "<div>\n",
              "<style scoped>\n",
              "    .dataframe tbody tr th:only-of-type {\n",
              "        vertical-align: middle;\n",
              "    }\n",
              "\n",
              "    .dataframe tbody tr th {\n",
              "        vertical-align: top;\n",
              "    }\n",
              "\n",
              "    .dataframe thead th {\n",
              "        text-align: right;\n",
              "    }\n",
              "</style>\n",
              "<table border=\"1\" class=\"dataframe\">\n",
              "  <thead>\n",
              "    <tr style=\"text-align: right;\">\n",
              "      <th></th>\n",
              "      <th>names</th>\n",
              "      <th>coef</th>\n",
              "      <th>se</th>\n",
              "      <th>T</th>\n",
              "      <th>pval</th>\n",
              "      <th>r2</th>\n",
              "      <th>adj_r2</th>\n",
              "      <th>CI[2.5%]</th>\n",
              "      <th>CI[97.5%]</th>\n",
              "    </tr>\n",
              "  </thead>\n",
              "  <tbody>\n",
              "    <tr>\n",
              "      <th>0</th>\n",
              "      <td>Intercept</td>\n",
              "      <td>2.25</td>\n",
              "      <td>0.25</td>\n",
              "      <td>9.07</td>\n",
              "      <td>0.0</td>\n",
              "      <td>0.84</td>\n",
              "      <td>0.84</td>\n",
              "      <td>1.76</td>\n",
              "      <td>2.74</td>\n",
              "    </tr>\n",
              "    <tr>\n",
              "      <th>1</th>\n",
              "      <td>sepal_width</td>\n",
              "      <td>0.60</td>\n",
              "      <td>0.07</td>\n",
              "      <td>8.59</td>\n",
              "      <td>0.0</td>\n",
              "      <td>0.84</td>\n",
              "      <td>0.84</td>\n",
              "      <td>0.46</td>\n",
              "      <td>0.73</td>\n",
              "    </tr>\n",
              "    <tr>\n",
              "      <th>2</th>\n",
              "      <td>petal_length</td>\n",
              "      <td>0.47</td>\n",
              "      <td>0.02</td>\n",
              "      <td>27.57</td>\n",
              "      <td>0.0</td>\n",
              "      <td>0.84</td>\n",
              "      <td>0.84</td>\n",
              "      <td>0.44</td>\n",
              "      <td>0.51</td>\n",
              "    </tr>\n",
              "  </tbody>\n",
              "</table>\n",
              "</div>"
            ],
            "text/plain": [
              "          names  coef    se      T  pval    r2  adj_r2  CI[2.5%]  CI[97.5%]\n",
              "0     Intercept  2.25  0.25   9.07   0.0  0.84    0.84      1.76       2.74\n",
              "1   sepal_width  0.60  0.07   8.59   0.0  0.84    0.84      0.46       0.73\n",
              "2  petal_length  0.47  0.02  27.57   0.0  0.84    0.84      0.44       0.51"
            ]
          },
          "execution_count": 20,
          "metadata": {},
          "output_type": "execute_result"
        }
      ],
      "source": [
        "predictors = ['sepal_width', 'petal_length']\n",
        "outcome = 'sepal_length'\n",
        "\n",
        "mod2 = pg.linear_regression(iris[predictors], iris[outcome])\n",
        "mod2.round(2)"
      ]
    }
  ],
  "metadata": {
    "kernelspec": {
      "display_name": "Python 3 (ipykernel)",
      "language": "python",
      "name": "python3"
    },
    "language_info": {
      "codemirror_mode": {
        "name": "ipython",
        "version": 3
      },
      "file_extension": ".py",
      "mimetype": "text/x-python",
      "name": "python",
      "nbconvert_exporter": "python",
      "pygments_lexer": "ipython3",
      "version": "3.11.4"
    },
    "colab": {
      "provenance": [],
      "include_colab_link": true
    }
  },
  "nbformat": 4,
  "nbformat_minor": 5
}